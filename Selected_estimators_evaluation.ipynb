{
  "nbformat": 4,
  "nbformat_minor": 0,
  "metadata": {
    "colab": {
      "provenance": [],
      "toc_visible": true,
      "machine_shape": "hm",
      "authorship_tag": "ABX9TyNtpZDZts9HVYfqHhmqhaR+",
      "include_colab_link": true
    },
    "kernelspec": {
      "name": "python3",
      "display_name": "Python 3"
    },
    "language_info": {
      "name": "python"
    },
    "accelerator": "GPU",
    "gpuClass": "standard"
  },
  "cells": [
    {
      "cell_type": "markdown",
      "metadata": {
        "id": "view-in-github",
        "colab_type": "text"
      },
      "source": [
        "<a href=\"https://colab.research.google.com/github/miacatharina/mimic-code/blob/main/Selected_estimators_evaluation.ipynb\" target=\"_parent\"><img src=\"https://colab.research.google.com/assets/colab-badge.svg\" alt=\"Open In Colab\"/></a>"
      ]
    },
    {
      "cell_type": "code",
      "execution_count": 4,
      "metadata": {
        "id": "TC0A9sgDeM4Q",
        "colab": {
          "base_uri": "https://localhost:8080/"
        },
        "outputId": "24f793d8-9ef0-4fc9-9c87-9ba3e1b62e7a"
      },
      "outputs": [
        {
          "output_type": "stream",
          "name": "stdout",
          "text": [
            "Looking in indexes: https://pypi.org/simple, https://us-python.pkg.dev/colab-wheels/public/simple/\n",
            "Collecting econml[dowhy]\n",
            "  Downloading econml-0.14.0-cp39-cp39-manylinux_2_17_x86_64.manylinux2014_x86_64.whl (3.5 MB)\n",
            "\u001b[2K     \u001b[90m━━━━━━━━━━━━━━━━━━━━━━━━━━━━━━━━━━━━━━━━\u001b[0m \u001b[32m3.5/3.5 MB\u001b[0m \u001b[31m80.3 MB/s\u001b[0m eta \u001b[36m0:00:00\u001b[0m\n",
            "\u001b[?25hCollecting shap<0.41.0,>=0.38.1\n",
            "  Downloading shap-0.40.0-cp39-cp39-manylinux2010_x86_64.whl (567 kB)\n",
            "\u001b[2K     \u001b[90m━━━━━━━━━━━━━━━━━━━━━━━━━━━━━━━━━━━━━━\u001b[0m \u001b[32m567.6/567.6 KB\u001b[0m \u001b[31m47.3 MB/s\u001b[0m eta \u001b[36m0:00:00\u001b[0m\n",
            "\u001b[?25hRequirement already satisfied: scipy>1.4.0 in /usr/local/lib/python3.9/dist-packages (from econml[dowhy]) (1.10.1)\n",
            "Collecting sparse\n",
            "  Downloading sparse-0.14.0-py2.py3-none-any.whl (80 kB)\n",
            "\u001b[2K     \u001b[90m━━━━━━━━━━━━━━━━━━━━━━━━━━━━━━━━━━━━━━━━\u001b[0m \u001b[32m81.0/81.0 KB\u001b[0m \u001b[31m10.2 MB/s\u001b[0m eta \u001b[36m0:00:00\u001b[0m\n",
            "\u001b[?25hRequirement already satisfied: numpy in /usr/local/lib/python3.9/dist-packages (from econml[dowhy]) (1.22.4)\n",
            "Requirement already satisfied: joblib>=0.13.0 in /usr/local/lib/python3.9/dist-packages (from econml[dowhy]) (1.1.1)\n",
            "Requirement already satisfied: statsmodels>=0.10 in /usr/local/lib/python3.9/dist-packages (from econml[dowhy]) (0.13.5)\n",
            "Collecting scikit-learn<1.2,>0.22.0\n",
            "  Downloading scikit_learn-1.1.3-cp39-cp39-manylinux_2_17_x86_64.manylinux2014_x86_64.whl (30.8 MB)\n",
            "\u001b[2K     \u001b[90m━━━━━━━━━━━━━━━━━━━━━━━━━━━━━━━━━━━━━━━━\u001b[0m \u001b[32m30.8/30.8 MB\u001b[0m \u001b[31m26.0 MB/s\u001b[0m eta \u001b[36m0:00:00\u001b[0m\n",
            "\u001b[?25hRequirement already satisfied: lightgbm in /usr/local/lib/python3.9/dist-packages (from econml[dowhy]) (3.3.5)\n",
            "Requirement already satisfied: pandas in /usr/local/lib/python3.9/dist-packages (from econml[dowhy]) (1.4.4)\n",
            "Collecting dowhy<0.9\n",
            "  Downloading dowhy-0.8-py3-none-any.whl (287 kB)\n",
            "\u001b[2K     \u001b[90m━━━━━━━━━━━━━━━━━━━━━━━━━━━━━━━━━━━━━━\u001b[0m \u001b[32m287.3/287.3 KB\u001b[0m \u001b[31m31.8 MB/s\u001b[0m eta \u001b[36m0:00:00\u001b[0m\n",
            "\u001b[?25hRequirement already satisfied: networkx>=2.0 in /usr/local/lib/python3.9/dist-packages (from dowhy<0.9->econml[dowhy]) (3.0)\n",
            "Requirement already satisfied: sympy>=1.4 in /usr/local/lib/python3.9/dist-packages (from dowhy<0.9->econml[dowhy]) (1.11.1)\n",
            "Requirement already satisfied: pydot>=1.4 in /usr/local/lib/python3.9/dist-packages (from dowhy<0.9->econml[dowhy]) (1.4.2)\n",
            "Requirement already satisfied: python-dateutil>=2.8.1 in /usr/local/lib/python3.9/dist-packages (from pandas->econml[dowhy]) (2.8.2)\n",
            "Requirement already satisfied: pytz>=2020.1 in /usr/local/lib/python3.9/dist-packages (from pandas->econml[dowhy]) (2022.7.1)\n",
            "Requirement already satisfied: threadpoolctl>=2.0.0 in /usr/local/lib/python3.9/dist-packages (from scikit-learn<1.2,>0.22.0->econml[dowhy]) (3.1.0)\n",
            "Requirement already satisfied: tqdm>4.25.0 in /usr/local/lib/python3.9/dist-packages (from shap<0.41.0,>=0.38.1->econml[dowhy]) (4.65.0)\n",
            "Requirement already satisfied: cloudpickle in /usr/local/lib/python3.9/dist-packages (from shap<0.41.0,>=0.38.1->econml[dowhy]) (2.2.1)\n",
            "Requirement already satisfied: numba in /usr/local/lib/python3.9/dist-packages (from shap<0.41.0,>=0.38.1->econml[dowhy]) (0.56.4)\n",
            "Requirement already satisfied: packaging>20.9 in /usr/local/lib/python3.9/dist-packages (from shap<0.41.0,>=0.38.1->econml[dowhy]) (23.0)\n",
            "Collecting slicer==0.0.7\n",
            "  Downloading slicer-0.0.7-py3-none-any.whl (14 kB)\n",
            "Requirement already satisfied: patsy>=0.5.2 in /usr/local/lib/python3.9/dist-packages (from statsmodels>=0.10->econml[dowhy]) (0.5.3)\n",
            "Requirement already satisfied: wheel in /usr/local/lib/python3.9/dist-packages (from lightgbm->econml[dowhy]) (0.40.0)\n",
            "Requirement already satisfied: setuptools in /usr/local/lib/python3.9/dist-packages (from numba->shap<0.41.0,>=0.38.1->econml[dowhy]) (67.6.0)\n",
            "Requirement already satisfied: llvmlite<0.40,>=0.39.0dev0 in /usr/local/lib/python3.9/dist-packages (from numba->shap<0.41.0,>=0.38.1->econml[dowhy]) (0.39.1)\n",
            "Requirement already satisfied: six in /usr/local/lib/python3.9/dist-packages (from patsy>=0.5.2->statsmodels>=0.10->econml[dowhy]) (1.16.0)\n",
            "Requirement already satisfied: pyparsing>=2.1.4 in /usr/local/lib/python3.9/dist-packages (from pydot>=1.4->dowhy<0.9->econml[dowhy]) (3.0.9)\n",
            "Requirement already satisfied: mpmath>=0.19 in /usr/local/lib/python3.9/dist-packages (from sympy>=1.4->dowhy<0.9->econml[dowhy]) (1.3.0)\n",
            "Installing collected packages: slicer, sparse, scikit-learn, shap, econml, dowhy\n",
            "  Attempting uninstall: scikit-learn\n",
            "    Found existing installation: scikit-learn 1.2.2\n",
            "    Uninstalling scikit-learn-1.2.2:\n",
            "      Successfully uninstalled scikit-learn-1.2.2\n",
            "Successfully installed dowhy-0.8 econml-0.14.0 scikit-learn-1.1.3 shap-0.40.0 slicer-0.0.7 sparse-0.14.0\n"
          ]
        }
      ],
      "source": [
        "pip install econml[dowhy]"
      ]
    },
    {
      "cell_type": "code",
      "source": [
        "%pip install dowhy"
      ],
      "metadata": {
        "id": "wDrEbUkr1qCI"
      },
      "execution_count": null,
      "outputs": []
    },
    {
      "cell_type": "markdown",
      "source": [
        "# Setup "
      ],
      "metadata": {
        "id": "VUCDdv0gkg-1"
      }
    },
    {
      "cell_type": "code",
      "source": [
        "import pandas as pd\n",
        "import os, warnings, random\n",
        "import warnings\n",
        "import econml \n",
        "import matplotlib.pyplot as plt\n",
        "warnings.filterwarnings(\"ignore\")\n",
        "from econml.dml import DML, LinearDML, SparseLinearDML, CausalForestDML\n",
        "import numpy as np\n",
        "from itertools import product\n",
        "from sklearn.linear_model import (Lasso, LassoCV, LogisticRegression,\n",
        "                                  LogisticRegressionCV,LinearRegression,\n",
        "                                  MultiTaskElasticNet,MultiTaskElasticNetCV)\n",
        "from sklearn.ensemble import RandomForestRegressor,RandomForestClassifier\n",
        "from sklearn.preprocessing import PolynomialFeatures\n",
        "from xgboost import XGBRegressor\n",
        "from sklearn.ensemble import GradientBoostingRegressor, GradientBoostingClassifier\n",
        "import matplotlib.pyplot as plt\n",
        "import matplotlib\n",
        "%matplotlib inline\n",
        "from econml.score import RScorer\n",
        "from econml.metalearners import TLearner, SLearner, XLearner, DomainAdaptationLearner\n",
        "from econml.dml import CausalForestDML, LinearDML, NonParamDML\n",
        "from econml.dr import DRLearner, ForestDRLearner, LinearDRLearner\n",
        "from joblib import Parallel, delayed\n",
        "from econml.metalearners import TLearner, SLearner, XLearner\n",
        "from sklearn.model_selection import GridSearchCV\n",
        "from sklearn.pipeline import Pipeline\n",
        "from sklearn.linear_model import ElasticNet\n",
        "from sklearn.base import clone\n",
        "import logging\n",
        "import sys\n",
        "from econml.dml import DML, LinearDML,SparseLinearDML,CausalForestDML, NonParamDML, KernelDML\n",
        "from matplotlib import pyplot as plt\n",
        "import copy\n",
        "from econml.sklearn_extensions.model_selection import GridSearchCVList\n",
        "from sklearn.pipeline import Pipeline\n",
        "from sklearn.preprocessing import PolynomialFeatures\n",
        "import dowhy\n",
        "from dowhy import CausalModel\n",
        "from sklearn.linear_model import LassoCV, LogisticRegressionCV\n",
        "from sklearn.ensemble import RandomForestRegressor, GradientBoostingRegressor\n",
        "from sklearn.ensemble import RandomForestClassifier, GradientBoostingClassifier\n",
        "from econml.sklearn_extensions.linear_model import WeightedLassoCV, WeightedLasso\n",
        "from econml.cate_interpreter import SingleTreeCateInterpreter\n",
        "import shap\n",
        "from sklearn.preprocessing import MinMaxScaler\n",
        "from sklearn.model_selection import KFold\n",
        "import tensorflow as tf\n",
        "import timeit\n",
        "from sklearn.model_selection import train_test_split\n",
        "from econml.cate_interpreter import SingleTreePolicyInterpreter\n",
        "\n",
        "\n",
        "\n",
        "def seed_everything(seed=123):\n",
        "    random.seed(seed)\n",
        "    np.random.seed(seed)\n",
        "    os.environ['PYTHONHASHSEED'] = str(seed)\n",
        "    os.environ['TF_DETERMINISTIC_OPS'] = '1'\n",
        "    tf.random.set_seed(seed)\n",
        "\n",
        "seed = 123\n",
        "seed_everything(seed)"
      ],
      "metadata": {
        "id": "5BRl2bM-kiCZ"
      },
      "execution_count": 139,
      "outputs": []
    },
    {
      "cell_type": "code",
      "source": [
        "!pip install dowhy==0.7"
      ],
      "metadata": {
        "id": "UwGM7I-H35mu"
      },
      "execution_count": null,
      "outputs": []
    },
    {
      "cell_type": "code",
      "source": [
        "device_name = tf.test.gpu_device_name()\n",
        "if device_name != '/device:GPU:0':\n",
        "  print(\n",
        "      '\\n\\nThis error most likely means that this notebook is not '\n",
        "      'configured to use a GPU.  Change this in Notebook Settings via the '\n",
        "      'command palette (cmd/ctrl-shift-P) or the Edit menu.\\n\\n')\n",
        "  raise SystemError('GPU device not found')\n",
        "\n",
        "def cpu():\n",
        "  with tf.device('/cpu:0'):\n",
        "    random_image_cpu = tf.random.normal((100, 100, 100, 3))\n",
        "    net_cpu = tf.keras.layers.Conv2D(32, 7)(random_image_cpu)\n",
        "    return tf.math.reduce_sum(net_cpu)\n",
        "\n",
        "def gpu():\n",
        "  with tf.device('/device:GPU:0'):\n",
        "    random_image_gpu = tf.random.normal((100, 100, 100, 3))\n",
        "    net_gpu = tf.keras.layers.Conv2D(32, 7)(random_image_gpu)\n",
        "    return tf.math.reduce_sum(net_gpu)\n",
        "  \n",
        "# We run each op once to warm up; see: https://stackoverflow.com/a/45067900\n",
        "cpu()\n",
        "gpu()\n",
        "\n",
        "# Run the op several times.\n",
        "print('Time (s) to convolve 32x7x7x3 filter over random 100x100x100x3 images '\n",
        "      '(batch x height x width x channel). Sum of ten runs.')\n",
        "print('CPU (s):')\n",
        "cpu_time = timeit.timeit('cpu()', number=10, setup=\"from __main__ import cpu\")\n",
        "print(cpu_time)\n",
        "print('GPU (s):')\n",
        "gpu_time = timeit.timeit('gpu()', number=10, setup=\"from __main__ import gpu\")\n",
        "print(gpu_time)\n",
        "print('GPU speedup over CPU: {}x'.format(int(cpu_time/gpu_time)))\n",
        "device_name = tf.test.gpu_device_name()\n",
        "if device_name != '/device:GPU:0':\n",
        "  raise SystemError('GPU device not found')\n",
        "print('Found GPU at: {}'.format(device_name))\n",
        "#Check the version of TensorFlow you are using\n",
        "print(tf.__version__)\n",
        "print(tf.config.list_physical_devices('GPU'))\n",
        "from psutil import virtual_memory\n",
        "ram_gb = virtual_memory().total / 1e9\n",
        "print('Your runtime has {:.1f} gigabytes of available RAM\\n'.format(ram_gb))\n",
        "\n",
        "if ram_gb < 20:\n",
        "  print('Not using a high-RAM runtime')\n",
        "else:\n",
        "  print('You are using a high-RAM runtime!')"
      ],
      "metadata": {
        "colab": {
          "base_uri": "https://localhost:8080/"
        },
        "id": "4xr-N6h0klyg",
        "outputId": "c5d1a04f-553d-48de-c63d-5c3f9ea321d7"
      },
      "execution_count": 6,
      "outputs": [
        {
          "output_type": "stream",
          "name": "stdout",
          "text": [
            "Time (s) to convolve 32x7x7x3 filter over random 100x100x100x3 images (batch x height x width x channel). Sum of ten runs.\n",
            "CPU (s):\n",
            "2.099751685000001\n",
            "GPU (s):\n",
            "0.0923577790000536\n",
            "GPU speedup over CPU: 22x\n",
            "Found GPU at: /device:GPU:0\n",
            "2.11.0\n",
            "[PhysicalDevice(name='/physical_device:GPU:0', device_type='GPU')]\n",
            "Your runtime has 27.3 gigabytes of available RAM\n",
            "\n",
            "You are using a high-RAM runtime!\n"
          ]
        }
      ]
    },
    {
      "cell_type": "markdown",
      "source": [
        "# Import the data "
      ],
      "metadata": {
        "id": "aPW-6jg_kyNO"
      }
    },
    {
      "cell_type": "code",
      "source": [
        "XTY = pd.read_csv(\"/content/XTY.csv\")\n",
        "X = pd.read_csv(\"/content/X.csv\")\n",
        "Y = pd.read_csv(\"/content/Y.csv\")\n",
        "T = pd.read_csv(\"/content/T.csv\")\n",
        "XTY_train = pd.read_csv(\"/content/XTY_train.csv\")\n",
        "XTY_test = pd.read_csv(\"/content/XTY_test.csv\")\n",
        "X_train = pd.read_csv(\"/content/X_train.csv\")\n",
        "X_test = pd.read_csv(\"/content/X_test.csv\")\n",
        "Y_train = pd.read_csv(\"/content/Y_train.csv\")\n",
        "Y_test = pd.read_csv(\"/content/Y_test.csv\")\n",
        "T_train = pd.read_csv(\"/content/T_train.csv\")\n",
        "T_test = pd.read_csv(\"/content/T_test.csv\")\n",
        "\n",
        "XTY.set_index(\"stay_id\", inplace=True)\n",
        "X.set_index(\"stay_id\", inplace=True)\n",
        "Y.set_index(\"stay_id\", inplace=True)\n",
        "T.set_index(\"stay_id\", inplace=True)\n",
        "XTY_train.set_index(\"stay_id\", inplace=True)\n",
        "XTY_test.set_index(\"stay_id\", inplace=True)\n",
        "X_train.set_index(\"stay_id\", inplace=True)\n",
        "X_test.set_index(\"stay_id\", inplace=True)\n",
        "Y_train.set_index(\"stay_id\", inplace=True)\n",
        "Y_test.set_index(\"stay_id\", inplace=True)\n",
        "T_train.set_index(\"stay_id\", inplace=True)\n",
        "T_test.set_index(\"stay_id\", inplace=True)\n",
        "\n",
        "T_train = T_train.iloc[:, 0].to_numpy()\n",
        "T_test = T_test.iloc[:, 0].to_numpy()\n",
        "X1_train = X_train.iloc[:, 3:4]\n",
        "X1_test = X_test.iloc[:, 3:4]\n",
        "XT = pd.concat([X, pd.DataFrame(T, columns=['treated'])], axis=1)\n",
        "XT_train = pd.concat([X_train, pd.DataFrame(T_train, columns=['treated'])], axis=1)\n",
        "XT_test = pd.concat([X_test, pd.DataFrame(T_test, columns=['treated'])], axis=1)\n",
        "\n",
        "#(1) Binary outcome: Hypokalemia within 48 hours \n",
        "Y1A = Y.iloc[:, 2].to_numpy()\n",
        "Y1A_train = Y_train.iloc[:, 2].to_numpy()\n",
        "Y1A_test = Y_test.iloc[:, 2].to_numpy()\n",
        "\n",
        "#(1)Continuous outcome: Minimum serum potassium within 48 hours \n",
        "Y1B = Y.iloc[:, 0].to_numpy()\n",
        "Y1B_train = Y_train.iloc[:, 0].to_numpy()\n",
        "Y1B_test = Y_test.iloc[:, 0].to_numpy()\n",
        "\n",
        "#(1)Continuous outcome: Maximum serum potassium within 48 hours \n",
        "Y1C = Y.iloc[:, 5].to_numpy()\n",
        "Y1C_train = Y_train.iloc[:, 5].to_numpy()\n",
        "Y1C_test = Y_test.iloc[:, 5].to_numpy()\n",
        "\n",
        "#(2)Binary outcome: AKI within 48 hours \n",
        "Y2 = Y.iloc[:, [38]].astype(int) \n",
        "Y2= Y2.to_numpy()\n",
        "Y2_train = Y_train.iloc[:, 38].astype(int) \n",
        "Y2_train = Y2_train.to_numpy()\n",
        "Y2_test = Y_test.iloc[:, 38].astype(int)\n",
        "Y2_test = Y2_test.to_numpy()"
      ],
      "metadata": {
        "id": "e1f2npTqk0Fe"
      },
      "execution_count": 279,
      "outputs": []
    },
    {
      "cell_type": "code",
      "source": [
        "print(Y1B)"
      ],
      "metadata": {
        "id": "fg3qgM2U4NWb"
      },
      "execution_count": null,
      "outputs": []
    },
    {
      "cell_type": "markdown",
      "source": [
        "# Set up Grid search baseline"
      ],
      "metadata": {
        "id": "BvcjjpK2miWr"
      }
    },
    {
      "cell_type": "code",
      "source": [
        "class GridSearchCVList:\n",
        "\n",
        "    def __init__(self, estimator_list, param_grid_list, scoring=None,\n",
        "                 n_jobs=None, iid='warn', refit=True, cv='warn', verbose=0, pre_dispatch='2*n_jobs',\n",
        "                 error_score='raise', return_train_score=False):\n",
        "        self._gcv_list = [GridSearchCV(estimator, param_grid, scoring=scoring,\n",
        "                                       n_jobs=n_jobs, refit=refit, cv=cv, verbose=verbose,\n",
        "                                       pre_dispatch=pre_dispatch, error_score=error_score,\n",
        "                                       return_train_score=return_train_score)\n",
        "                          for estimator, param_grid in zip(estimator_list, param_grid_list)]\n",
        "        return\n",
        "\n",
        "    def fit(self, X, y, sample_weight = None, **fit_params):\n",
        "        self.best_ind_ = np.argmax([gcv.fit(X, y, sample_weight = sample_weight, **fit_params).best_score_ for gcv in self._gcv_list])\n",
        "        self.best_estimator_ = self._gcv_list[self.best_ind_].best_estimator_\n",
        "        self.best_score_ = self._gcv_list[self.best_ind_].best_score_\n",
        "        self.best_params_ = self._gcv_list[self.best_ind_].best_params_\n",
        "        return self\n",
        "\n",
        "    def predict(self, X):\n",
        "        return self.best_estimator_.predict(X)\n",
        "\n",
        "    def predict_proba(self, X):\n",
        "        return self.best_estimator_.predict_proba(X)\n",
        "  \n",
        "#Cross-validated nuisance and final stage models\n",
        "def first_stage_reg():\n",
        "    return GridSearchCVList([Lasso(random_state=123),\n",
        "                             RandomForestRegressor(n_estimators=100, random_state=123),\n",
        "                             GradientBoostingRegressor(random_state=123)],\n",
        "                             param_grid_list=[{'alpha': [.001, .01, .1, 1, 10]},\n",
        "                                               {'max_depth': [3, None],\n",
        "                                               'min_samples_leaf': [10, 50]},\n",
        "                                              {'n_estimators': [50, 100],\n",
        "                                               'max_depth': [3],\n",
        "                                               'min_samples_leaf': [10, 30]}],\n",
        "                             cv=5,\n",
        "                             scoring='neg_mean_squared_error')\n",
        "\n",
        "def first_stage_clf():\n",
        "    return GridSearchCVList([LogisticRegression(random_state=123),\n",
        "                             RandomForestClassifier(n_estimators=100, random_state=123),\n",
        "                             GradientBoostingClassifier(random_state=123)],\n",
        "                             param_grid_list=[{'C': [0.01, .1, 1, 10, 100]},\n",
        "                                              {'max_depth': [3, 5],\n",
        "                                               'min_samples_leaf': [10, 50]},\n",
        "                                              {'n_estimators': [50, 100],\n",
        "                                               'max_depth': [3],\n",
        "                                               'min_samples_leaf': [10, 30]}],\n",
        "                             cv=5,\n",
        "                             scoring='neg_mean_squared_error')\n",
        "\n",
        "def final_stage():\n",
        "    return GridSearchCVList([WeightedLasso(random_state=123),\n",
        "                             RandomForestRegressor(n_estimators=100, random_state=123)],\n",
        "                             param_grid_list=[{'alpha': [.001, .01, .1, 1, 10]},\n",
        "                                              {'max_depth': [3, 5],\n",
        "                                               'min_samples_leaf': [10, 50]}],\n",
        "                             cv=5,\n",
        "                             scoring='neg_mean_squared_error')"
      ],
      "metadata": {
        "id": "Dq3heMeTmkqt"
      },
      "execution_count": null,
      "outputs": []
    },
    {
      "cell_type": "code",
      "source": [
        "model_yb = clone(first_stage_reg().fit(X, Y1B).best_estimator_)"
      ],
      "metadata": {
        "id": "Uq9RXdAgnicH"
      },
      "execution_count": null,
      "outputs": []
    },
    {
      "cell_type": "code",
      "source": [
        "print(model_yb)"
      ],
      "metadata": {
        "colab": {
          "base_uri": "https://localhost:8080/"
        },
        "id": "nHDuds9RoDJd",
        "outputId": "80ef6bff-ac4e-468c-a233-5b6490144d1e"
      },
      "execution_count": null,
      "outputs": [
        {
          "output_type": "stream",
          "name": "stdout",
          "text": [
            "RandomForestRegressor(min_samples_leaf=10, random_state=123)\n"
          ]
        }
      ]
    },
    {
      "cell_type": "code",
      "source": [
        "model_ytb = clone(first_stage_reg().fit(XT, Y1B).best_estimator_)\n",
        "print(model_ytb)"
      ],
      "metadata": {
        "id": "UnSOboDsoOP7"
      },
      "execution_count": null,
      "outputs": []
    },
    {
      "cell_type": "markdown",
      "source": [
        "# Data transformation"
      ],
      "metadata": {
        "id": "8Iju8ZUomWoi"
      }
    },
    {
      "cell_type": "code",
      "source": [
        "min_max = pd.read_csv(\"/content/min_max.csv\", usecols= [\"column_name\",\"min_value\", \"max_value\"]).reset_index(drop=True)\n",
        "print(min_max.head())"
      ],
      "metadata": {
        "colab": {
          "base_uri": "https://localhost:8080/"
        },
        "id": "VsEAG4YwmXvK",
        "outputId": "b9d1e067-095c-4a3b-bb9e-a5c15f5c943a"
      },
      "execution_count": 331,
      "outputs": [
        {
          "output_type": "stream",
          "name": "stdout",
          "text": [
            "                 column_name  min_value   max_value\n",
            "0               sequence_icu        1.0   12.000000\n",
            "1              sequence_hadm        1.0   69.000000\n",
            "2                     amount        0.0  200.000003\n",
            "3  diff_starttime_intime_day        0.0    8.000000\n",
            "4  diff_intime_admittime_day       -1.0  121.000000\n"
          ]
        }
      ]
    },
    {
      "cell_type": "markdown",
      "source": [
        "## Unscale variables"
      ],
      "metadata": {
        "id": "WSjJ7S-Yn3fO"
      }
    },
    {
      "cell_type": "code",
      "source": [
        "def unscale_value(df, column_name, scaled_value):\n",
        "    row = df[df['column_name'] == column_name]\n",
        "    min_value = row['min_value'].values[0]\n",
        "    max_value = row['max_value'].values[0]\n",
        "\n",
        "    original_value = scaled_value * (max_value - min_value) + min_value\n",
        "    return original_value"
      ],
      "metadata": {
        "id": "ZtOsVgQFm_ms"
      },
      "execution_count": 333,
      "outputs": []
    },
    {
      "cell_type": "code",
      "source": [
        "scaled = 0.13339465\n",
        "original = unscale_value(min_max, 'weight', scaled_age)\n",
        "print(f\"Original value: {original}\")"
      ],
      "metadata": {
        "colab": {
          "base_uri": "https://localhost:8080/"
        },
        "id": "3VbnFDwynPSE",
        "outputId": "a6456961-c18a-4d10-f221-07130fc8742e"
      },
      "execution_count": 340,
      "outputs": [
        {
          "output_type": "stream",
          "name": "stdout",
          "text": [
            "Original value: 64.22145\n"
          ]
        }
      ]
    },
    {
      "cell_type": "markdown",
      "source": [
        "##Scale variables "
      ],
      "metadata": {
        "id": "TQO4bd0yn6l6"
      }
    },
    {
      "cell_type": "code",
      "source": [
        "def scale_value(df, column_name, original_value):\n",
        "    row = df[df['column_name'] == column_name]\n",
        "    min_value = row['min_value'].values[0]\n",
        "    max_value = row['max_value'].values[0]\n",
        "\n",
        "    scaled_value = (original_value - min_value) / (max_value - min_value)\n",
        "    return scaled_value\n",
        "\n",
        "original = 1  # Example original age value\n",
        "scaled = scale_value(min_max, 'weight', original)\n",
        "print(f\"Scaled value: {scaled}\")"
      ],
      "metadata": {
        "colab": {
          "base_uri": "https://localhost:8080/"
        },
        "id": "_fO-mqOXn6HF",
        "outputId": "51450430-4b08-41c5-8ce8-3ff5205cb07c"
      },
      "execution_count": 349,
      "outputs": [
        {
          "output_type": "stream",
          "name": "stdout",
          "text": [
            "Scaled value: -0.11247443762781185\n"
          ]
        }
      ]
    },
    {
      "cell_type": "markdown",
      "source": [
        "## Transform the ATE from scaled variable "
      ],
      "metadata": {
        "id": "CvQ1ANfZvyBa"
      }
    },
    {
      "cell_type": "code",
      "source": [
        "def interpret_ate(variable_name, ATE, X, min_max):\n",
        "    # Find the min_value and max_value for the given variable_name\n",
        "    min_value = min_max.loc[min_max['column_name'] == variable_name, 'min_value'].values[0]\n",
        "    max_value = min_max.loc[min_max['column_name'] == variable_name, 'max_value'].values[0]\n",
        "\n",
        "    # Compute variable_difference\n",
        "    variable_difference = max_value - min_value\n",
        "\n",
        "    # Compute scaled_variable_difference and ATE_for_X_units\n",
        "    scaled_variable_difference = 1 / variable_difference\n",
        "    ATE_for_X_units = scaled_variable_difference * ATE * X\n",
        "    return ATE_for_X_units"
      ],
      "metadata": {
        "id": "De25rZCmw8yH"
      },
      "execution_count": 382,
      "outputs": []
    },
    {
      "cell_type": "code",
      "source": [
        "variable_name = 'age'\n",
        "ATE = 0.14611012\n",
        "X = 10\n",
        "\n",
        "# Call the function\n",
        "ATE_for_X_units = interpret_ate(variable_name, ATE, X, min_max)\n",
        "print(f\"ATE for {X} units of {variable_name}: {ATE_for_X_units}\")"
      ],
      "metadata": {
        "colab": {
          "base_uri": "https://localhost:8080/"
        },
        "id": "CXLTBrTVxBk3",
        "outputId": "2e163028-7d67-4f7d-836b-ee5a69a984a8"
      },
      "execution_count": 384,
      "outputs": [
        {
          "output_type": "stream",
          "name": "stdout",
          "text": [
            "ATE for 10 units of age: 0.020015084931506853\n"
          ]
        }
      ]
    },
    {
      "cell_type": "markdown",
      "source": [
        "\n",
        "\n",
        "*   The ATE measures the average difference in the outcome when the feature is changed by one unit \n",
        "\n",
        "\n",
        "\n",
        "\n",
        "\n",
        "\n"
      ],
      "metadata": {
        "id": "hJ_YL7qnkS7N"
      }
    },
    {
      "cell_type": "markdown",
      "source": [
        "# (A) Potassium as outcome\n"
      ],
      "metadata": {
        "id": "tB79FtjPlK4-"
      }
    },
    {
      "cell_type": "markdown",
      "source": [
        "## Best nuisance models"
      ],
      "metadata": {
        "id": "4_1bhRvL2gYy"
      }
    },
    {
      "cell_type": "code",
      "source": [
        "#Binary outcomes: Best estimators for propensity model and outcome model\n",
        "model_ya = LogisticRegression(C=100, random_state=123, n_jobs=1)\n",
        "model_ta = GradientBoostingClassifier(min_samples_leaf=10, n_estimators=50,\n",
        "                           random_state=123)\n",
        "model_yta = LogisticRegression(C=100, random_state=123, n_jobs=1)"
      ],
      "metadata": {
        "id": "ESbhZWGTlEpx"
      },
      "execution_count": 190,
      "outputs": []
    },
    {
      "cell_type": "code",
      "source": [
        "#Continuous outcomes: Best estimators for propensity model and outcome model\n",
        "model_yb = RandomForestRegressor(min_samples_leaf=10, random_state=123, n_jobs=1)\n",
        "model_tb = GradientBoostingClassifier(min_samples_leaf=10, n_estimators=50,\n",
        "                           random_state=123)\n",
        "model_ytb = RandomForestRegressor(min_samples_leaf=10, random_state=123, n_jobs=1)"
      ],
      "metadata": {
        "id": "oHjvLcqqmaHr"
      },
      "execution_count": 191,
      "outputs": []
    },
    {
      "cell_type": "markdown",
      "source": [
        "# (A) Binary outcomes"
      ],
      "metadata": {
        "id": "IKKmYYO0odq0"
      }
    },
    {
      "cell_type": "markdown",
      "source": [
        "## 1. Time: 0-48"
      ],
      "metadata": {
        "id": "WRXDKpCb2JQu"
      }
    },
    {
      "cell_type": "markdown",
      "source": [
        "### 1.1 Hypokalemia \n"
      ],
      "metadata": {
        "id": "Kfw0qiYDyWWi"
      }
    },
    {
      "cell_type": "code",
      "source": [
        "W_columns = ['sequence_icu', 'sequence_hadm', 'diff_intime_admittime_day', 'male', 'age', 'weight', 'admission_type_emergency', 'adm_med', 'adm_surg', 'careunit_MICU/SICU', 'careunit_CVICU', 'careunit_TSICU', 'careunit_CCU', \n",
        "                    'bun', 'cl', 'crea_pre', 'glu', 'mg', 'k_pre', 'na', 'plt', 'urine', 'o2sat', 'resp', 'hr', 'map', 'temp','antiplatelet','beta_agonist', 'beta_blocker', 'cort', 'dex',\n",
        "                     'furosemide', 'h2_antagonist', 'heparinoid', 'ins', 'k_supp', 'lax', 'nsaid','vaso_ind', 'coag', 'copd', 'depress', 'dm', 'hypothy', 'liver', 'htn', 'valve', 'mech_vent_invasive','supp_o2']"
      ],
      "metadata": {
        "id": "Z1rb636ZyuHG"
      },
      "execution_count": 192,
      "outputs": []
    },
    {
      "cell_type": "code",
      "source": [
        "XTY = pd.read_csv(\"/content/XTY.csv\")\n",
        "XTY_train = pd.read_csv(\"/content/XTY_train.csv\")\n",
        "XTY_test = pd.read_csv(\"/content/XTY_test.csv\")\n",
        "\n",
        "#(1.2) Build a model\n",
        "Y_train = XTY_train[\"0_48_hypokalemia\"].to_numpy()\n",
        "T_train = XTY_train[\"treated\"].to_numpy()\n",
        "X_train= XTY_train[W_columns].to_numpy().reshape(-1, 50)\n",
        "X_test = XTY_test[W_columns].to_numpy().reshape(-1, 50)"
      ],
      "metadata": {
        "id": "JI5sRMI4yjuu"
      },
      "execution_count": 193,
      "outputs": []
    },
    {
      "cell_type": "code",
      "source": [
        "columns = XTY_train.columns.to_list()\n",
        "print(columns)"
      ],
      "metadata": {
        "colab": {
          "base_uri": "https://localhost:8080/"
        },
        "id": "Nw5TUEwx3beU",
        "outputId": "d135481b-ac1c-4be6-d78e-60d39c46ae6f"
      },
      "execution_count": 145,
      "outputs": [
        {
          "output_type": "stream",
          "name": "stdout",
          "text": [
            "['stay_id', 'treated', 'amount', 'diff_starttime_intime_day', '0_48_min_k', '0_48_hour_min_k', '0_48_hypokalemia', '0_48_severe_hypokalemia', '0_48_max_k', '0_48_hour_max_k', '0_48_hyperkalemia', '0_48_mean_k', '0_24_min_k', '0_24_hour_min_k', '0_24_hypokalemia', '0_24_severe_hypokalemia', '0_24_max_k', '0_24_hour_max_k', '0_24_hyperkalemia', '0_24_mean_k', '0_12_min_k', '0_12_hour_min_k', '0_12_hypokalemia', '0_12_severe_hypokalemia', '0_12_max_k', '0_12_hour_max_k', '0_12_hyperkalemia', '0_12_mean_k', '0_6_min_k', '0_6_hour_min_k', '0_6_hypokalemia', '0_6_severe_hypokalemia', '0_6_max_k', '0_6_hour_max_k', '0_6_hyperkalemia', '0_6_mean_k', '0_3_min_k', '0_3_hour_min_k', '0_3_hypokalemia', '0_3_severe_hypokalemia', '0_3_max_k', '0_3_hour_max_k', '0_3_hyperkalemia', '0_3_mean_k', '0_2_min_k', '0_2_hour_min_k', '0_2_hypokalemia', '0_2_severe_hypokalemia', '0_2_max_k', '0_2_hour_max_k', '0_2_hyperkalemia', '0_2_mean_k', '0_1_min_k', '0_1_hour_min_k', '0_1_hypokalemia', '0_1_severe_hypokalemia', '0_1_max_k', '0_1_hour_max_k', '0_1_hyperkalemia', '0_1_mean_k', '0_48_mean_outcome_crea', '0_48_max_outcome_crea', '0_48_hour_max_crea', '0_48_min_outcome_crea', '0_48_hour_min_crea', '0_48_max_diff_crea', '0_48_AKI_stage_1', '0_48_min_diff_crea', '0_24_mean_outcome_crea', '0_24_max_outcome_crea', '0_24_hour_max_crea', '0_24_min_outcome_crea', '0_24_hour_min_crea', '0_24_max_diff_crea', '0_24_AKI_stage_1', '0_24_min_diff_crea', '0_12_mean_outcome_crea', '0_12_max_outcome_crea', '0_12_hour_max_crea', '0_12_min_outcome_crea', '0_12_hour_min_crea', '0_12_max_diff_crea', '0_12_AKI_stage_1', '0_12_min_diff_crea', '0_6_mean_outcome_crea', '0_6_max_outcome_crea', '0_6_hour_max_crea', '0_6_min_outcome_crea', '0_6_hour_min_crea', '0_6_max_diff_crea', '0_6_AKI_stage_1', '0_6_min_diff_crea', '0_3_mean_outcome_crea', '0_3_max_outcome_crea', '0_3_hour_max_crea', '0_3_min_outcome_crea', '0_3_hour_min_crea', '0_3_max_diff_crea', '0_3_AKI_stage_1', '0_3_min_diff_crea', '0_2_mean_outcome_crea', '0_2_max_outcome_crea', '0_2_hour_max_crea', '0_2_min_outcome_crea', '0_2_hour_min_crea', '0_2_max_diff_crea', '0_2_AKI_stage_1', '0_2_min_diff_crea', '0_1_mean_outcome_crea', '0_1_max_outcome_crea', '0_1_hour_max_crea', '0_1_min_outcome_crea', '0_1_hour_min_crea', '0_1_max_diff_crea', '0_1_AKI_stage_1', '0_1_min_diff_crea', 'sequence_icu', 'sequence_hadm', 'diff_intime_admittime_day', 'age', 'male', 'weight', 'admission_type_emergency', 'adm_med', 'adm_surg', 'careunit_MICU/SICU', 'careunit_CVICU', 'careunit_TSICU', 'careunit_CCU', 'careunit_Neuro_Intermediate', 'bun', 'cl', 'crea_pre', 'glu', 'mg', 'k_pre', 'na', 'plt', 'urine', 'o2sat', 'resp', 'hr', 'map', 'temp', 'ace_inhibitor', 'abx', 'antifungal', 'antiplatelet', 'antiretroviral', 'arb', 'beta_agonist', 'beta_blocker', 'ca_inhibitor', 'chemo', 'cort', 'cyclosporin', 'dex', 'digitalis', 'dm_meds', 'dopaminergic', 'dronedarone', 'furosemide', 'h2_antagonist', 'heparinoid', 'ins', 'k_supp', 'lax', 'lithium', 'nsaid', 'other_loops', 'mra', 'thiazide', 'tyrosin_kinase', 'vaso_ind', 'vitamin_d', 'xanthines', 'aids', 'alcohol', 'coag', 'copd', 'anemdef', 'depress', 'dm', 'drug', 'hypothy', 'liver', 'lymph', 'mets', 'obese', 'para', 'htn', 'perivasc', 'arth', 'tumor', 'valve', 'mech_vent_invasive', 'mech_vent_noninvasive', 'rrt', 'supp_o2']\n"
          ]
        }
      ]
    },
    {
      "cell_type": "code",
      "source": [
        "cv = KFold(n_splits=3, shuffle=True, random_state=123)\n",
        "forestdrl = ForestDRLearner(model_regression=model_yta, model_propensity=model_ta, cv=3, min_samples_leaf=10, verbose=0, min_weight_fraction_leaf=.005, random_state=seed)\n",
        "forestdrl.fit(Y_train, T_train, X=X_train, cache_values=True)\n",
        "# Estimate treatment effects on test data\n",
        "forestdrl_te = forestdrl.effect(X_test)\n",
        "forestdrl_te_inference = forestdrl.effect_inference(X_test).population_summary(alpha=0.1, value=0, decimals=3, tol=0.001)\n",
        "print(forestdrl_te_inference)"
      ],
      "metadata": {
        "colab": {
          "base_uri": "https://localhost:8080/"
        },
        "id": "3R3W-abIlV8E",
        "outputId": "8f8f8491-daa4-47e7-eeac-04d03da63331"
      },
      "execution_count": 146,
      "outputs": [
        {
          "output_type": "stream",
          "name": "stdout",
          "text": [
            "               Uncertainty of Mean Point Estimate              \n",
            "===============================================================\n",
            "mean_point stderr_mean zstat pvalue ci_mean_lower ci_mean_upper\n",
            "---------------------------------------------------------------\n",
            "     0.003       0.036 0.081  0.936        -0.056         0.062\n",
            "      Distribution of Point Estimate     \n",
            "=========================================\n",
            "std_point pct_point_lower pct_point_upper\n",
            "-----------------------------------------\n",
            "    0.022          -0.029           0.044\n",
            "     Total Variance of Point Estimate     \n",
            "==========================================\n",
            "stderr_point ci_point_lower ci_point_upper\n",
            "------------------------------------------\n",
            "       0.042         -0.061          0.074\n",
            "------------------------------------------\n",
            "\n",
            "Note: The stderr_mean is a conservative upper bound.\n"
          ]
        }
      ]
    },
    {
      "cell_type": "code",
      "source": [
        "print(X_train.shape)"
      ],
      "metadata": {
        "colab": {
          "base_uri": "https://localhost:8080/"
        },
        "id": "juBJbvb5_arJ",
        "outputId": "427c404b-130b-445c-f44c-f46a63bc2b15"
      },
      "execution_count": 195,
      "outputs": [
        {
          "output_type": "stream",
          "name": "stdout",
          "text": [
            "(4042, 50)\n"
          ]
        }
      ]
    },
    {
      "cell_type": "markdown",
      "source": [
        "#### ATE by feature "
      ],
      "metadata": {
        "id": "q3X7RXNB_V_b"
      }
    },
    {
      "cell_type": "code",
      "source": [
        "cv = KFold(n_splits=3, shuffle=True, random_state=123)\n",
        "forestdrl = ForestDRLearner(model_regression=model_yta, model_propensity=model_ta, cv=3, min_samples_leaf=10, verbose=0, min_weight_fraction_leaf=.005, random_state=seed)"
      ],
      "metadata": {
        "id": "566ew1dX_tYK"
      },
      "execution_count": 196,
      "outputs": []
    },
    {
      "cell_type": "code",
      "source": [
        "#ATE by feature \n",
        "ATE_by_feature = []\n",
        "\n",
        "for i in range(X_train.shape[1]):\n",
        "    # Create the current feature (T) and confounders (W) matrices\n",
        "    X_train_T = X_train[:, i].reshape(-1, 1)\n",
        "    X_train_W = np.delete(X_train, i, axis=1)\n",
        "    X_test_T = X_test[:, i].reshape(-1, 1)\n",
        "    X_test_W = np.delete(X_test, i, axis=1)\n",
        "    \n",
        "    # Fit the ForestDRLearner using the current feature and confounders\n",
        "    forestdrl.fit(Y_train, T_train, X=X_train_T, W=X_train_W)\n",
        "    \n",
        "    # Calculate the ATE for the current feature\n",
        "    ATE = forestdrl.ate(X_test_T)\n",
        "    \n",
        "    # Store the ATE value\n",
        "    ATE_by_feature.append(ATE)\n",
        "\n",
        "ATE_by_feature = np.array(ATE_by_feature)"
      ],
      "metadata": {
        "id": "jWgB1jhI_OcP"
      },
      "execution_count": 198,
      "outputs": []
    },
    {
      "cell_type": "code",
      "source": [
        "print(ATE_by_feature)"
      ],
      "metadata": {
        "colab": {
          "base_uri": "https://localhost:8080/"
        },
        "id": "exWgutF2AgIb",
        "outputId": "a53fbfdb-3bb3-475f-810e-6b1b34a512b1"
      },
      "execution_count": 199,
      "outputs": [
        {
          "output_type": "stream",
          "name": "stdout",
          "text": [
            "[ 0.00043965  0.00096132  0.00184331 -0.0004292   0.00209246  0.00254934\n",
            "  0.00240997  0.00250666  0.0021607   0.00229856  0.00218642  0.00235977\n",
            "  0.00500377  0.00329357  0.00034013  0.0043735  -0.00175845  0.00268922\n",
            "  0.00371198  0.00310968  0.0069036   0.00304375  0.0032202  -0.00068028\n",
            "  0.00344092  0.00153002  0.00239831  0.00162347  0.00501885  0.00230628\n",
            "  0.00343858  0.00192157  0.00116867  0.00221873  0.00197959  0.00358122\n",
            "  0.00542835  0.00225831  0.00270631  0.0022641   0.00225117  0.00119546\n",
            "  0.00091969  0.00175051  0.00208152  0.00272285  0.0022549   0.00207898\n",
            "  0.002102    0.00260053]\n"
          ]
        }
      ]
    },
    {
      "cell_type": "code",
      "source": [
        "ATE_by_feature_10 = [0.00043965, 0.00096132, 0.00184331, -0.0004292, 0.00209246, 0.00254934,\n",
        "  0.00240997, 0.00250666, 0.0021607, 0.00229856]\n",
        "\n",
        "W_columns_10 = ['sequence_icu', 'sequence_hadm', 'diff_intime_admittime_day', 'male', 'age', \n",
        "             'weight', 'admission_type_emergency', 'adm_med', 'adm_surg', 'careunit_MICU/SICU']\n",
        "\n",
        "plt.figure(figsize=(12, 6))\n",
        "plt.plot(W_columns_10, ATE_by_feature_10, 'o')\n",
        "plt.xlabel(\"Features\")\n",
        "plt.ylabel(\"ATE Values\")\n",
        "plt.title(\"ATE Values by Feature\")\n",
        "plt.xticks(rotation=45)\n",
        "plt.axhline(y=0, linestyle='--', color='red')  # Add a dashed horizontal line at y=0\n",
        "plt.show()"
      ],
      "metadata": {
        "colab": {
          "base_uri": "https://localhost:8080/",
          "height": 500
        },
        "id": "iLBZmchZZWk6",
        "outputId": "a1b16fa8-8c72-4e8b-be45-deda799bae41"
      },
      "execution_count": 303,
      "outputs": [
        {
          "output_type": "display_data",
          "data": {
            "text/plain": [
              "<Figure size 864x432 with 1 Axes>"
            ],
            "image/png": "[encoded data removed]"
          },
          "metadata": {
            "needs_background": "light"
          }
        }
      ]
    },
    {
      "cell_type": "markdown",
      "source": [
        "#### Tree interpreter "
      ],
      "metadata": {
        "id": "9LwgI6dJ_X4-"
      }
    },
    {
      "cell_type": "code",
      "source": [
        "from IPython.display import display"
      ],
      "metadata": {
        "id": "tVvJvbPyg99V"
      },
      "execution_count": 91,
      "outputs": []
    },
    {
      "cell_type": "code",
      "source": [
        "#Interpret the outcome \n",
        "intrp = SingleTreeCateInterpreter(include_model_uncertainty=False, max_depth=3, min_samples_leaf=10)"
      ],
      "metadata": {
        "id": "dRuB07iHglZ3"
      },
      "execution_count": 147,
      "outputs": []
    },
    {
      "cell_type": "code",
      "source": [
        "# We interpret the CATE model's behavior based on the features used for heterogeneity\n",
        "intrp.interpret(forestdrl, X_test)\n",
        "#Render the tree\n",
        "intrp.render(out_file =\"tree_interpeter\",feature_names=W_columns, rotate=True)\n",
        "# Plot the tree\n",
        "intrp.plot(fontsize=8, feature_names=W_columns, rounded = True)"
      ],
      "metadata": {
        "id": "vjiJIUb4g13B"
      },
      "execution_count": 148,
      "outputs": []
    },
    {
      "cell_type": "code",
      "source": [
        "plt.show()\n",
        "display(plt.gcf())"
      ],
      "metadata": {
        "colab": {
          "base_uri": "https://localhost:8080/",
          "height": 252
        },
        "id": "bRgn4yhJhdfZ",
        "outputId": "15423217-cdc1-4fb0-d25d-e9f1bcfadd7c"
      },
      "execution_count": 109,
      "outputs": [
        {
          "output_type": "display_data",
          "data": {
            "text/plain": [
              "<Figure size 432x288 with 1 Axes>"
            ],
            "image/png": "[encoded data removed]"
          },
          "metadata": {}
        }
      ]
    },
    {
      "cell_type": "code",
      "source": [
        "# We find a tree-based treatment policy based on the CATE model\n",
        "# sample_treatment_costs is the cost of treatment. Policy will treat if effect is above this cost.\n",
        "intrp = SingleTreePolicyInterpreter(risk_level=None, max_depth=2, min_samples_leaf=1,min_impurity_decrease=.001)\n",
        "intrp.interpret(forestdrl, X_test)"
      ],
      "metadata": {
        "colab": {
          "base_uri": "https://localhost:8080/"
        },
        "id": "RN3ToBVImnb8",
        "outputId": "14525673-a4bd-4a98-895d-460ee4f51ba6"
      },
      "execution_count": 149,
      "outputs": [
        {
          "output_type": "execute_result",
          "data": {
            "text/plain": [
              "<econml.cate_interpreter._interpreters.SingleTreePolicyInterpreter at 0x7f37f60ec7f0>"
            ]
          },
          "metadata": {},
          "execution_count": 149
        }
      ]
    },
    {
      "cell_type": "code",
      "source": [
        "intrp.render(out_file =\"tree_0_48_hypokalemia\",feature_names=W_columns, rotate=True)"
      ],
      "metadata": {
        "id": "vYf3ZFP0my4L"
      },
      "execution_count": 150,
      "outputs": []
    },
    {
      "cell_type": "markdown",
      "source": [
        "### 1.2 Severe hypokalemia"
      ],
      "metadata": {
        "id": "orYtlbpSzNao"
      }
    },
    {
      "cell_type": "code",
      "source": [
        "#(1.2) Build a model\n",
        "Y_train = XTY_train[\"0_48_severe_hypokalemia\"].to_numpy()\n",
        "T_train = XTY_train[\"treated\"].to_numpy()\n",
        "X_train= XTY_train[W_columns].to_numpy().reshape(-1, 50)\n",
        "X_test = XTY_test[W_columns].to_numpy().reshape(-1, 50)"
      ],
      "metadata": {
        "id": "o9CSk-eWzPzE"
      },
      "execution_count": 61,
      "outputs": []
    },
    {
      "cell_type": "code",
      "source": [
        "cv = KFold(n_splits=3, shuffle=True, random_state=123)\n",
        "forestdrl = ForestDRLearner(model_regression=model_yta, model_propensity=model_ta, cv=3, min_samples_leaf=10, verbose=0, min_weight_fraction_leaf=.005, random_state=seed)\n",
        "forestdrl.fit(Y_train, T_train, X=X_train, cache_values=True)\n",
        "# Estimate treatment effects on test data\n",
        "forestdrl_te = forestdrl.effect(X_test)\n",
        "forestdrl_te_inference = forestdrl.effect_inference(X_test).population_summary(alpha=0.1, value=0, decimals=3, tol=0.001)\n",
        "print(forestdrl_te_inference)"
      ],
      "metadata": {
        "colab": {
          "base_uri": "https://localhost:8080/"
        },
        "id": "BEjvJX_ymN76",
        "outputId": "ae32252a-17e2-4dfc-c180-b70380c568f5"
      },
      "execution_count": 62,
      "outputs": [
        {
          "output_type": "stream",
          "name": "stdout",
          "text": [
            "               Uncertainty of Mean Point Estimate              \n",
            "===============================================================\n",
            "mean_point stderr_mean zstat pvalue ci_mean_lower ci_mean_upper\n",
            "---------------------------------------------------------------\n",
            "     0.001       0.013 0.111  0.912         -0.02         0.023\n",
            "      Distribution of Point Estimate     \n",
            "=========================================\n",
            "std_point pct_point_lower pct_point_upper\n",
            "-----------------------------------------\n",
            "    0.011          -0.027           0.015\n",
            "     Total Variance of Point Estimate     \n",
            "==========================================\n",
            "stderr_point ci_point_lower ci_point_upper\n",
            "------------------------------------------\n",
            "       0.017         -0.028          0.025\n",
            "------------------------------------------\n",
            "\n",
            "Note: The stderr_mean is a conservative upper bound.\n"
          ]
        }
      ]
    },
    {
      "cell_type": "markdown",
      "source": [
        "### 1.3 Hyperkalemia"
      ],
      "metadata": {
        "id": "-HJMJg-72_KW"
      }
    },
    {
      "cell_type": "code",
      "source": [
        "# Build a model\n",
        "Y_train = XTY_train[\"0_48_hyperkalemia\"].to_numpy()\n",
        "T_train = XTY_train[\"treated\"].to_numpy()\n",
        "X_train= XTY_train[W_columns].to_numpy().reshape(-1, 50)\n",
        "X_test = XTY_test[W_columns].to_numpy().reshape(-1, 50)"
      ],
      "metadata": {
        "id": "M1NgIs003Chn"
      },
      "execution_count": 151,
      "outputs": []
    },
    {
      "cell_type": "code",
      "source": [
        "print(XTY_train.shape)"
      ],
      "metadata": {
        "colab": {
          "base_uri": "https://localhost:8080/"
        },
        "id": "w6gccFv43K2X",
        "outputId": "c0ccb173-012e-4876-95d1-753e726b2848"
      },
      "execution_count": 152,
      "outputs": [
        {
          "output_type": "stream",
          "name": "stdout",
          "text": [
            "(4042, 199)\n"
          ]
        }
      ]
    },
    {
      "cell_type": "code",
      "source": [
        "cv = KFold(n_splits=3, shuffle=True, random_state=123)\n",
        "forestdrl = ForestDRLearner(model_regression=model_yta, model_propensity=model_ta, cv=3, min_samples_leaf=10, verbose=0, min_weight_fraction_leaf=.005, random_state=seed)\n",
        "forestdrl.fit(Y_train, T_train, X=X_train, cache_values=True)\n",
        "# Estimate treatment effects on test data\n",
        "forestdrl_te = forestdrl.effect(X_test)\n",
        "forestdrl_te_inference = forestdrl.effect_inference(X_test).population_summary(alpha=0.1, value=0, decimals=3, tol=0.001)\n",
        "print(forestdrl_te_inference)"
      ],
      "metadata": {
        "colab": {
          "base_uri": "https://localhost:8080/"
        },
        "id": "rBxannFa3IIe",
        "outputId": "7619272a-5b8e-4aea-fbfd-b47033dcee4c"
      },
      "execution_count": 153,
      "outputs": [
        {
          "output_type": "stream",
          "name": "stdout",
          "text": [
            "               Uncertainty of Mean Point Estimate              \n",
            "===============================================================\n",
            "mean_point stderr_mean zstat pvalue ci_mean_lower ci_mean_upper\n",
            "---------------------------------------------------------------\n",
            "     0.016       0.025 0.661  0.509        -0.025         0.057\n",
            "      Distribution of Point Estimate     \n",
            "=========================================\n",
            "std_point pct_point_lower pct_point_upper\n",
            "-----------------------------------------\n",
            "    0.034          -0.005           0.111\n",
            "     Total Variance of Point Estimate     \n",
            "==========================================\n",
            "stderr_point ci_point_lower ci_point_upper\n",
            "------------------------------------------\n",
            "       0.043          -0.02          0.107\n",
            "------------------------------------------\n",
            "\n",
            "Note: The stderr_mean is a conservative upper bound.\n"
          ]
        }
      ]
    },
    {
      "cell_type": "code",
      "source": [
        "#Interpret the outcome \n",
        "intrp = SingleTreeCateInterpreter(include_model_uncertainty=False, max_depth=3, min_samples_leaf=10)\n",
        "# We interpret the CATE model's behavior based on the features used for heterogeneity\n",
        "intrp.interpret(forestdrl, X_test)\n",
        "#Render the tree\n",
        "intrp.render(out_file =\"tree_0_48_hyperkalemia\",feature_names=W_columns, rotate=True)\n",
        "# Plot the tree\n",
        "intrp.plot(fontsize=8, feature_names=W_columns, rounded = True)"
      ],
      "metadata": {
        "id": "OhoWdwEVkwLv"
      },
      "execution_count": 155,
      "outputs": []
    },
    {
      "cell_type": "code",
      "source": [
        "# We find a tree-based treatment policy based on the CATE model\n",
        "# sample_treatment_costs is the cost of treatment. Policy will treat if effect is above this cost.\n",
        "intrp = SingleTreePolicyInterpreter(risk_level=None, max_depth=2, min_samples_leaf=1,min_impurity_decrease=.001)\n",
        "intrp.interpret(forestdrl, X_test)\n",
        "intrp.render(out_file =\"tree2_0_48_hyperkalemia\",feature_names=W_columns, rotate=True)"
      ],
      "metadata": {
        "id": "IAawvtren8s0"
      },
      "execution_count": 154,
      "outputs": []
    },
    {
      "cell_type": "markdown",
      "source": [
        "## 2. Time: 0-24"
      ],
      "metadata": {
        "id": "_9EngvCL2WOr"
      }
    },
    {
      "cell_type": "markdown",
      "source": [
        "### 2.1 Hypokalemia"
      ],
      "metadata": {
        "id": "p1yYybmlzepS"
      }
    },
    {
      "cell_type": "code",
      "source": [
        "#Only include patients that have an observation \n",
        "XTY = pd.read_csv(\"/content/XTY.csv\")\n",
        "XTY = XTY[XTY[\"0_24_min_k\"].notnull()]"
      ],
      "metadata": {
        "id": "rs22_NEtzho4"
      },
      "execution_count": 231,
      "outputs": []
    },
    {
      "cell_type": "code",
      "source": [
        "print(XTY.shape)"
      ],
      "metadata": {
        "colab": {
          "base_uri": "https://localhost:8080/"
        },
        "id": "hfAS7iH6EhUF",
        "outputId": "d20ef908-d310-417c-fceb-59ebc20a7d00"
      },
      "execution_count": 232,
      "outputs": [
        {
          "output_type": "stream",
          "name": "stdout",
          "text": [
            "(4638, 151)\n"
          ]
        }
      ]
    },
    {
      "cell_type": "code",
      "source": [
        "XTY_train, XTY_test = train_test_split(XTY, test_size=0.2, random_state=123)"
      ],
      "metadata": {
        "id": "E90qZbQJzq6H"
      },
      "execution_count": 81,
      "outputs": []
    },
    {
      "cell_type": "code",
      "source": [
        "print(XTY_train.shape)"
      ],
      "metadata": {
        "colab": {
          "base_uri": "https://localhost:8080/"
        },
        "id": "4Dz0AIkd1Cu9",
        "outputId": "a7d080f1-31ca-4b81-f4f1-d7fef82ed89a"
      },
      "execution_count": 82,
      "outputs": [
        {
          "output_type": "stream",
          "name": "stdout",
          "text": [
            "(3710, 151)\n"
          ]
        }
      ]
    },
    {
      "cell_type": "code",
      "source": [
        "#Build a model\n",
        "Y_train = XTY_train[\"0_24_hypokalemia\"].to_numpy()\n",
        "T_train = XTY_train[\"treated\"].to_numpy()\n",
        "X_train= XTY_train[W_columns].to_numpy().reshape(-1, 50)\n",
        "X_test = XTY_test[W_columns].to_numpy().reshape(-1, 50)"
      ],
      "metadata": {
        "id": "9l3DbJpNzxVr"
      },
      "execution_count": 83,
      "outputs": []
    },
    {
      "cell_type": "code",
      "source": [
        "cv = KFold(n_splits=3, shuffle=True, random_state=123)\n",
        "forestdrl = ForestDRLearner(model_regression=model_yta, model_propensity=model_ta, cv=3, min_samples_leaf=10, verbose=0, min_weight_fraction_leaf=.005, random_state=seed)\n",
        "forestdrl.fit(Y_train, T_train, X=X_train, cache_values=True)\n",
        "# Estimate treatment effects on test data\n",
        "forestdrl_te = forestdrl.effect(X_test)\n",
        "forestdrl_te_inference = forestdrl.effect_inference(X_test).population_summary(alpha=0.1, value=0, decimals=3, tol=0.001)\n",
        "print(forestdrl_te_inference)"
      ],
      "metadata": {
        "colab": {
          "base_uri": "https://localhost:8080/"
        },
        "id": "ZCSWc8F7zz6_",
        "outputId": "814cf3c6-0ab4-4871-815d-25a82941d954"
      },
      "execution_count": 84,
      "outputs": [
        {
          "output_type": "stream",
          "name": "stdout",
          "text": [
            "               Uncertainty of Mean Point Estimate               \n",
            "================================================================\n",
            "mean_point stderr_mean zstat  pvalue ci_mean_lower ci_mean_upper\n",
            "----------------------------------------------------------------\n",
            "    -0.003       0.036 -0.087  0.931        -0.062         0.055\n",
            "      Distribution of Point Estimate     \n",
            "=========================================\n",
            "std_point pct_point_lower pct_point_upper\n",
            "-----------------------------------------\n",
            "    0.019          -0.041           0.023\n",
            "     Total Variance of Point Estimate     \n",
            "==========================================\n",
            "stderr_point ci_point_lower ci_point_upper\n",
            "------------------------------------------\n",
            "       0.041          -0.07          0.057\n",
            "------------------------------------------\n",
            "\n",
            "Note: The stderr_mean is a conservative upper bound.\n"
          ]
        }
      ]
    },
    {
      "cell_type": "markdown",
      "source": [
        "### 21. Severe hypokalemia"
      ],
      "metadata": {
        "id": "4_dsb8Zu0ANM"
      }
    },
    {
      "cell_type": "code",
      "source": [
        "#Build a model\n",
        "Y_train = XTY_train[\"0_24_severe_hypokalemia\"].to_numpy()\n",
        "T_train = XTY_train[\"treated\"].to_numpy()\n",
        "X_train= XTY_train[W_columns].to_numpy().reshape(-1, 50)\n",
        "X_test = XTY_test[W_columns].to_numpy().reshape(-1, 50)"
      ],
      "metadata": {
        "id": "xsR-axZU0Dpa"
      },
      "execution_count": 85,
      "outputs": []
    },
    {
      "cell_type": "code",
      "source": [
        "cv = KFold(n_splits=3, shuffle=True, random_state=123)\n",
        "forestdrl = ForestDRLearner(model_regression=model_yta, model_propensity=model_ta, cv=3, min_samples_leaf=10, verbose=0, min_weight_fraction_leaf=.005, random_state=seed)\n",
        "forestdrl.fit(Y_train, T_train, X=X_train, cache_values=True)\n",
        "# Estimate treatment effects on test data\n",
        "forestdrl_te = forestdrl.effect(X_test)\n",
        "forestdrl_te_inference = forestdrl.effect_inference(X_test).population_summary(alpha=0.1, value=0, decimals=3, tol=0.001)\n",
        "print(forestdrl_te_inference)"
      ],
      "metadata": {
        "colab": {
          "base_uri": "https://localhost:8080/"
        },
        "id": "_myj1ssh0Jtd",
        "outputId": "29eb996d-a2ae-4e22-fb26-64f1752b631c"
      },
      "execution_count": 86,
      "outputs": [
        {
          "output_type": "stream",
          "name": "stdout",
          "text": [
            "               Uncertainty of Mean Point Estimate              \n",
            "===============================================================\n",
            "mean_point stderr_mean zstat pvalue ci_mean_lower ci_mean_upper\n",
            "---------------------------------------------------------------\n",
            "     0.004       0.012 0.341  0.733        -0.015         0.024\n",
            "      Distribution of Point Estimate     \n",
            "=========================================\n",
            "std_point pct_point_lower pct_point_upper\n",
            "-----------------------------------------\n",
            "    0.005          -0.002           0.011\n",
            "     Total Variance of Point Estimate     \n",
            "==========================================\n",
            "stderr_point ci_point_lower ci_point_upper\n",
            "------------------------------------------\n",
            "       0.013         -0.014          0.024\n",
            "------------------------------------------\n",
            "\n",
            "Note: The stderr_mean is a conservative upper bound.\n"
          ]
        }
      ]
    },
    {
      "cell_type": "markdown",
      "source": [
        "### 2.3 Hyperkalemia"
      ],
      "metadata": {
        "id": "z-s4NErJ0L93"
      }
    },
    {
      "cell_type": "code",
      "source": [
        "#Build a model\n",
        "Y_train = XTY_train[\"0_24_hyperkalemia\"].to_numpy()\n",
        "T_train = XTY_train[\"treated\"].to_numpy()\n",
        "X_train= XTY_train[W_columns].to_numpy().reshape(-1, 50)\n",
        "X_test = XTY_test[W_columns].to_numpy().reshape(-1, 50)"
      ],
      "metadata": {
        "id": "_OmEf2CX0Ql0"
      },
      "execution_count": 87,
      "outputs": []
    },
    {
      "cell_type": "code",
      "source": [
        "cv = KFold(n_splits=3, shuffle=True, random_state=123)\n",
        "forestdrl = ForestDRLearner(model_regression=model_yta, model_propensity=model_ta, cv=3, min_samples_leaf=10, verbose=0, min_weight_fraction_leaf=.005, random_state=seed)\n",
        "forestdrl.fit(Y_train, T_train, X=X_train, cache_values=True)\n",
        "# Estimate treatment effects on test data\n",
        "forestdrl_te = forestdrl.effect(X_test)\n",
        "forestdrl_te_inference = forestdrl.effect_inference(X_test).population_summary(alpha=0.1, value=0, decimals=3, tol=0.001)\n",
        "print(forestdrl_te_inference)"
      ],
      "metadata": {
        "colab": {
          "base_uri": "https://localhost:8080/"
        },
        "id": "Oy3fNV2I0Wqx",
        "outputId": "4f553f40-4329-421a-9abb-08319f5444f4"
      },
      "execution_count": 88,
      "outputs": [
        {
          "output_type": "stream",
          "name": "stdout",
          "text": [
            "               Uncertainty of Mean Point Estimate              \n",
            "===============================================================\n",
            "mean_point stderr_mean zstat pvalue ci_mean_lower ci_mean_upper\n",
            "---------------------------------------------------------------\n",
            "     0.005       0.017 0.287  0.774        -0.023         0.033\n",
            "      Distribution of Point Estimate     \n",
            "=========================================\n",
            "std_point pct_point_lower pct_point_upper\n",
            "-----------------------------------------\n",
            "     0.01          -0.007           0.022\n",
            "     Total Variance of Point Estimate     \n",
            "==========================================\n",
            "stderr_point ci_point_lower ci_point_upper\n",
            "------------------------------------------\n",
            "        0.02         -0.021          0.037\n",
            "------------------------------------------\n",
            "\n",
            "Note: The stderr_mean is a conservative upper bound.\n"
          ]
        }
      ]
    },
    {
      "cell_type": "markdown",
      "source": [
        "## 3. Time: 0-12 "
      ],
      "metadata": {
        "id": "yeFWf0Js2fPC"
      }
    },
    {
      "cell_type": "markdown",
      "source": [
        "### 3.1 Hypokalemia"
      ],
      "metadata": {
        "id": "pMa_9_rz0bu6"
      }
    },
    {
      "cell_type": "code",
      "source": [
        "#Only include patients that have an observation \n",
        "XTY = pd.read_csv(\"/content/XTY.csv\")\n",
        "XTY = XTY[XTY[\"0_12_min_k\"].notnull()]"
      ],
      "metadata": {
        "id": "2v82z-w50f7b"
      },
      "execution_count": 229,
      "outputs": []
    },
    {
      "cell_type": "code",
      "source": [
        "print(XTY.shape)"
      ],
      "metadata": {
        "colab": {
          "base_uri": "https://localhost:8080/"
        },
        "id": "B4GaxND1ER9p",
        "outputId": "b6dadace-7900-4277-f57f-8a3b64f611c9"
      },
      "execution_count": 230,
      "outputs": [
        {
          "output_type": "stream",
          "name": "stdout",
          "text": [
            "(3211, 151)\n"
          ]
        }
      ]
    },
    {
      "cell_type": "code",
      "source": [
        "XTY_train, XTY_test = train_test_split(XTY, test_size=0.2, random_state=123)"
      ],
      "metadata": {
        "id": "C1P_IHCC0lSm"
      },
      "execution_count": 90,
      "outputs": []
    },
    {
      "cell_type": "code",
      "source": [
        "print(XTY_train.shape)"
      ],
      "metadata": {
        "colab": {
          "base_uri": "https://localhost:8080/"
        },
        "id": "NxpHM6F00l4k",
        "outputId": "c9b8bf29-8413-4ee4-8221-6c79482b8f2e"
      },
      "execution_count": 91,
      "outputs": [
        {
          "output_type": "stream",
          "name": "stdout",
          "text": [
            "(2568, 151)\n"
          ]
        }
      ]
    },
    {
      "cell_type": "code",
      "source": [
        "#Build a model\n",
        "Y_train = XTY_train[\"0_12_hypokalemia\"].to_numpy()\n",
        "T_train = XTY_train[\"treated\"].to_numpy()\n",
        "X_train= XTY_train[W_columns].to_numpy().reshape(-1, 50)\n",
        "X_test = XTY_test[W_columns].to_numpy().reshape(-1, 50)"
      ],
      "metadata": {
        "id": "ylsaZ0Ek0o_U"
      },
      "execution_count": 92,
      "outputs": []
    },
    {
      "cell_type": "code",
      "source": [
        "cv = KFold(n_splits=3, shuffle=True, random_state=123)\n",
        "forestdrl = ForestDRLearner(model_regression=model_yta, model_propensity=model_ta, cv=3, min_samples_leaf=10, verbose=0, min_weight_fraction_leaf=.005, random_state=seed)\n",
        "forestdrl.fit(Y_train, T_train, X=X_train, cache_values=True)\n",
        "# Estimate treatment effects on test data\n",
        "forestdrl_te = forestdrl.effect(X_test)\n",
        "forestdrl_te_inference = forestdrl.effect_inference(X_test).population_summary(alpha=0.1, value=0, decimals=3, tol=0.001)\n",
        "print(forestdrl_te_inference)"
      ],
      "metadata": {
        "colab": {
          "base_uri": "https://localhost:8080/"
        },
        "id": "Tste7Ba91e7c",
        "outputId": "838ca272-d50d-495e-b2aa-e9b530305751"
      },
      "execution_count": 93,
      "outputs": [
        {
          "output_type": "stream",
          "name": "stdout",
          "text": [
            "               Uncertainty of Mean Point Estimate               \n",
            "================================================================\n",
            "mean_point stderr_mean zstat  pvalue ci_mean_lower ci_mean_upper\n",
            "----------------------------------------------------------------\n",
            "    -0.006       0.035 -0.163   0.87        -0.063         0.052\n",
            "      Distribution of Point Estimate     \n",
            "=========================================\n",
            "std_point pct_point_lower pct_point_upper\n",
            "-----------------------------------------\n",
            "    0.017          -0.032           0.027\n",
            "     Total Variance of Point Estimate     \n",
            "==========================================\n",
            "stderr_point ci_point_lower ci_point_upper\n",
            "------------------------------------------\n",
            "       0.039         -0.064          0.061\n",
            "------------------------------------------\n",
            "\n",
            "Note: The stderr_mean is a conservative upper bound.\n"
          ]
        }
      ]
    },
    {
      "cell_type": "markdown",
      "source": [
        "### 3.2 Severe hypokalemia"
      ],
      "metadata": {
        "id": "gSNrdUKj1iIz"
      }
    },
    {
      "cell_type": "code",
      "source": [
        "#Build a model\n",
        "Y_train = XTY_train[\"0_12_severe_hypokalemia\"].to_numpy()\n",
        "T_train = XTY_train[\"treated\"].to_numpy()\n",
        "X_train= XTY_train[W_columns].to_numpy().reshape(-1, 50)\n",
        "X_test = XTY_test[W_columns].to_numpy().reshape(-1, 50)"
      ],
      "metadata": {
        "id": "fv6WyRrj1mQw"
      },
      "execution_count": 94,
      "outputs": []
    },
    {
      "cell_type": "code",
      "source": [
        "cv = KFold(n_splits=3, shuffle=True, random_state=123)\n",
        "forestdrl = ForestDRLearner(model_regression=model_yta, model_propensity=model_ta, cv=3, min_samples_leaf=10, verbose=0, min_weight_fraction_leaf=.005, random_state=seed)\n",
        "forestdrl.fit(Y_train, T_train, X=X_train, cache_values=True)\n",
        "# Estimate treatment effects on test data\n",
        "forestdrl_te = forestdrl.effect(X_test)\n",
        "forestdrl_te_inference = forestdrl.effect_inference(X_test).population_summary(alpha=0.1, value=0, decimals=3, tol=0.001)\n",
        "print(forestdrl_te_inference)"
      ],
      "metadata": {
        "colab": {
          "base_uri": "https://localhost:8080/"
        },
        "id": "NTkm6wBN1p5w",
        "outputId": "657e20e9-a5b1-485a-db29-01f07d02e432"
      },
      "execution_count": 95,
      "outputs": [
        {
          "output_type": "stream",
          "name": "stdout",
          "text": [
            "               Uncertainty of Mean Point Estimate               \n",
            "================================================================\n",
            "mean_point stderr_mean zstat  pvalue ci_mean_lower ci_mean_upper\n",
            "----------------------------------------------------------------\n",
            "    -0.003       0.011 -0.252  0.801        -0.021         0.015\n",
            "      Distribution of Point Estimate     \n",
            "=========================================\n",
            "std_point pct_point_lower pct_point_upper\n",
            "-----------------------------------------\n",
            "    0.006          -0.012           0.006\n",
            "     Total Variance of Point Estimate     \n",
            "==========================================\n",
            "stderr_point ci_point_lower ci_point_upper\n",
            "------------------------------------------\n",
            "       0.012         -0.022          0.016\n",
            "------------------------------------------\n",
            "\n",
            "Note: The stderr_mean is a conservative upper bound.\n"
          ]
        }
      ]
    },
    {
      "cell_type": "markdown",
      "source": [
        "### 3.3 Hyperkalemia"
      ],
      "metadata": {
        "id": "dawdADuf1rov"
      }
    },
    {
      "cell_type": "code",
      "source": [
        "#Build a model\n",
        "Y_train = XTY_train[\"0_12_hyperkalemia\"].to_numpy()\n",
        "T_train = XTY_train[\"treated\"].to_numpy()\n",
        "X_train= XTY_train[W_columns].to_numpy().reshape(-1, 50)\n",
        "X_test = XTY_test[W_columns].to_numpy().reshape(-1, 50)"
      ],
      "metadata": {
        "id": "sUo_vZEt1w4l"
      },
      "execution_count": 96,
      "outputs": []
    },
    {
      "cell_type": "code",
      "source": [
        "cv = KFold(n_splits=3, shuffle=True, random_state=123)\n",
        "forestdrl = ForestDRLearner(model_regression=model_yta, model_propensity=model_ta, cv=3, min_samples_leaf=10, verbose=0, min_weight_fraction_leaf=.005, random_state=seed)\n",
        "forestdrl.fit(Y_train, T_train, X=X_train, cache_values=True)\n",
        "# Estimate treatment effects on test data\n",
        "forestdrl_te = forestdrl.effect(X_test)\n",
        "forestdrl_te_inference = forestdrl.effect_inference(X_test).population_summary(alpha=0.1, value=0, decimals=3, tol=0.001)\n",
        "print(forestdrl_te_inference)"
      ],
      "metadata": {
        "colab": {
          "base_uri": "https://localhost:8080/"
        },
        "id": "EZF7R-sA1z2s",
        "outputId": "e9037297-b0e2-419a-8995-c3db6228513f"
      },
      "execution_count": 97,
      "outputs": [
        {
          "output_type": "stream",
          "name": "stdout",
          "text": [
            "               Uncertainty of Mean Point Estimate              \n",
            "===============================================================\n",
            "mean_point stderr_mean zstat pvalue ci_mean_lower ci_mean_upper\n",
            "---------------------------------------------------------------\n",
            "     0.016        0.02 0.782  0.434        -0.018         0.049\n",
            "      Distribution of Point Estimate     \n",
            "=========================================\n",
            "std_point pct_point_lower pct_point_upper\n",
            "-----------------------------------------\n",
            "    0.023          -0.003           0.066\n",
            "     Total Variance of Point Estimate     \n",
            "==========================================\n",
            "stderr_point ci_point_lower ci_point_upper\n",
            "------------------------------------------\n",
            "       0.031         -0.014          0.074\n",
            "------------------------------------------\n",
            "\n",
            "Note: The stderr_mean is a conservative upper bound.\n"
          ]
        }
      ]
    },
    {
      "cell_type": "markdown",
      "source": [
        "## 4. Time: 0-6"
      ],
      "metadata": {
        "id": "djfFGPfD2srl"
      }
    },
    {
      "cell_type": "markdown",
      "source": [
        "### 4.1 Hypokalemia "
      ],
      "metadata": {
        "id": "t3YliUs-14--"
      }
    },
    {
      "cell_type": "code",
      "source": [
        "#Only include patients that have an observation \n",
        "XTY = pd.read_csv(\"/content/XTY.csv\")\n",
        "XTY = XTY[XTY[\"0_6_min_k\"].notnull()]"
      ],
      "metadata": {
        "id": "BuYGGtuK18SP"
      },
      "execution_count": 227,
      "outputs": []
    },
    {
      "cell_type": "code",
      "source": [
        "print(XTY.shape)"
      ],
      "metadata": {
        "colab": {
          "base_uri": "https://localhost:8080/"
        },
        "id": "IAkjYN_KD3PQ",
        "outputId": "c9a3a398-e550-4953-d3c8-34eaa485e050"
      },
      "execution_count": 228,
      "outputs": [
        {
          "output_type": "stream",
          "name": "stdout",
          "text": [
            "(1897, 151)\n"
          ]
        }
      ]
    },
    {
      "cell_type": "code",
      "source": [
        "XTY_train, XTY_test = train_test_split(XTY, test_size=0.2, random_state=123)"
      ],
      "metadata": {
        "id": "obbyY7ol139s"
      },
      "execution_count": 99,
      "outputs": []
    },
    {
      "cell_type": "code",
      "source": [
        "print(XTY_train.shape)"
      ],
      "metadata": {
        "colab": {
          "base_uri": "https://localhost:8080/"
        },
        "id": "rAltR_fv2ES1",
        "outputId": "55dd44cd-f57a-46a9-f89d-dffa6d997b93"
      },
      "execution_count": 100,
      "outputs": [
        {
          "output_type": "stream",
          "name": "stdout",
          "text": [
            "(1517, 151)\n"
          ]
        }
      ]
    },
    {
      "cell_type": "code",
      "source": [
        "#Build a model\n",
        "Y_train = XTY_train[\"0_6_hypokalemia\"].to_numpy()\n",
        "T_train = XTY_train[\"treated\"].to_numpy()\n",
        "X_train= XTY_train[W_columns].to_numpy().reshape(-1, 50)\n",
        "X_test = XTY_test[W_columns].to_numpy().reshape(-1, 50)"
      ],
      "metadata": {
        "id": "FX_4zB9S2HNd"
      },
      "execution_count": 101,
      "outputs": []
    },
    {
      "cell_type": "code",
      "source": [
        "cv = KFold(n_splits=3, shuffle=True, random_state=123)\n",
        "forestdrl = ForestDRLearner(model_regression=model_yta, model_propensity=model_ta, cv=3, min_samples_leaf=10, verbose=0, min_weight_fraction_leaf=.005, random_state=seed)\n",
        "forestdrl.fit(Y_train, T_train, X=X_train, cache_values=True)\n",
        "# Estimate treatment effects on test data\n",
        "forestdrl_te = forestdrl.effect(X_test)\n",
        "forestdrl_te_inference = forestdrl.effect_inference(X_test).population_summary(alpha=0.1, value=0, decimals=3, tol=0.001)\n",
        "print(forestdrl_te_inference)"
      ],
      "metadata": {
        "colab": {
          "base_uri": "https://localhost:8080/"
        },
        "id": "HunYP20s2LLr",
        "outputId": "c4e9190e-b244-4810-b69d-c840b9b338c8"
      },
      "execution_count": 102,
      "outputs": [
        {
          "output_type": "stream",
          "name": "stdout",
          "text": [
            "               Uncertainty of Mean Point Estimate              \n",
            "===============================================================\n",
            "mean_point stderr_mean zstat pvalue ci_mean_lower ci_mean_upper\n",
            "---------------------------------------------------------------\n",
            "     0.002       0.041 0.052  0.958        -0.065         0.069\n",
            "      Distribution of Point Estimate     \n",
            "=========================================\n",
            "std_point pct_point_lower pct_point_upper\n",
            "-----------------------------------------\n",
            "    0.038          -0.029           0.085\n",
            "     Total Variance of Point Estimate     \n",
            "==========================================\n",
            "stderr_point ci_point_lower ci_point_upper\n",
            "------------------------------------------\n",
            "       0.055          -0.06          0.098\n",
            "------------------------------------------\n",
            "\n",
            "Note: The stderr_mean is a conservative upper bound.\n"
          ]
        }
      ]
    },
    {
      "cell_type": "markdown",
      "source": [
        "### 4.2 Severe hypokalemia "
      ],
      "metadata": {
        "id": "nHlsOJBA2PdV"
      }
    },
    {
      "cell_type": "code",
      "source": [
        "#Build a model\n",
        "Y_train = XTY_train[\"0_6_severe_hypokalemia\"].to_numpy()\n",
        "T_train = XTY_train[\"treated\"].to_numpy()\n",
        "X_train= XTY_train[W_columns].to_numpy().reshape(-1, 50)\n",
        "X_test = XTY_test[W_columns].to_numpy().reshape(-1, 50)"
      ],
      "metadata": {
        "id": "GM7HErzr2b9D"
      },
      "execution_count": 103,
      "outputs": []
    },
    {
      "cell_type": "code",
      "source": [
        "cv = KFold(n_splits=3, shuffle=True, random_state=123)\n",
        "forestdrl = ForestDRLearner(model_regression=model_yta, model_propensity=model_ta, cv=3, min_samples_leaf=10, verbose=0, min_weight_fraction_leaf=.005, random_state=seed)\n",
        "forestdrl.fit(Y_train, T_train, X=X_train, cache_values=True)\n",
        "# Estimate treatment effects on test data\n",
        "forestdrl_te = forestdrl.effect(X_test)\n",
        "forestdrl_te_inference = forestdrl.effect_inference(X_test).population_summary(alpha=0.1, value=0, decimals=3, tol=0.001)\n",
        "print(forestdrl_te_inference)"
      ],
      "metadata": {
        "colab": {
          "base_uri": "https://localhost:8080/"
        },
        "id": "rdHlW_0T2iGT",
        "outputId": "6e83a985-f5d2-4f86-c083-78a17bf188e7"
      },
      "execution_count": 104,
      "outputs": [
        {
          "output_type": "stream",
          "name": "stdout",
          "text": [
            "               Uncertainty of Mean Point Estimate               \n",
            "================================================================\n",
            "mean_point stderr_mean zstat  pvalue ci_mean_lower ci_mean_upper\n",
            "----------------------------------------------------------------\n",
            "    -0.009       0.017 -0.543  0.587        -0.037         0.019\n",
            "      Distribution of Point Estimate     \n",
            "=========================================\n",
            "std_point pct_point_lower pct_point_upper\n",
            "-----------------------------------------\n",
            "     0.01          -0.027           0.005\n",
            "     Total Variance of Point Estimate     \n",
            "==========================================\n",
            "stderr_point ci_point_lower ci_point_upper\n",
            "------------------------------------------\n",
            "        0.02         -0.044          0.018\n",
            "------------------------------------------\n",
            "\n",
            "Note: The stderr_mean is a conservative upper bound.\n"
          ]
        }
      ]
    },
    {
      "cell_type": "markdown",
      "source": [
        "### 4.3 Hyperkalemia"
      ],
      "metadata": {
        "id": "iqemohB42j8t"
      }
    },
    {
      "cell_type": "code",
      "source": [
        "#Build a model\n",
        "Y_train = XTY_train[\"0_6_hyperkalemia\"].to_numpy()\n",
        "T_train = XTY_train[\"treated\"].to_numpy()\n",
        "X_train= XTY_train[W_columns].to_numpy().reshape(-1, 50)\n",
        "X_test = XTY_test[W_columns].to_numpy().reshape(-1, 50)"
      ],
      "metadata": {
        "id": "1QaJ9vh62ovV"
      },
      "execution_count": 105,
      "outputs": []
    },
    {
      "cell_type": "code",
      "source": [
        "cv = KFold(n_splits=3, shuffle=True, random_state=123)\n",
        "forestdrl = ForestDRLearner(model_regression=model_yta, model_propensity=model_ta, cv=3, min_samples_leaf=10, verbose=0, min_weight_fraction_leaf=.005, random_state=seed)\n",
        "forestdrl.fit(Y_train, T_train, X=X_train, cache_values=True)\n",
        "# Estimate treatment effects on test data\n",
        "forestdrl_te = forestdrl.effect(X_test)\n",
        "forestdrl_te_inference = forestdrl.effect_inference(X_test).population_summary(alpha=0.1, value=0, decimals=3, tol=0.001)\n",
        "print(forestdrl_te_inference)"
      ],
      "metadata": {
        "colab": {
          "base_uri": "https://localhost:8080/"
        },
        "id": "NFa37ylV2wAE",
        "outputId": "7b536ae4-9a2c-4204-c367-a3f04db0f1ed"
      },
      "execution_count": 106,
      "outputs": [
        {
          "output_type": "stream",
          "name": "stdout",
          "text": [
            "               Uncertainty of Mean Point Estimate              \n",
            "===============================================================\n",
            "mean_point stderr_mean zstat pvalue ci_mean_lower ci_mean_upper\n",
            "---------------------------------------------------------------\n",
            "     0.015       0.029 0.517  0.605        -0.033         0.063\n",
            "      Distribution of Point Estimate     \n",
            "=========================================\n",
            "std_point pct_point_lower pct_point_upper\n",
            "-----------------------------------------\n",
            "    0.033          -0.003           0.041\n",
            "     Total Variance of Point Estimate     \n",
            "==========================================\n",
            "stderr_point ci_point_lower ci_point_upper\n",
            "------------------------------------------\n",
            "       0.044         -0.023          0.064\n",
            "------------------------------------------\n",
            "\n",
            "Note: The stderr_mean is a conservative upper bound.\n"
          ]
        }
      ]
    },
    {
      "cell_type": "markdown",
      "source": [
        "## 5. Time: 0-3"
      ],
      "metadata": {
        "id": "8uKJQn-722Ov"
      }
    },
    {
      "cell_type": "markdown",
      "source": [
        "### 5.1 Hypokalemia "
      ],
      "metadata": {
        "id": "1Kuq7F0hJzsx"
      }
    },
    {
      "cell_type": "code",
      "source": [
        "#Only include patients that have an observation \n",
        "XTY = pd.read_csv(\"/content/XTY.csv\")\n",
        "XTY = XTY[XTY[\"0_3_min_k\"].notnull()]"
      ],
      "metadata": {
        "id": "O9inuBf6R2eI"
      },
      "execution_count": 10,
      "outputs": []
    },
    {
      "cell_type": "code",
      "source": [
        "print(XTY.shape)"
      ],
      "metadata": {
        "colab": {
          "base_uri": "https://localhost:8080/"
        },
        "id": "EX6QbeDDSVqB",
        "outputId": "b1499d48-927b-4b04-e545-a592d1b19e49"
      },
      "execution_count": 11,
      "outputs": [
        {
          "output_type": "stream",
          "name": "stdout",
          "text": [
            "(1173, 167)\n"
          ]
        }
      ]
    },
    {
      "cell_type": "code",
      "source": [
        "XTY_train, XTY_test = train_test_split(XTY, test_size=0.2, random_state=123)"
      ],
      "metadata": {
        "id": "Ws-bVEpRSY37"
      },
      "execution_count": 12,
      "outputs": []
    },
    {
      "cell_type": "code",
      "source": [
        "#Build a model\n",
        "Y_train = XTY_train[\"0_3_hypokalemia\"].to_numpy()\n",
        "T_train = XTY_train[\"treated\"].to_numpy()\n",
        "X_train= XTY_train[W_columns].to_numpy().reshape(-1, 50)\n",
        "X_test = XTY_test[W_columns].to_numpy().reshape(-1, 50)"
      ],
      "metadata": {
        "id": "JZueEbptSdHC"
      },
      "execution_count": 15,
      "outputs": []
    },
    {
      "cell_type": "code",
      "source": [
        "cv = KFold(n_splits=3, shuffle=True, random_state=123)\n",
        "forestdrl = ForestDRLearner(model_regression=model_yta, model_propensity=model_ta, cv=3, min_samples_leaf=10, verbose=0, min_weight_fraction_leaf=.005, random_state=seed)\n",
        "forestdrl.fit(Y_train, T_train, X=X_train, cache_values=True)\n",
        "# Estimate treatment effects on test data\n",
        "forestdrl_te = forestdrl.effect(X_test)\n",
        "forestdrl_te_inference = forestdrl.effect_inference(X_test).population_summary(alpha=0.1, value=0, decimals=3, tol=0.001)\n",
        "print(forestdrl_te_inference)"
      ],
      "metadata": {
        "colab": {
          "base_uri": "https://localhost:8080/"
        },
        "id": "Jf6sgVCWSiql",
        "outputId": "3ee6379e-d03d-4b23-a18f-8741cf768d20"
      },
      "execution_count": 16,
      "outputs": [
        {
          "output_type": "stream",
          "name": "stdout",
          "text": [
            "               Uncertainty of Mean Point Estimate               \n",
            "================================================================\n",
            "mean_point stderr_mean zstat  pvalue ci_mean_lower ci_mean_upper\n",
            "----------------------------------------------------------------\n",
            "    -0.065        0.07 -0.921  0.357         -0.18         0.051\n",
            "      Distribution of Point Estimate     \n",
            "=========================================\n",
            "std_point pct_point_lower pct_point_upper\n",
            "-----------------------------------------\n",
            "    0.035          -0.145          -0.024\n",
            "     Total Variance of Point Estimate     \n",
            "==========================================\n",
            "stderr_point ci_point_lower ci_point_upper\n",
            "------------------------------------------\n",
            "       0.079         -0.202          0.054\n",
            "------------------------------------------\n",
            "\n",
            "Note: The stderr_mean is a conservative upper bound.\n"
          ]
        }
      ]
    },
    {
      "cell_type": "markdown",
      "source": [
        "### 5.2 Severe hypokalemia "
      ],
      "metadata": {
        "id": "PNXVc0_zSpUC"
      }
    },
    {
      "cell_type": "code",
      "source": [
        "#Build a model\n",
        "Y_train = XTY_train[\"0_3_severe_hypokalemia\"].to_numpy()\n",
        "T_train = XTY_train[\"treated\"].to_numpy()\n",
        "X_train= XTY_train[W_columns].to_numpy().reshape(-1, 50)\n",
        "X_test = XTY_test[W_columns].to_numpy().reshape(-1, 50)"
      ],
      "metadata": {
        "id": "HFcYjd1fSszn"
      },
      "execution_count": 18,
      "outputs": []
    },
    {
      "cell_type": "code",
      "source": [
        "cv = KFold(n_splits=3, shuffle=True, random_state=123)\n",
        "forestdrl = ForestDRLearner(model_regression=model_yta, model_propensity=model_ta, cv=3, min_samples_leaf=10, verbose=0, min_weight_fraction_leaf=.005, random_state=seed)\n",
        "forestdrl.fit(Y_train, T_train, X=X_train, cache_values=True)\n",
        "# Estimate treatment effects on test data\n",
        "forestdrl_te = forestdrl.effect(X_test)\n",
        "forestdrl_te_inference = forestdrl.effect_inference(X_test).population_summary(alpha=0.1, value=0, decimals=3, tol=0.001)\n",
        "print(forestdrl_te_inference)"
      ],
      "metadata": {
        "colab": {
          "base_uri": "https://localhost:8080/"
        },
        "id": "nf8yOCFhSx_6",
        "outputId": "c131d91d-4c6f-4880-972a-5cb0f0f6a4ef"
      },
      "execution_count": 19,
      "outputs": [
        {
          "output_type": "stream",
          "name": "stdout",
          "text": [
            "               Uncertainty of Mean Point Estimate               \n",
            "================================================================\n",
            "mean_point stderr_mean zstat  pvalue ci_mean_lower ci_mean_upper\n",
            "----------------------------------------------------------------\n",
            "    -0.023       0.038 -0.594  0.552        -0.085          0.04\n",
            "      Distribution of Point Estimate     \n",
            "=========================================\n",
            "std_point pct_point_lower pct_point_upper\n",
            "-----------------------------------------\n",
            "    0.022          -0.063           0.004\n",
            "     Total Variance of Point Estimate     \n",
            "==========================================\n",
            "stderr_point ci_point_lower ci_point_upper\n",
            "------------------------------------------\n",
            "       0.044         -0.104          0.032\n",
            "------------------------------------------\n",
            "\n",
            "Note: The stderr_mean is a conservative upper bound.\n"
          ]
        }
      ]
    },
    {
      "cell_type": "markdown",
      "source": [
        "### 5.3 Hyperkalemia"
      ],
      "metadata": {
        "id": "SROqG9tsS5V9"
      }
    },
    {
      "cell_type": "code",
      "source": [
        "#Build a model\n",
        "Y_train = XTY_train[\"0_3_hyperkalemia\"].to_numpy()\n",
        "T_train = XTY_train[\"treated\"].to_numpy()\n",
        "X_train= XTY_train[W_columns].to_numpy().reshape(-1, 50)\n",
        "X_test = XTY_test[W_columns].to_numpy().reshape(-1, 50)"
      ],
      "metadata": {
        "id": "iyuV_qyrS8i3"
      },
      "execution_count": 20,
      "outputs": []
    },
    {
      "cell_type": "code",
      "source": [
        "cv = KFold(n_splits=3, shuffle=True, random_state=123)\n",
        "forestdrl = ForestDRLearner(model_regression=model_yta, model_propensity=model_ta, cv=3, min_samples_leaf=10, verbose=0, min_weight_fraction_leaf=.005, random_state=seed)\n",
        "forestdrl.fit(Y_train, T_train, X=X_train, cache_values=True)\n",
        "# Estimate treatment effects on test data\n",
        "forestdrl_te = forestdrl.effect(X_test)\n",
        "forestdrl_te_inference = forestdrl.effect_inference(X_test).population_summary(alpha=0.1, value=0, decimals=3, tol=0.001)\n",
        "print(forestdrl_te_inference)"
      ],
      "metadata": {
        "colab": {
          "base_uri": "https://localhost:8080/"
        },
        "id": "H5rUcOpbTDau",
        "outputId": "996fb8be-e716-4479-8c28-c5224c86fb8c"
      },
      "execution_count": 21,
      "outputs": [
        {
          "output_type": "stream",
          "name": "stdout",
          "text": [
            "               Uncertainty of Mean Point Estimate              \n",
            "===============================================================\n",
            "mean_point stderr_mean zstat pvalue ci_mean_lower ci_mean_upper\n",
            "---------------------------------------------------------------\n",
            "     0.041       0.047 0.856  0.392        -0.037         0.119\n",
            "      Distribution of Point Estimate     \n",
            "=========================================\n",
            "std_point pct_point_lower pct_point_upper\n",
            "-----------------------------------------\n",
            "    0.066           0.001            0.13\n",
            "     Total Variance of Point Estimate     \n",
            "==========================================\n",
            "stderr_point ci_point_lower ci_point_upper\n",
            "------------------------------------------\n",
            "       0.081         -0.025          0.147\n",
            "------------------------------------------\n",
            "\n",
            "Note: The stderr_mean is a conservative upper bound.\n"
          ]
        }
      ]
    },
    {
      "cell_type": "markdown",
      "source": [
        "## 6. Time: 0-2"
      ],
      "metadata": {
        "id": "yTizCKiU2-5d"
      }
    },
    {
      "cell_type": "markdown",
      "source": [
        "### 6.1 Hypokalemia "
      ],
      "metadata": {
        "id": "E7501zPUcspU"
      }
    },
    {
      "cell_type": "code",
      "source": [
        "#Only include patients that have an observation \n",
        "XTY = pd.read_csv(\"/content/XTY.csv\")\n",
        "XTY = XTY[XTY[\"0_2_min_k\"].notnull()]"
      ],
      "metadata": {
        "id": "Y114c85Wcz33"
      },
      "execution_count": 63,
      "outputs": []
    },
    {
      "cell_type": "code",
      "source": [
        "print(XTY.shape)"
      ],
      "metadata": {
        "colab": {
          "base_uri": "https://localhost:8080/"
        },
        "id": "SCwN_lJrc4OI",
        "outputId": "f90a1c45-b954-4260-a50d-2d2c3cbb68db"
      },
      "execution_count": 64,
      "outputs": [
        {
          "output_type": "stream",
          "name": "stdout",
          "text": [
            "(920, 199)\n"
          ]
        }
      ]
    },
    {
      "cell_type": "code",
      "source": [
        "XTY_train, XTY_test = train_test_split(XTY, test_size=0.2, random_state=123)"
      ],
      "metadata": {
        "id": "EbBmeWYuc9RA"
      },
      "execution_count": 65,
      "outputs": []
    },
    {
      "cell_type": "code",
      "source": [
        "#Build a model\n",
        "Y_train = XTY_train[\"0_2_hypokalemia\"].to_numpy()\n",
        "T_train = XTY_train[\"treated\"].to_numpy()\n",
        "X_train= XTY_train[W_columns].to_numpy().reshape(-1, 50)\n",
        "X_test = XTY_test[W_columns].to_numpy().reshape(-1, 50)"
      ],
      "metadata": {
        "id": "DnDYRz2adBEk"
      },
      "execution_count": 66,
      "outputs": []
    },
    {
      "cell_type": "code",
      "source": [
        "cv = KFold(n_splits=3, shuffle=True, random_state=123)\n",
        "forestdrl = ForestDRLearner(model_regression=model_yta, model_propensity=model_ta, cv=3, min_samples_leaf=10, verbose=0, min_weight_fraction_leaf=.005, random_state=seed)\n",
        "forestdrl.fit(Y_train, T_train, X=X_train, cache_values=True)\n",
        "# Estimate treatment effects on test data\n",
        "forestdrl_te = forestdrl.effect(X_test)\n",
        "forestdrl_te_inference = forestdrl.effect_inference(X_test).population_summary(alpha=0.1, value=0, decimals=3, tol=0.001)\n",
        "print(forestdrl_te_inference)"
      ],
      "metadata": {
        "colab": {
          "base_uri": "https://localhost:8080/"
        },
        "id": "IplUWHHedEu2",
        "outputId": "31a3536b-532e-4924-dbdf-ddcaf85ff6d8"
      },
      "execution_count": 67,
      "outputs": [
        {
          "output_type": "stream",
          "name": "stdout",
          "text": [
            "               Uncertainty of Mean Point Estimate               \n",
            "================================================================\n",
            "mean_point stderr_mean zstat  pvalue ci_mean_lower ci_mean_upper\n",
            "----------------------------------------------------------------\n",
            "    -0.008        0.06 -0.135  0.893        -0.107         0.091\n",
            "      Distribution of Point Estimate     \n",
            "=========================================\n",
            "std_point pct_point_lower pct_point_upper\n",
            "-----------------------------------------\n",
            "     0.02          -0.037           0.026\n",
            "     Total Variance of Point Estimate     \n",
            "==========================================\n",
            "stderr_point ci_point_lower ci_point_upper\n",
            "------------------------------------------\n",
            "       0.063         -0.106          0.096\n",
            "------------------------------------------\n",
            "\n",
            "Note: The stderr_mean is a conservative upper bound.\n"
          ]
        }
      ]
    },
    {
      "cell_type": "markdown",
      "source": [
        "### 6.2 Severe hypokalemia"
      ],
      "metadata": {
        "id": "rTV9kWi_dJuT"
      }
    },
    {
      "cell_type": "code",
      "source": [
        "#Build a model\n",
        "Y_train = XTY_train[\"0_2_severe_hypokalemia\"].to_numpy()\n",
        "T_train = XTY_train[\"treated\"].to_numpy()\n",
        "X_train= XTY_train[W_columns].to_numpy().reshape(-1, 50)\n",
        "X_test = XTY_test[W_columns].to_numpy().reshape(-1, 50)"
      ],
      "metadata": {
        "id": "pK59cEa0dM8U"
      },
      "execution_count": 68,
      "outputs": []
    },
    {
      "cell_type": "code",
      "source": [
        "cv = KFold(n_splits=3, shuffle=True, random_state=123)\n",
        "forestdrl = ForestDRLearner(model_regression=model_yta, model_propensity=model_ta, cv=3, min_samples_leaf=10, verbose=0, min_weight_fraction_leaf=.005, random_state=seed)\n",
        "forestdrl.fit(Y_train, T_train, X=X_train, cache_values=True)\n",
        "# Estimate treatment effects on test data\n",
        "forestdrl_te = forestdrl.effect(X_test)\n",
        "forestdrl_te_inference = forestdrl.effect_inference(X_test).population_summary(alpha=0.1, value=0, decimals=3, tol=0.001)\n",
        "print(forestdrl_te_inference)"
      ],
      "metadata": {
        "colab": {
          "base_uri": "https://localhost:8080/"
        },
        "id": "7IXIvUfKdSBK",
        "outputId": "d4c21913-ea43-42ab-a616-875d956781cc"
      },
      "execution_count": 69,
      "outputs": [
        {
          "output_type": "stream",
          "name": "stdout",
          "text": [
            "               Uncertainty of Mean Point Estimate              \n",
            "===============================================================\n",
            "mean_point stderr_mean zstat pvalue ci_mean_lower ci_mean_upper\n",
            "---------------------------------------------------------------\n",
            "       0.0       0.016 0.014  0.989        -0.027         0.027\n",
            "      Distribution of Point Estimate     \n",
            "=========================================\n",
            "std_point pct_point_lower pct_point_upper\n",
            "-----------------------------------------\n",
            "    0.009          -0.016           0.013\n",
            "     Total Variance of Point Estimate     \n",
            "==========================================\n",
            "stderr_point ci_point_lower ci_point_upper\n",
            "------------------------------------------\n",
            "       0.019         -0.032          0.027\n",
            "------------------------------------------\n",
            "\n",
            "Note: The stderr_mean is a conservative upper bound.\n"
          ]
        }
      ]
    },
    {
      "cell_type": "markdown",
      "source": [
        "### 6.3 Hyperkalemia "
      ],
      "metadata": {
        "id": "pHFLctt9dWKA"
      }
    },
    {
      "cell_type": "code",
      "source": [
        "#Build a model\n",
        "Y_train = XTY_train[\"0_2_hyperkalemia\"].to_numpy()\n",
        "T_train = XTY_train[\"treated\"].to_numpy()\n",
        "X_train= XTY_train[W_columns].to_numpy().reshape(-1, 50)\n",
        "X_test = XTY_test[W_columns].to_numpy().reshape(-1, 50)"
      ],
      "metadata": {
        "id": "Oqu4GfixdZcN"
      },
      "execution_count": 70,
      "outputs": []
    },
    {
      "cell_type": "code",
      "source": [
        "cv = KFold(n_splits=3, shuffle=True, random_state=123)\n",
        "forestdrl = ForestDRLearner(model_regression=model_yta, model_propensity=model_ta, cv=3, min_samples_leaf=10, verbose=0, min_weight_fraction_leaf=.005, random_state=seed)\n",
        "forestdrl.fit(Y_train, T_train, X=X_train, cache_values=True)\n",
        "# Estimate treatment effects on test data\n",
        "forestdrl_te = forestdrl.effect(X_test)\n",
        "forestdrl_te_inference = forestdrl.effect_inference(X_test).population_summary(alpha=0.1, value=0, decimals=3, tol=0.001)\n",
        "print(forestdrl_te_inference)"
      ],
      "metadata": {
        "colab": {
          "base_uri": "https://localhost:8080/"
        },
        "id": "P_FoFAN6ddOD",
        "outputId": "cc122138-b632-4d1f-9d38-f34978b1d49a"
      },
      "execution_count": 71,
      "outputs": [
        {
          "output_type": "stream",
          "name": "stdout",
          "text": [
            "               Uncertainty of Mean Point Estimate              \n",
            "===============================================================\n",
            "mean_point stderr_mean zstat pvalue ci_mean_lower ci_mean_upper\n",
            "---------------------------------------------------------------\n",
            "     0.031       0.036 0.862  0.389        -0.028         0.091\n",
            "      Distribution of Point Estimate     \n",
            "=========================================\n",
            "std_point pct_point_lower pct_point_upper\n",
            "-----------------------------------------\n",
            "    0.022           0.007           0.079\n",
            "     Total Variance of Point Estimate     \n",
            "==========================================\n",
            "stderr_point ci_point_lower ci_point_upper\n",
            "------------------------------------------\n",
            "       0.042          -0.03          0.108\n",
            "------------------------------------------\n",
            "\n",
            "Note: The stderr_mean is a conservative upper bound.\n"
          ]
        }
      ]
    },
    {
      "cell_type": "markdown",
      "source": [
        "## 7. Interpret with SHAP values"
      ],
      "metadata": {
        "id": "UdwdkK32YhP-"
      }
    },
    {
      "cell_type": "code",
      "source": [
        "shap_values = forestdrl.shap_values(X_test)"
      ],
      "metadata": {
        "colab": {
          "base_uri": "https://localhost:8080/"
        },
        "id": "SBrRFBZfYrJJ",
        "outputId": "eff86fe4-6c48-4ddf-f14a-84980f06a8bb"
      },
      "execution_count": null,
      "outputs": [
        {
          "output_type": "stream",
          "name": "stderr",
          "text": [
            "100%|===================| 1009/1011 [02:01<00:00]       "
          ]
        }
      ]
    },
    {
      "cell_type": "code",
      "source": [
        "shap.summary_plot(shap_values['Y0']['T0_1'])\n",
        "plt.show()"
      ],
      "metadata": {
        "colab": {
          "base_uri": "https://localhost:8080/",
          "height": 581
        },
        "id": "8Rcu605EYkl1",
        "outputId": "18303a58-778b-449b-b837-23ce49fa6937"
      },
      "execution_count": null,
      "outputs": [
        {
          "output_type": "display_data",
          "data": {
            "text/plain": [
              "<Figure size 576x684 with 2 Axes>"
            ],
            "image/png": "[encoded data removed]"
          },
          "metadata": {
            "needs_background": "light"
          }
        }
      ]
    },
    {
      "cell_type": "code",
      "source": [],
      "metadata": {
        "id": "yN2tmBXo44Ib"
      },
      "execution_count": null,
      "outputs": []
    },
    {
      "cell_type": "markdown",
      "source": [
        "# (A) Continuous outcomes "
      ],
      "metadata": {
        "id": "AZ7Mi0RUogdq"
      }
    },
    {
      "cell_type": "markdown",
      "source": [
        "## 1. Time: 0-48 "
      ],
      "metadata": {
        "id": "FxCIGlKN5Ovg"
      }
    },
    {
      "cell_type": "markdown",
      "source": [
        "### 1.1 Min outcome serum potassium "
      ],
      "metadata": {
        "id": "hgAotaaQ5jBu"
      }
    },
    {
      "cell_type": "markdown",
      "source": [
        "*The* confidence interval includes zero ==> the treatment effect might not be statistically significant "
      ],
      "metadata": {
        "id": "iW6ydRphJvPu"
      }
    },
    {
      "cell_type": "code",
      "source": [
        "W_columns = ['sequence_icu','sequence_hadm', 'diff_intime_admittime_day', 'male', 'age', 'weight', 'admission_type_emergency', 'adm_med', 'adm_surg', 'careunit_MICU/SICU', 'careunit_CVICU', 'careunit_TSICU', 'careunit_CCU', \n",
        "                    'bun', 'cl', 'crea_pre', 'glu', 'mg', 'k_pre', 'na', 'plt', 'urine', 'o2sat', 'resp', 'hr', 'map', 'temp','antiplatelet','beta_agonist', 'beta_blocker', 'cort', 'dex',\n",
        "                     'furosemide', 'h2_antagonist', 'heparinoid', 'ins', 'k_supp', 'lax', 'nsaid','vaso_ind', 'coag', 'copd', 'depress', 'dm', 'hypothy', 'liver', 'htn', 'valve', 'mech_vent_invasive','supp_o2']"
      ],
      "metadata": {
        "id": "m2Muk-JhcPIN"
      },
      "execution_count": 385,
      "outputs": []
    },
    {
      "cell_type": "code",
      "source": [
        "len(W_columns)"
      ],
      "metadata": {
        "colab": {
          "base_uri": "https://localhost:8080/",
          "height": 37
        },
        "id": "OBrz-iLtjM0Z",
        "outputId": "2dc3f6cb-db6c-479e-fe30-88aee0fdbd39"
      },
      "execution_count": 386,
      "outputs": [
        {
          "output_type": "execute_result",
          "data": {
            "text/plain": [
              "50"
            ],
            "text/latex": "$\\displaystyle 50$"
          },
          "metadata": {},
          "execution_count": 386
        }
      ]
    },
    {
      "cell_type": "code",
      "source": [
        "XTY = pd.read_csv(\"/content/XTY.csv\")\n",
        "XTY_train = pd.read_csv(\"/content/XTY_train.csv\")\n",
        "XTY_test = pd.read_csv(\"/content/XTY_test.csv\")\n",
        "\n",
        "#(1.2) Build a model\n",
        "Y_train = XTY_train[\"0_48_min_k\"].to_numpy()\n",
        "T_train = XTY_train[\"treated\"].to_numpy()\n",
        "#W_train= XTY_train[W_columns].to_numpy().reshape(-1, 50)\n",
        "X_train= XTY_train[W_columns].to_numpy().reshape(-1, 50)\n",
        "X_test = XTY_test[W_columns].to_numpy().reshape(-1, 50)"
      ],
      "metadata": {
        "id": "D0IbJmnyLlJq"
      },
      "execution_count": 387,
      "outputs": []
    },
    {
      "cell_type": "code",
      "source": [
        "cv = KFold(n_splits=3, shuffle=True, random_state=123)\n",
        "forestdrl = ForestDRLearner(model_regression=model_ytb, model_propensity=model_tb, cv=cv, min_samples_leaf=10, verbose=0, min_weight_fraction_leaf=.005, random_state=123)\n",
        "forestdrl.fit(Y_train, T_train, X=X_train,cache_values=True)\n",
        "# Estimate treatment effects on test data\n",
        "forestdrl_te = forestdrl.effect(X_test)\n",
        "lb, ub = forestdrl.effect_interval(X_test, alpha=0.1)\n",
        "forestdrl_te_inference = forestdrl.effect_inference(X_test).population_summary(alpha=0.1, value=0, decimals=3, tol=0.001)\n",
        "print(forestdrl_te_inference)"
      ],
      "metadata": {
        "colab": {
          "base_uri": "https://localhost:8080/"
        },
        "id": "4Jq00DP7oj-L",
        "outputId": "9a79e7e8-e8fb-42f0-aa1c-20b3ce2eccff"
      },
      "execution_count": 388,
      "outputs": [
        {
          "output_type": "stream",
          "name": "stdout",
          "text": [
            "               Uncertainty of Mean Point Estimate              \n",
            "===============================================================\n",
            "mean_point stderr_mean zstat pvalue ci_mean_lower ci_mean_upper\n",
            "---------------------------------------------------------------\n",
            "     0.023       0.046 0.503  0.615        -0.053           0.1\n",
            "      Distribution of Point Estimate     \n",
            "=========================================\n",
            "std_point pct_point_lower pct_point_upper\n",
            "-----------------------------------------\n",
            "    0.021          -0.007           0.059\n",
            "     Total Variance of Point Estimate     \n",
            "==========================================\n",
            "stderr_point ci_point_lower ci_point_upper\n",
            "------------------------------------------\n",
            "       0.051         -0.056          0.108\n",
            "------------------------------------------\n",
            "\n",
            "Note: The stderr_mean is a conservative upper bound.\n"
          ]
        }
      ]
    },
    {
      "cell_type": "markdown",
      "source": [
        "#### ATE by feature"
      ],
      "metadata": {
        "id": "t98VWfm4B4oe"
      }
    },
    {
      "cell_type": "code",
      "source": [
        "#ATE by feature \n",
        "ATE_by_feature = []\n",
        "inference_results = []\n",
        "\n",
        "\n",
        "for i in range(X_train.shape[1]):\n",
        "    # Create the current feature (T) and confounders (W) matrices\n",
        "    X_train_T = X_train[:, i].reshape(-1, 1)\n",
        "    X_train_W = np.delete(X_train, i, axis=1)\n",
        "    X_test_T = X_test[:, i].reshape(-1, 1)\n",
        "    X_test_W = np.delete(X_test, i, axis=1)\n",
        "    \n",
        "    # Fit the ForestDRLearner using the current feature and confounders\n",
        "    forestdrl.fit(Y_train, T_train, X=X_train_T#, W=X_train_W\n",
        "                  )\n",
        "    \n",
        "    # Calculate the ATE for the current feature\n",
        "    ATE = forestdrl.ate(X_test_T)\n",
        "    \n",
        "    # Store the ATE value\n",
        "    ATE_by_feature.append(ATE)\n",
        "\n",
        "    # Calculate p-value for the ATE\n",
        "    ATE_inf = forestdrl.ate_inference(X_test_T)\n",
        "\n",
        "    # Store the p-value\n",
        "    inference_results.append(ATE_inf)\n",
        "\n",
        "ATE_by_feature = np.array(ATE_by_feature)"
      ],
      "metadata": {
        "id": "I-6nrof_9P4d"
      },
      "execution_count": 390,
      "outputs": []
    },
    {
      "cell_type": "code",
      "source": [
        "ATE_by_feature_10 = ATE_by_feature[0:10]\n",
        "print(ATE_by_feature)"
      ],
      "metadata": {
        "colab": {
          "base_uri": "https://localhost:8080/"
        },
        "id": "H11Y0e-81O31",
        "outputId": "0472390f-0718-410c-9b34-4a7bac2e4cbf"
      },
      "execution_count": 393,
      "outputs": [
        {
          "output_type": "stream",
          "name": "stdout",
          "text": [
            "[0.07871008 0.06588855 0.06711938 0.05850099 0.057098   0.06485233\n",
            " 0.06116625 0.05983359 0.05918303 0.03945226 0.02687843 0.05893018\n",
            " 0.06254669 0.04898787 0.05597822 0.05733605 0.04457572 0.03894605\n",
            " 0.01807604 0.06487519 0.06744929 0.05765375 0.05279349 0.06779145\n",
            " 0.04765059 0.06054514 0.05450671 0.06346223 0.05608526 0.05409461\n",
            " 0.0620373  0.06033032 0.05439177 0.05787908 0.06237116 0.04184905\n",
            " 0.05921424 0.05273822 0.05720403 0.06105684 0.05907399 0.0621613\n",
            " 0.0636899  0.0681014  0.06157048 0.05965916 0.0569421  0.06232965\n",
            " 0.06068262 0.06515652]\n"
          ]
        }
      ]
    },
    {
      "cell_type": "code",
      "source": [
        "print(inference_results[0])"
      ],
      "metadata": {
        "colab": {
          "base_uri": "https://localhost:8080/"
        },
        "id": "nMvEofq90zyd",
        "outputId": "1bebc153-5e62-44cb-d0f8-b76dff4bb68f"
      },
      "execution_count": 392,
      "outputs": [
        {
          "output_type": "stream",
          "name": "stdout",
          "text": [
            "               Uncertainty of Mean Point Estimate              \n",
            "===============================================================\n",
            "mean_point stderr_mean zstat pvalue ci_mean_lower ci_mean_upper\n",
            "---------------------------------------------------------------\n",
            "     0.079       0.022 3.661    0.0         0.037         0.121\n",
            "      Distribution of Point Estimate     \n",
            "=========================================\n",
            "std_point pct_point_lower pct_point_upper\n",
            "-----------------------------------------\n",
            "    0.033          -0.043           0.089\n",
            "     Total Variance of Point Estimate     \n",
            "==========================================\n",
            "stderr_point ci_point_lower ci_point_upper\n",
            "------------------------------------------\n",
            "       0.039         -0.045          0.125\n",
            "------------------------------------------\n",
            "\n",
            "Note: The stderr_mean is a conservative upper bound.\n"
          ]
        }
      ]
    },
    {
      "cell_type": "code",
      "source": [
        "W_columns_10 = W_columns[0:10]\n",
        "print(W_columns_10)"
      ],
      "metadata": {
        "colab": {
          "base_uri": "https://localhost:8080/"
        },
        "id": "IpHYaEJc1ko8",
        "outputId": "6e3e2ce8-973d-4b8a-d96c-47d18333144c"
      },
      "execution_count": 394,
      "outputs": [
        {
          "output_type": "stream",
          "name": "stdout",
          "text": [
            "['sequence_icu', 'sequence_hadm', 'diff_intime_admittime_day', 'male', 'age', 'weight', 'admission_type_emergency', 'adm_med', 'adm_surg', 'careunit_MICU/SICU']\n"
          ]
        }
      ]
    },
    {
      "cell_type": "code",
      "source": [
        "plt.figure(figsize=(12, 6))\n",
        "plt.plot(W_columns_10, ATE_by_feature_10, 'o')\n",
        "plt.xlabel(\"Features\")\n",
        "plt.ylabel(\"ATE Values\")\n",
        "plt.title(\"Directed causal effect\")\n",
        "plt.xticks(rotation=45)\n",
        "plt.axhline(y=0.023, linestyle='--', color='red')  # Add a dashed horizontal line\n",
        "plt.show()"
      ],
      "metadata": {
        "colab": {
          "base_uri": "https://localhost:8080/",
          "height": 500
        },
        "id": "LCoyVj2PXw9O",
        "outputId": "792653e6-c26b-49fa-e8e0-80d38d2badf5"
      },
      "execution_count": 395,
      "outputs": [
        {
          "output_type": "display_data",
          "data": {
            "text/plain": [
              "<Figure size 864x432 with 1 Axes>"
            ],
            "image/png": "[encoded data removed]"
          },
          "metadata": {
            "needs_background": "light"
          }
        }
      ]
    },
    {
      "cell_type": "code",
      "source": [],
      "metadata": {
        "id": "hRlLTrPiX_gD"
      },
      "execution_count": null,
      "outputs": []
    },
    {
      "cell_type": "code",
      "source": [],
      "metadata": {
        "id": "XtgE_dlaXXUS"
      },
      "execution_count": null,
      "outputs": []
    },
    {
      "cell_type": "markdown",
      "source": [
        "#### Performance visualization "
      ],
      "metadata": {
        "id": "MFUV7EqyHg7v"
      }
    },
    {
      "cell_type": "code",
      "source": [
        "print(forestdrl_te)"
      ],
      "metadata": {
        "colab": {
          "base_uri": "https://localhost:8080/"
        },
        "id": "SpxiUO5lIvOw",
        "outputId": "71748414-db76-4b77-c8ff-2f6a3b794b2e"
      },
      "execution_count": 229,
      "outputs": [
        {
          "output_type": "stream",
          "name": "stdout",
          "text": [
            "[0.03544136 0.03105724 0.01560737 ... 0.01005958 0.04512881 0.04364424]\n"
          ]
        }
      ]
    },
    {
      "cell_type": "code",
      "source": [
        "W_columns = ['sequence_icu', 'sequence_hadm', 'diff_intime_admittime_day', 'male', 'age', 'weight', 'admission_type_emergency', 'adm_med', 'adm_surg', 'careunit_MICU/SICU', 'careunit_CVICU', 'careunit_TSICU', 'careunit_CCU', \n",
        "                    'bun', 'cl', 'crea_pre', 'glu', 'mg', 'k_pre', 'na', 'plt', 'urine', 'o2sat', 'resp', 'hr', 'map', 'temp','antiplatelet','beta_agonist', 'beta_blocker', 'cort', 'dex',\n",
        "                     'furosemide', 'h2_antagonist', 'heparinoid', 'ins', 'k_supp', 'lax', 'nsaid','vaso_ind', 'coag', 'copd', 'depress', 'dm', 'hypothy', 'liver', 'htn', 'valve', 'mech_vent_invasive','supp_o2']"
      ],
      "metadata": {
        "id": "s6KUlGYCJZMf"
      },
      "execution_count": 233,
      "outputs": []
    },
    {
      "cell_type": "code",
      "source": [
        "print(W_columns[43])"
      ],
      "metadata": {
        "colab": {
          "base_uri": "https://localhost:8080/"
        },
        "id": "Ht9rslSrKqaL",
        "outputId": "eafe2f5f-0a09-4588-a09c-b25f4ac05098"
      },
      "execution_count": 253,
      "outputs": [
        {
          "output_type": "stream",
          "name": "stdout",
          "text": [
            "dm\n"
          ]
        }
      ]
    },
    {
      "cell_type": "code",
      "source": [
        "plt.figure(figsize=(15, 6))\n",
        "plt.subplot(1, 2, 1)\n",
        "plt.title(\"ForestDRLearner\")\n",
        "plt.scatter(X_test[:, 43], forestdrl_te, label='ForestDRLearner estimate')\n",
        "#plt.fill_between(X_test[:, 21], lb, ub, alpha=.4)\n",
        "plt.ylabel(\"Treatment Effect\")\n",
        "plt.xlabel(\"x\")\n",
        "plt.legend()"
      ],
      "metadata": {
        "colab": {
          "base_uri": "https://localhost:8080/",
          "height": 421
        },
        "id": "WuIM-xJ0HjDU",
        "outputId": "81dfb4b8-bfba-473f-c5e2-1d1ee503ecaf"
      },
      "execution_count": 259,
      "outputs": [
        {
          "output_type": "execute_result",
          "data": {
            "text/plain": [
              "<matplotlib.legend.Legend at 0x7f3889153880>"
            ]
          },
          "metadata": {},
          "execution_count": 259
        },
        {
          "output_type": "display_data",
          "data": {
            "text/plain": [
              "<Figure size 1080x432 with 1 Axes>"
            ],
            "image/png": "[encoded data removed]"
          },
          "metadata": {
            "needs_background": "light"
          }
        }
      ]
    },
    {
      "cell_type": "markdown",
      "source": [
        "#### Refutation "
      ],
      "metadata": {
        "id": "B00gFWZ5HBKz"
      }
    },
    {
      "cell_type": "code",
      "source": [
        "#Refute with dowhy \n",
        "est = forestdrl.dowhy"
      ],
      "metadata": {
        "id": "OdCA8KV0jm58"
      },
      "execution_count": null,
      "outputs": []
    },
    {
      "cell_type": "code",
      "source": [
        "est.fit(Y_train, T_train, X=X_train_T, W=X_train_W, cache_values=True)"
      ],
      "metadata": {
        "colab": {
          "base_uri": "https://localhost:8080/"
        },
        "id": "3W_HNsx9juC-",
        "outputId": "a15cc57e-51c6-44d8-aed7-f41cf530e353"
      },
      "execution_count": null,
      "outputs": [
        {
          "output_type": "stream",
          "name": "stderr",
          "text": [
            "WARNING:dowhy.causal_model:Causal Graph not provided. DoWhy will construct a graph based on data inputs.\n",
            "WARNING:dowhy.causal_identifier:Max number of iterations 100000 reached. Could not find a valid backdoor set.\n"
          ]
        },
        {
          "output_type": "execute_result",
          "data": {
            "text/plain": [
              "<econml.dowhy.DoWhyWrapper at 0x7f2539a96af0>"
            ]
          },
          "metadata": {},
          "execution_count": 185
        }
      ]
    },
    {
      "cell_type": "code",
      "source": [
        "print(est.summary())"
      ],
      "metadata": {
        "colab": {
          "base_uri": "https://localhost:8080/"
        },
        "id": "9cWTaXpHkSeg",
        "outputId": "4aacde8a-33b0-43c0-d56b-fcec660ade98"
      },
      "execution_count": null,
      "outputs": [
        {
          "output_type": "stream",
          "name": "stdout",
          "text": [
            "Model to find the causal effect of treatment ['T0'] on outcome ['Y0']\n"
          ]
        }
      ]
    },
    {
      "cell_type": "code",
      "source": [
        "est.effect_inference(X_test).summary_frame()"
      ],
      "metadata": {
        "colab": {
          "base_uri": "https://localhost:8080/",
          "height": 455
        },
        "id": "44OuSxB6kYsa",
        "outputId": "c55fab3d-4bff-4e8f-e6b4-bdab2f1ad37d"
      },
      "execution_count": null,
      "outputs": [
        {
          "output_type": "execute_result",
          "data": {
            "text/plain": [
              "      point_estimate  stderr  zstat  pvalue  ci_lower  ci_upper\n",
              "X                                                              \n",
              "0              0.124   0.080  1.554   0.120    -0.032     0.281\n",
              "1             -0.014   0.079 -0.183   0.855    -0.170     0.141\n",
              "2              0.095   0.128  0.739   0.460    -0.156     0.346\n",
              "3              0.124   0.080  1.554   0.120    -0.032     0.281\n",
              "4              0.143   0.091  1.568   0.117    -0.036     0.322\n",
              "...              ...     ...    ...     ...       ...       ...\n",
              "1006           0.041   0.078  0.530   0.596    -0.111     0.193\n",
              "1007           0.002   0.090  0.025   0.980    -0.174     0.178\n",
              "1008           0.124   0.080  1.554   0.120    -0.032     0.281\n",
              "1009          -0.182   0.136 -1.346   0.178    -0.448     0.083\n",
              "1010           0.189   0.095  1.987   0.047     0.003     0.375\n",
              "\n",
              "[1011 rows x 6 columns]"
            ],
            "text/html": [
              "\n",
              "  <div id=\"df-ec537f2d-8662-4cb9-8ea6-90be2e4f9d6d\">\n",
              "    <div class=\"colab-df-container\">\n",
              "      <div>\n",
              "<style scoped>\n",
              "    .dataframe tbody tr th:only-of-type {\n",
              "        vertical-align: middle;\n",
              "    }\n",
              "\n",
              "    .dataframe tbody tr th {\n",
              "        vertical-align: top;\n",
              "    }\n",
              "\n",
              "    .dataframe thead th {\n",
              "        text-align: right;\n",
              "    }\n",
              "</style>\n",
              "<table border=\"1\" class=\"dataframe\">\n",
              "  <thead>\n",
              "    <tr style=\"text-align: right;\">\n",
              "      <th></th>\n",
              "      <th>point_estimate</th>\n",
              "      <th>stderr</th>\n",
              "      <th>zstat</th>\n",
              "      <th>pvalue</th>\n",
              "      <th>ci_lower</th>\n",
              "      <th>ci_upper</th>\n",
              "    </tr>\n",
              "    <tr>\n",
              "      <th>X</th>\n",
              "      <th></th>\n",
              "      <th></th>\n",
              "      <th></th>\n",
              "      <th></th>\n",
              "      <th></th>\n",
              "      <th></th>\n",
              "    </tr>\n",
              "  </thead>\n",
              "  <tbody>\n",
              "    <tr>\n",
              "      <th>0</th>\n",
              "      <td>0.124</td>\n",
              "      <td>0.080</td>\n",
              "      <td>1.554</td>\n",
              "      <td>0.120</td>\n",
              "      <td>-0.032</td>\n",
              "      <td>0.281</td>\n",
              "    </tr>\n",
              "    <tr>\n",
              "      <th>1</th>\n",
              "      <td>-0.014</td>\n",
              "      <td>0.079</td>\n",
              "      <td>-0.183</td>\n",
              "      <td>0.855</td>\n",
              "      <td>-0.170</td>\n",
              "      <td>0.141</td>\n",
              "    </tr>\n",
              "    <tr>\n",
              "      <th>2</th>\n",
              "      <td>0.095</td>\n",
              "      <td>0.128</td>\n",
              "      <td>0.739</td>\n",
              "      <td>0.460</td>\n",
              "      <td>-0.156</td>\n",
              "      <td>0.346</td>\n",
              "    </tr>\n",
              "    <tr>\n",
              "      <th>3</th>\n",
              "      <td>0.124</td>\n",
              "      <td>0.080</td>\n",
              "      <td>1.554</td>\n",
              "      <td>0.120</td>\n",
              "      <td>-0.032</td>\n",
              "      <td>0.281</td>\n",
              "    </tr>\n",
              "    <tr>\n",
              "      <th>4</th>\n",
              "      <td>0.143</td>\n",
              "      <td>0.091</td>\n",
              "      <td>1.568</td>\n",
              "      <td>0.117</td>\n",
              "      <td>-0.036</td>\n",
              "      <td>0.322</td>\n",
              "    </tr>\n",
              "    <tr>\n",
              "      <th>...</th>\n",
              "      <td>...</td>\n",
              "      <td>...</td>\n",
              "      <td>...</td>\n",
              "      <td>...</td>\n",
              "      <td>...</td>\n",
              "      <td>...</td>\n",
              "    </tr>\n",
              "    <tr>\n",
              "      <th>1006</th>\n",
              "      <td>0.041</td>\n",
              "      <td>0.078</td>\n",
              "      <td>0.530</td>\n",
              "      <td>0.596</td>\n",
              "      <td>-0.111</td>\n",
              "      <td>0.193</td>\n",
              "    </tr>\n",
              "    <tr>\n",
              "      <th>1007</th>\n",
              "      <td>0.002</td>\n",
              "      <td>0.090</td>\n",
              "      <td>0.025</td>\n",
              "      <td>0.980</td>\n",
              "      <td>-0.174</td>\n",
              "      <td>0.178</td>\n",
              "    </tr>\n",
              "    <tr>\n",
              "      <th>1008</th>\n",
              "      <td>0.124</td>\n",
              "      <td>0.080</td>\n",
              "      <td>1.554</td>\n",
              "      <td>0.120</td>\n",
              "      <td>-0.032</td>\n",
              "      <td>0.281</td>\n",
              "    </tr>\n",
              "    <tr>\n",
              "      <th>1009</th>\n",
              "      <td>-0.182</td>\n",
              "      <td>0.136</td>\n",
              "      <td>-1.346</td>\n",
              "      <td>0.178</td>\n",
              "      <td>-0.448</td>\n",
              "      <td>0.083</td>\n",
              "    </tr>\n",
              "    <tr>\n",
              "      <th>1010</th>\n",
              "      <td>0.189</td>\n",
              "      <td>0.095</td>\n",
              "      <td>1.987</td>\n",
              "      <td>0.047</td>\n",
              "      <td>0.003</td>\n",
              "      <td>0.375</td>\n",
              "    </tr>\n",
              "  </tbody>\n",
              "</table>\n",
              "<p>1011 rows × 6 columns</p>\n",
              "</div>\n",
              "      <button class=\"colab-df-convert\" onclick=\"convertToInteractive('df-ec537f2d-8662-4cb9-8ea6-90be2e4f9d6d')\"\n",
              "              title=\"Convert this dataframe to an interactive table.\"\n",
              "              style=\"display:none;\">\n",
              "        \n",
              "  <svg xmlns=\"http://www.w3.org/2000/svg\" height=\"24px\"viewBox=\"0 0 24 24\"\n",
              "       width=\"24px\">\n",
              "    <path d=\"M0 0h24v24H0V0z\" fill=\"none\"/>\n",
              "    <path d=\"M18.56 5.44l.94 2.06.94-2.06 2.06-.94-2.06-.94-.94-2.06-.94 2.06-2.06.94zm-11 1L8.5 8.5l.94-2.06 2.06-.94-2.06-.94L8.5 2.5l-.94 2.06-2.06.94zm10 10l.94 2.06.94-2.06 2.06-.94-2.06-.94-.94-2.06-.94 2.06-2.06.94z\"/><path d=\"M17.41 7.96l-1.37-1.37c-.4-.4-.92-.59-1.43-.59-.52 0-1.04.2-1.43.59L10.3 9.45l-7.72 7.72c-.78.78-.78 2.05 0 2.83L4 21.41c.39.39.9.59 1.41.59.51 0 1.02-.2 1.41-.59l7.78-7.78 2.81-2.81c.8-.78.8-2.07 0-2.86zM5.41 20L4 18.59l7.72-7.72 1.47 1.35L5.41 20z\"/>\n",
              "  </svg>\n",
              "      </button>\n",
              "      \n",
              "  <style>\n",
              "    .colab-df-container {\n",
              "      display:flex;\n",
              "      flex-wrap:wrap;\n",
              "      gap: 12px;\n",
              "    }\n",
              "\n",
              "    .colab-df-convert {\n",
              "      background-color: #E8F0FE;\n",
              "      border: none;\n",
              "      border-radius: 50%;\n",
              "      cursor: pointer;\n",
              "      display: none;\n",
              "      fill: #1967D2;\n",
              "      height: 32px;\n",
              "      padding: 0 0 0 0;\n",
              "      width: 32px;\n",
              "    }\n",
              "\n",
              "    .colab-df-convert:hover {\n",
              "      background-color: #E2EBFA;\n",
              "      box-shadow: 0px 1px 2px rgba(60, 64, 67, 0.3), 0px 1px 3px 1px rgba(60, 64, 67, 0.15);\n",
              "      fill: #174EA6;\n",
              "    }\n",
              "\n",
              "    [theme=dark] .colab-df-convert {\n",
              "      background-color: #3B4455;\n",
              "      fill: #D2E3FC;\n",
              "    }\n",
              "\n",
              "    [theme=dark] .colab-df-convert:hover {\n",
              "      background-color: #434B5C;\n",
              "      box-shadow: 0px 1px 3px 1px rgba(0, 0, 0, 0.15);\n",
              "      filter: drop-shadow(0px 1px 2px rgba(0, 0, 0, 0.3));\n",
              "      fill: #FFFFFF;\n",
              "    }\n",
              "  </style>\n",
              "\n",
              "      <script>\n",
              "        const buttonEl =\n",
              "          document.querySelector('#df-ec537f2d-8662-4cb9-8ea6-90be2e4f9d6d button.colab-df-convert');\n",
              "        buttonEl.style.display =\n",
              "          google.colab.kernel.accessAllowed ? 'block' : 'none';\n",
              "\n",
              "        async function convertToInteractive(key) {\n",
              "          const element = document.querySelector('#df-ec537f2d-8662-4cb9-8ea6-90be2e4f9d6d');\n",
              "          const dataTable =\n",
              "            await google.colab.kernel.invokeFunction('convertToInteractive',\n",
              "                                                     [key], {});\n",
              "          if (!dataTable) return;\n",
              "\n",
              "          const docLinkHtml = 'Like what you see? Visit the ' +\n",
              "            '<a target=\"_blank\" href=https://colab.research.google.com/notebooks/data_table.ipynb>data table notebook</a>'\n",
              "            + ' to learn more about interactive tables.';\n",
              "          element.innerHTML = '';\n",
              "          dataTable['output_type'] = 'display_data';\n",
              "          await google.colab.output.renderOutput(dataTable, element);\n",
              "          const docLink = document.createElement('div');\n",
              "          docLink.innerHTML = docLinkHtml;\n",
              "          element.appendChild(docLink);\n",
              "        }\n",
              "      </script>\n",
              "    </div>\n",
              "  </div>\n",
              "  "
            ]
          },
          "metadata": {},
          "execution_count": 190
        }
      ]
    },
    {
      "cell_type": "code",
      "source": [
        "ref_res = est.refute_estimate(method_name=\"random_common_cause\")\n",
        "print(ref_res)"
      ],
      "metadata": {
        "colab": {
          "base_uri": "https://localhost:8080/"
        },
        "id": "NcuoDX8OksPm",
        "outputId": "7e18442e-1921-417f-c859-479b6a4db2b4"
      },
      "execution_count": null,
      "outputs": [
        {
          "output_type": "stream",
          "name": "stdout",
          "text": [
            "Refute: Add a random common cause\n",
            "Estimated effect:0.015119024468306621\n",
            "New effect:0.016532625451584276\n",
            "p value:0.14\n",
            "\n"
          ]
        }
      ]
    },
    {
      "cell_type": "code",
      "source": [
        "ref_res2 = est.refute_estimate(method_name=\"data_subset_refuter\",\n",
        "                                    subset_fraction=0.8, random_state=123)\n",
        "print(ref_res2)"
      ],
      "metadata": {
        "colab": {
          "base_uri": "https://localhost:8080/"
        },
        "id": "Il1wmdc2l9Kf",
        "outputId": "5cae8d65-bfd2-41e2-af83-c60c0194916d"
      },
      "execution_count": null,
      "outputs": [
        {
          "output_type": "stream",
          "name": "stdout",
          "text": [
            "Refute: Use a subset of data\n",
            "Estimated effect:0.015119024468306621\n",
            "New effect:0.01999975601615424\n",
            "p value:0.0\n",
            "\n"
          ]
        }
      ]
    },
    {
      "cell_type": "code",
      "source": [
        "ref_res3 = est.refute_estimate(method_name=\"dummy_outcome_refuter\", random_state=123)\n",
        "print(ref_res3)"
      ],
      "metadata": {
        "colab": {
          "base_uri": "https://localhost:8080/"
        },
        "id": "coW9FwzVsqZ4",
        "outputId": "e94d6211-5341-4b38-e827-dc875fa9e6a3"
      },
      "execution_count": null,
      "outputs": [
        {
          "output_type": "stream",
          "name": "stdout",
          "text": [
            "[<dowhy.causal_refuter.CausalRefutation object at 0x7f2531414970>]\n"
          ]
        }
      ]
    },
    {
      "cell_type": "code",
      "source": [
        "print(ref_res3[0])"
      ],
      "metadata": {
        "colab": {
          "base_uri": "https://localhost:8080/"
        },
        "id": "lgFFoegBDE4-",
        "outputId": "6f53ba42-51fe-407a-c93b-e7ef335bfab8"
      },
      "execution_count": null,
      "outputs": [
        {
          "output_type": "stream",
          "name": "stdout",
          "text": [
            "Refute: Use a Dummy Outcome\n",
            "Estimated effect:0\n",
            "New effect:0.00047397706236283033\n",
            "p value:0.49\n",
            "\n"
          ]
        }
      ]
    },
    {
      "cell_type": "markdown",
      "source": [
        "\n",
        "\n",
        "*  **Random common cause**: The estimation method should not change its estimate after an independent random variable was added as common cause \n",
        "*   **Data subset validation**: The estimated effect should not change significantly when the given sataset is replaced with a randomly selected subset\n",
        "*  **Dummy outcome**: The effect should go to zero when the true outcome variable is replaced with an independent variable \n",
        "\n",
        "\n",
        "\n"
      ],
      "metadata": {
        "id": "Xkb85CB8pfmt"
      }
    },
    {
      "cell_type": "code",
      "source": [
        "# Estimate treatment effects on test data\n",
        "forestdrl_te = forestdrl.effect(X_test)\n",
        "forestdrl_te_inference = forestdrl.effect_inference(X_test).population_summary(alpha=0.1, value=0, decimals=3, tol=0.001)\n",
        "print(forestdrl_te_inference)"
      ],
      "metadata": {
        "id": "2yiQbtY3LuFt"
      },
      "execution_count": null,
      "outputs": []
    },
    {
      "cell_type": "code",
      "source": [],
      "metadata": {
        "id": "eBYyJKHEHHUI"
      },
      "execution_count": null,
      "outputs": []
    },
    {
      "cell_type": "markdown",
      "source": [
        "#### Generic Boostrap Inference"
      ],
      "metadata": {
        "id": "Y67QP7V3pyab"
      }
    },
    {
      "cell_type": "code",
      "source": [
        "forestdrl.effect_inference(X_test[:5], T0=0, T1=1).summary_frame()"
      ],
      "metadata": {
        "colab": {
          "base_uri": "https://localhost:8080/",
          "height": 237
        },
        "id": "rb4l_lVtpYN0",
        "outputId": "95b16ab7-5e09-408b-ed50-be6954e5986f"
      },
      "execution_count": null,
      "outputs": [
        {
          "output_type": "execute_result",
          "data": {
            "text/plain": [
              "   point_estimate  stderr  zstat  pvalue  ci_lower  ci_upper\n",
              "X                                                           \n",
              "0           0.048   0.046  1.043   0.297    -0.042     0.137\n",
              "1           0.028   0.049  0.580   0.562    -0.067     0.124\n",
              "2           0.008   0.042  0.186   0.853    -0.074     0.090\n",
              "3           0.016   0.036  0.433   0.665    -0.055     0.086\n",
              "4           0.046   0.064  0.718   0.473    -0.079     0.171"
            ],
            "text/html": [
              "\n",
              "  <div id=\"df-b9cc89bc-a348-4fd4-8fd7-db259bdf5e3e\">\n",
              "    <div class=\"colab-df-container\">\n",
              "      <div>\n",
              "<style scoped>\n",
              "    .dataframe tbody tr th:only-of-type {\n",
              "        vertical-align: middle;\n",
              "    }\n",
              "\n",
              "    .dataframe tbody tr th {\n",
              "        vertical-align: top;\n",
              "    }\n",
              "\n",
              "    .dataframe thead th {\n",
              "        text-align: right;\n",
              "    }\n",
              "</style>\n",
              "<table border=\"1\" class=\"dataframe\">\n",
              "  <thead>\n",
              "    <tr style=\"text-align: right;\">\n",
              "      <th></th>\n",
              "      <th>point_estimate</th>\n",
              "      <th>stderr</th>\n",
              "      <th>zstat</th>\n",
              "      <th>pvalue</th>\n",
              "      <th>ci_lower</th>\n",
              "      <th>ci_upper</th>\n",
              "    </tr>\n",
              "    <tr>\n",
              "      <th>X</th>\n",
              "      <th></th>\n",
              "      <th></th>\n",
              "      <th></th>\n",
              "      <th></th>\n",
              "      <th></th>\n",
              "      <th></th>\n",
              "    </tr>\n",
              "  </thead>\n",
              "  <tbody>\n",
              "    <tr>\n",
              "      <th>0</th>\n",
              "      <td>0.048</td>\n",
              "      <td>0.046</td>\n",
              "      <td>1.043</td>\n",
              "      <td>0.297</td>\n",
              "      <td>-0.042</td>\n",
              "      <td>0.137</td>\n",
              "    </tr>\n",
              "    <tr>\n",
              "      <th>1</th>\n",
              "      <td>0.028</td>\n",
              "      <td>0.049</td>\n",
              "      <td>0.580</td>\n",
              "      <td>0.562</td>\n",
              "      <td>-0.067</td>\n",
              "      <td>0.124</td>\n",
              "    </tr>\n",
              "    <tr>\n",
              "      <th>2</th>\n",
              "      <td>0.008</td>\n",
              "      <td>0.042</td>\n",
              "      <td>0.186</td>\n",
              "      <td>0.853</td>\n",
              "      <td>-0.074</td>\n",
              "      <td>0.090</td>\n",
              "    </tr>\n",
              "    <tr>\n",
              "      <th>3</th>\n",
              "      <td>0.016</td>\n",
              "      <td>0.036</td>\n",
              "      <td>0.433</td>\n",
              "      <td>0.665</td>\n",
              "      <td>-0.055</td>\n",
              "      <td>0.086</td>\n",
              "    </tr>\n",
              "    <tr>\n",
              "      <th>4</th>\n",
              "      <td>0.046</td>\n",
              "      <td>0.064</td>\n",
              "      <td>0.718</td>\n",
              "      <td>0.473</td>\n",
              "      <td>-0.079</td>\n",
              "      <td>0.171</td>\n",
              "    </tr>\n",
              "  </tbody>\n",
              "</table>\n",
              "</div>\n",
              "      <button class=\"colab-df-convert\" onclick=\"convertToInteractive('df-b9cc89bc-a348-4fd4-8fd7-db259bdf5e3e')\"\n",
              "              title=\"Convert this dataframe to an interactive table.\"\n",
              "              style=\"display:none;\">\n",
              "        \n",
              "  <svg xmlns=\"http://www.w3.org/2000/svg\" height=\"24px\"viewBox=\"0 0 24 24\"\n",
              "       width=\"24px\">\n",
              "    <path d=\"M0 0h24v24H0V0z\" fill=\"none\"/>\n",
              "    <path d=\"M18.56 5.44l.94 2.06.94-2.06 2.06-.94-2.06-.94-.94-2.06-.94 2.06-2.06.94zm-11 1L8.5 8.5l.94-2.06 2.06-.94-2.06-.94L8.5 2.5l-.94 2.06-2.06.94zm10 10l.94 2.06.94-2.06 2.06-.94-2.06-.94-.94-2.06-.94 2.06-2.06.94z\"/><path d=\"M17.41 7.96l-1.37-1.37c-.4-.4-.92-.59-1.43-.59-.52 0-1.04.2-1.43.59L10.3 9.45l-7.72 7.72c-.78.78-.78 2.05 0 2.83L4 21.41c.39.39.9.59 1.41.59.51 0 1.02-.2 1.41-.59l7.78-7.78 2.81-2.81c.8-.78.8-2.07 0-2.86zM5.41 20L4 18.59l7.72-7.72 1.47 1.35L5.41 20z\"/>\n",
              "  </svg>\n",
              "      </button>\n",
              "      \n",
              "  <style>\n",
              "    .colab-df-container {\n",
              "      display:flex;\n",
              "      flex-wrap:wrap;\n",
              "      gap: 12px;\n",
              "    }\n",
              "\n",
              "    .colab-df-convert {\n",
              "      background-color: #E8F0FE;\n",
              "      border: none;\n",
              "      border-radius: 50%;\n",
              "      cursor: pointer;\n",
              "      display: none;\n",
              "      fill: #1967D2;\n",
              "      height: 32px;\n",
              "      padding: 0 0 0 0;\n",
              "      width: 32px;\n",
              "    }\n",
              "\n",
              "    .colab-df-convert:hover {\n",
              "      background-color: #E2EBFA;\n",
              "      box-shadow: 0px 1px 2px rgba(60, 64, 67, 0.3), 0px 1px 3px 1px rgba(60, 64, 67, 0.15);\n",
              "      fill: #174EA6;\n",
              "    }\n",
              "\n",
              "    [theme=dark] .colab-df-convert {\n",
              "      background-color: #3B4455;\n",
              "      fill: #D2E3FC;\n",
              "    }\n",
              "\n",
              "    [theme=dark] .colab-df-convert:hover {\n",
              "      background-color: #434B5C;\n",
              "      box-shadow: 0px 1px 3px 1px rgba(0, 0, 0, 0.15);\n",
              "      filter: drop-shadow(0px 1px 2px rgba(0, 0, 0, 0.3));\n",
              "      fill: #FFFFFF;\n",
              "    }\n",
              "  </style>\n",
              "\n",
              "      <script>\n",
              "        const buttonEl =\n",
              "          document.querySelector('#df-b9cc89bc-a348-4fd4-8fd7-db259bdf5e3e button.colab-df-convert');\n",
              "        buttonEl.style.display =\n",
              "          google.colab.kernel.accessAllowed ? 'block' : 'none';\n",
              "\n",
              "        async function convertToInteractive(key) {\n",
              "          const element = document.querySelector('#df-b9cc89bc-a348-4fd4-8fd7-db259bdf5e3e');\n",
              "          const dataTable =\n",
              "            await google.colab.kernel.invokeFunction('convertToInteractive',\n",
              "                                                     [key], {});\n",
              "          if (!dataTable) return;\n",
              "\n",
              "          const docLinkHtml = 'Like what you see? Visit the ' +\n",
              "            '<a target=\"_blank\" href=https://colab.research.google.com/notebooks/data_table.ipynb>data table notebook</a>'\n",
              "            + ' to learn more about interactive tables.';\n",
              "          element.innerHTML = '';\n",
              "          dataTable['output_type'] = 'display_data';\n",
              "          await google.colab.output.renderOutput(dataTable, element);\n",
              "          const docLink = document.createElement('div');\n",
              "          docLink.innerHTML = docLinkHtml;\n",
              "          element.appendChild(docLink);\n",
              "        }\n",
              "      </script>\n",
              "    </div>\n",
              "  </div>\n",
              "  "
            ]
          },
          "metadata": {},
          "execution_count": 12
        }
      ]
    },
    {
      "cell_type": "code",
      "source": [
        "forestdrl.ate_inference(X_test)"
      ],
      "metadata": {
        "colab": {
          "base_uri": "https://localhost:8080/",
          "height": 247
        },
        "id": "F3-0gNPbqNfX",
        "outputId": "db321c4f-2e74-4991-eeca-b1652a8578fe"
      },
      "execution_count": null,
      "outputs": [
        {
          "output_type": "execute_result",
          "data": {
            "text/plain": [
              "<econml.inference._inference.PopulationSummaryResults at 0x7f255a003850>"
            ],
            "text/html": [
              "<table class=\"simpletable\">\n",
              "<caption>Uncertainty of Mean Point Estimate</caption>\n",
              "<tr>\n",
              "  <th>mean_point</th> <th>stderr_mean</th> <th>zstat</th> <th>pvalue</th> <th>ci_mean_lower</th> <th>ci_mean_upper</th>\n",
              "</tr>\n",
              "<tr>\n",
              "     <td>0.021</td>      <td>0.044</td>    <td>0.482</td>  <td>0.63</td>     <td>-0.064</td>         <td>0.107</td>    \n",
              "</tr>\n",
              "</table>\n",
              "<table class=\"simpletable\">\n",
              "<caption>Distribution of Point Estimate</caption>\n",
              "<tr>\n",
              "  <th>std_point</th> <th>pct_point_lower</th> <th>pct_point_upper</th>\n",
              "</tr>\n",
              "<tr>\n",
              "    <td>0.019</td>       <td>-0.015</td>           <td>0.059</td>     \n",
              "</tr>\n",
              "</table>\n",
              "<table class=\"simpletable\">\n",
              "<caption>Total Variance of Point Estimate</caption>\n",
              "<tr>\n",
              "  <th>stderr_point</th> <th>ci_point_lower</th> <th>ci_point_upper</th>\n",
              "</tr>\n",
              "<tr>\n",
              "      <td>0.048</td>        <td>-0.072</td>          <td>0.12</td>     \n",
              "</tr>\n",
              "</table><br/><br/>Note: The stderr_mean is a conservative upper bound."
            ]
          },
          "metadata": {},
          "execution_count": 13
        }
      ]
    },
    {
      "cell_type": "markdown",
      "source": [
        "#### Interpret the behavior with a single tree "
      ],
      "metadata": {
        "id": "cIEs8KCVrKKF"
      }
    },
    {
      "cell_type": "code",
      "source": [
        "#Interpret the outcome \n",
        "intrp = SingleTreeCateInterpreter(include_model_uncertainty=False, max_depth=3, min_samples_leaf=10)"
      ],
      "metadata": {
        "id": "Dk-gWYzlrJCe"
      },
      "execution_count": 118,
      "outputs": []
    },
    {
      "cell_type": "code",
      "source": [
        "# We interpret the CATE model's behavior based on the features used for heterogeneity\n",
        "intrp.interpret(forestdrl, X_test)\n",
        "#Render the tree\n",
        "intrp.render(out_file =\"tree_0_48_min_k\",feature_names=W_columns, rotate=True)\n",
        "# Plot the tree\n",
        "intrp.plot(fontsize=8, feature_names=W_columns, rounded = True)"
      ],
      "metadata": {
        "id": "uk4tQgV8u1eB"
      },
      "execution_count": 121,
      "outputs": []
    },
    {
      "cell_type": "code",
      "source": [
        "plt.show()\n",
        "display(plt.gcf())\n"
      ],
      "metadata": {
        "colab": {
          "base_uri": "https://localhost:8080/",
          "height": 252
        },
        "id": "WZZ6VGRk5MTN",
        "outputId": "b338ffdb-f350-453f-cfa5-ced25dfef34e"
      },
      "execution_count": 120,
      "outputs": [
        {
          "output_type": "display_data",
          "data": {
            "text/plain": [
              "<Figure size 432x288 with 1 Axes>"
            ],
            "image/png": "[encoded data removed]"
          },
          "metadata": {}
        }
      ]
    },
    {
      "cell_type": "markdown",
      "source": [
        "#### Interpret with SHAP values"
      ],
      "metadata": {
        "id": "7Od3bf7v-pIw"
      }
    },
    {
      "cell_type": "code",
      "source": [
        "#Source: https://medium.com/dataman-in-ai/explain-your-model-with-the-shap-values-bc36aac4de3d"
      ],
      "metadata": {
        "id": "R4o4R2ufAdgy"
      },
      "execution_count": null,
      "outputs": []
    },
    {
      "cell_type": "code",
      "source": [
        "shap_values = forestdrl.shap_values(X_test)"
      ],
      "metadata": {
        "colab": {
          "base_uri": "https://localhost:8080/"
        },
        "id": "G7Un8VHSvTDg",
        "outputId": "59ec32a2-4cbd-4164-84ce-ccdddd96cd8e"
      },
      "execution_count": null,
      "outputs": [
        {
          "output_type": "stream",
          "name": "stderr",
          "text": [
            "100%|===================| 1007/1011 [01:35<00:00]       "
          ]
        }
      ]
    },
    {
      "cell_type": "code",
      "source": [
        "shap.summary_plot(shap_values['Y0']['T0_1'], max_display=83)\n",
        "plt.show()"
      ],
      "metadata": {
        "id": "yA4af2zXFL35",
        "colab": {
          "base_uri": "https://localhost:8080/",
          "height": 1000
        },
        "outputId": "61b082f4-69f0-427b-8335-9e67a7ca438e"
      },
      "execution_count": null,
      "outputs": [
        {
          "output_type": "display_data",
          "data": {
            "text/plain": [
              "<Figure size 576x2498.4 with 2 Axes>"
            ],
            "image/png": "[encoded data removed]"
          },
          "metadata": {
            "needs_background": "light"
          }
        }
      ]
    },
    {
      "cell_type": "markdown",
      "source": [
        "*   The model output represents the treatment effect not the absolute value of the outcome \n",
        "*   The plot is made of all the dots in the train data \n",
        "*   Variables are ranked in descending order \n",
        "*  The SHAP value on the X-axis quantifies the contribution of the feature towards the treatment effect for this patient \n",
        "*   Example 1:  A SHAP value of 0.8 for glu means that the presence of this feature (a high glucose level) increases the treatment effect by 0.8 units for this specific patient. \n",
        "*  Example 2:  A SHAP value of -0.2 for glu means that the presence of this feature (a low glucose lebel) decreases the treatment effect by 0.2 units for this specific patient. \n",
        "*   *Original value*: Color shows whether that variable is high or low for that observation \n",
        "*   *Impact*: The horizontal location shows whether the effect of that value is associated with a higher or lower prediciton\n",
        "*   *Respiratory rate*: A **low** respiratory rate has a positive impact on the treatment effect (Furosemide on minimum serum potassium). The low comes from the blue color and the positive impact is shown in the X-axis. \n",
        "*   *Glucose*: A **high** level of glucose has a positive effect on the treatment effect. \n",
        "*   *Heart rate*: A **low** heart rate has a positive effect on the treatment effect. \n"
      ],
      "metadata": {
        "id": "ymYcg8RlZXN2"
      }
    },
    {
      "cell_type": "code",
      "source": [
        "shap.plots.beeswarm(shap_values['Y0']['T0_1'])"
      ],
      "metadata": {
        "id": "khHF5aAL_RhC"
      },
      "execution_count": null,
      "outputs": []
    },
    {
      "cell_type": "code",
      "source": [
        "# Get the predictions and put them with the test data.\n",
        "X_output = X_test.copy()\n",
        "X_output.loc[:,'predict'] = np.round(forestdrl.effect(X_output),2)"
      ],
      "metadata": {
        "id": "Klw-XkWtCdWb"
      },
      "execution_count": null,
      "outputs": []
    },
    {
      "cell_type": "code",
      "source": [
        "# Randomly pick some observations\n",
        "random_picks = np.arange(1,330,50) # Every 50 rows\n",
        "S = X_output.iloc[random_picks]\n",
        "print(S)"
      ],
      "metadata": {
        "colab": {
          "base_uri": "https://localhost:8080/"
        },
        "id": "4pUYebDwCrGm",
        "outputId": "232e3763-f428-41c7-a1db-4d8b23d11651"
      },
      "execution_count": null,
      "outputs": [
        {
          "output_type": "stream",
          "name": "stdout",
          "text": [
            "          sequence_icu  sequence_hadm  diff_intime_admittime_day       age  \\\n",
            "stay_id                                                                      \n",
            "38432818      0.000000       0.014706                   0.098361  0.561644   \n",
            "35235378      0.000000       0.014706                   0.065574  0.767123   \n",
            "37646152      0.000000       0.000000                   0.073770  0.739726   \n",
            "39833916      0.090909       0.044118                   0.032787  0.726027   \n",
            "37142964      0.000000       0.000000                   0.008197  1.000000   \n",
            "30237710      0.090909       0.088235                   0.016393  0.684932   \n",
            "37324611      0.000000       0.014706                   0.040984  0.835616   \n",
            "\n",
            "          male    weight  admission_type_emergency  adm_med  adm_surg  \\\n",
            "stay_id                                                                 \n",
            "38432818   0.0  0.501022                       1.0      1.0       0.0   \n",
            "35235378   0.0  0.067485                       0.0      0.0       1.0   \n",
            "37646152   1.0  0.380368                       1.0      0.0       1.0   \n",
            "39833916   0.0  0.095297                       1.0      1.0       0.0   \n",
            "37142964   1.0  0.112474                       1.0      1.0       0.0   \n",
            "30237710   1.0  0.266667                       1.0      1.0       0.0   \n",
            "37324611   1.0  0.265440                       1.0      1.0       0.0   \n",
            "\n",
            "          careunit_MICU/SICU  ...  htn  perivasc  arth  tumor  valve  \\\n",
            "stay_id                       ...                                      \n",
            "38432818                 0.0  ...  1.0       0.0   0.0    0.0    0.0   \n",
            "35235378                 0.0  ...  0.0       0.0   0.0    0.0    0.0   \n",
            "37646152                 0.0  ...  1.0       1.0   0.0    0.0    0.0   \n",
            "39833916                 1.0  ...  0.0       0.0   0.0    0.0    0.0   \n",
            "37142964                 0.0  ...  1.0       0.0   0.0    0.0    1.0   \n",
            "30237710                 0.0  ...  0.0       0.0   0.0    0.0    0.0   \n",
            "37324611                 1.0  ...  1.0       0.0   0.0    0.0    0.0   \n",
            "\n",
            "          mech_vent_invasive  mech_vent_noninvasive  rrt  supp_o2  predict  \n",
            "stay_id                                                                     \n",
            "38432818                 0.0                    0.0  0.0      0.0     0.00  \n",
            "35235378                 0.0                    0.0  0.0      0.0    -0.06  \n",
            "37646152                 0.0                    0.0  0.0      0.0    -0.01  \n",
            "39833916                 1.0                    0.0  0.0      1.0     0.00  \n",
            "37142964                 0.0                    0.0  0.0      0.0    -0.01  \n",
            "30237710                 0.0                    0.0  0.0      1.0     0.03  \n",
            "37324611                 0.0                    0.0  0.0      1.0     0.00  \n",
            "\n",
            "[7 rows x 84 columns]\n"
          ]
        }
      ]
    },
    {
      "cell_type": "code",
      "source": [
        "X_train[\"age\"].mean()"
      ],
      "metadata": {
        "colab": {
          "base_uri": "https://localhost:8080/",
          "height": 37
        },
        "id": "62gCKNNiHpZN",
        "outputId": "14d71f11-2140-43c6-93d4-27b08ce85cfa"
      },
      "execution_count": 280,
      "outputs": [
        {
          "output_type": "execute_result",
          "data": {
            "text/plain": [
              "0.6586221387757314"
            ],
            "text/latex": "$\\displaystyle 0.658622138775731$"
          },
          "metadata": {},
          "execution_count": 280
        }
      ]
    },
    {
      "cell_type": "code",
      "source": [
        "shap.force_plot(shap_values[\"Y0\"][\"T0_1\"][3], matplotlib=True)"
      ],
      "metadata": {
        "id": "qyCrIts9C94l"
      },
      "execution_count": null,
      "outputs": []
    },
    {
      "cell_type": "code",
      "source": [
        "plt.show()"
      ],
      "metadata": {
        "id": "poX_orOmtpAD"
      },
      "execution_count": null,
      "outputs": []
    },
    {
      "cell_type": "markdown",
      "source": [
        "\n",
        " \n",
        "*   **0.11** is the prediction of the treatment effect (effect of Furosemide on minimum potassium) for this patient \n",
        "*   **Base value**: The mean prediction for the treatment effect is -0.2729  \n",
        "*   Red features:  Features that push the treatment effect higher \n",
        "*   Blue features: Features that push the treatment effect lower \n",
        "*   *Glucose*: The glucose level of this patient is 150 which is higher than the average value of 131.18, so a higher than average glucose level pushes the prediction higher (to the right). Glucose has a positive impact on treatment effect. \n",
        "*  *Creatinine*:  The creatinine of this patient is 1.7 which is higher than the average value of 1.3352, so a higher than average creatinine value drives the prediction to the right. Creatinine has a positive impact on the treatment effect. \n",
        "*   *Potassium pre*: The potassium level of this patient is 5.2 which is higher than the average of 4.19. It pushes the prediction higher (to the right), so pre potassium has a positive impact on the treatment effect. \n",
        "*   *Respiratory rate*: The respiratory rate of this patient is 13 which is lower than the average of 18.63. The respiratory rate pushes the prediction higher (to the right) so respiratory rate has a negative impact on the treatment effect. \n",
        "*  *Age*: The age of this patient is 91 which is higher than the average of 73.42, a higher than average age drives the prediction lower (to the left), so age as a negative impact on the treatment effect. \n",
        "*   *Heart rate*: The heart rate of this patient is 120 which is higher than the average of 89.14. Heart rate pushes the predicition lower (to the left) so heart rate as a \n",
        "\n",
        "\n",
        "\n",
        "\n",
        "\n"
      ],
      "metadata": {
        "id": "Ouqxh5z_Hzo7"
      }
    },
    {
      "cell_type": "code",
      "source": [
        "# Inverse transform the scaled data\n",
        "#Glucose \n",
        "scaled_value  = 0.1138\n",
        "min_value = 20 \n",
        "max_value = 997.0\n",
        "original_value = (scaled_value * (max_value - min_value)) + min_value\n",
        "print(\"Original value:\", original_value)"
      ],
      "metadata": {
        "colab": {
          "base_uri": "https://localhost:8080/"
        },
        "id": "BwJ-iF2AEEnh",
        "outputId": "b1ede46e-03b3-4b81-e440-9d5e01da8cb7"
      },
      "execution_count": null,
      "outputs": [
        {
          "output_type": "stream",
          "name": "stdout",
          "text": [
            "Original value: 131.18259999999998\n"
          ]
        }
      ]
    },
    {
      "cell_type": "code",
      "source": [
        "# Inverse transform the scaled data\n",
        "#Creatinine \n",
        "scaled_value  = 0.0829\n",
        "min_value = 0.1\n",
        "max_value = 15 \n",
        "original_value = (scaled_value * (max_value - min_value)) + min_value\n",
        "print(\"Original value:\", original_value)"
      ],
      "metadata": {
        "colab": {
          "base_uri": "https://localhost:8080/"
        },
        "id": "0bLvFNSKF9io",
        "outputId": "0e727eaa-5ee9-4852-c3b1-8c1045b8be27"
      },
      "execution_count": null,
      "outputs": [
        {
          "output_type": "stream",
          "name": "stdout",
          "text": [
            "Original value: 1.3352100000000002\n"
          ]
        }
      ]
    },
    {
      "cell_type": "code",
      "source": [
        "# Inverse transform the scaled data\n",
        "#Potassium \n",
        "scaled_value  = 0.4615\n",
        "min_value = 1.6 \n",
        "max_value = 9.4 \n",
        "original_value = (scaled_value * (max_value - min_value)) + min_value\n",
        "print(\"Original value:\", original_value)"
      ],
      "metadata": {
        "colab": {
          "base_uri": "https://localhost:8080/"
        },
        "id": "DjDg6QzTGMpX",
        "outputId": "0eacca66-ce12-41d8-fa7c-c1296a9f88e0"
      },
      "execution_count": null,
      "outputs": [
        {
          "output_type": "stream",
          "name": "stdout",
          "text": [
            "Original value: 5.1997\n"
          ]
        }
      ]
    },
    {
      "cell_type": "code",
      "source": [
        "# Inverse transform the scaled data\n",
        "#Respiratory rate \n",
        "scaled_value  = 0.3054\n",
        "min_value = 0 \n",
        "max_value = 61\n",
        "original_value = (scaled_value * (max_value - min_value)) + min_value\n",
        "print(\"Original value:\", original_value)"
      ],
      "metadata": {
        "colab": {
          "base_uri": "https://localhost:8080/"
        },
        "id": "uPHeJtBCLxNl",
        "outputId": "2b3fd1e2-e277-45be-ed4c-7cf4f2a22276"
      },
      "execution_count": null,
      "outputs": [
        {
          "output_type": "stream",
          "name": "stdout",
          "text": [
            "Original value: 18.6294\n"
          ]
        }
      ]
    },
    {
      "cell_type": "code",
      "source": [
        "# Inverse transform the scaled data\n",
        "#Age\n",
        "scaled_value  = 0.1461\n",
        "min_value = 18 \n",
        "max_value = 91\n",
        "original_value = (scaled_value * (max_value - min_value)) + min_value\n",
        "print(\"Original value:\", original_value)"
      ],
      "metadata": {
        "colab": {
          "base_uri": "https://localhost:8080/"
        },
        "id": "tNufd4uFGjGh",
        "outputId": "24efde7d-2760-4233-f6ab-4a94959bb312"
      },
      "execution_count": 327,
      "outputs": [
        {
          "output_type": "stream",
          "name": "stdout",
          "text": [
            "Original value: 28.665300000000002\n"
          ]
        }
      ]
    },
    {
      "cell_type": "code",
      "source": [
        "# Inverse transform the scaled data\n",
        "#Heart rate \n",
        "scaled_value  = 0.3669\n",
        "min_value = 33\n",
        "max_value = 186 \n",
        "original_value = (scaled_value * (max_value - min_value)) + min_value\n",
        "print(\"Original value:\", original_value)"
      ],
      "metadata": {
        "colab": {
          "base_uri": "https://localhost:8080/"
        },
        "id": "VB_C0uWpNn-z",
        "outputId": "e29679a5-8440-4afb-99f8-a68db12e3ab4"
      },
      "execution_count": null,
      "outputs": [
        {
          "output_type": "stream",
          "name": "stdout",
          "text": [
            "Original value: 89.1357\n"
          ]
        }
      ]
    },
    {
      "cell_type": "code",
      "source": [
        "# Inverse transform the scaled data\n",
        "#Laxatives  \n",
        "scaled_value  = 0.1176\n",
        "min_value = 0\n",
        "max_value = 6 \n",
        "original_value = (scaled_value * (max_value - min_value)) + min_value\n",
        "print(\"Original value:\", original_value)"
      ],
      "metadata": {
        "colab": {
          "base_uri": "https://localhost:8080/"
        },
        "id": "skYJf92Rl-xX",
        "outputId": "b83125cc-33ba-47a6-b98c-f6f076cf5b17"
      },
      "execution_count": null,
      "outputs": [
        {
          "output_type": "stream",
          "name": "stdout",
          "text": [
            "Original value: 0.7056\n"
          ]
        }
      ]
    },
    {
      "cell_type": "code",
      "source": [
        "# Inverse transform the scaled data\n",
        "#Weight\n",
        "scaled_value  = 0.2186\n",
        "min_value = 28.5\n",
        "max_value = 273 \n",
        "original_value = (scaled_value * (max_value - min_value)) + min_value\n",
        "print(\"Original value:\", original_value)"
      ],
      "metadata": {
        "colab": {
          "base_uri": "https://localhost:8080/"
        },
        "id": "QJe7oFWgptQe",
        "outputId": "d4055a32-6980-4ca5-fa61-67d038c6690c"
      },
      "execution_count": null,
      "outputs": [
        {
          "output_type": "stream",
          "name": "stdout",
          "text": [
            "Original value: 81.9477\n"
          ]
        }
      ]
    },
    {
      "cell_type": "markdown",
      "source": [
        "#### Sensitivity analysis"
      ],
      "metadata": {
        "id": "HGtHyP_8t00u"
      }
    },
    {
      "cell_type": "code",
      "source": [
        "import dowhy"
      ],
      "metadata": {
        "id": "nIHBGjFZt0H5"
      },
      "execution_count": null,
      "outputs": []
    },
    {
      "cell_type": "code",
      "source": [
        "from econml.dowhy import DoWhyWrapper"
      ],
      "metadata": {
        "id": "TXWHiL0pzPsM"
      },
      "execution_count": null,
      "outputs": []
    },
    {
      "cell_type": "code",
      "source": [
        "X = pd.read_csv(\"/content/X.csv\")\n",
        "T = pd.read_csv(\"/content/T.csv\")\n",
        "X_train = pd.read_csv(\"/content/X_train.csv\")\n",
        "T_train = pd.read_csv(\"/content/T_train.csv\")\n",
        "X_test = pd.read_csv(\"/content/X_test.csv\")\n",
        "T_test = pd.read_csv(\"/content/T_test.csv\")\n",
        "Y = pd.read_csv(\"/content/Y.csv\")\n",
        "Y_train = pd.read_csv(\"/content/Y_train.csv\")\n",
        "Y_test = pd.read_csv(\"/content/Y_test.csv\")\n",
        "\n",
        "\n",
        "#(1)Continuous outcome: Minimum serum potassium within 48 hours \n",
        "Y1B = Y.iloc[:, 1]\n",
        "Y1B_train = Y_train.iloc[:, 1]\n",
        "Y1B_test = Y_test.iloc[:, 1]\n",
        "\n",
        "XT = pd.concat([X, pd.DataFrame(T, columns=['treated'])], axis=1)\n",
        "XT_train = pd.concat([X_train, pd.DataFrame(T_train, columns=['treated'])], axis=1)\n",
        "XT_test = pd.concat([X_test, pd.DataFrame(T_test, columns=['treated'])], axis=1)\n",
        "\n",
        "XTY1B = pd.concat([XT, pd.DataFrame(Y1B, columns=[\"0_48_min_k\"])], axis=1)\n",
        "XTY1B_train = pd.concat([XT_train, pd.DataFrame(Y1B_train, columns=[\"0_48_min_k\"])], axis=1)\n",
        "XTY1B_test = pd.concat([XT_test, pd.DataFrame(Y1B_test, columns=[\"0_48_min_k\"])], axis=1)\n",
        "\n",
        "T.set_index(\"stay_id\", inplace=True)\n",
        "X_train.set_index(\"stay_id\", inplace=True)\n",
        "X_test.set_index(\"stay_id\", inplace=True)\n",
        "Y_train.set_index(\"stay_id\", inplace=True)\n",
        "Y_test.set_index(\"stay_id\", inplace=True)\n",
        "T_train.set_index(\"stay_id\", inplace=True)\n",
        "T_test.set_index(\"stay_id\", inplace=True)"
      ],
      "metadata": {
        "id": "3KtqmRbRHZ2d"
      },
      "execution_count": null,
      "outputs": []
    },
    {
      "cell_type": "code",
      "source": [
        "treatment = \"treated\"\n",
        "outcome = \"0_48_min_k\"\n",
        "graph_file = \"/content/graph_with_labels.dot\""
      ],
      "metadata": {
        "id": "t4T-CnJ1P0Jf"
      },
      "execution_count": null,
      "outputs": []
    },
    {
      "cell_type": "code",
      "source": [
        "print(graph_file)"
      ],
      "metadata": {
        "colab": {
          "base_uri": "https://localhost:8080/"
        },
        "id": "rYQHKTInWnng",
        "outputId": "26f01dc4-5ab3-4ad0-f2e8-a86919665a5a"
      },
      "execution_count": null,
      "outputs": [
        {
          "output_type": "stream",
          "name": "stdout",
          "text": [
            "/content/graph_with_labels.dot\n"
          ]
        }
      ]
    },
    {
      "cell_type": "code",
      "source": [
        "forestdrl = forestdrl.dowhy"
      ],
      "metadata": {
        "id": "da8bC3X5zUWu"
      },
      "execution_count": null,
      "outputs": []
    },
    {
      "cell_type": "code",
      "source": [
        "forestdrl.fit(Y1B_train, T_train, X=X_train)"
      ],
      "metadata": {
        "id": "yljwwwR8uDmo",
        "colab": {
          "base_uri": "https://localhost:8080/"
        },
        "outputId": "e62b06c4-0b4d-4b56-e805-ee67c16b1084"
      },
      "execution_count": null,
      "outputs": [
        {
          "output_type": "stream",
          "name": "stderr",
          "text": [
            "WARNING:dowhy.causal_model:Causal Graph not provided. DoWhy will construct a graph based on data inputs.\n",
            "WARNING:dowhy.causal_identifier:Max number of iterations 100000 reached. Could not find a valid backdoor set.\n"
          ]
        },
        {
          "output_type": "execute_result",
          "data": {
            "text/plain": [
              "<econml.dowhy.DoWhyWrapper at 0x7f25f4326700>"
            ]
          },
          "metadata": {},
          "execution_count": 13
        }
      ]
    },
    {
      "cell_type": "code",
      "source": [
        "forestdrl_res = forestdrl.refute_estimate(method_name=\"random_common_cause\", num_simulations=5, random_seed=123)"
      ],
      "metadata": {
        "colab": {
          "base_uri": "https://localhost:8080/",
          "height": 191
        },
        "id": "pzJEw-2r8_yy",
        "outputId": "1cdaf394-7afd-4396-84fc-6b3a89f9b27b"
      },
      "execution_count": null,
      "outputs": [
        {
          "output_type": "error",
          "ename": "AttributeError",
          "evalue": "ignored",
          "traceback": [
            "\u001b[0;31m---------------------------------------------------------------------------\u001b[0m",
            "\u001b[0;31mAttributeError\u001b[0m                            Traceback (most recent call last)",
            "\u001b[0;32m<ipython-input-165-ae35bb16a00d>\u001b[0m in \u001b[0;36m<module>\u001b[0;34m\u001b[0m\n\u001b[0;32m----> 1\u001b[0;31m \u001b[0mforestdrl_res\u001b[0m \u001b[0;34m=\u001b[0m \u001b[0mforestdrl\u001b[0m\u001b[0;34m.\u001b[0m\u001b[0mrefute_estimate\u001b[0m\u001b[0;34m(\u001b[0m\u001b[0mmethod_name\u001b[0m\u001b[0;34m=\u001b[0m\u001b[0;34m\"random_common_cause\"\u001b[0m\u001b[0;34m,\u001b[0m \u001b[0mnum_simulations\u001b[0m\u001b[0;34m=\u001b[0m\u001b[0;36m5\u001b[0m\u001b[0;34m,\u001b[0m \u001b[0mrandom_seed\u001b[0m\u001b[0;34m=\u001b[0m\u001b[0;36m123\u001b[0m\u001b[0;34m)\u001b[0m\u001b[0;34m\u001b[0m\u001b[0;34m\u001b[0m\u001b[0m\n\u001b[0m",
            "\u001b[0;31mAttributeError\u001b[0m: 'ForestDRLearner' object has no attribute 'refute_estimate'"
          ]
        }
      ]
    },
    {
      "cell_type": "markdown",
      "source": [
        "####  Subgroup analysis "
      ],
      "metadata": {
        "id": "2ImTzhLzOMCO"
      }
    },
    {
      "cell_type": "code",
      "source": [
        "#Only include patients that have an observation \n",
        "XTY = pd.read_csv(\"/content/XTY.csv\")\n",
        "XTY = XTY[XTY[\"age\"]>0.6586]"
      ],
      "metadata": {
        "id": "OF5T1T3IOIl6"
      },
      "execution_count": 284,
      "outputs": []
    },
    {
      "cell_type": "code",
      "source": [
        "print(XTY.shape)"
      ],
      "metadata": {
        "colab": {
          "base_uri": "https://localhost:8080/"
        },
        "id": "Fy0D8wkoOXly",
        "outputId": "2b551e2f-1689-4001-d408-53ecf40c058b"
      },
      "execution_count": 289,
      "outputs": [
        {
          "output_type": "stream",
          "name": "stdout",
          "text": [
            "(2595, 199)\n"
          ]
        }
      ]
    },
    {
      "cell_type": "code",
      "source": [
        "XTY_train, XTY_test = train_test_split(XTY, test_size=0.2, random_state=123)"
      ],
      "metadata": {
        "id": "vM3nxM9WPEed"
      },
      "execution_count": 290,
      "outputs": []
    },
    {
      "cell_type": "code",
      "source": [
        "#(1.2) Build a model\n",
        "Y_train = XTY_train[\"0_48_min_k\"].to_numpy()\n",
        "T_train = XTY_train[\"treated\"].to_numpy()\n",
        "X_train= XTY_train[W_columns].to_numpy().reshape(-1, 50)\n",
        "X_test = XTY_test[W_columns].to_numpy().reshape(-1, 50)"
      ],
      "metadata": {
        "id": "qQwiLWhIOXqv"
      },
      "execution_count": 287,
      "outputs": []
    },
    {
      "cell_type": "code",
      "source": [
        "cv = KFold(n_splits=3, shuffle=True, random_state=123)\n",
        "forestdrl = ForestDRLearner(model_regression=model_ytb, model_propensity=model_tb, cv=cv, min_samples_leaf=10, verbose=0, min_weight_fraction_leaf=.005, random_state=123)\n",
        "forestdrl.fit(Y_train, T_train, X=X_train,cache_values=True)\n",
        "# Estimate treatment effects on test data\n",
        "forestdrl_te = forestdrl.effect(X_test)\n",
        "lb, ub = forestdrl.effect_interval(X_test, alpha=0.1)\n",
        "forestdrl_te_inference = forestdrl.effect_inference(X_test).population_summary(alpha=0.1, value=0, decimals=3, tol=0.001)\n",
        "print(forestdrl_te_inference)"
      ],
      "metadata": {
        "colab": {
          "base_uri": "https://localhost:8080/"
        },
        "id": "ZW-h7ACbOkMI",
        "outputId": "e9cf978c-3af1-4614-acc3-f2349058b4a6"
      },
      "execution_count": 291,
      "outputs": [
        {
          "output_type": "stream",
          "name": "stdout",
          "text": [
            "               Uncertainty of Mean Point Estimate              \n",
            "===============================================================\n",
            "mean_point stderr_mean zstat pvalue ci_mean_lower ci_mean_upper\n",
            "---------------------------------------------------------------\n",
            "     0.026       0.043 0.606  0.545        -0.045         0.097\n",
            "      Distribution of Point Estimate     \n",
            "=========================================\n",
            "std_point pct_point_lower pct_point_upper\n",
            "-----------------------------------------\n",
            "    0.024          -0.008           0.066\n",
            "     Total Variance of Point Estimate     \n",
            "==========================================\n",
            "stderr_point ci_point_lower ci_point_upper\n",
            "------------------------------------------\n",
            "       0.049          -0.05          0.109\n",
            "------------------------------------------\n",
            "\n",
            "Note: The stderr_mean is a conservative upper bound.\n"
          ]
        }
      ]
    },
    {
      "cell_type": "markdown",
      "source": [
        "### 1.2 Max outcome serum potassium"
      ],
      "metadata": {
        "id": "4vbKF2T7TVst"
      }
    },
    {
      "cell_type": "code",
      "source": [
        "W_columns = ['sequence_icu', 'sequence_hadm', 'diff_intime_admittime_day', 'male', 'age', 'weight', 'admission_type_emergency', 'adm_med', 'adm_surg', 'careunit_MICU/SICU', 'careunit_CVICU', 'careunit_TSICU', 'careunit_CCU', \n",
        "                    'bun', 'cl', 'crea_pre', 'glu', 'mg', 'k_pre', 'na', 'plt', 'urine', 'o2sat', 'resp', 'hr', 'map', 'temp','antiplatelet','beta_agonist', 'beta_blocker', 'cort', 'dex',\n",
        "                     'furosemide', 'h2_antagonist', 'heparinoid', 'ins', 'k_supp', 'lax', 'nsaid','vaso_ind', 'coag', 'copd', 'depress', 'dm', 'hypothy', 'liver', 'htn', 'valve', 'mech_vent_invasive','supp_o2']"
      ],
      "metadata": {
        "id": "WleORojbuP1w"
      },
      "execution_count": 18,
      "outputs": []
    },
    {
      "cell_type": "code",
      "source": [
        "#Build a model\n",
        "Y_train = XTY_train[\"0_48_max_k\"].to_numpy()\n",
        "T_train = XTY_train[\"treated\"].to_numpy()\n",
        "X_train= XTY_train[W_columns].to_numpy().reshape(-1, 50)\n",
        "X_test = XTY_test[W_columns].to_numpy().reshape(-1, 50)"
      ],
      "metadata": {
        "id": "c8IWD9t9DrnF"
      },
      "execution_count": 19,
      "outputs": []
    },
    {
      "cell_type": "code",
      "source": [
        "cv = KFold(n_splits=3, shuffle=True, random_state=123)\n",
        "forestdrl = ForestDRLearner(model_regression=model_ytb, model_propensity=model_tb, cv=cv, min_samples_leaf=10, verbose=0, min_weight_fraction_leaf=.005, random_state=seed)\n",
        "forestdrl.fit(Y_train, T_train, X=X_train, cache_values=True)\n",
        "# Estimate treatment effects on test data\n",
        "forestdrl_te = forestdrl.effect(X_test)\n",
        "forestdrl_te_inference = forestdrl.effect_inference(X_test).population_summary(alpha=0.1, value=0, decimals=3, tol=0.001)\n",
        "print(forestdrl_te_inference)\n"
      ],
      "metadata": {
        "colab": {
          "base_uri": "https://localhost:8080/"
        },
        "id": "FfUPH9p2UBbd",
        "outputId": "4796dbbf-a76a-4de6-c279-1e707c73d095"
      },
      "execution_count": 20,
      "outputs": [
        {
          "output_type": "stream",
          "name": "stdout",
          "text": [
            "               Uncertainty of Mean Point Estimate              \n",
            "===============================================================\n",
            "mean_point stderr_mean zstat pvalue ci_mean_lower ci_mean_upper\n",
            "---------------------------------------------------------------\n",
            "     0.042       0.054 0.785  0.432        -0.046         0.131\n",
            "      Distribution of Point Estimate     \n",
            "=========================================\n",
            "std_point pct_point_lower pct_point_upper\n",
            "-----------------------------------------\n",
            "    0.028           0.001           0.088\n",
            "     Total Variance of Point Estimate     \n",
            "==========================================\n",
            "stderr_point ci_point_lower ci_point_upper\n",
            "------------------------------------------\n",
            "        0.06         -0.052          0.144\n",
            "------------------------------------------\n",
            "\n",
            "Note: The stderr_mean is a conservative upper bound.\n"
          ]
        }
      ]
    },
    {
      "cell_type": "markdown",
      "source": [
        "### 1.3 Mean outcome serum potassium "
      ],
      "metadata": {
        "id": "fy3iikozEZsv"
      }
    },
    {
      "cell_type": "code",
      "source": [
        "W_columns = ['sequence_icu', 'sequence_hadm', 'diff_intime_admittime_day', 'male', 'age', 'weight', 'admission_type_emergency', 'adm_med', 'adm_surg', 'careunit_MICU/SICU', 'careunit_CVICU', 'careunit_TSICU', 'careunit_CCU', \n",
        "                    'bun', 'cl', 'crea_pre', 'glu', 'mg', 'k_pre', 'na', 'plt', 'urine', 'o2sat', 'resp', 'hr', 'map', 'temp','antiplatelet','beta_agonist', 'beta_blocker', 'cort', 'dex',\n",
        "                     'furosemide', 'h2_antagonist', 'heparinoid', 'ins', 'k_supp', 'lax', 'nsaid','vaso_ind', 'coag', 'copd', 'depress', 'dm', 'hypothy', 'liver', 'htn', 'valve', 'mech_vent_invasive','supp_o2']"
      ],
      "metadata": {
        "id": "YZq10o8EdgP5"
      },
      "execution_count": 21,
      "outputs": []
    },
    {
      "cell_type": "code",
      "source": [
        "#Build a model\n",
        "Y_train = XTY_train[\"0_48_mean_k\"].to_numpy()\n",
        "T_train = XTY_train[\"treated\"].to_numpy()\n",
        "X_train= XTY_train[W_columns].to_numpy().reshape(-1, 50)\n",
        "X_test = XTY_test[W_columns].to_numpy().reshape(-1, 50)"
      ],
      "metadata": {
        "id": "9m6rsqcdEjqQ"
      },
      "execution_count": 22,
      "outputs": []
    },
    {
      "cell_type": "code",
      "source": [
        "cv = KFold(n_splits=3, shuffle=True, random_state=123)\n",
        "forestdrl = ForestDRLearner(model_regression=model_ytb, model_propensity=model_tb, cv=cv, min_samples_leaf=10, verbose=0, min_weight_fraction_leaf=.005, random_state=seed)\n",
        "forestdrl.fit(Y_train, T_train, X=X_train, cache_values=True)\n",
        "# Estimate treatment effects on test data\n",
        "forestdrl_te = forestdrl.effect(X_test)\n",
        "forestdrl_te_inference = forestdrl.effect_inference(X_test).population_summary(alpha=0.1, value=0, decimals=3, tol=0.001)\n",
        "print(forestdrl_te_inference)"
      ],
      "metadata": {
        "colab": {
          "base_uri": "https://localhost:8080/"
        },
        "id": "LiIbM1U8Eqwj",
        "outputId": "89b479b6-f390-4e61-fd2b-ceec3bf5f109"
      },
      "execution_count": 23,
      "outputs": [
        {
          "output_type": "stream",
          "name": "stdout",
          "text": [
            "               Uncertainty of Mean Point Estimate              \n",
            "===============================================================\n",
            "mean_point stderr_mean zstat pvalue ci_mean_lower ci_mean_upper\n",
            "---------------------------------------------------------------\n",
            "     0.026       0.042 0.613   0.54        -0.043         0.095\n",
            "      Distribution of Point Estimate     \n",
            "=========================================\n",
            "std_point pct_point_lower pct_point_upper\n",
            "-----------------------------------------\n",
            "     0.02          -0.006            0.06\n",
            "     Total Variance of Point Estimate     \n",
            "==========================================\n",
            "stderr_point ci_point_lower ci_point_upper\n",
            "------------------------------------------\n",
            "       0.047         -0.048          0.104\n",
            "------------------------------------------\n",
            "\n",
            "Note: The stderr_mean is a conservative upper bound.\n"
          ]
        }
      ]
    },
    {
      "cell_type": "code",
      "source": [],
      "metadata": {
        "id": "o17l2fofEs4H"
      },
      "execution_count": null,
      "outputs": []
    },
    {
      "cell_type": "markdown",
      "source": [
        "## 2. Time: 0-24 "
      ],
      "metadata": {
        "id": "oV52rz1b6YpV"
      }
    },
    {
      "cell_type": "markdown",
      "source": [
        "### 2.1 Continous outcome: Min serum potassium (0,24)"
      ],
      "metadata": {
        "id": "_HVkAE88FH1p"
      }
    },
    {
      "cell_type": "code",
      "source": [
        "#Only include patients that have an observation \n",
        "XTY = pd.read_csv(\"/content/XTY.csv\")\n",
        "XTY = XTY[XTY[\"0_24_min_k\"].notnull()]"
      ],
      "metadata": {
        "id": "Kxt6ql8IFeBi"
      },
      "execution_count": 24,
      "outputs": []
    },
    {
      "cell_type": "code",
      "source": [
        "XTY_train, XTY_test = train_test_split(XTY, test_size=0.2, random_state=123)"
      ],
      "metadata": {
        "id": "8NSEFwsTFhZk"
      },
      "execution_count": 25,
      "outputs": []
    },
    {
      "cell_type": "code",
      "source": [
        "print(XTY_train.shape)"
      ],
      "metadata": {
        "colab": {
          "base_uri": "https://localhost:8080/"
        },
        "id": "U7aIL40vF0QC",
        "outputId": "253400c8-ac0f-4459-f3b9-3fefd306124e"
      },
      "execution_count": 26,
      "outputs": [
        {
          "output_type": "stream",
          "name": "stdout",
          "text": [
            "(3710, 151)\n"
          ]
        }
      ]
    },
    {
      "cell_type": "code",
      "source": [
        "#Build a model\n",
        "Y_train = XTY_train[\"0_24_min_k\"].to_numpy()\n",
        "T_train = XTY_train[\"treated\"].to_numpy()\n",
        "X_train= XTY_train[W_columns].to_numpy().reshape(-1, 50)\n",
        "X_test = XTY_test[W_columns].to_numpy().reshape(-1, 50)"
      ],
      "metadata": {
        "id": "kOO4ofc5FCnx"
      },
      "execution_count": 28,
      "outputs": []
    },
    {
      "cell_type": "code",
      "source": [
        "cv = KFold(n_splits=3, shuffle=True, random_state=123)\n",
        "forestdrl = ForestDRLearner(model_regression=model_ytb, model_propensity=model_tb, cv=cv, min_samples_leaf=10, verbose=0, min_weight_fraction_leaf=.005, random_state=seed)\n",
        "forestdrl.fit(Y_train, T_train, X=X_train, cache_values=True)\n",
        "forestdrl_te = forestdrl.effect(X_test)\n",
        "forestdrl_te_inference = forestdrl.effect_inference(X_test).population_summary(alpha=0.1, value=0, decimals=3, tol=0.001)\n",
        "print(forestdrl_te_inference)"
      ],
      "metadata": {
        "colab": {
          "base_uri": "https://localhost:8080/"
        },
        "id": "6KMnwgWmF8i_",
        "outputId": "e93f648d-0770-486e-87a4-d323f3407984"
      },
      "execution_count": 29,
      "outputs": [
        {
          "output_type": "stream",
          "name": "stdout",
          "text": [
            "               Uncertainty of Mean Point Estimate              \n",
            "===============================================================\n",
            "mean_point stderr_mean zstat pvalue ci_mean_lower ci_mean_upper\n",
            "---------------------------------------------------------------\n",
            "      0.01       0.044 0.225  0.822        -0.062         0.082\n",
            "      Distribution of Point Estimate     \n",
            "=========================================\n",
            "std_point pct_point_lower pct_point_upper\n",
            "-----------------------------------------\n",
            "    0.017          -0.017           0.039\n",
            "     Total Variance of Point Estimate     \n",
            "==========================================\n",
            "stderr_point ci_point_lower ci_point_upper\n",
            "------------------------------------------\n",
            "       0.047         -0.066          0.087\n",
            "------------------------------------------\n",
            "\n",
            "Note: The stderr_mean is a conservative upper bound.\n"
          ]
        }
      ]
    },
    {
      "cell_type": "markdown",
      "source": [
        "### 2.3 Max outcome serum potassium"
      ],
      "metadata": {
        "id": "OmdxCIfvGdMG"
      }
    },
    {
      "cell_type": "code",
      "source": [
        "#Build a model\n",
        "Y_train = XTY_train[\"0_24_max_k\"].to_numpy()\n",
        "T_train = XTY_train[\"treated\"].to_numpy()\n",
        "X_train= XTY_train[W_columns].to_numpy().reshape(-1, 50)\n",
        "X_test = XTY_test[W_columns].to_numpy().reshape(-1, 50)"
      ],
      "metadata": {
        "id": "48z5WPYLGjno"
      },
      "execution_count": 30,
      "outputs": []
    },
    {
      "cell_type": "code",
      "source": [
        "#Estimate the effect \n",
        "cv = KFold(n_splits=3, shuffle=True, random_state=123)\n",
        "forestdrl = ForestDRLearner(model_regression=model_ytb, model_propensity=model_tb, cv=cv, min_samples_leaf=10, verbose=0, min_weight_fraction_leaf=.005, random_state=seed)\n",
        "forestdrl.fit(Y_train, T_train, X=X_train, cache_values=True)\n",
        "forestdrl_te = forestdrl.effect(X_test)\n",
        "forestdrl_te_inference = forestdrl.effect_inference(X_test).population_summary(alpha=0.1, value=0, decimals=3, tol=0.001)\n",
        "print(forestdrl_te_inference)"
      ],
      "metadata": {
        "colab": {
          "base_uri": "https://localhost:8080/"
        },
        "id": "vRMnH8PVGpkl",
        "outputId": "1c1d5e45-0d75-4d22-a068-b9dd517467c8"
      },
      "execution_count": 31,
      "outputs": [
        {
          "output_type": "stream",
          "name": "stdout",
          "text": [
            "               Uncertainty of Mean Point Estimate              \n",
            "===============================================================\n",
            "mean_point stderr_mean zstat pvalue ci_mean_lower ci_mean_upper\n",
            "---------------------------------------------------------------\n",
            "     0.041       0.046 0.896   0.37        -0.034         0.116\n",
            "      Distribution of Point Estimate     \n",
            "=========================================\n",
            "std_point pct_point_lower pct_point_upper\n",
            "-----------------------------------------\n",
            "    0.023           0.006           0.081\n",
            "     Total Variance of Point Estimate     \n",
            "==========================================\n",
            "stderr_point ci_point_lower ci_point_upper\n",
            "------------------------------------------\n",
            "       0.051         -0.039          0.127\n",
            "------------------------------------------\n",
            "\n",
            "Note: The stderr_mean is a conservative upper bound.\n"
          ]
        }
      ]
    },
    {
      "cell_type": "markdown",
      "source": [
        "### 2.3  Mean outcome serum potassium"
      ],
      "metadata": {
        "id": "SjoLsOObHdgX"
      }
    },
    {
      "cell_type": "code",
      "source": [
        "#Build a model\n",
        "Y_train = XTY_train[\"0_24_mean_k\"].to_numpy()\n",
        "T_train = XTY_train[\"treated\"].to_numpy()\n",
        "X_train= XTY_train[W_columns].to_numpy().reshape(-1, 50)\n",
        "X_test = XTY_test[W_columns].to_numpy().reshape(-1, 50)"
      ],
      "metadata": {
        "id": "tT8nGgEbHoLP"
      },
      "execution_count": 32,
      "outputs": []
    },
    {
      "cell_type": "code",
      "source": [
        "#Estimate the effect \n",
        "cv = KFold(n_splits=3, shuffle=True, random_state=123)\n",
        "forestdrl = ForestDRLearner(model_regression=model_ytb, model_propensity=model_tb, cv=cv, min_samples_leaf=10, verbose=0, min_weight_fraction_leaf=.005, random_state=seed)\n",
        "forestdrl.fit(Y_train, T_train, X=X_train, cache_values=True)\n",
        "forestdrl_te = forestdrl.effect(X_test)\n",
        "forestdrl_te_inference = forestdrl.effect_inference(X_test).population_summary(alpha=0.1, value=0, decimals=3, tol=0.001)\n",
        "print(forestdrl_te_inference)"
      ],
      "metadata": {
        "colab": {
          "base_uri": "https://localhost:8080/"
        },
        "id": "-9k4FLjiIgpt",
        "outputId": "4fbb8ed2-a109-42e6-cb0a-9fde98d64593"
      },
      "execution_count": 33,
      "outputs": [
        {
          "output_type": "stream",
          "name": "stdout",
          "text": [
            "               Uncertainty of Mean Point Estimate              \n",
            "===============================================================\n",
            "mean_point stderr_mean zstat pvalue ci_mean_lower ci_mean_upper\n",
            "---------------------------------------------------------------\n",
            "     0.023       0.042  0.54  0.589        -0.046         0.091\n",
            "      Distribution of Point Estimate     \n",
            "=========================================\n",
            "std_point pct_point_lower pct_point_upper\n",
            "-----------------------------------------\n",
            "    0.018          -0.005           0.054\n",
            "     Total Variance of Point Estimate     \n",
            "==========================================\n",
            "stderr_point ci_point_lower ci_point_upper\n",
            "------------------------------------------\n",
            "       0.045          -0.05          0.098\n",
            "------------------------------------------\n",
            "\n",
            "Note: The stderr_mean is a conservative upper bound.\n"
          ]
        }
      ]
    },
    {
      "cell_type": "markdown",
      "source": [
        "## 3. Time: 0-12 "
      ],
      "metadata": {
        "id": "6BMF4wV36pFP"
      }
    },
    {
      "cell_type": "markdown",
      "source": [
        "### 3.1 Min outcome serum potassium "
      ],
      "metadata": {
        "id": "Fx30GTmQIk19"
      }
    },
    {
      "cell_type": "code",
      "source": [
        "#Only include patients that have an observation \n",
        "XTY = pd.read_csv(\"/content/XTY.csv\")\n",
        "XTY = XTY[XTY[\"0_12_min_k\"].notnull()]"
      ],
      "metadata": {
        "id": "raLyOVpiJJtE"
      },
      "execution_count": 34,
      "outputs": []
    },
    {
      "cell_type": "code",
      "source": [
        "XTY_train, XTY_test = train_test_split(XTY, test_size=0.2, random_state=123)"
      ],
      "metadata": {
        "id": "pmUrpENNJTQZ"
      },
      "execution_count": 35,
      "outputs": []
    },
    {
      "cell_type": "code",
      "source": [
        "print(XTY_train.shape)"
      ],
      "metadata": {
        "colab": {
          "base_uri": "https://localhost:8080/"
        },
        "id": "uhB0p04mJUad",
        "outputId": "ca69c127-4ec7-4e8c-f25e-0222f7cc2ce4"
      },
      "execution_count": 36,
      "outputs": [
        {
          "output_type": "stream",
          "name": "stdout",
          "text": [
            "(2568, 151)\n"
          ]
        }
      ]
    },
    {
      "cell_type": "code",
      "source": [
        "#Build a model\n",
        "Y_train = XTY_train[\"0_12_min_k\"].to_numpy()\n",
        "T_train = XTY_train[\"treated\"].to_numpy()\n",
        "X_train= XTY_train[W_columns].to_numpy().reshape(-1, 50)\n",
        "X_test = XTY_test[W_columns].to_numpy().reshape(-1, 50)"
      ],
      "metadata": {
        "id": "dCVzrFLSIsE_"
      },
      "execution_count": 37,
      "outputs": []
    },
    {
      "cell_type": "code",
      "source": [
        "#Estimate the effect \n",
        "cv = KFold(n_splits=3, shuffle=True, random_state=123)\n",
        "forestdrl = ForestDRLearner(model_regression=model_ytb, model_propensity=model_tb, cv=cv, min_samples_leaf=10, verbose=0, min_weight_fraction_leaf=.005, random_state=seed)\n",
        "forestdrl.fit(Y_train, T_train, X=X_train, cache_values=True)\n",
        "forestdrl_te = forestdrl.effect(X_test)\n",
        "forestdrl_te_inference = forestdrl.effect_inference(X_test).population_summary(alpha=0.1, value=0, decimals=3, tol=0.001)\n",
        "print(forestdrl_te_inference)"
      ],
      "metadata": {
        "colab": {
          "base_uri": "https://localhost:8080/"
        },
        "id": "a_gTQQa8I7jH",
        "outputId": "1a4bdf87-4f58-4950-a435-dd4004cbc7b3"
      },
      "execution_count": 38,
      "outputs": [
        {
          "output_type": "stream",
          "name": "stdout",
          "text": [
            "               Uncertainty of Mean Point Estimate              \n",
            "===============================================================\n",
            "mean_point stderr_mean zstat pvalue ci_mean_lower ci_mean_upper\n",
            "---------------------------------------------------------------\n",
            "     0.029       0.046 0.629   0.53        -0.047         0.105\n",
            "      Distribution of Point Estimate     \n",
            "=========================================\n",
            "std_point pct_point_lower pct_point_upper\n",
            "-----------------------------------------\n",
            "    0.022           -0.01           0.063\n",
            "     Total Variance of Point Estimate     \n",
            "==========================================\n",
            "stderr_point ci_point_lower ci_point_upper\n",
            "------------------------------------------\n",
            "       0.051         -0.056          0.111\n",
            "------------------------------------------\n",
            "\n",
            "Note: The stderr_mean is a conservative upper bound.\n"
          ]
        }
      ]
    },
    {
      "cell_type": "markdown",
      "source": [
        "### 3.2 Max outcome serum potassium"
      ],
      "metadata": {
        "id": "NqGNuczlTU9d"
      }
    },
    {
      "cell_type": "code",
      "source": [
        "#Build a model\n",
        "Y_train = XTY_train[\"0_12_max_k\"].to_numpy()\n",
        "T_train = XTY_train[\"treated\"].to_numpy()\n",
        "X_train= XTY_train[W_columns].to_numpy().reshape(-1, 50)\n",
        "X_test = XTY_test[W_columns].to_numpy().reshape(-1, 50)"
      ],
      "metadata": {
        "id": "5NgeXcW4Tj3L"
      },
      "execution_count": 39,
      "outputs": []
    },
    {
      "cell_type": "code",
      "source": [
        "#Estimate the effect \n",
        "cv = KFold(n_splits=3, shuffle=True, random_state=123)\n",
        "forestdrl = ForestDRLearner(model_regression=model_ytb, model_propensity=model_tb, cv=cv, min_samples_leaf=10, verbose=0, min_weight_fraction_leaf=.005, random_state=seed)\n",
        "forestdrl.fit(Y_train, T_train, X=X_train, cache_values=True)\n",
        "forestdrl_te = forestdrl.effect(X_test)\n",
        "forestdrl_te_inference = forestdrl.effect_inference(X_test).population_summary(alpha=0.1, value=0, decimals=3, tol=0.001)\n",
        "print(forestdrl_te_inference)"
      ],
      "metadata": {
        "id": "3oN6Ibn2Tt7K",
        "outputId": "e68884a7-115d-4bda-ed8b-5de8cfbe85af",
        "colab": {
          "base_uri": "https://localhost:8080/"
        }
      },
      "execution_count": 40,
      "outputs": [
        {
          "output_type": "stream",
          "name": "stdout",
          "text": [
            "               Uncertainty of Mean Point Estimate              \n",
            "===============================================================\n",
            "mean_point stderr_mean zstat pvalue ci_mean_lower ci_mean_upper\n",
            "---------------------------------------------------------------\n",
            "     0.034       0.049 0.688  0.491        -0.047         0.115\n",
            "      Distribution of Point Estimate     \n",
            "=========================================\n",
            "std_point pct_point_lower pct_point_upper\n",
            "-----------------------------------------\n",
            "    0.023          -0.004           0.071\n",
            "     Total Variance of Point Estimate     \n",
            "==========================================\n",
            "stderr_point ci_point_lower ci_point_upper\n",
            "------------------------------------------\n",
            "       0.055         -0.053          0.124\n",
            "------------------------------------------\n",
            "\n",
            "Note: The stderr_mean is a conservative upper bound.\n"
          ]
        }
      ]
    },
    {
      "cell_type": "markdown",
      "source": [
        "### 3.3 Mean outcome serum potassium"
      ],
      "metadata": {
        "id": "gop8zzmswWzp"
      }
    },
    {
      "cell_type": "code",
      "source": [
        "#Build a model\n",
        "Y_train = XTY_train[\"0_12_mean_k\"].to_numpy()\n",
        "T_train = XTY_train[\"treated\"].to_numpy()\n",
        "X_train= XTY_train[W_columns].to_numpy().reshape(-1, 50)\n",
        "X_test = XTY_test[W_columns].to_numpy().reshape(-1, 50)"
      ],
      "metadata": {
        "id": "4JK8sN_RwcKO"
      },
      "execution_count": 41,
      "outputs": []
    },
    {
      "cell_type": "code",
      "source": [
        "#Estimate the effect \n",
        "cv = KFold(n_splits=3, shuffle=True, random_state=123)\n",
        "forestdrl = ForestDRLearner(model_regression=model_ytb, model_propensity=model_tb, cv=cv, min_samples_leaf=10, verbose=0, min_weight_fraction_leaf=.005, random_state=seed)\n",
        "forestdrl.fit(Y_train, T_train, X=X_train, cache_values=True)\n",
        "forestdrl_te = forestdrl.effect(X_test)\n",
        "forestdrl_te_inference = forestdrl.effect_inference(X_test).population_summary(alpha=0.1, value=0, decimals=3, tol=0.001)\n",
        "print(forestdrl_te_inference)"
      ],
      "metadata": {
        "colab": {
          "base_uri": "https://localhost:8080/"
        },
        "id": "jkrg1mhawfi3",
        "outputId": "f934c2ea-4aa7-4ced-f30f-43a81ad55dfe"
      },
      "execution_count": 42,
      "outputs": [
        {
          "output_type": "stream",
          "name": "stdout",
          "text": [
            "               Uncertainty of Mean Point Estimate              \n",
            "===============================================================\n",
            "mean_point stderr_mean zstat pvalue ci_mean_lower ci_mean_upper\n",
            "---------------------------------------------------------------\n",
            "     0.031       0.046 0.678  0.498        -0.044         0.106\n",
            "      Distribution of Point Estimate     \n",
            "=========================================\n",
            "std_point pct_point_lower pct_point_upper\n",
            "-----------------------------------------\n",
            "    0.024           -0.01           0.065\n",
            "     Total Variance of Point Estimate     \n",
            "==========================================\n",
            "stderr_point ci_point_lower ci_point_upper\n",
            "------------------------------------------\n",
            "       0.051         -0.054          0.114\n",
            "------------------------------------------\n",
            "\n",
            "Note: The stderr_mean is a conservative upper bound.\n"
          ]
        }
      ]
    },
    {
      "cell_type": "markdown",
      "source": [
        "## 4. Time: 0-6"
      ],
      "metadata": {
        "id": "lKF21U0p63aT"
      }
    },
    {
      "cell_type": "markdown",
      "source": [
        "### 4.1 Min outcome serum potassium"
      ],
      "metadata": {
        "id": "lPQZIPY9w_nq"
      }
    },
    {
      "cell_type": "code",
      "source": [
        "#Only include patients that have an observation \n",
        "XTY = pd.read_csv(\"/content/XTY.csv\")\n",
        "XTY = XTY[XTY[\"0_6_min_k\"].notnull()]"
      ],
      "metadata": {
        "id": "mWTZd0FqxIHP"
      },
      "execution_count": 44,
      "outputs": []
    },
    {
      "cell_type": "code",
      "source": [
        "XTY_train, XTY_test = train_test_split(XTY, test_size=0.2, random_state=123)"
      ],
      "metadata": {
        "id": "fNgtjJkZw58b"
      },
      "execution_count": 45,
      "outputs": []
    },
    {
      "cell_type": "code",
      "source": [
        "print(XTY_train.shape)"
      ],
      "metadata": {
        "colab": {
          "base_uri": "https://localhost:8080/"
        },
        "id": "0zVDXpD3w-ja",
        "outputId": "8b999c2f-db90-40ca-8658-4fe10c330ee6"
      },
      "execution_count": 46,
      "outputs": [
        {
          "output_type": "stream",
          "name": "stdout",
          "text": [
            "(1517, 151)\n"
          ]
        }
      ]
    },
    {
      "cell_type": "code",
      "source": [
        "#Build a model\n",
        "Y_train = XTY_train[\"0_6_min_k\"].to_numpy()\n",
        "T_train = XTY_train[\"treated\"].to_numpy()\n",
        "X_train= XTY_train[W_columns].to_numpy().reshape(-1, 50)\n",
        "X_test = XTY_test[W_columns].to_numpy().reshape(-1, 50)"
      ],
      "metadata": {
        "id": "B-xqXt3xxQps"
      },
      "execution_count": 47,
      "outputs": []
    },
    {
      "cell_type": "code",
      "source": [
        "#Estimate the effect \n",
        "cv = KFold(n_splits=3, shuffle=True, random_state=123)\n",
        "forestdrl = ForestDRLearner(model_regression=model_ytb, model_propensity=model_tb, cv=cv, min_samples_leaf=10, verbose=0, min_weight_fraction_leaf=.005, random_state=seed)\n",
        "forestdrl.fit(Y_train, T_train, X=X_train, cache_values=True)\n",
        "forestdrl_te = forestdrl.effect(X_test)\n",
        "forestdrl_te_inference = forestdrl.effect_inference(X_test).population_summary(alpha=0.1, value=0, decimals=3, tol=0.001)\n",
        "print(forestdrl_te_inference)"
      ],
      "metadata": {
        "colab": {
          "base_uri": "https://localhost:8080/"
        },
        "id": "_zG6UdmwxTFA",
        "outputId": "f818b78e-e6de-44e7-aaa4-cfebeb750c78"
      },
      "execution_count": 48,
      "outputs": [
        {
          "output_type": "stream",
          "name": "stdout",
          "text": [
            "               Uncertainty of Mean Point Estimate              \n",
            "===============================================================\n",
            "mean_point stderr_mean zstat pvalue ci_mean_lower ci_mean_upper\n",
            "---------------------------------------------------------------\n",
            "     0.078       0.061 1.271  0.204        -0.023         0.179\n",
            "      Distribution of Point Estimate     \n",
            "=========================================\n",
            "std_point pct_point_lower pct_point_upper\n",
            "-----------------------------------------\n",
            "     0.05           0.021            0.17\n",
            "     Total Variance of Point Estimate     \n",
            "==========================================\n",
            "stderr_point ci_point_lower ci_point_upper\n",
            "------------------------------------------\n",
            "       0.079         -0.035          0.213\n",
            "------------------------------------------\n",
            "\n",
            "Note: The stderr_mean is a conservative upper bound.\n"
          ]
        }
      ]
    },
    {
      "cell_type": "markdown",
      "source": [
        "### 4.2 Mean outcome serum potassium\n"
      ],
      "metadata": {
        "id": "fhMzFSRFxd5K"
      }
    },
    {
      "cell_type": "code",
      "source": [
        "#Build a model\n",
        "Y_train = XTY_train[\"0_6_mean_k\"].to_numpy()\n",
        "T_train = XTY_train[\"treated\"].to_numpy()\n",
        "X_train= XTY_train[W_columns].to_numpy().reshape(-1, 50)\n",
        "X_test = XTY_test[W_columns].to_numpy().reshape(-1, 50)"
      ],
      "metadata": {
        "id": "cQSXZhHuxjSc"
      },
      "execution_count": 49,
      "outputs": []
    },
    {
      "cell_type": "code",
      "source": [
        "#Estimate the effect \n",
        "cv = KFold(n_splits=3, shuffle=True, random_state=123)\n",
        "forestdrl = ForestDRLearner(model_regression=model_ytb, model_propensity=model_tb, cv=cv, min_samples_leaf=10, verbose=0, min_weight_fraction_leaf=.005, random_state=seed)\n",
        "forestdrl.fit(Y_train, T_train, X=X_train, cache_values=True)\n",
        "forestdrl_te = forestdrl.effect(X_test)\n",
        "forestdrl_te_inference = forestdrl.effect_inference(X_test).population_summary(alpha=0.1, value=0, decimals=3, tol=0.001)\n",
        "print(forestdrl_te_inference)"
      ],
      "metadata": {
        "colab": {
          "base_uri": "https://localhost:8080/"
        },
        "id": "D3KNMpIexsS0",
        "outputId": "16987fdf-d5b5-4cdb-8c03-42da664eb2e0"
      },
      "execution_count": 50,
      "outputs": [
        {
          "output_type": "stream",
          "name": "stdout",
          "text": [
            "               Uncertainty of Mean Point Estimate              \n",
            "===============================================================\n",
            "mean_point stderr_mean zstat pvalue ci_mean_lower ci_mean_upper\n",
            "---------------------------------------------------------------\n",
            "     0.074       0.062 1.205  0.228        -0.027         0.175\n",
            "      Distribution of Point Estimate     \n",
            "=========================================\n",
            "std_point pct_point_lower pct_point_upper\n",
            "-----------------------------------------\n",
            "    0.047           0.025           0.158\n",
            "     Total Variance of Point Estimate     \n",
            "==========================================\n",
            "stderr_point ci_point_lower ci_point_upper\n",
            "------------------------------------------\n",
            "       0.077         -0.036          0.211\n",
            "------------------------------------------\n",
            "\n",
            "Note: The stderr_mean is a conservative upper bound.\n"
          ]
        }
      ]
    },
    {
      "cell_type": "markdown",
      "source": [
        "### 4.3 Max outcome serum potassium"
      ],
      "metadata": {
        "id": "Z83n3t7fx15_"
      }
    },
    {
      "cell_type": "code",
      "source": [
        "#Build a model\n",
        "Y_train = XTY_train[\"0_6_max_k\"].to_numpy()\n",
        "T_train = XTY_train[\"treated\"].to_numpy()\n",
        "X_train= XTY_train[W_columns].to_numpy().reshape(-1, 50)\n",
        "X_test = XTY_test[W_columns].to_numpy().reshape(-1, 50)"
      ],
      "metadata": {
        "id": "vgHwIZjpx_kz"
      },
      "execution_count": 52,
      "outputs": []
    },
    {
      "cell_type": "code",
      "source": [
        "#Estimate the effect \n",
        "cv = KFold(n_splits=3, shuffle=True, random_state=123)\n",
        "forestdrl = ForestDRLearner(model_regression=model_ytb, model_propensity=model_tb, cv=cv, min_samples_leaf=10, verbose=0, min_weight_fraction_leaf=.005, random_state=seed)\n",
        "forestdrl.fit(Y_train, T_train, X=X_train, cache_values=True)\n",
        "forestdrl_te = forestdrl.effect(X_test)\n",
        "forestdrl_te_inference = forestdrl.effect_inference(X_test).population_summary(alpha=0.1, value=0, decimals=3, tol=0.001)\n",
        "print(forestdrl_te_inference)"
      ],
      "metadata": {
        "colab": {
          "base_uri": "https://localhost:8080/"
        },
        "id": "Pw8s7ij6yJxX",
        "outputId": "2b921687-e5da-4422-e27f-cee898bcde9a"
      },
      "execution_count": 53,
      "outputs": [
        {
          "output_type": "stream",
          "name": "stdout",
          "text": [
            "               Uncertainty of Mean Point Estimate              \n",
            "===============================================================\n",
            "mean_point stderr_mean zstat pvalue ci_mean_lower ci_mean_upper\n",
            "---------------------------------------------------------------\n",
            "      0.07       0.061 1.149   0.25         -0.03          0.17\n",
            "      Distribution of Point Estimate     \n",
            "=========================================\n",
            "std_point pct_point_lower pct_point_upper\n",
            "-----------------------------------------\n",
            "    0.046           0.021           0.164\n",
            "     Total Variance of Point Estimate     \n",
            "==========================================\n",
            "stderr_point ci_point_lower ci_point_upper\n",
            "------------------------------------------\n",
            "       0.076          -0.04          0.201\n",
            "------------------------------------------\n",
            "\n",
            "Note: The stderr_mean is a conservative upper bound.\n"
          ]
        }
      ]
    },
    {
      "cell_type": "markdown",
      "source": [
        "## 5. Time: 0-3 "
      ],
      "metadata": {
        "id": "eQrb20y-7el3"
      }
    },
    {
      "cell_type": "markdown",
      "source": [
        "### 5.1 Min outcome serum potassium \n"
      ],
      "metadata": {
        "id": "uM3BkZSbTVDF"
      }
    },
    {
      "cell_type": "code",
      "source": [
        "#Only include patients that have an observation \n",
        "XTY = pd.read_csv(\"/content/XTY.csv\")\n",
        "XTY = XTY[XTY[\"0_3_min_k\"].notnull()]"
      ],
      "metadata": {
        "id": "E-L7WeaZTP-o"
      },
      "execution_count": 304,
      "outputs": []
    },
    {
      "cell_type": "code",
      "source": [
        "XTY_train, XTY_test = train_test_split(XTY, test_size=0.2, random_state=123)"
      ],
      "metadata": {
        "id": "nkr5N_PBTe_s"
      },
      "execution_count": 305,
      "outputs": []
    },
    {
      "cell_type": "code",
      "source": [
        "#Build a model\n",
        "Y_train = XTY_train[\"0_3_min_k\"].to_numpy()\n",
        "T_train = XTY_train[\"treated\"].to_numpy()\n",
        "X_train= XTY_train[W_columns].to_numpy().reshape(-1, 50)\n",
        "X_test = XTY_test[W_columns].to_numpy().reshape(-1, 50)"
      ],
      "metadata": {
        "id": "kSMpusHyTiEY"
      },
      "execution_count": 306,
      "outputs": []
    },
    {
      "cell_type": "code",
      "source": [
        "#Estimate the effect \n",
        "cv = KFold(n_splits=3, shuffle=True, random_state=123)\n",
        "forestdrl = ForestDRLearner(model_regression=model_ytb, model_propensity=model_tb, cv=cv, min_samples_leaf=10, verbose=0, min_weight_fraction_leaf=.005, random_state=seed)\n",
        "forestdrl.fit(Y_train, T_train, X=X_train, cache_values=True)\n",
        "forestdrl_te = forestdrl.effect(X_test)\n",
        "lb, ub = forestdrl.effect_interval(X_test, alpha=0.1)\n",
        "forestdrl_te_inference = forestdrl.effect_inference(X_test).population_summary(alpha=0.1, value=0, decimals=3, tol=0.001)\n",
        "print(forestdrl_te_inference)"
      ],
      "metadata": {
        "colab": {
          "base_uri": "https://localhost:8080/"
        },
        "id": "bwCFY-59TjuS",
        "outputId": "037d2c4e-31ac-446b-a31b-5b3748d3a08b"
      },
      "execution_count": 307,
      "outputs": [
        {
          "output_type": "stream",
          "name": "stdout",
          "text": [
            "               Uncertainty of Mean Point Estimate              \n",
            "===============================================================\n",
            "mean_point stderr_mean zstat pvalue ci_mean_lower ci_mean_upper\n",
            "---------------------------------------------------------------\n",
            "     0.129       0.078  1.65  0.099           0.0         0.257\n",
            "      Distribution of Point Estimate     \n",
            "=========================================\n",
            "std_point pct_point_lower pct_point_upper\n",
            "-----------------------------------------\n",
            "    0.066           0.061            0.24\n",
            "     Total Variance of Point Estimate     \n",
            "==========================================\n",
            "stderr_point ci_point_lower ci_point_upper\n",
            "------------------------------------------\n",
            "       0.102         -0.006          0.286\n",
            "------------------------------------------\n",
            "\n",
            "Note: The stderr_mean is a conservative upper bound.\n"
          ]
        }
      ]
    },
    {
      "cell_type": "code",
      "source": [
        "te_df = pd.DataFrame(forestdrl_te, columns=[\"cate\"])\n",
        "print(te_df)"
      ],
      "metadata": {
        "colab": {
          "base_uri": "https://localhost:8080/"
        },
        "id": "3hn_1wLcqo91",
        "outputId": "7ece52c9-1d00-4c3e-cbdc-d338fa6a7357"
      },
      "execution_count": 166,
      "outputs": [
        {
          "output_type": "stream",
          "name": "stdout",
          "text": [
            "         cate\n",
            "0    0.129178\n",
            "1    0.115349\n",
            "2    0.060067\n",
            "3    0.104885\n",
            "4    0.087879\n",
            "..        ...\n",
            "230  0.097621\n",
            "231  0.149813\n",
            "232  0.120823\n",
            "233  0.097545\n",
            "234  0.089634\n",
            "\n",
            "[235 rows x 1 columns]\n"
          ]
        }
      ]
    },
    {
      "cell_type": "code",
      "source": [
        "lb_df = pd.DataFrame(lb, columns=['lb'])\n",
        "ub_df = pd.DataFrame(ub, columns=['ub'])"
      ],
      "metadata": {
        "id": "o-rnRh4drCX6"
      },
      "execution_count": null,
      "outputs": []
    },
    {
      "cell_type": "code",
      "source": [
        "print(lb_df)"
      ],
      "metadata": {
        "colab": {
          "base_uri": "https://localhost:8080/"
        },
        "id": "RBjL2VeerIZZ",
        "outputId": "df5ef36d-ef0e-4f9c-bd9b-54a2f02869c4"
      },
      "execution_count": 165,
      "outputs": [
        {
          "output_type": "stream",
          "name": "stdout",
          "text": [
            "           lb\n",
            "0    0.030279\n",
            "1   -0.006657\n",
            "2   -0.083113\n",
            "3   -0.032172\n",
            "4    0.025378\n",
            "..        ...\n",
            "230 -0.022322\n",
            "231  0.029072\n",
            "232  0.036441\n",
            "233 -0.042045\n",
            "234 -0.026142\n",
            "\n",
            "[235 rows x 1 columns]\n"
          ]
        }
      ]
    },
    {
      "cell_type": "code",
      "source": [
        "# set plot size\n",
        "fig, ax = plt.subplots(figsize=(12, 8))\n",
        "# plot lines for treatment effects and confidence intervals\n",
        "ax.plot(te_df,\n",
        "        marker='.', linestyle='-', linewidth=0.5, label='CATE', color='indigo')\n",
        "ax.plot(lb,\n",
        "        marker='.', linestyle='-', linewidth=0.5, color='steelblue')\n",
        "ax.plot(ub,\n",
        "        marker='.', linestyle='-', linewidth=0.5, color='steelblue')\n",
        "# label axes and create legend\n",
        "ax.set_ylabel('Treatment Effects')\n",
        "ax.set_xlabel('Number of observations')\n",
        "ax.legend()"
      ],
      "metadata": {
        "colab": {
          "base_uri": "https://localhost:8080/",
          "height": 514
        },
        "id": "8-OPOBXTrOz2",
        "outputId": "38ab7ac6-e022-45c5-8744-995127e79656"
      },
      "execution_count": 174,
      "outputs": [
        {
          "output_type": "execute_result",
          "data": {
            "text/plain": [
              "<matplotlib.legend.Legend at 0x7f38940b0e20>"
            ]
          },
          "metadata": {},
          "execution_count": 174
        },
        {
          "output_type": "display_data",
          "data": {
            "text/plain": [
              "<Figure size 864x576 with 1 Axes>"
            ],
            "image/png": "[encoded data removed]"
          },
          "metadata": {
            "needs_background": "light"
          }
        }
      ]
    },
    {
      "cell_type": "code",
      "source": [
        "forestdrl.feature_importances_"
      ],
      "metadata": {
        "colab": {
          "base_uri": "https://localhost:8080/"
        },
        "id": "NCwX62p7s4Nr",
        "outputId": "9740e648-239d-4226-da6d-96101904df16"
      },
      "execution_count": 181,
      "outputs": [
        {
          "output_type": "execute_result",
          "data": {
            "text/plain": [
              "<bound method ForestModelFinalCateEstimatorDiscreteMixin.feature_importances_ of <econml.dr._drlearner.ForestDRLearner object at 0x7f39c911e1c0>>"
            ]
          },
          "metadata": {},
          "execution_count": 181
        }
      ]
    },
    {
      "cell_type": "code",
      "source": [
        "#Interpret the outcome \n",
        "intrp = SingleTreeCateInterpreter(include_model_uncertainty=False, max_depth=3, min_samples_leaf=10)\n",
        "# We interpret the CATE model's behavior based on the features used for heterogeneity\n",
        "intrp.interpret(forestdrl, X_test)\n",
        "#Render the tree\n",
        "intrp.render(out_file =\"tree_0_3_min_k\",feature_names=W_columns, rotate=True)\n",
        "# Plot the tree\n",
        "intrp.plot(fontsize=8, feature_names=W_columns, rounded = True)"
      ],
      "metadata": {
        "id": "xdyvOVWYl3j6"
      },
      "execution_count": 138,
      "outputs": []
    },
    {
      "cell_type": "markdown",
      "source": [
        "#### Subgroup analysis "
      ],
      "metadata": {
        "id": "PBGUDmynQWL3"
      }
    },
    {
      "cell_type": "code",
      "source": [
        "#Only include patients that have an observation \n",
        "XTY = pd.read_csv(\"/content/XTY.csv\")\n",
        "XTY = XTY[XTY[\"0_3_min_k\"].notnull()]\n",
        "XTY = XTY[XTY[\"abx\"]==1]"
      ],
      "metadata": {
        "id": "xp1IQoSbQT4a"
      },
      "execution_count": 273,
      "outputs": []
    },
    {
      "cell_type": "code",
      "source": [
        "print(XTY.shape)"
      ],
      "metadata": {
        "colab": {
          "base_uri": "https://localhost:8080/"
        },
        "id": "sUxq-wv-Q9hT",
        "outputId": "0c2f4fc0-4dfa-4e59-d99b-815398fb7053"
      },
      "execution_count": 277,
      "outputs": [
        {
          "output_type": "stream",
          "name": "stdout",
          "text": [
            "(989, 199)\n"
          ]
        }
      ]
    },
    {
      "cell_type": "code",
      "source": [
        "XTY_train, XTY_test = train_test_split(XTY, test_size=0.2, random_state=123)"
      ],
      "metadata": {
        "id": "jbOASbaOQeC6"
      },
      "execution_count": 274,
      "outputs": []
    },
    {
      "cell_type": "code",
      "source": [
        "#Build a model\n",
        "Y_train = XTY_train[\"0_3_min_k\"].to_numpy()\n",
        "T_train = XTY_train[\"treated\"].to_numpy()\n",
        "X_train= XTY_train[W_columns].to_numpy().reshape(-1, 50)\n",
        "X_test = XTY_test[W_columns].to_numpy().reshape(-1, 50)"
      ],
      "metadata": {
        "id": "6vwmYzqSQgV4"
      },
      "execution_count": 275,
      "outputs": []
    },
    {
      "cell_type": "code",
      "source": [
        "#Estimate the effect \n",
        "cv = KFold(n_splits=3, shuffle=True, random_state=123)\n",
        "forestdrl = ForestDRLearner(model_regression=model_ytb, model_propensity=model_tb, cv=cv, min_samples_leaf=10, verbose=0, min_weight_fraction_leaf=.005, random_state=seed)\n",
        "forestdrl.fit(Y_train, T_train, X=X_train, cache_values=True)\n",
        "forestdrl_te = forestdrl.effect(X_test)\n",
        "lb, ub = forestdrl.effect_interval(X_test, alpha=0.1)\n",
        "forestdrl_te_inference = forestdrl.effect_inference(X_test).population_summary(alpha=0.1, value=0, decimals=3, tol=0.001)\n",
        "print(forestdrl_te_inference)"
      ],
      "metadata": {
        "colab": {
          "base_uri": "https://localhost:8080/"
        },
        "id": "vxmTwY-jQi8t",
        "outputId": "215bcec9-ff8d-4640-ba98-7db0a6862a8d"
      },
      "execution_count": 276,
      "outputs": [
        {
          "output_type": "stream",
          "name": "stdout",
          "text": [
            "               Uncertainty of Mean Point Estimate              \n",
            "===============================================================\n",
            "mean_point stderr_mean zstat pvalue ci_mean_lower ci_mean_upper\n",
            "---------------------------------------------------------------\n",
            "     0.102       0.075 1.357  0.175        -0.022         0.226\n",
            "      Distribution of Point Estimate     \n",
            "=========================================\n",
            "std_point pct_point_lower pct_point_upper\n",
            "-----------------------------------------\n",
            "    0.065           0.033           0.241\n",
            "     Total Variance of Point Estimate     \n",
            "==========================================\n",
            "stderr_point ci_point_lower ci_point_upper\n",
            "------------------------------------------\n",
            "       0.099         -0.031          0.292\n",
            "------------------------------------------\n",
            "\n",
            "Note: The stderr_mean is a conservative upper bound.\n"
          ]
        }
      ]
    },
    {
      "cell_type": "markdown",
      "source": [
        "#### ATE by feature "
      ],
      "metadata": {
        "id": "M9oD-20CaAjo"
      }
    },
    {
      "cell_type": "code",
      "source": [
        "#ATE by feature \n",
        "ATE_by_feature = []\n",
        "inference_results = []\n",
        "\n",
        "\n",
        "for i in range(X_train.shape[1]):\n",
        "    # Create the current feature (T) and confounders (W) matrices\n",
        "    X_train_T = X_train[:, i].reshape(-1, 1)\n",
        "    X_train_W = np.delete(X_train, i, axis=1)\n",
        "    X_test_T = X_test[:, i].reshape(-1, 1)\n",
        "    X_test_W = np.delete(X_test, i, axis=1)\n",
        "    \n",
        "    # Fit the ForestDRLearner using the current feature and confounders\n",
        "    forestdrl.fit(Y_train, T_train, X=X_train_T, W=X_train_W)\n",
        "    \n",
        "    # Calculate the ATE for the current feature\n",
        "    ATE = forestdrl.ate(X_test_T)\n",
        "    \n",
        "    # Store the ATE value\n",
        "    ATE_by_feature.append(ATE)\n",
        "\n",
        "    # Calculate p-value for the ATE\n",
        "    ATE_inf = forestdrl.ate_inference(X_test_T)\n",
        "\n",
        "    # Store the p-value\n",
        "    inference_results.append(ATE_inf)\n",
        "\n",
        "ATE_by_feature = np.array(ATE_by_feature)"
      ],
      "metadata": {
        "id": "9biS3XTZaCVi"
      },
      "execution_count": 369,
      "outputs": []
    },
    {
      "cell_type": "code",
      "source": [
        "print(ATE_by_feature)"
      ],
      "metadata": {
        "colab": {
          "base_uri": "https://localhost:8080/"
        },
        "id": "Ygtvp0jyibpA",
        "outputId": "557d06de-3cc0-4445-ca32-14a11dc8b325"
      },
      "execution_count": 374,
      "outputs": [
        {
          "output_type": "stream",
          "name": "stdout",
          "text": [
            "[0.13933487 0.14412312 0.14424731 0.14063543 0.14611012 0.13339465\n",
            " 0.13687772 0.14035915 0.140421   0.13424108 0.13725228 0.13369955\n",
            " 0.13323212 0.14625856 0.12607506 0.13794287 0.13085732 0.1326103\n",
            " 0.10172017 0.13345108 0.14832538 0.12847518 0.1360057  0.13452159\n",
            " 0.14399148 0.13738405 0.12454183 0.1382263  0.13510261 0.14120006\n",
            " 0.13040649 0.12998125 0.13810974 0.1404829  0.14012127 0.13783963\n",
            " 0.15710053 0.13831392 0.14837718 0.13614504 0.13587931 0.13902877\n",
            " 0.13273711 0.14303772 0.14122936 0.13771035 0.13877876 0.1396378\n",
            " 0.13859629 0.14057482]\n"
          ]
        }
      ]
    },
    {
      "cell_type": "code",
      "source": [
        "print(inference_results[0])"
      ],
      "metadata": {
        "colab": {
          "base_uri": "https://localhost:8080/"
        },
        "id": "rc1h0LUGyO2r",
        "outputId": "57567616-d92e-46fa-96cd-c2e4679566b8"
      },
      "execution_count": 376,
      "outputs": [
        {
          "output_type": "stream",
          "name": "stdout",
          "text": [
            "               Uncertainty of Mean Point Estimate              \n",
            "===============================================================\n",
            "mean_point stderr_mean zstat pvalue ci_mean_lower ci_mean_upper\n",
            "---------------------------------------------------------------\n",
            "     0.139       0.053 2.652  0.008         0.036         0.242\n",
            "      Distribution of Point Estimate     \n",
            "=========================================\n",
            "std_point pct_point_lower pct_point_upper\n",
            "-----------------------------------------\n",
            "    0.033           0.042            0.15\n",
            "     Total Variance of Point Estimate     \n",
            "==========================================\n",
            "stderr_point ci_point_lower ci_point_upper\n",
            "------------------------------------------\n",
            "       0.062         -0.005          0.248\n",
            "------------------------------------------\n",
            "\n",
            "Note: The stderr_mean is a conservative upper bound.\n"
          ]
        }
      ]
    },
    {
      "cell_type": "code",
      "source": [
        "print(W_columns)"
      ],
      "metadata": {
        "colab": {
          "base_uri": "https://localhost:8080/"
        },
        "id": "fKu03-T-jDNV",
        "outputId": "c9402f2d-b0c8-46df-ceee-5f42ed6b14e9"
      },
      "execution_count": 377,
      "outputs": [
        {
          "output_type": "stream",
          "name": "stdout",
          "text": [
            "['sequence_icu', 'sequence_hadm', 'diff_intime_admittime_day', 'male', 'age', 'weight', 'admission_type_emergency', 'adm_med', 'adm_surg', 'careunit_MICU/SICU', 'careunit_CVICU', 'careunit_TSICU', 'careunit_CCU', 'bun', 'cl', 'crea_pre', 'glu', 'mg', 'k_pre', 'na', 'plt', 'urine', 'o2sat', 'resp', 'hr', 'map', 'temp', 'antiplatelet', 'beta_agonist', 'beta_blocker', 'cort', 'dex', 'furosemide', 'h2_antagonist', 'heparinoid', 'ins', 'k_supp', 'lax', 'nsaid', 'vaso_ind', 'coag', 'copd', 'depress', 'dm', 'hypothy', 'liver', 'htn', 'valve', 'mech_vent_invasive', 'supp_o2']\n"
          ]
        }
      ]
    },
    {
      "cell_type": "code",
      "source": [
        "ATE_by_feature_10 = ATE_by_feature[0:10]\n",
        "print(ATE_by_feature)"
      ],
      "metadata": {
        "colab": {
          "base_uri": "https://localhost:8080/"
        },
        "id": "89XxXTFskbAd",
        "outputId": "70850cc2-f741-44ec-cd1e-f63e7c5fb90b"
      },
      "execution_count": 378,
      "outputs": [
        {
          "output_type": "stream",
          "name": "stdout",
          "text": [
            "[0.13933487 0.14412312 0.14424731 0.14063543 0.14611012 0.13339465\n",
            " 0.13687772 0.14035915 0.140421   0.13424108 0.13725228 0.13369955\n",
            " 0.13323212 0.14625856 0.12607506 0.13794287 0.13085732 0.1326103\n",
            " 0.10172017 0.13345108 0.14832538 0.12847518 0.1360057  0.13452159\n",
            " 0.14399148 0.13738405 0.12454183 0.1382263  0.13510261 0.14120006\n",
            " 0.13040649 0.12998125 0.13810974 0.1404829  0.14012127 0.13783963\n",
            " 0.15710053 0.13831392 0.14837718 0.13614504 0.13587931 0.13902877\n",
            " 0.13273711 0.14303772 0.14122936 0.13771035 0.13877876 0.1396378\n",
            " 0.13859629 0.14057482]\n"
          ]
        }
      ]
    },
    {
      "cell_type": "code",
      "source": [
        "W_columns_10 = W_columns[0:10]\n",
        "print(W_columns_10)"
      ],
      "metadata": {
        "colab": {
          "base_uri": "https://localhost:8080/"
        },
        "id": "vVuNNQRCkhWM",
        "outputId": "8e797d32-bcf4-4347-922b-282f7717955d"
      },
      "execution_count": 379,
      "outputs": [
        {
          "output_type": "stream",
          "name": "stdout",
          "text": [
            "['sequence_icu', 'sequence_hadm', 'diff_intime_admittime_day', 'male', 'age', 'weight', 'admission_type_emergency', 'adm_med', 'adm_surg', 'careunit_MICU/SICU']\n"
          ]
        }
      ]
    },
    {
      "cell_type": "code",
      "source": [
        "plt.figure(figsize=(12, 6))\n",
        "plt.plot(W_columns_10, ATE_by_feature_10, 'o')\n",
        "plt.xlabel(\"Features\")\n",
        "plt.ylabel(\"ATE Values\")\n",
        "plt.title(\"Directed causal effect\")\n",
        "plt.xticks(rotation=45)\n",
        "plt.axhline(y=0.126, linestyle='--', color='red')  # Add a dashed horizontal line\n",
        "plt.show()"
      ],
      "metadata": {
        "colab": {
          "base_uri": "https://localhost:8080/",
          "height": 500
        },
        "id": "5IeCsWI2iUTP",
        "outputId": "ddd8dafc-5a39-4b8f-8d95-8d13132bc4c4"
      },
      "execution_count": 380,
      "outputs": [
        {
          "output_type": "display_data",
          "data": {
            "text/plain": [
              "<Figure size 864x432 with 1 Axes>"
            ],
            "image/png": "[encoded data removed]"
          },
          "metadata": {
            "needs_background": "light"
          }
        }
      ]
    },
    {
      "cell_type": "code",
      "source": [
        "original_ATE = (0.14611012 * (91 - 18))\n",
        "print(original_ATE)"
      ],
      "metadata": {
        "colab": {
          "base_uri": "https://localhost:8080/"
        },
        "id": "xH468oLolNgd",
        "outputId": "5508fb68-c489-4571-f822-1a6311c72f1e"
      },
      "execution_count": 326,
      "outputs": [
        {
          "output_type": "stream",
          "name": "stdout",
          "text": [
            "10.666038760000001\n"
          ]
        }
      ]
    },
    {
      "cell_type": "markdown",
      "source": [
        "### 5.2 Mean outcome serum potassium "
      ],
      "metadata": {
        "id": "qO7b02saTnG5"
      }
    },
    {
      "cell_type": "code",
      "source": [
        "#Build a model\n",
        "Y_train = XTY_train[\"0_3_mean_k\"].to_numpy()\n",
        "T_train = XTY_train[\"treated\"].to_numpy()\n",
        "X_train= XTY_train[W_columns].to_numpy().reshape(-1, 50)\n",
        "X_test = XTY_test[W_columns].to_numpy().reshape(-1, 50)"
      ],
      "metadata": {
        "id": "5OF9njOzUY7h"
      },
      "execution_count": 26,
      "outputs": []
    },
    {
      "cell_type": "code",
      "source": [
        "#Estimate the effect \n",
        "cv = KFold(n_splits=3, shuffle=True, random_state=123)\n",
        "forestdrl = ForestDRLearner(model_regression=model_ytb, model_propensity=model_tb, cv=cv, min_samples_leaf=10, verbose=0, min_weight_fraction_leaf=.005, random_state=seed)\n",
        "forestdrl.fit(Y_train, T_train, X=X_train, cache_values=True)\n",
        "forestdrl_te = forestdrl.effect(X_test)\n",
        "forestdrl_te_inference = forestdrl.effect_inference(X_test).population_summary(alpha=0.1, value=0, decimals=3, tol=0.001)\n",
        "print(forestdrl_te_inference)"
      ],
      "metadata": {
        "colab": {
          "base_uri": "https://localhost:8080/"
        },
        "id": "p7cSEvnwUjWm",
        "outputId": "7035e51b-ffab-4e93-d0a0-8f0087e51176"
      },
      "execution_count": 27,
      "outputs": [
        {
          "output_type": "stream",
          "name": "stdout",
          "text": [
            "               Uncertainty of Mean Point Estimate              \n",
            "===============================================================\n",
            "mean_point stderr_mean zstat pvalue ci_mean_lower ci_mean_upper\n",
            "---------------------------------------------------------------\n",
            "     0.128       0.079 1.634  0.102        -0.001         0.257\n",
            "      Distribution of Point Estimate     \n",
            "=========================================\n",
            "std_point pct_point_lower pct_point_upper\n",
            "-----------------------------------------\n",
            "    0.073           0.057           0.282\n",
            "     Total Variance of Point Estimate     \n",
            "==========================================\n",
            "stderr_point ci_point_lower ci_point_upper\n",
            "------------------------------------------\n",
            "       0.107          -0.01          0.291\n",
            "------------------------------------------\n",
            "\n",
            "Note: The stderr_mean is a conservative upper bound.\n"
          ]
        }
      ]
    },
    {
      "cell_type": "markdown",
      "source": [
        "### 5.3 Max outcome serum potassium "
      ],
      "metadata": {
        "id": "gFqX5gWZVAQp"
      }
    },
    {
      "cell_type": "code",
      "source": [
        "#Build a model\n",
        "Y_train = XTY_train[\"0_3_max_k\"].to_numpy()\n",
        "T_train = XTY_train[\"treated\"].to_numpy()\n",
        "X_train= XTY_train[W_columns].to_numpy().reshape(-1, 50)\n",
        "X_test = XTY_test[W_columns].to_numpy().reshape(-1, 50)"
      ],
      "metadata": {
        "id": "WXgDPcDaVEa6"
      },
      "execution_count": 28,
      "outputs": []
    },
    {
      "cell_type": "code",
      "source": [
        "#Estimate the effect \n",
        "cv = KFold(n_splits=3, shuffle=True, random_state=123)\n",
        "forestdrl = ForestDRLearner(model_regression=model_ytb, model_propensity=model_tb, cv=cv, min_samples_leaf=10, verbose=0, min_weight_fraction_leaf=.005, random_state=seed)\n",
        "forestdrl.fit(Y_train, T_train, X=X_train, cache_values=True)\n",
        "forestdrl_te = forestdrl.effect(X_test)\n",
        "forestdrl_te_inference = forestdrl.effect_inference(X_test).population_summary(alpha=0.1, value=0, decimals=3, tol=0.001)\n",
        "print(forestdrl_te_inference)"
      ],
      "metadata": {
        "colab": {
          "base_uri": "https://localhost:8080/"
        },
        "id": "R1BlANyBVKs6",
        "outputId": "6949f8f7-4b4c-4370-aa07-a4c4e5d74bca"
      },
      "execution_count": 29,
      "outputs": [
        {
          "output_type": "stream",
          "name": "stdout",
          "text": [
            "               Uncertainty of Mean Point Estimate              \n",
            "===============================================================\n",
            "mean_point stderr_mean zstat pvalue ci_mean_lower ci_mean_upper\n",
            "---------------------------------------------------------------\n",
            "      0.13       0.079 1.652  0.099         0.001         0.259\n",
            "      Distribution of Point Estimate     \n",
            "=========================================\n",
            "std_point pct_point_lower pct_point_upper\n",
            "-----------------------------------------\n",
            "    0.073           0.062           0.297\n",
            "     Total Variance of Point Estimate     \n",
            "==========================================\n",
            "stderr_point ci_point_lower ci_point_upper\n",
            "------------------------------------------\n",
            "       0.107         -0.006            0.3\n",
            "------------------------------------------\n",
            "\n",
            "Note: The stderr_mean is a conservative upper bound.\n"
          ]
        }
      ]
    },
    {
      "cell_type": "markdown",
      "source": [
        "## 6. Time : 0-2"
      ],
      "metadata": {
        "id": "v-So4Pd47pp3"
      }
    },
    {
      "cell_type": "markdown",
      "source": [
        "### 6.1 Min outcome serum potassium"
      ],
      "metadata": {
        "id": "qG1t0O6jdoJT"
      }
    },
    {
      "cell_type": "code",
      "source": [
        "#Only include patients that have an observation \n",
        "XTY = pd.read_csv(\"/content/XTY.csv\")\n",
        "XTY = XTY[XTY[\"0_2_min_k\"].notnull()]"
      ],
      "metadata": {
        "id": "ydLCh9qSdtJ7"
      },
      "execution_count": 72,
      "outputs": []
    },
    {
      "cell_type": "code",
      "source": [
        "print(XTY.shape)"
      ],
      "metadata": {
        "colab": {
          "base_uri": "https://localhost:8080/"
        },
        "id": "D8OzKTjfdz4y",
        "outputId": "7bda6759-0a47-4d69-c889-ade7f0b98884"
      },
      "execution_count": 73,
      "outputs": [
        {
          "output_type": "stream",
          "name": "stdout",
          "text": [
            "(920, 199)\n"
          ]
        }
      ]
    },
    {
      "cell_type": "code",
      "source": [
        "XTY_train, XTY_test = train_test_split(XTY, test_size=0.2, random_state=123)"
      ],
      "metadata": {
        "id": "r59g-xsUdwQ7"
      },
      "execution_count": 74,
      "outputs": []
    },
    {
      "cell_type": "code",
      "source": [
        "#Build a model\n",
        "Y_train = XTY_train[\"0_2_min_k\"].to_numpy()\n",
        "T_train = XTY_train[\"treated\"].to_numpy()\n",
        "X_train= XTY_train[W_columns].to_numpy().reshape(-1, 50)\n",
        "X_test = XTY_test[W_columns].to_numpy().reshape(-1, 50)"
      ],
      "metadata": {
        "id": "acdCMf6gd4St"
      },
      "execution_count": 75,
      "outputs": []
    },
    {
      "cell_type": "code",
      "source": [
        "#Estimate the effect \n",
        "cv = KFold(n_splits=3, shuffle=True, random_state=123)\n",
        "forestdrl = ForestDRLearner(model_regression=model_ytb, model_propensity=model_tb, cv=cv, min_samples_leaf=10, verbose=0, min_weight_fraction_leaf=.005, random_state=seed)\n",
        "forestdrl.fit(Y_train, T_train, X=X_train, cache_values=True)\n",
        "forestdrl_te = forestdrl.effect(X_test)\n",
        "forestdrl_te_inference = forestdrl.effect_inference(X_test).population_summary(alpha=0.1, value=0, decimals=3, tol=0.001)\n",
        "print(forestdrl_te_inference)"
      ],
      "metadata": {
        "colab": {
          "base_uri": "https://localhost:8080/"
        },
        "id": "eO5B2pm5d7LA",
        "outputId": "a4254321-120d-4f05-c6af-f161fcaa94a4"
      },
      "execution_count": 76,
      "outputs": [
        {
          "output_type": "stream",
          "name": "stdout",
          "text": [
            "               Uncertainty of Mean Point Estimate              \n",
            "===============================================================\n",
            "mean_point stderr_mean zstat pvalue ci_mean_lower ci_mean_upper\n",
            "---------------------------------------------------------------\n",
            "     0.081       0.084 0.961  0.336        -0.057         0.218\n",
            "      Distribution of Point Estimate     \n",
            "=========================================\n",
            "std_point pct_point_lower pct_point_upper\n",
            "-----------------------------------------\n",
            "    0.036            0.03           0.146\n",
            "     Total Variance of Point Estimate     \n",
            "==========================================\n",
            "stderr_point ci_point_lower ci_point_upper\n",
            "------------------------------------------\n",
            "       0.091         -0.063          0.233\n",
            "------------------------------------------\n",
            "\n",
            "Note: The stderr_mean is a conservative upper bound.\n"
          ]
        }
      ]
    },
    {
      "cell_type": "markdown",
      "source": [
        "### 6.2  Max outcome serum potassium "
      ],
      "metadata": {
        "id": "T5hhK5izeB0r"
      }
    },
    {
      "cell_type": "code",
      "source": [
        "#Build a model\n",
        "Y_train = XTY_train[\"0_2_max_k\"].to_numpy()\n",
        "T_train = XTY_train[\"treated\"].to_numpy()\n",
        "X_train= XTY_train[W_columns].to_numpy().reshape(-1, 50)\n",
        "X_test = XTY_test[W_columns].to_numpy().reshape(-1, 50)"
      ],
      "metadata": {
        "id": "JBYdIRiBeFV6"
      },
      "execution_count": 77,
      "outputs": []
    },
    {
      "cell_type": "code",
      "source": [
        "#Estimate the effect \n",
        "cv = KFold(n_splits=3, shuffle=True, random_state=123)\n",
        "forestdrl = ForestDRLearner(model_regression=model_ytb, model_propensity=model_tb, cv=cv, min_samples_leaf=10, verbose=0, min_weight_fraction_leaf=.005, random_state=seed)\n",
        "forestdrl.fit(Y_train, T_train, X=X_train, cache_values=True)\n",
        "forestdrl_te = forestdrl.effect(X_test)\n",
        "forestdrl_te_inference = forestdrl.effect_inference(X_test).population_summary(alpha=0.1, value=0, decimals=3, tol=0.001)\n",
        "print(forestdrl_te_inference)"
      ],
      "metadata": {
        "colab": {
          "base_uri": "https://localhost:8080/"
        },
        "id": "M_az8-cieIad",
        "outputId": "9e07f265-4e75-4c5c-ed0f-e334057ba8e6"
      },
      "execution_count": 78,
      "outputs": [
        {
          "output_type": "stream",
          "name": "stdout",
          "text": [
            "               Uncertainty of Mean Point Estimate              \n",
            "===============================================================\n",
            "mean_point stderr_mean zstat pvalue ci_mean_lower ci_mean_upper\n",
            "---------------------------------------------------------------\n",
            "     0.073       0.084 0.874  0.382        -0.065         0.211\n",
            "      Distribution of Point Estimate     \n",
            "=========================================\n",
            "std_point pct_point_lower pct_point_upper\n",
            "-----------------------------------------\n",
            "    0.033           0.025           0.129\n",
            "     Total Variance of Point Estimate     \n",
            "==========================================\n",
            "stderr_point ci_point_lower ci_point_upper\n",
            "------------------------------------------\n",
            "        0.09          -0.07          0.223\n",
            "------------------------------------------\n",
            "\n",
            "Note: The stderr_mean is a conservative upper bound.\n"
          ]
        }
      ]
    },
    {
      "cell_type": "markdown",
      "source": [
        "### 6.3  Mean outcome serum potassium "
      ],
      "metadata": {
        "id": "KOBGg-vAeOJA"
      }
    },
    {
      "cell_type": "code",
      "source": [
        "#Build a model\n",
        "Y_train = XTY_train[\"0_2_mean_k\"].to_numpy()\n",
        "T_train = XTY_train[\"treated\"].to_numpy()\n",
        "X_train= XTY_train[W_columns].to_numpy().reshape(-1, 50)\n",
        "X_test = XTY_test[W_columns].to_numpy().reshape(-1, 50)"
      ],
      "metadata": {
        "id": "DdYmthPjeSxe"
      },
      "execution_count": 79,
      "outputs": []
    },
    {
      "cell_type": "code",
      "source": [
        "#Estimate the effect \n",
        "cv = KFold(n_splits=3, shuffle=True, random_state=123)\n",
        "forestdrl = ForestDRLearner(model_regression=model_ytb, model_propensity=model_tb, cv=cv, min_samples_leaf=10, verbose=0, min_weight_fraction_leaf=.005, random_state=seed)\n",
        "forestdrl.fit(Y_train, T_train, X=X_train, cache_values=True)\n",
        "forestdrl_te = forestdrl.effect(X_test)\n",
        "forestdrl_te_inference = forestdrl.effect_inference(X_test).population_summary(alpha=0.1, value=0, decimals=3, tol=0.001)\n",
        "print(forestdrl_te_inference)"
      ],
      "metadata": {
        "colab": {
          "base_uri": "https://localhost:8080/"
        },
        "id": "BRub0SopeVCp",
        "outputId": "91a0591d-e300-40f8-817d-05a05aff5861"
      },
      "execution_count": 80,
      "outputs": [
        {
          "output_type": "stream",
          "name": "stdout",
          "text": [
            "               Uncertainty of Mean Point Estimate              \n",
            "===============================================================\n",
            "mean_point stderr_mean zstat pvalue ci_mean_lower ci_mean_upper\n",
            "---------------------------------------------------------------\n",
            "     0.078       0.085 0.913  0.361        -0.062         0.218\n",
            "      Distribution of Point Estimate     \n",
            "=========================================\n",
            "std_point pct_point_lower pct_point_upper\n",
            "-----------------------------------------\n",
            "    0.034           0.031           0.138\n",
            "     Total Variance of Point Estimate     \n",
            "==========================================\n",
            "stderr_point ci_point_lower ci_point_upper\n",
            "------------------------------------------\n",
            "       0.092         -0.066          0.231\n",
            "------------------------------------------\n",
            "\n",
            "Note: The stderr_mean is a conservative upper bound.\n"
          ]
        }
      ]
    },
    {
      "cell_type": "markdown",
      "source": [
        "#(B) Creatinine as outcome"
      ],
      "metadata": {
        "id": "SzWk8DEfcMbp"
      }
    },
    {
      "cell_type": "markdown",
      "source": [
        "## Best nuisance models "
      ],
      "metadata": {
        "id": "70fz12pc3mZO"
      }
    },
    {
      "cell_type": "code",
      "source": [
        "#Binary outcomes: Best estimators for propensity model and outcome model\n",
        "model_y = LogisticRegression(C=0.01, random_state=123, n_jobs=1)\n",
        "model_t = GradientBoostingClassifier(min_samples_leaf=10, n_estimators=50,\n",
        "                           random_state=123)\n",
        "model_yt = LogisticRegression(C=0.01, random_state=123, n_jobs=1)"
      ],
      "metadata": {
        "id": "ErMqetQv4SHK"
      },
      "execution_count": 127,
      "outputs": []
    },
    {
      "cell_type": "code",
      "source": [
        "#Continous outcomes: Best estimators for propensity model and outcome model\n",
        "model_yb = GradientBoostingRegressor(min_samples_leaf=10, random_state=123)\n",
        "model_tb = GradientBoostingClassifier(min_samples_leaf=10, n_estimators=50,\n",
        "                           random_state=123)\n",
        "model_ytb = GradientBoostingRegressor(min_samples_leaf=10, n_estimators=50,\n",
        "                          random_state=123)"
      ],
      "metadata": {
        "id": "Duo3NT6tcOg-"
      },
      "execution_count": 128,
      "outputs": []
    },
    {
      "cell_type": "markdown",
      "source": [
        "## (B) Binary outcome "
      ],
      "metadata": {
        "id": "1SXnYRr74XI6"
      }
    },
    {
      "cell_type": "markdown",
      "source": [
        "### 1.1 AKI (0,48) "
      ],
      "metadata": {
        "id": "waJdpl-x44Mi"
      }
    },
    {
      "cell_type": "code",
      "source": [
        "XTY = pd.read_csv(\"/content/XTY.csv\")\n",
        "XTY_train = pd.read_csv(\"/content/XTY_train.csv\")\n",
        "XTY_test = pd.read_csv(\"/content/XTY_test.csv\")\n",
        "\n",
        "#(1.2) Build a model\n",
        "Y_train = XTY_train[\"0_48_AKI_stage_1\"].to_numpy()\n",
        "T_train = XTY_train[\"treated\"].to_numpy()\n",
        "#W_train= XTY_train[W_columns].to_numpy().reshape(-1, 50)\n",
        "X_train= XTY_train[W_columns].to_numpy().reshape(-1, 50)\n",
        "X_test = XTY_test[W_columns].to_numpy().reshape(-1, 50)"
      ],
      "metadata": {
        "id": "1IFM-YFw4Zda"
      },
      "execution_count": 44,
      "outputs": []
    },
    {
      "cell_type": "code",
      "source": [
        "print(XTY.shape)"
      ],
      "metadata": {
        "colab": {
          "base_uri": "https://localhost:8080/"
        },
        "id": "YpIsbyDUXqwO",
        "outputId": "cf0795c9-9064-4756-ed37-bb14bf7cb88d"
      },
      "execution_count": 45,
      "outputs": [
        {
          "output_type": "stream",
          "name": "stdout",
          "text": [
            "(5053, 167)\n"
          ]
        }
      ]
    },
    {
      "cell_type": "code",
      "source": [
        "cv = KFold(n_splits=3, shuffle=True, random_state=123)\n",
        "forestdrl = ForestDRLearner(model_regression=model_yt, model_propensity=model_t, cv=3, min_samples_leaf=10, verbose=0, min_weight_fraction_leaf=.005, random_state=seed)\n",
        "forestdrl.fit(Y_train, T_train, X=X_train, cache_values=True)\n",
        "# Estimate treatment effects on test data\n",
        "forestdrl_te = forestdrl.effect(X_test)\n",
        "forestdrl_te_inference = forestdrl.effect_inference(X_test).population_summary(alpha=0.1, value=0, decimals=3, tol=0.001)\n",
        "print(forestdrl_te_inference)"
      ],
      "metadata": {
        "colab": {
          "base_uri": "https://localhost:8080/"
        },
        "id": "NdCz0Lt94rNk",
        "outputId": "7935a3b2-88b0-4233-e25b-7dce0160958f"
      },
      "execution_count": 118,
      "outputs": [
        {
          "output_type": "stream",
          "name": "stdout",
          "text": [
            "               Uncertainty of Mean Point Estimate               \n",
            "================================================================\n",
            "mean_point stderr_mean zstat  pvalue ci_mean_lower ci_mean_upper\n",
            "----------------------------------------------------------------\n",
            "    -0.003       0.021 -0.146  0.884        -0.038         0.032\n",
            "      Distribution of Point Estimate     \n",
            "=========================================\n",
            "std_point pct_point_lower pct_point_upper\n",
            "-----------------------------------------\n",
            "    0.015           -0.02           0.018\n",
            "     Total Variance of Point Estimate     \n",
            "==========================================\n",
            "stderr_point ci_point_lower ci_point_upper\n",
            "------------------------------------------\n",
            "       0.026         -0.038          0.034\n",
            "------------------------------------------\n",
            "\n",
            "Note: The stderr_mean is a conservative upper bound.\n"
          ]
        }
      ]
    },
    {
      "cell_type": "code",
      "source": [
        "LinearDR_learner = LinearDRLearner(model_regression=model_yt, model_propensity=model_t, random_state=123)\n",
        "LinearDR_learner.fit(Y_train, T_train, X=X_train)\n",
        "LinearDR_learner_cate = LinearDR_learner.effect(X_test)\n",
        "LinearDR_learner_cate_inference = LinearDR_learner.effect_inference(X_test).population_summary(alpha=0.1, value=0, decimals=3, tol=0.001)\n",
        "print(LinearDR_learner_cate_inference)"
      ],
      "metadata": {
        "colab": {
          "base_uri": "https://localhost:8080/"
        },
        "id": "zdXbfnRn9sc7",
        "outputId": "6c487250-58df-4dfa-a84a-bf2447be6102"
      },
      "execution_count": 161,
      "outputs": [
        {
          "output_type": "stream",
          "name": "stdout",
          "text": [
            "               Uncertainty of Mean Point Estimate              \n",
            "===============================================================\n",
            "mean_point stderr_mean zstat pvalue ci_mean_lower ci_mean_upper\n",
            "---------------------------------------------------------------\n",
            "     0.002       0.007 0.306   0.76        -0.009         0.014\n",
            "      Distribution of Point Estimate     \n",
            "=========================================\n",
            "std_point pct_point_lower pct_point_upper\n",
            "-----------------------------------------\n",
            "    0.082          -0.114           0.144\n",
            "     Total Variance of Point Estimate     \n",
            "==========================================\n",
            "stderr_point ci_point_lower ci_point_upper\n",
            "------------------------------------------\n",
            "       0.082          -0.14          0.166\n",
            "------------------------------------------\n"
          ]
        }
      ]
    },
    {
      "cell_type": "markdown",
      "source": [
        "### 1.2 AKI (0,24) "
      ],
      "metadata": {
        "id": "v7mfsF_O4z1z"
      }
    },
    {
      "cell_type": "code",
      "source": [
        "#Only include patients that have an observation \n",
        "XTY = pd.read_csv(\"/content/XTY.csv\")\n",
        "XTY = XTY[XTY[\"0_24_mean_outcome_crea\"].notnull()]"
      ],
      "metadata": {
        "id": "Zdtrx5Q14zI7"
      },
      "execution_count": 42,
      "outputs": []
    },
    {
      "cell_type": "code",
      "source": [
        "print(XTY.shape)"
      ],
      "metadata": {
        "colab": {
          "base_uri": "https://localhost:8080/"
        },
        "id": "J3YWoLeOXiKP",
        "outputId": "9958bad8-eead-4154-9188-2ff0b09d2707"
      },
      "execution_count": 43,
      "outputs": [
        {
          "output_type": "stream",
          "name": "stdout",
          "text": [
            "(4633, 167)\n"
          ]
        }
      ]
    },
    {
      "cell_type": "code",
      "source": [
        "XTY_train, XTY_test = train_test_split(XTY, test_size=0.2, random_state=123)"
      ],
      "metadata": {
        "id": "WsRXLBPh5FIJ"
      },
      "execution_count": 163,
      "outputs": []
    },
    {
      "cell_type": "code",
      "source": [
        "print(XTY_train.shape)"
      ],
      "metadata": {
        "colab": {
          "base_uri": "https://localhost:8080/"
        },
        "id": "mVmkwL5T5LTO",
        "outputId": "ef05647e-8a09-4717-aac2-00a80b34898c"
      },
      "execution_count": 164,
      "outputs": [
        {
          "output_type": "stream",
          "name": "stdout",
          "text": [
            "(3706, 151)\n"
          ]
        }
      ]
    },
    {
      "cell_type": "code",
      "source": [
        "#Build a model\n",
        "Y_train = XTY_train[\"0_24_AKI_stage_1\"].to_numpy()\n",
        "T_train = XTY_train[\"treated\"].to_numpy()\n",
        "X_train= XTY_train[W_columns].to_numpy().reshape(-1, 50)\n",
        "X_test = XTY_test[W_columns].to_numpy().reshape(-1, 50)"
      ],
      "metadata": {
        "id": "zph7noln5QuU"
      },
      "execution_count": 165,
      "outputs": []
    },
    {
      "cell_type": "code",
      "source": [
        "cv = KFold(n_splits=3, shuffle=True, random_state=123)\n",
        "forestdrl = ForestDRLearner(model_regression=model_yt, model_propensity=model_t, cv=3, min_samples_leaf=10, verbose=0, min_weight_fraction_leaf=.005, random_state=seed)\n",
        "forestdrl.fit(Y_train, T_train, X=X_train, cache_values=True)\n",
        "# Estimate treatment effects on test data\n",
        "forestdrl_te = forestdrl.effect(X_test)\n",
        "forestdrl_te_inference = forestdrl.effect_inference(X_test).population_summary(alpha=0.1, value=0, decimals=3, tol=0.001)\n",
        "print(forestdrl_te_inference)"
      ],
      "metadata": {
        "colab": {
          "base_uri": "https://localhost:8080/"
        },
        "id": "WfHY3EUU5ZRw",
        "outputId": "cdc01a4c-d5b8-41f0-deb9-dbd9d7daa715"
      },
      "execution_count": 166,
      "outputs": [
        {
          "output_type": "stream",
          "name": "stdout",
          "text": [
            "               Uncertainty of Mean Point Estimate               \n",
            "================================================================\n",
            "mean_point stderr_mean zstat  pvalue ci_mean_lower ci_mean_upper\n",
            "----------------------------------------------------------------\n",
            "    -0.005        0.02 -0.249  0.804        -0.038         0.028\n",
            "      Distribution of Point Estimate     \n",
            "=========================================\n",
            "std_point pct_point_lower pct_point_upper\n",
            "-----------------------------------------\n",
            "    0.013          -0.022           0.021\n",
            "     Total Variance of Point Estimate     \n",
            "==========================================\n",
            "stderr_point ci_point_lower ci_point_upper\n",
            "------------------------------------------\n",
            "       0.024         -0.035          0.035\n",
            "------------------------------------------\n",
            "\n",
            "Note: The stderr_mean is a conservative upper bound.\n"
          ]
        }
      ]
    },
    {
      "cell_type": "code",
      "source": [
        "LinearDR_learner = LinearDRLearner(model_regression=model_yt, model_propensity=model_t, random_state=123)\n",
        "LinearDR_learner.fit(Y_train, T_train, X=X_train)\n",
        "LinearDR_learner_cate = LinearDR_learner.effect(X_test)\n",
        "LinearDR_learner_cate_inference = LinearDR_learner.effect_inference(X_test).population_summary(alpha=0.1, value=0, decimals=3, tol=0.001)\n",
        "print(LinearDR_learner_cate_inference)"
      ],
      "metadata": {
        "colab": {
          "base_uri": "https://localhost:8080/"
        },
        "id": "0XTP0MU_946p",
        "outputId": "d453a4c1-a034-4210-98e5-0b64394980b8"
      },
      "execution_count": 167,
      "outputs": [
        {
          "output_type": "stream",
          "name": "stdout",
          "text": [
            "               Uncertainty of Mean Point Estimate              \n",
            "===============================================================\n",
            "mean_point stderr_mean zstat pvalue ci_mean_lower ci_mean_upper\n",
            "---------------------------------------------------------------\n",
            "    -0.001       0.007 -0.13  0.897        -0.013         0.011\n",
            "      Distribution of Point Estimate     \n",
            "=========================================\n",
            "std_point pct_point_lower pct_point_upper\n",
            "-----------------------------------------\n",
            "    0.062          -0.097           0.103\n",
            "     Total Variance of Point Estimate     \n",
            "==========================================\n",
            "stderr_point ci_point_lower ci_point_upper\n",
            "------------------------------------------\n",
            "       0.062         -0.123          0.136\n",
            "------------------------------------------\n"
          ]
        }
      ]
    },
    {
      "cell_type": "markdown",
      "source": [
        "### 1.3 AKI(0,12) "
      ],
      "metadata": {
        "id": "kKDJcZJR5ctZ"
      }
    },
    {
      "cell_type": "code",
      "source": [
        "#Only include patients that have an observation \n",
        "XTY = pd.read_csv(\"/content/XTY.csv\")\n",
        "XTY = XTY[XTY[\"0_12_mean_outcome_crea\"].notnull()]"
      ],
      "metadata": {
        "id": "M2qjk6_35i54"
      },
      "execution_count": 40,
      "outputs": []
    },
    {
      "cell_type": "code",
      "source": [
        "print(XTY.shape)"
      ],
      "metadata": {
        "colab": {
          "base_uri": "https://localhost:8080/"
        },
        "id": "qEiaR4SWXaat",
        "outputId": "93efd638-8081-4c61-c1a6-8fd051ef79d0"
      },
      "execution_count": 41,
      "outputs": [
        {
          "output_type": "stream",
          "name": "stdout",
          "text": [
            "(3177, 167)\n"
          ]
        }
      ]
    },
    {
      "cell_type": "code",
      "source": [
        "XTY_train, XTY_test = train_test_split(XTY, test_size=0.2, random_state=123)"
      ],
      "metadata": {
        "id": "UWO3v4qZ5rhQ"
      },
      "execution_count": 169,
      "outputs": []
    },
    {
      "cell_type": "code",
      "source": [
        "print(XTY_train.shape)"
      ],
      "metadata": {
        "colab": {
          "base_uri": "https://localhost:8080/"
        },
        "id": "ttW32pR65v7M",
        "outputId": "a4ccb022-9ee2-4853-918a-d375f31d8387"
      },
      "execution_count": 131,
      "outputs": [
        {
          "output_type": "stream",
          "name": "stdout",
          "text": [
            "(2541, 151)\n"
          ]
        }
      ]
    },
    {
      "cell_type": "code",
      "source": [
        "#Build a model\n",
        "Y_train = XTY_train[\"0_12_AKI_stage_1\"].to_numpy()\n",
        "T_train = XTY_train[\"treated\"].to_numpy()\n",
        "X_train= XTY_train[W_columns].to_numpy().reshape(-1, 50)\n",
        "X_test = XTY_test[W_columns].to_numpy().reshape(-1, 50)"
      ],
      "metadata": {
        "id": "Ctd9Ywt65uI3"
      },
      "execution_count": 170,
      "outputs": []
    },
    {
      "cell_type": "code",
      "source": [
        "cv = KFold(n_splits=3, shuffle=True, random_state=123)\n",
        "forestdrl = ForestDRLearner(model_regression=model_yt, model_propensity=model_t, cv=3, min_samples_leaf=10, verbose=0, min_weight_fraction_leaf=.005, random_state=seed)\n",
        "forestdrl.fit(Y_train, T_train, X=X_train, cache_values=True)\n",
        "# Estimate treatment effects on test data\n",
        "forestdrl_te = forestdrl.effect(X_test)\n",
        "forestdrl_te_inference = forestdrl.effect_inference(X_test).population_summary(alpha=0.1, value=0, decimals=3, tol=0.001)\n",
        "print(forestdrl_te_inference)"
      ],
      "metadata": {
        "colab": {
          "base_uri": "https://localhost:8080/"
        },
        "id": "GdiYVVJh5zFT",
        "outputId": "60edb8c5-f216-474c-efbd-534bddb2a03f"
      },
      "execution_count": 171,
      "outputs": [
        {
          "output_type": "stream",
          "name": "stdout",
          "text": [
            "               Uncertainty of Mean Point Estimate               \n",
            "================================================================\n",
            "mean_point stderr_mean zstat  pvalue ci_mean_lower ci_mean_upper\n",
            "----------------------------------------------------------------\n",
            "    -0.007       0.023 -0.315  0.753        -0.044          0.03\n",
            "      Distribution of Point Estimate     \n",
            "=========================================\n",
            "std_point pct_point_lower pct_point_upper\n",
            "-----------------------------------------\n",
            "    0.019          -0.031           0.032\n",
            "     Total Variance of Point Estimate     \n",
            "==========================================\n",
            "stderr_point ci_point_lower ci_point_upper\n",
            "------------------------------------------\n",
            "       0.029         -0.044          0.037\n",
            "------------------------------------------\n",
            "\n",
            "Note: The stderr_mean is a conservative upper bound.\n"
          ]
        }
      ]
    },
    {
      "cell_type": "code",
      "source": [
        "LinearDR_learner = LinearDRLearner(model_regression=model_yt, model_propensity=model_t, random_state=123)\n",
        "LinearDR_learner.fit(Y_train, T_train, X=X_train)\n",
        "LinearDR_learner_cate = LinearDR_learner.effect(X_test)\n",
        "LinearDR_learner_cate_inference = LinearDR_learner.effect_inference(X_test).population_summary(alpha=0.1, value=0, decimals=3, tol=0.001)\n",
        "print(LinearDR_learner_cate_inference)"
      ],
      "metadata": {
        "colab": {
          "base_uri": "https://localhost:8080/"
        },
        "id": "wMO3rj58-IBx",
        "outputId": "f68b1380-253f-46bd-b0ef-96677ce4dc6d"
      },
      "execution_count": 172,
      "outputs": [
        {
          "output_type": "stream",
          "name": "stdout",
          "text": [
            "               Uncertainty of Mean Point Estimate               \n",
            "================================================================\n",
            "mean_point stderr_mean zstat  pvalue ci_mean_lower ci_mean_upper\n",
            "----------------------------------------------------------------\n",
            "    -0.006       0.008 -0.802  0.422        -0.019         0.006\n",
            "      Distribution of Point Estimate     \n",
            "=========================================\n",
            "std_point pct_point_lower pct_point_upper\n",
            "-----------------------------------------\n",
            "    0.093          -0.143           0.136\n",
            "     Total Variance of Point Estimate     \n",
            "==========================================\n",
            "stderr_point ci_point_lower ci_point_upper\n",
            "------------------------------------------\n",
            "       0.093         -0.177          0.182\n",
            "------------------------------------------\n"
          ]
        }
      ]
    },
    {
      "cell_type": "markdown",
      "source": [
        "### 1.4 AKI (0,6) "
      ],
      "metadata": {
        "id": "JOkkwF8Z51c1"
      }
    },
    {
      "cell_type": "code",
      "source": [
        "#Only include patients that have an observation \n",
        "XTY = pd.read_csv(\"/content/XTY.csv\")\n",
        "XTY = XTY[XTY[\"0_6_mean_outcome_crea\"].notnull()]"
      ],
      "metadata": {
        "id": "mkYtp5yj5396"
      },
      "execution_count": 38,
      "outputs": []
    },
    {
      "cell_type": "code",
      "source": [
        "print(XTY.shape)"
      ],
      "metadata": {
        "colab": {
          "base_uri": "https://localhost:8080/"
        },
        "id": "qoZU8T7wXPrD",
        "outputId": "36377e84-8327-472b-b1b9-2a3099e05595"
      },
      "execution_count": 39,
      "outputs": [
        {
          "output_type": "stream",
          "name": "stdout",
          "text": [
            "(1845, 167)\n"
          ]
        }
      ]
    },
    {
      "cell_type": "code",
      "source": [
        "XTY_train, XTY_test = train_test_split(XTY, test_size=0.2, random_state=123)"
      ],
      "metadata": {
        "id": "4uTqlg5p58vo"
      },
      "execution_count": 174,
      "outputs": []
    },
    {
      "cell_type": "code",
      "source": [
        "print(XTY_train.shape)"
      ],
      "metadata": {
        "colab": {
          "base_uri": "https://localhost:8080/"
        },
        "id": "Z4Qz4mCT5-k2",
        "outputId": "ac23a413-1d36-48bb-8e46-d425ace8eaae"
      },
      "execution_count": 175,
      "outputs": [
        {
          "output_type": "stream",
          "name": "stdout",
          "text": [
            "(1476, 151)\n"
          ]
        }
      ]
    },
    {
      "cell_type": "code",
      "source": [
        "#Build a model\n",
        "Y_train = XTY_train[\"0_6_AKI_stage_1\"].to_numpy()\n",
        "T_train = XTY_train[\"treated\"].to_numpy()\n",
        "X_train= XTY_train[W_columns].to_numpy().reshape(-1, 50)\n",
        "X_test = XTY_test[W_columns].to_numpy().reshape(-1, 50)"
      ],
      "metadata": {
        "id": "wQQDdfN76Asp"
      },
      "execution_count": 137,
      "outputs": []
    },
    {
      "cell_type": "code",
      "source": [
        "cv = KFold(n_splits=3, shuffle=True, random_state=123)\n",
        "forestdrl = ForestDRLearner(model_regression=model_yt, model_propensity=model_t, cv=3, min_samples_leaf=10, verbose=0, min_weight_fraction_leaf=.005, random_state=seed)\n",
        "forestdrl.fit(Y_train, T_train, X=X_train, cache_values=True)\n",
        "# Estimate treatment effects on test data\n",
        "forestdrl_te = forestdrl.effect(X_test)\n",
        "forestdrl_te_inference = forestdrl.effect_inference(X_test).population_summary(alpha=0.1, value=0, decimals=3, tol=0.001)\n",
        "print(forestdrl_te_inference)"
      ],
      "metadata": {
        "colab": {
          "base_uri": "https://localhost:8080/"
        },
        "id": "QphNu_w96Dgk",
        "outputId": "ff66367b-2a20-40bc-9e54-fae4feb7b4c4"
      },
      "execution_count": 138,
      "outputs": [
        {
          "output_type": "stream",
          "name": "stdout",
          "text": [
            "               Uncertainty of Mean Point Estimate               \n",
            "================================================================\n",
            "mean_point stderr_mean zstat  pvalue ci_mean_lower ci_mean_upper\n",
            "----------------------------------------------------------------\n",
            "    -0.004       0.027 -0.157  0.875        -0.048          0.04\n",
            "      Distribution of Point Estimate     \n",
            "=========================================\n",
            "std_point pct_point_lower pct_point_upper\n",
            "-----------------------------------------\n",
            "    0.015          -0.023           0.018\n",
            "     Total Variance of Point Estimate     \n",
            "==========================================\n",
            "stderr_point ci_point_lower ci_point_upper\n",
            "------------------------------------------\n",
            "       0.031         -0.043          0.041\n",
            "------------------------------------------\n",
            "\n",
            "Note: The stderr_mean is a conservative upper bound.\n"
          ]
        }
      ]
    },
    {
      "cell_type": "code",
      "source": [
        "LinearDR_learner = LinearDRLearner(model_regression=model_yt, model_propensity=model_t, random_state=123)\n",
        "LinearDR_learner.fit(Y_train, T_train, X=X_train)\n",
        "LinearDR_learner_cate = LinearDR_learner.effect(X_test)\n",
        "LinearDR_learner_cate_inference = LinearDR_learner.effect_inference(X_test).population_summary(alpha=0.1, value=0, decimals=3, tol=0.001)\n",
        "print(LinearDR_learner_cate_inference)"
      ],
      "metadata": {
        "colab": {
          "base_uri": "https://localhost:8080/"
        },
        "id": "aDnE1zsX-R9t",
        "outputId": "745f23c8-a051-4d4f-ea6e-56c601e25f06"
      },
      "execution_count": 176,
      "outputs": [
        {
          "output_type": "stream",
          "name": "stdout",
          "text": [
            "               Uncertainty of Mean Point Estimate               \n",
            "================================================================\n",
            "mean_point stderr_mean zstat  pvalue ci_mean_lower ci_mean_upper\n",
            "----------------------------------------------------------------\n",
            "    -0.006       0.008 -0.802  0.422        -0.019         0.006\n",
            "      Distribution of Point Estimate     \n",
            "=========================================\n",
            "std_point pct_point_lower pct_point_upper\n",
            "-----------------------------------------\n",
            "    0.093          -0.143           0.136\n",
            "     Total Variance of Point Estimate     \n",
            "==========================================\n",
            "stderr_point ci_point_lower ci_point_upper\n",
            "------------------------------------------\n",
            "       0.093         -0.177          0.182\n",
            "------------------------------------------\n"
          ]
        }
      ]
    },
    {
      "cell_type": "markdown",
      "source": [
        "### 1.5 AKi (0,3) "
      ],
      "metadata": {
        "id": "JCYjheJWWWg9"
      }
    },
    {
      "cell_type": "code",
      "source": [
        "#Only include patients that have an observation \n",
        "XTY = pd.read_csv(\"/content/XTY.csv\")\n",
        "XTY = XTY[XTY[\"0_3_mean_outcome_crea\"].notnull()]"
      ],
      "metadata": {
        "id": "fzFCPLjzWYhB"
      },
      "execution_count": 33,
      "outputs": []
    },
    {
      "cell_type": "code",
      "source": [
        "print(XTY.shape)"
      ],
      "metadata": {
        "colab": {
          "base_uri": "https://localhost:8080/"
        },
        "id": "6y7mgP-oWe_0",
        "outputId": "d582bf7e-d9be-4072-9e6f-f3946aaf37b9"
      },
      "execution_count": 34,
      "outputs": [
        {
          "output_type": "stream",
          "name": "stdout",
          "text": [
            "(1138, 167)\n"
          ]
        }
      ]
    },
    {
      "cell_type": "code",
      "source": [
        "XTY_train, XTY_test = train_test_split(XTY, test_size=0.2, random_state=123)"
      ],
      "metadata": {
        "id": "1xQDdHWcWd4p"
      },
      "execution_count": 35,
      "outputs": []
    },
    {
      "cell_type": "code",
      "source": [
        "#Build a model\n",
        "Y_train = XTY_train[\"0_3_AKI_stage_1\"].to_numpy()\n",
        "T_train = XTY_train[\"treated\"].to_numpy()\n",
        "X_train= XTY_train[W_columns].to_numpy().reshape(-1, 50)\n",
        "X_test = XTY_test[W_columns].to_numpy().reshape(-1, 50)"
      ],
      "metadata": {
        "id": "TLfnykNMWmfT"
      },
      "execution_count": 36,
      "outputs": []
    },
    {
      "cell_type": "code",
      "source": [
        "cv = KFold(n_splits=3, shuffle=True, random_state=123)\n",
        "forestdrl = ForestDRLearner(model_regression=model_yt, model_propensity=model_t, cv=3, min_samples_leaf=10, verbose=0, min_weight_fraction_leaf=.005, random_state=seed)\n",
        "forestdrl.fit(Y_train, T_train, X=X_train, cache_values=True)\n",
        "# Estimate treatment effects on test data\n",
        "forestdrl_te = forestdrl.effect(X_test)\n",
        "forestdrl_te_inference = forestdrl.effect_inference(X_test).population_summary(alpha=0.1, value=0, decimals=3, tol=0.001)\n",
        "print(forestdrl_te_inference)"
      ],
      "metadata": {
        "colab": {
          "base_uri": "https://localhost:8080/"
        },
        "id": "_bUwitDAWpYb",
        "outputId": "f8b04411-edc9-41f4-8c35-845173add927"
      },
      "execution_count": 37,
      "outputs": [
        {
          "output_type": "stream",
          "name": "stdout",
          "text": [
            "               Uncertainty of Mean Point Estimate               \n",
            "================================================================\n",
            "mean_point stderr_mean zstat  pvalue ci_mean_lower ci_mean_upper\n",
            "----------------------------------------------------------------\n",
            "    -0.025       0.029 -0.854  0.393        -0.073         0.023\n",
            "      Distribution of Point Estimate     \n",
            "=========================================\n",
            "std_point pct_point_lower pct_point_upper\n",
            "-----------------------------------------\n",
            "    0.012          -0.047          -0.009\n",
            "     Total Variance of Point Estimate     \n",
            "==========================================\n",
            "stderr_point ci_point_lower ci_point_upper\n",
            "------------------------------------------\n",
            "       0.032         -0.081          0.018\n",
            "------------------------------------------\n",
            "\n",
            "Note: The stderr_mean is a conservative upper bound.\n"
          ]
        }
      ]
    },
    {
      "cell_type": "markdown",
      "source": [
        "# (B) Continuous outcome "
      ],
      "metadata": {
        "id": "F_zxvcpd6KG_"
      }
    },
    {
      "cell_type": "markdown",
      "source": [
        "## 1. Time: 0-48 "
      ],
      "metadata": {
        "id": "6Twl_AHE8FGs"
      }
    },
    {
      "cell_type": "markdown",
      "source": [
        "### 1.1 Mean serum creatinine "
      ],
      "metadata": {
        "id": "lTiAVjeP6Kf5"
      }
    },
    {
      "cell_type": "code",
      "source": [
        " '0_48_min_k', '0_48_hour_min_k', '0_48_hypokalemia', '0_48_severe_hypokalemia', '0_48_max_k', '0_48_hour_max_k', '0_48_hyperkalemia', '0_48_mean_k', '0_24_min_k', '0_24_hour_min_k', '0_24_hypokalemia', '0_24_severe_hypokalemia', '0_24_max_k', '0_24_hour_max_k', '0_24_hyperkalemia', '0_24_mean_k', '0_12_min_k', '0_12_hour_min_k', '0_12_hypokalemia', '0_12_severe_hypokalemia', '0_12_max_k', '0_12_hour_max_k', '0_12_hyperkalemia', '0_12_mean_k', '0_6_min_k', '0_6_hour_min_k', '0_6_hypokalemia', '0_6_severe_hypokalemia', '0_6_max_k', '0_6_hour_max_k', '0_6_hyperkalemia', '0_6_mean_k', '0_48_mean_outcome_crea', '0_48_max_outcome_crea', '0_48_hour_max_crea', '0_48_min_outcome_crea', '0_48_hour_min_crea', '0_48_max_diff_crea', '0_48_AKI_stage_1', '0_48_min_diff_crea', '0_24_mean_outcome_crea', '0_24_max_outcome_crea', '0_24_hour_max_crea', '0_24_min_outcome_crea', '0_24_hour_min_crea', '0_24_max_diff_crea', '0_24_AKI_stage_1', '0_24_min_diff_crea', '0_12_mean_outcome_crea', '0_12_max_outcome_crea', '0_12_hour_max_crea', '0_12_min_outcome_crea', '0_12_hour_min_crea', '0_12_max_diff_crea', '0_12_AKI_stage_1', '0_12_min_diff_crea', '0_6_mean_outcome_crea', '0_6_max_outcome_crea', '0_6_hour_max_crea', '0_6_min_outcome_crea', '0_6_hour_min_crea', '0_6_max_diff_crea', '0_6_AKI_stage_1', '0_6_min_diff_crea', 'sequence_icu', 'sequence_hadm', 'diff_intime_admittime_day', 'age', 'male', 'weight', 'admission_type_emergency', 'adm_med', 'adm_surg', 'careunit_MICU/SICU', 'careunit_CVICU', 'careunit_TSICU', 'careunit_CCU', 'careunit_Neuro_Intermediate', 'bun', 'cl', 'crea_pre', 'glu', 'mg', 'k_pre', 'na', 'plt', 'urine', 'o2sat', 'resp', 'hr', 'map', 'temp', 'ace_inhibitor', 'abx', 'antifungal', 'antiplatelet', 'antiretroviral', 'arb', 'beta_agonist', 'beta_blocker', 'ca_inhibitor', 'chemo', 'cort', 'cyclosporin', 'dex', 'digitalis', 'dm_meds', 'dopaminergic', 'dronedarone', 'furosemide', 'h2_antagonist', 'heparinoid', 'ins', 'k_supp', 'lax', 'lithium', 'nsaid', 'other_loops', 'mra', 'thiazide', 'tyrosin_kinase', 'vaso_ind', 'vitamin_d', 'xanthines', 'aids', 'alcohol', 'coag', 'copd', 'anemdef', 'depress', 'dm', 'drug', 'hypothy', 'liver', 'lymph', 'mets', 'obese', 'para', 'htn', 'perivasc', 'arth', 'tumor', 'valve', 'mech_vent_invasive', 'mech_vent_noninvasive', 'rrt', 'supp_o2']\n"
      ],
      "metadata": {
        "id": "Mh4oLEBT6TWH"
      },
      "execution_count": null,
      "outputs": []
    },
    {
      "cell_type": "code",
      "source": [
        "XTY = pd.read_csv(\"/content/XTY.csv\")\n",
        "XTY_train = pd.read_csv(\"/content/XTY_train.csv\")\n",
        "XTY_test = pd.read_csv(\"/content/XTY_test.csv\")\n",
        "\n",
        "#(1.2) Build a model\n",
        "Y_train = XTY_train[\"0_48_mean_outcome_crea\"].to_numpy()\n",
        "T_train = XTY_train[\"treated\"].to_numpy()\n",
        "#W_train= XTY_train[W_columns].to_numpy().reshape(-1, 50)\n",
        "X_train= XTY_train[W_columns].to_numpy().reshape(-1, 50)\n",
        "X_test = XTY_test[W_columns].to_numpy().reshape(-1, 50)"
      ],
      "metadata": {
        "id": "wvEa4TWr6E1W"
      },
      "execution_count": 126,
      "outputs": []
    },
    {
      "cell_type": "code",
      "source": [
        "cv = KFold(n_splits=3, shuffle=True, random_state=123)\n",
        "forestdrl = ForestDRLearner(model_regression=model_ytb, model_propensity=model_tb, cv=3, min_samples_leaf=10, verbose=0, min_weight_fraction_leaf=.005, random_state=seed)\n",
        "forestdrl.fit(Y_train, T_train, X=X_train, cache_values=True)\n",
        "# Estimate treatment effects on test data\n",
        "forestdrl_te = forestdrl.effect(X_test)\n",
        "forestdrl_te_inference = forestdrl.effect_inference(X_test).population_summary(alpha=0.1, value=0, decimals=3, tol=0.001)\n",
        "print(forestdrl_te_inference)"
      ],
      "metadata": {
        "colab": {
          "base_uri": "https://localhost:8080/"
        },
        "id": "4VcRibJ66hyZ",
        "outputId": "8aedebef-3fa7-4af4-a35d-e1113cdce336"
      },
      "execution_count": 141,
      "outputs": [
        {
          "output_type": "stream",
          "name": "stdout",
          "text": [
            "               Uncertainty of Mean Point Estimate              \n",
            "===============================================================\n",
            "mean_point stderr_mean zstat pvalue ci_mean_lower ci_mean_upper\n",
            "---------------------------------------------------------------\n",
            "     0.004       0.054 0.079  0.937        -0.084         0.093\n",
            "      Distribution of Point Estimate     \n",
            "=========================================\n",
            "std_point pct_point_lower pct_point_upper\n",
            "-----------------------------------------\n",
            "    0.034           -0.03           0.061\n",
            "     Total Variance of Point Estimate     \n",
            "==========================================\n",
            "stderr_point ci_point_lower ci_point_upper\n",
            "------------------------------------------\n",
            "       0.064         -0.062          0.093\n",
            "------------------------------------------\n",
            "\n",
            "Note: The stderr_mean is a conservative upper bound.\n"
          ]
        }
      ]
    },
    {
      "cell_type": "code",
      "source": [
        "forestdml = CausalForestDML(model_y=model_yb, model_t=model_tb, discrete_treatment=True ,random_state=seed)\n",
        "forestdml.fit(Y_train, T_train, X=X_train, cache_values=True)\n",
        "# Estimate treatment effects on test data\n",
        "forestdml_te = forestdml.effect(X_test)\n",
        "forestdml_te_inference = forestdml.effect_inference(X_test).population_summary(alpha=0.1, value=0, decimals=3, tol=0.001)\n",
        "print(forestdml_te_inference)"
      ],
      "metadata": {
        "colab": {
          "base_uri": "https://localhost:8080/"
        },
        "id": "UD8tP1Vx-dCv",
        "outputId": "5601f621-9132-4860-d7dc-6dc97ca4d58d"
      },
      "execution_count": 179,
      "outputs": [
        {
          "output_type": "stream",
          "name": "stdout",
          "text": [
            "               Uncertainty of Mean Point Estimate              \n",
            "===============================================================\n",
            "mean_point stderr_mean zstat pvalue ci_mean_lower ci_mean_upper\n",
            "---------------------------------------------------------------\n",
            "     0.007       0.099 0.073  0.942        -0.155          0.17\n",
            "      Distribution of Point Estimate     \n",
            "=========================================\n",
            "std_point pct_point_lower pct_point_upper\n",
            "-----------------------------------------\n",
            "    0.072          -0.045            0.12\n",
            "     Total Variance of Point Estimate     \n",
            "==========================================\n",
            "stderr_point ci_point_lower ci_point_upper\n",
            "------------------------------------------\n",
            "       0.122          -0.12          0.185\n",
            "------------------------------------------\n",
            "\n",
            "Note: The stderr_mean is a conservative upper bound.\n"
          ]
        }
      ]
    },
    {
      "cell_type": "markdown",
      "source": [
        "### 1.2 Max serum creatinine "
      ],
      "metadata": {
        "id": "g6O9opIz6nE5"
      }
    },
    {
      "cell_type": "code",
      "source": [
        "XTY = pd.read_csv(\"/content/XTY.csv\")\n",
        "XTY_train = pd.read_csv(\"/content/XTY_train.csv\")\n",
        "XTY_test = pd.read_csv(\"/content/XTY_test.csv\")\n",
        "\n",
        "#(1.2) Build a model\n",
        "Y_train = XTY_train[\"0_48_max_outcome_crea\"].to_numpy()\n",
        "T_train = XTY_train[\"treated\"].to_numpy()\n",
        "#W_train= XTY_train[W_columns].to_numpy().reshape(-1, 50)\n",
        "X_train= XTY_train[W_columns].to_numpy().reshape(-1, 50)\n",
        "X_test = XTY_test[W_columns].to_numpy().reshape(-1, 50)"
      ],
      "metadata": {
        "id": "eWev1Rv46xV1"
      },
      "execution_count": 129,
      "outputs": []
    },
    {
      "cell_type": "code",
      "source": [
        "cv = KFold(n_splits=3, shuffle=True, random_state=123)\n",
        "forestdrl = ForestDRLearner(model_regression=model_ytb, model_propensity=model_tb, cv=3, min_samples_leaf=10, verbose=0, min_weight_fraction_leaf=.005, random_state=seed)\n",
        "forestdrl.fit(Y_train, T_train, X=X_train, cache_values=True)\n",
        "# Estimate treatment effects on test data\n",
        "forestdrl_te = forestdrl.effect(X_test)\n",
        "forestdrl_te_inference = forestdrl.effect_inference(X_test).population_summary(alpha=0.1, value=0, decimals=3, tol=0.001)\n",
        "print(forestdrl_te_inference)"
      ],
      "metadata": {
        "colab": {
          "base_uri": "https://localhost:8080/"
        },
        "id": "HxZsEUCy640e",
        "outputId": "4dbabf90-c846-48f8-8af1-67342c62bc91"
      },
      "execution_count": 130,
      "outputs": [
        {
          "output_type": "stream",
          "name": "stdout",
          "text": [
            "               Uncertainty of Mean Point Estimate              \n",
            "===============================================================\n",
            "mean_point stderr_mean zstat pvalue ci_mean_lower ci_mean_upper\n",
            "---------------------------------------------------------------\n",
            "     0.023       0.058 0.396  0.692        -0.072         0.118\n",
            "      Distribution of Point Estimate     \n",
            "=========================================\n",
            "std_point pct_point_lower pct_point_upper\n",
            "-----------------------------------------\n",
            "    0.042          -0.017           0.115\n",
            "     Total Variance of Point Estimate     \n",
            "==========================================\n",
            "stderr_point ci_point_lower ci_point_upper\n",
            "------------------------------------------\n",
            "       0.071         -0.051          0.153\n",
            "------------------------------------------\n",
            "\n",
            "Note: The stderr_mean is a conservative upper bound.\n"
          ]
        }
      ]
    },
    {
      "cell_type": "code",
      "source": [
        "forestdml.fit(Y_train, T_train, X=X_train, cache_values=True)\n",
        "# Estimate treatment effects on test data\n",
        "forestdml_te = forestdml.effect(X_test)\n",
        "forestdml_te_inference = forestdml.effect_inference(X_test).population_summary(alpha=0.1, value=0, decimals=3, tol=0.001)\n",
        "print(forestdml_te_inference)"
      ],
      "metadata": {
        "colab": {
          "base_uri": "https://localhost:8080/"
        },
        "id": "BfqdVuYX-pwF",
        "outputId": "8c0ed4cd-11a3-4dbe-de7f-3f89e48f3e4b"
      },
      "execution_count": 182,
      "outputs": [
        {
          "output_type": "stream",
          "name": "stdout",
          "text": [
            "               Uncertainty of Mean Point Estimate              \n",
            "===============================================================\n",
            "mean_point stderr_mean zstat pvalue ci_mean_lower ci_mean_upper\n",
            "---------------------------------------------------------------\n",
            "     0.027       0.111 0.244  0.807        -0.156          0.21\n",
            "      Distribution of Point Estimate     \n",
            "=========================================\n",
            "std_point pct_point_lower pct_point_upper\n",
            "-----------------------------------------\n",
            "    0.074          -0.049           0.182\n",
            "     Total Variance of Point Estimate     \n",
            "==========================================\n",
            "stderr_point ci_point_lower ci_point_upper\n",
            "------------------------------------------\n",
            "       0.134         -0.121          0.259\n",
            "------------------------------------------\n",
            "\n",
            "Note: The stderr_mean is a conservative upper bound.\n"
          ]
        }
      ]
    },
    {
      "cell_type": "code",
      "source": [
        "#Interpret the outcome \n",
        "intrp = SingleTreeCateInterpreter(include_model_uncertainty=False, max_depth=3, min_samples_leaf=10)\n",
        "# We interpret the CATE model's behavior based on the features used for heterogeneity\n",
        "intrp.interpret(forestdrl, X_test)\n",
        "#Render the tree\n",
        "intrp.render(out_file =\"tree_0_48_max_crea\",feature_names=W_columns, rotate=True)\n",
        "# Plot the tree\n",
        "intrp.plot(fontsize=8, feature_names=W_columns, rounded = True)"
      ],
      "metadata": {
        "id": "AemUUYVllZTY"
      },
      "execution_count": 131,
      "outputs": []
    },
    {
      "cell_type": "markdown",
      "source": [
        "### 1.3  Min serum creatinine "
      ],
      "metadata": {
        "id": "qf9xjlLB68iV"
      }
    },
    {
      "cell_type": "code",
      "source": [
        "XTY = pd.read_csv(\"/content/XTY.csv\")\n",
        "XTY_train = pd.read_csv(\"/content/XTY_train.csv\")\n",
        "XTY_test = pd.read_csv(\"/content/XTY_test.csv\")\n",
        "\n",
        "#(1.2) Build a model\n",
        "Y_train = XTY_train['0_48_min_outcome_crea'].to_numpy()\n",
        "T_train = XTY_train[\"treated\"].to_numpy()\n",
        "#W_train= XTY_train[W_columns].to_numpy().reshape(-1, 50)\n",
        "X_train= XTY_train[W_columns].to_numpy().reshape(-1, 50)\n",
        "X_test = XTY_test[W_columns].to_numpy().reshape(-1, 50)"
      ],
      "metadata": {
        "id": "-jrinAod7M3o"
      },
      "execution_count": 183,
      "outputs": []
    },
    {
      "cell_type": "code",
      "source": [
        "cv = KFold(n_splits=3, shuffle=True, random_state=123)\n",
        "forestdrl = ForestDRLearner(model_regression=model_ytb, model_propensity=model_tb, cv=3, min_samples_leaf=10, verbose=0, min_weight_fraction_leaf=.005, random_state=seed)\n",
        "forestdrl.fit(Y_train, T_train, X=X_train, cache_values=True)\n",
        "# Estimate treatment effects on test data\n",
        "forestdrl_te = forestdrl.effect(X_test)\n",
        "forestdrl_te_inference = forestdrl.effect_inference(X_test).population_summary(alpha=0.1, value=0, decimals=3, tol=0.001)\n",
        "print(forestdrl_te_inference)"
      ],
      "metadata": {
        "colab": {
          "base_uri": "https://localhost:8080/"
        },
        "id": "rkLYrZ2L7SvI",
        "outputId": "93e5dc09-7656-44cf-a438-10b2651f33c2"
      },
      "execution_count": 145,
      "outputs": [
        {
          "output_type": "stream",
          "name": "stdout",
          "text": [
            "               Uncertainty of Mean Point Estimate               \n",
            "================================================================\n",
            "mean_point stderr_mean zstat  pvalue ci_mean_lower ci_mean_upper\n",
            "----------------------------------------------------------------\n",
            "    -0.011       0.057 -0.201  0.841        -0.104         0.082\n",
            "      Distribution of Point Estimate     \n",
            "=========================================\n",
            "std_point pct_point_lower pct_point_upper\n",
            "-----------------------------------------\n",
            "    0.047          -0.104            0.03\n",
            "     Total Variance of Point Estimate     \n",
            "==========================================\n",
            "stderr_point ci_point_lower ci_point_upper\n",
            "------------------------------------------\n",
            "       0.073         -0.095          0.059\n",
            "------------------------------------------\n",
            "\n",
            "Note: The stderr_mean is a conservative upper bound.\n"
          ]
        }
      ]
    },
    {
      "cell_type": "code",
      "source": [
        "forestdml = CausalForestDML(model_y=model_yb, model_t=model_tb, discrete_treatment=True ,random_state=seed)\n",
        "forestdml.fit(Y_train, T_train, X=X_train, cache_values=True)\n",
        "# Estimate treatment effects on test data\n",
        "forestdml_te = forestdml.effect(X_test)\n",
        "forestdml_te_inference = forestdml.effect_inference(X_test).population_summary(alpha=0.1, value=0, decimals=3, tol=0.001)\n",
        "print(forestdml_te_inference)"
      ],
      "metadata": {
        "colab": {
          "base_uri": "https://localhost:8080/"
        },
        "id": "jIsLSLXK--AZ",
        "outputId": "337611aa-8862-4267-abbb-37dc1fe782bb"
      },
      "execution_count": 184,
      "outputs": [
        {
          "output_type": "stream",
          "name": "stdout",
          "text": [
            "               Uncertainty of Mean Point Estimate               \n",
            "================================================================\n",
            "mean_point stderr_mean zstat  pvalue ci_mean_lower ci_mean_upper\n",
            "----------------------------------------------------------------\n",
            "    -0.011       0.114 -0.093  0.926        -0.198         0.177\n",
            "      Distribution of Point Estimate     \n",
            "=========================================\n",
            "std_point pct_point_lower pct_point_upper\n",
            "-----------------------------------------\n",
            "    0.101          -0.055           0.069\n",
            "     Total Variance of Point Estimate     \n",
            "==========================================\n",
            "stderr_point ci_point_lower ci_point_upper\n",
            "------------------------------------------\n",
            "       0.152         -0.136          0.141\n",
            "------------------------------------------\n",
            "\n",
            "Note: The stderr_mean is a conservative upper bound.\n"
          ]
        }
      ]
    },
    {
      "cell_type": "markdown",
      "source": [
        "### 1.4 Maximum increase serum creatinine"
      ],
      "metadata": {
        "id": "Th1nlN6x7hTW"
      }
    },
    {
      "cell_type": "code",
      "source": [
        "XTY = pd.read_csv(\"/content/XTY.csv\")\n",
        "XTY_train = pd.read_csv(\"/content/XTY_train.csv\")\n",
        "XTY_test = pd.read_csv(\"/content/XTY_test.csv\")\n",
        "\n",
        "#(1.2) Build a model\n",
        "Y_train = XTY_train['0_48_max_diff_crea'].to_numpy()\n",
        "T_train = XTY_train[\"treated\"].to_numpy()\n",
        "#W_train= XTY_train[W_columns].to_numpy().reshape(-1, 50)\n",
        "X_train= XTY_train[W_columns].to_numpy().reshape(-1, 50)\n",
        "X_test = XTY_test[W_columns].to_numpy().reshape(-1, 50)"
      ],
      "metadata": {
        "id": "evv4Es2c8Md4"
      },
      "execution_count": 185,
      "outputs": []
    },
    {
      "cell_type": "code",
      "source": [
        "cv = KFold(n_splits=3, shuffle=True, random_state=123)\n",
        "forestdrl = ForestDRLearner(model_regression=model_ytb, model_propensity=model_tb, cv=3, min_samples_leaf=10, verbose=0, min_weight_fraction_leaf=.005, random_state=seed)\n",
        "forestdrl.fit(Y_train, T_train, X=X_train, cache_values=True)\n",
        "# Estimate treatment effects on test data\n",
        "forestdrl_te = forestdrl.effect(X_test)\n",
        "forestdrl_te_inference = forestdrl.effect_inference(X_test).population_summary(alpha=0.1, value=0, decimals=3, tol=0.001)\n",
        "print(forestdrl_te_inference)"
      ],
      "metadata": {
        "colab": {
          "base_uri": "https://localhost:8080/"
        },
        "id": "tyA4Nt028Vo5",
        "outputId": "7ebf1edd-a74f-46b0-aae1-07fb89018d27"
      },
      "execution_count": 147,
      "outputs": [
        {
          "output_type": "stream",
          "name": "stdout",
          "text": [
            "               Uncertainty of Mean Point Estimate              \n",
            "===============================================================\n",
            "mean_point stderr_mean zstat pvalue ci_mean_lower ci_mean_upper\n",
            "---------------------------------------------------------------\n",
            "     0.013       0.089 0.142  0.887        -0.134         0.159\n",
            "      Distribution of Point Estimate     \n",
            "=========================================\n",
            "std_point pct_point_lower pct_point_upper\n",
            "-----------------------------------------\n",
            "    0.061          -0.036            0.17\n",
            "     Total Variance of Point Estimate     \n",
            "==========================================\n",
            "stderr_point ci_point_lower ci_point_upper\n",
            "------------------------------------------\n",
            "       0.108         -0.079          0.214\n",
            "------------------------------------------\n",
            "\n",
            "Note: The stderr_mean is a conservative upper bound.\n"
          ]
        }
      ]
    },
    {
      "cell_type": "code",
      "source": [
        "forestdml = CausalForestDML(model_y=model_yb, model_t=model_tb, discrete_treatment=True ,random_state=seed)\n",
        "forestdml.fit(Y_train, T_train, X=X_train, cache_values=True)\n",
        "# Estimate treatment effects on test data\n",
        "forestdml_te = forestdml.effect(X_test)\n",
        "forestdml_te_inference = forestdml.effect_inference(X_test).population_summary(alpha=0.1, value=0, decimals=3, tol=0.001)\n",
        "print(forestdml_te_inference)"
      ],
      "metadata": {
        "colab": {
          "base_uri": "https://localhost:8080/"
        },
        "id": "OwadJ3iR_F_V",
        "outputId": "2685233e-4e2e-4ada-cf64-87c39f2e8cb8"
      },
      "execution_count": 186,
      "outputs": [
        {
          "output_type": "stream",
          "name": "stdout",
          "text": [
            "               Uncertainty of Mean Point Estimate              \n",
            "===============================================================\n",
            "mean_point stderr_mean zstat pvalue ci_mean_lower ci_mean_upper\n",
            "---------------------------------------------------------------\n",
            "     0.022       0.146 0.149  0.881        -0.219         0.262\n",
            "      Distribution of Point Estimate     \n",
            "=========================================\n",
            "std_point pct_point_lower pct_point_upper\n",
            "-----------------------------------------\n",
            "    0.105          -0.066           0.255\n",
            "     Total Variance of Point Estimate     \n",
            "==========================================\n",
            "stderr_point ci_point_lower ci_point_upper\n",
            "------------------------------------------\n",
            "        0.18         -0.163          0.355\n",
            "------------------------------------------\n",
            "\n",
            "Note: The stderr_mean is a conservative upper bound.\n"
          ]
        }
      ]
    },
    {
      "cell_type": "markdown",
      "source": [
        "### 1.5  Maximum decrease serum creatinine "
      ],
      "metadata": {
        "id": "CJV6asb-8XV9"
      }
    },
    {
      "cell_type": "code",
      "source": [
        "XTY = pd.read_csv(\"/content/XTY.csv\")\n",
        "XTY_train = pd.read_csv(\"/content/XTY_train.csv\")\n",
        "XTY_test = pd.read_csv(\"/content/XTY_test.csv\")\n",
        "\n",
        "#(1.2) Build a model\n",
        "Y_train = XTY_train['0_48_min_diff_crea'].to_numpy()\n",
        "T_train = XTY_train[\"treated\"].to_numpy()\n",
        "#W_train= XTY_train[W_columns].to_numpy().reshape(-1, 50)\n",
        "X_train= XTY_train[W_columns].to_numpy().reshape(-1, 50)\n",
        "X_test = XTY_test[W_columns].to_numpy().reshape(-1, 50)"
      ],
      "metadata": {
        "id": "rVMfQ-8S8dyE"
      },
      "execution_count": 187,
      "outputs": []
    },
    {
      "cell_type": "code",
      "source": [
        "cv = KFold(n_splits=3, shuffle=True, random_state=123)\n",
        "forestdrl = ForestDRLearner(model_regression=model_ytb, model_propensity=model_tb, cv=3, min_samples_leaf=10, verbose=0, min_weight_fraction_leaf=.005, random_state=seed)\n",
        "forestdrl.fit(Y_train, T_train, X=X_train, cache_values=True)\n",
        "# Estimate treatment effects on test data\n",
        "forestdrl_te = forestdrl.effect(X_test)\n",
        "forestdrl_te_inference = forestdrl.effect_inference(X_test).population_summary(alpha=0.1, value=0, decimals=3, tol=0.001)\n",
        "print(forestdrl_te_inference)"
      ],
      "metadata": {
        "colab": {
          "base_uri": "https://localhost:8080/"
        },
        "id": "0rtcfcIi8gyb",
        "outputId": "b2b7ef30-9bf6-46a3-d5a3-d8b27a667abf"
      },
      "execution_count": 149,
      "outputs": [
        {
          "output_type": "stream",
          "name": "stdout",
          "text": [
            "               Uncertainty of Mean Point Estimate               \n",
            "================================================================\n",
            "mean_point stderr_mean zstat  pvalue ci_mean_lower ci_mean_upper\n",
            "----------------------------------------------------------------\n",
            "    -0.024        0.08 -0.305   0.76        -0.156         0.107\n",
            "      Distribution of Point Estimate     \n",
            "=========================================\n",
            "std_point pct_point_lower pct_point_upper\n",
            "-----------------------------------------\n",
            "    0.067          -0.159           0.042\n",
            "     Total Variance of Point Estimate     \n",
            "==========================================\n",
            "stderr_point ci_point_lower ci_point_upper\n",
            "------------------------------------------\n",
            "       0.104         -0.133          0.074\n",
            "------------------------------------------\n",
            "\n",
            "Note: The stderr_mean is a conservative upper bound.\n"
          ]
        }
      ]
    },
    {
      "cell_type": "code",
      "source": [
        "forestdml = CausalForestDML(model_y=model_yb, model_t=model_tb, discrete_treatment=True ,random_state=seed)\n",
        "forestdml.fit(Y_train, T_train, X=X_train, cache_values=True)\n",
        "# Estimate treatment effects on test data\n",
        "forestdml_te = forestdml.effect(X_test)\n",
        "forestdml_te_inference = forestdml.effect_inference(X_test).population_summary(alpha=0.1, value=0, decimals=3, tol=0.001)\n",
        "print(forestdml_te_inference)"
      ],
      "metadata": {
        "colab": {
          "base_uri": "https://localhost:8080/"
        },
        "id": "1bIf2SvH_KgR",
        "outputId": "899638e4-912b-48dc-8fc0-f7fe1b56ff9b"
      },
      "execution_count": 188,
      "outputs": [
        {
          "output_type": "stream",
          "name": "stdout",
          "text": [
            "               Uncertainty of Mean Point Estimate               \n",
            "================================================================\n",
            "mean_point stderr_mean zstat  pvalue ci_mean_lower ci_mean_upper\n",
            "----------------------------------------------------------------\n",
            "    -0.022       0.145 -0.152  0.879        -0.261         0.217\n",
            "      Distribution of Point Estimate     \n",
            "=========================================\n",
            "std_point pct_point_lower pct_point_upper\n",
            "-----------------------------------------\n",
            "    0.108           -0.08           0.091\n",
            "     Total Variance of Point Estimate     \n",
            "==========================================\n",
            "stderr_point ci_point_lower ci_point_upper\n",
            "------------------------------------------\n",
            "       0.181         -0.165          0.173\n",
            "------------------------------------------\n",
            "\n",
            "Note: The stderr_mean is a conservative upper bound.\n"
          ]
        }
      ]
    },
    {
      "cell_type": "markdown",
      "source": [
        "## 2. Time: 0-24"
      ],
      "metadata": {
        "id": "SU8aCyua8U08"
      }
    },
    {
      "cell_type": "markdown",
      "source": [
        "### 2.1 Mean serum creatinine "
      ],
      "metadata": {
        "id": "7m61x-DI8n28"
      }
    },
    {
      "cell_type": "code",
      "source": [
        "#Only include patients that have an observation \n",
        "XTY = pd.read_csv(\"/content/XTY.csv\")\n",
        "XTY = XTY[XTY[\"0_24_mean_outcome_crea\"].notnull()]"
      ],
      "metadata": {
        "id": "Pu3ssO6l8tVJ"
      },
      "execution_count": 189,
      "outputs": []
    },
    {
      "cell_type": "code",
      "source": [
        "XTY_train, XTY_test = train_test_split(XTY, test_size=0.2, random_state=123)"
      ],
      "metadata": {
        "id": "AbwhMJwc8yOY"
      },
      "execution_count": 190,
      "outputs": []
    },
    {
      "cell_type": "code",
      "source": [
        "print(XTY_train.shape)"
      ],
      "metadata": {
        "colab": {
          "base_uri": "https://localhost:8080/"
        },
        "id": "G4w0I76X8zva",
        "outputId": "473cb5da-6ac8-4376-d8a4-acea2039534b"
      },
      "execution_count": 191,
      "outputs": [
        {
          "output_type": "stream",
          "name": "stdout",
          "text": [
            "(3706, 151)\n"
          ]
        }
      ]
    },
    {
      "cell_type": "code",
      "source": [
        "# Build a model\n",
        "Y_train = XTY_train[\"0_24_mean_outcome_crea\"].to_numpy()\n",
        "T_train = XTY_train[\"treated\"].to_numpy()\n",
        "X_train= XTY_train[W_columns].to_numpy().reshape(-1, 50)\n",
        "X_test = XTY_test[W_columns].to_numpy().reshape(-1, 50)"
      ],
      "metadata": {
        "id": "nMIgH5gT82VL"
      },
      "execution_count": 192,
      "outputs": []
    },
    {
      "cell_type": "code",
      "source": [
        "cv = KFold(n_splits=3, shuffle=True, random_state=123)\n",
        "forestdrl = ForestDRLearner(model_regression=model_ytb, model_propensity=model_tb, cv=3, min_samples_leaf=10, verbose=0, min_weight_fraction_leaf=.005, random_state=seed)\n",
        "forestdrl.fit(Y_train, T_train, X=X_train, cache_values=True)\n",
        "# Estimate treatment effects on test data\n",
        "forestdrl_te = forestdrl.effect(X_test)\n",
        "forestdrl_te_inference = forestdrl.effect_inference(X_test).population_summary(alpha=0.1, value=0, decimals=3, tol=0.001)\n",
        "print(forestdrl_te_inference)"
      ],
      "metadata": {
        "colab": {
          "base_uri": "https://localhost:8080/"
        },
        "id": "0mMr_Lk_874g",
        "outputId": "6e501359-0197-48cb-c647-677c682b7e10"
      },
      "execution_count": 154,
      "outputs": [
        {
          "output_type": "stream",
          "name": "stdout",
          "text": [
            "               Uncertainty of Mean Point Estimate              \n",
            "===============================================================\n",
            "mean_point stderr_mean zstat pvalue ci_mean_lower ci_mean_upper\n",
            "---------------------------------------------------------------\n",
            "     0.005       0.053 0.099  0.921        -0.082         0.092\n",
            "      Distribution of Point Estimate     \n",
            "=========================================\n",
            "std_point pct_point_lower pct_point_upper\n",
            "-----------------------------------------\n",
            "    0.027          -0.021           0.064\n",
            "     Total Variance of Point Estimate     \n",
            "==========================================\n",
            "stderr_point ci_point_lower ci_point_upper\n",
            "------------------------------------------\n",
            "        0.06         -0.053          0.102\n",
            "------------------------------------------\n",
            "\n",
            "Note: The stderr_mean is a conservative upper bound.\n"
          ]
        }
      ]
    },
    {
      "cell_type": "code",
      "source": [
        "forestdml = CausalForestDML(model_y=model_yb, model_t=model_tb, discrete_treatment=True ,random_state=seed)\n",
        "forestdml.fit(Y_train, T_train, X=X_train, cache_values=True)\n",
        "# Estimate treatment effects on test data\n",
        "forestdml_te = forestdml.effect(X_test)\n",
        "forestdml_te_inference = forestdml.effect_inference(X_test).population_summary(alpha=0.1, value=0, decimals=3, tol=0.001)\n",
        "print(forestdml_te_inference)"
      ],
      "metadata": {
        "colab": {
          "base_uri": "https://localhost:8080/"
        },
        "id": "da1yOIFX-0W3",
        "outputId": "e3367f87-bfc1-4c7f-bb46-1fd8fad3854b"
      },
      "execution_count": 193,
      "outputs": [
        {
          "output_type": "stream",
          "name": "stdout",
          "text": [
            "               Uncertainty of Mean Point Estimate              \n",
            "===============================================================\n",
            "mean_point stderr_mean zstat pvalue ci_mean_lower ci_mean_upper\n",
            "---------------------------------------------------------------\n",
            "     0.021         0.1 0.207  0.836        -0.143         0.184\n",
            "      Distribution of Point Estimate     \n",
            "=========================================\n",
            "std_point pct_point_lower pct_point_upper\n",
            "-----------------------------------------\n",
            "    0.067          -0.031            0.14\n",
            "     Total Variance of Point Estimate     \n",
            "==========================================\n",
            "stderr_point ci_point_lower ci_point_upper\n",
            "------------------------------------------\n",
            "        0.12         -0.098          0.208\n",
            "------------------------------------------\n",
            "\n",
            "Note: The stderr_mean is a conservative upper bound.\n"
          ]
        }
      ]
    },
    {
      "cell_type": "markdown",
      "source": [
        "### 2.2 Max serum creatinine "
      ],
      "metadata": {
        "id": "aPWjYezB8-ta"
      }
    },
    {
      "cell_type": "code",
      "source": [
        "# Build a model\n",
        "Y_train = XTY_train[\"0_24_max_outcome_crea\"].to_numpy()\n",
        "T_train = XTY_train[\"treated\"].to_numpy()\n",
        "X_train= XTY_train[W_columns].to_numpy().reshape(-1, 50)\n",
        "X_test = XTY_test[W_columns].to_numpy().reshape(-1, 50)"
      ],
      "metadata": {
        "id": "mchoUzSh9EAx"
      },
      "execution_count": 155,
      "outputs": []
    },
    {
      "cell_type": "code",
      "source": [
        "cv = KFold(n_splits=3, shuffle=True, random_state=123)\n",
        "forestdrl = ForestDRLearner(model_regression=model_ytb, model_propensity=model_tb, cv=3, min_samples_leaf=10, verbose=0, min_weight_fraction_leaf=.005, random_state=seed)\n",
        "forestdrl.fit(Y_train, T_train, X=X_train, cache_values=True)\n",
        "# Estimate treatment effects on test data\n",
        "forestdrl_te = forestdrl.effect(X_test)\n",
        "forestdrl_te_inference = forestdrl.effect_inference(X_test).population_summary(alpha=0.1, value=0, decimals=3, tol=0.001)\n",
        "print(forestdrl_te_inference)"
      ],
      "metadata": {
        "colab": {
          "base_uri": "https://localhost:8080/"
        },
        "id": "d8guyUPi9HKX",
        "outputId": "184c77dd-8bde-439f-9748-45286feb3f0f"
      },
      "execution_count": 156,
      "outputs": [
        {
          "output_type": "stream",
          "name": "stdout",
          "text": [
            "               Uncertainty of Mean Point Estimate              \n",
            "===============================================================\n",
            "mean_point stderr_mean zstat pvalue ci_mean_lower ci_mean_upper\n",
            "---------------------------------------------------------------\n",
            "     0.019       0.057 0.336  0.737        -0.075         0.113\n",
            "      Distribution of Point Estimate     \n",
            "=========================================\n",
            "std_point pct_point_lower pct_point_upper\n",
            "-----------------------------------------\n",
            "    0.041          -0.016           0.105\n",
            "     Total Variance of Point Estimate     \n",
            "==========================================\n",
            "stderr_point ci_point_lower ci_point_upper\n",
            "------------------------------------------\n",
            "        0.07         -0.047          0.144\n",
            "------------------------------------------\n",
            "\n",
            "Note: The stderr_mean is a conservative upper bound.\n"
          ]
        }
      ]
    },
    {
      "cell_type": "markdown",
      "source": [
        "### 2.3 Min serum creatinine "
      ],
      "metadata": {
        "id": "GmcVw4nt9Wpu"
      }
    },
    {
      "cell_type": "code",
      "source": [
        "# Build a model\n",
        "Y_train = XTY_train[\"0_24_min_outcome_crea\"].to_numpy()\n",
        "T_train = XTY_train[\"treated\"].to_numpy()\n",
        "X_train= XTY_train[W_columns].to_numpy().reshape(-1, 50)\n",
        "X_test = XTY_test[W_columns].to_numpy().reshape(-1, 50)"
      ],
      "metadata": {
        "id": "cJ1RrEAF9aNr"
      },
      "execution_count": 157,
      "outputs": []
    },
    {
      "cell_type": "code",
      "source": [
        "cv = KFold(n_splits=3, shuffle=True, random_state=123)\n",
        "forestdrl = ForestDRLearner(model_regression=model_ytb, model_propensity=model_tb, cv=3, min_samples_leaf=10, verbose=0, min_weight_fraction_leaf=.005, random_state=seed)\n",
        "forestdrl.fit(Y_train, T_train, X=X_train, cache_values=True)\n",
        "# Estimate treatment effects on test data\n",
        "forestdrl_te = forestdrl.effect(X_test)\n",
        "forestdrl_te_inference = forestdrl.effect_inference(X_test).population_summary(alpha=0.1, value=0, decimals=3, tol=0.001)\n",
        "print(forestdrl_te_inference)"
      ],
      "metadata": {
        "colab": {
          "base_uri": "https://localhost:8080/"
        },
        "id": "xkkterUe9drV",
        "outputId": "1461ce2a-cdd7-41ce-cc5a-b7de1dabd88b"
      },
      "execution_count": 158,
      "outputs": [
        {
          "output_type": "stream",
          "name": "stdout",
          "text": [
            "               Uncertainty of Mean Point Estimate               \n",
            "================================================================\n",
            "mean_point stderr_mean zstat  pvalue ci_mean_lower ci_mean_upper\n",
            "----------------------------------------------------------------\n",
            "    -0.004       0.056 -0.063   0.95        -0.095         0.088\n",
            "      Distribution of Point Estimate     \n",
            "=========================================\n",
            "std_point pct_point_lower pct_point_upper\n",
            "-----------------------------------------\n",
            "    0.024          -0.029           0.041\n",
            "     Total Variance of Point Estimate     \n",
            "==========================================\n",
            "stderr_point ci_point_lower ci_point_upper\n",
            "------------------------------------------\n",
            "       0.061         -0.066          0.083\n",
            "------------------------------------------\n",
            "\n",
            "Note: The stderr_mean is a conservative upper bound.\n"
          ]
        }
      ]
    },
    {
      "cell_type": "markdown",
      "source": [
        "### 2.4 Maximum increase serum creatinine "
      ],
      "metadata": {
        "id": "FB0YmZEs_aUt"
      }
    },
    {
      "cell_type": "code",
      "source": [
        "# Build a model\n",
        "Y_train = XTY_train[\"0_24_max_diff_crea\"].to_numpy()\n",
        "T_train = XTY_train[\"treated\"].to_numpy()\n",
        "X_train= XTY_train[W_columns].to_numpy().reshape(-1, 50)\n",
        "X_test = XTY_test[W_columns].to_numpy().reshape(-1, 50)"
      ],
      "metadata": {
        "id": "J6ay3wde_eHH"
      },
      "execution_count": 194,
      "outputs": []
    },
    {
      "cell_type": "code",
      "source": [
        "cv = KFold(n_splits=3, shuffle=True, random_state=123)\n",
        "forestdrl = ForestDRLearner(model_regression=model_ytb, model_propensity=model_tb, cv=3, min_samples_leaf=10, verbose=0, min_weight_fraction_leaf=.005, random_state=seed)\n",
        "forestdrl.fit(Y_train, T_train, X=X_train, cache_values=True)\n",
        "# Estimate treatment effects on test data\n",
        "forestdrl_te = forestdrl.effect(X_test)\n",
        "forestdrl_te_inference = forestdrl.effect_inference(X_test).population_summary(alpha=0.1, value=0, decimals=3, tol=0.001)\n",
        "print(forestdrl_te_inference)"
      ],
      "metadata": {
        "colab": {
          "base_uri": "https://localhost:8080/"
        },
        "id": "UAOcdpUw_ip9",
        "outputId": "672ed89d-ce5c-48d6-a54e-b8ca95994176"
      },
      "execution_count": 195,
      "outputs": [
        {
          "output_type": "stream",
          "name": "stdout",
          "text": [
            "               Uncertainty of Mean Point Estimate              \n",
            "===============================================================\n",
            "mean_point stderr_mean zstat pvalue ci_mean_lower ci_mean_upper\n",
            "---------------------------------------------------------------\n",
            "      0.01       0.077  0.13  0.896        -0.116         0.136\n",
            "      Distribution of Point Estimate     \n",
            "=========================================\n",
            "std_point pct_point_lower pct_point_upper\n",
            "-----------------------------------------\n",
            "    0.047           -0.03           0.116\n",
            "     Total Variance of Point Estimate     \n",
            "==========================================\n",
            "stderr_point ci_point_lower ci_point_upper\n",
            "------------------------------------------\n",
            "        0.09         -0.066          0.163\n",
            "------------------------------------------\n",
            "\n",
            "Note: The stderr_mean is a conservative upper bound.\n"
          ]
        }
      ]
    },
    {
      "cell_type": "markdown",
      "source": [
        "### 2.5 Maximum decrease serum creatinine"
      ],
      "metadata": {
        "id": "iB4zmb-P_ncs"
      }
    },
    {
      "cell_type": "code",
      "source": [
        "# Build a model\n",
        "Y_train = XTY_train[\"0_24_min_diff_crea\"].to_numpy()\n",
        "T_train = XTY_train[\"treated\"].to_numpy()\n",
        "X_train= XTY_train[W_columns].to_numpy().reshape(-1, 50)\n",
        "X_test = XTY_test[W_columns].to_numpy().reshape(-1, 50)"
      ],
      "metadata": {
        "id": "8eaUOcUe_rOF"
      },
      "execution_count": 196,
      "outputs": []
    },
    {
      "cell_type": "code",
      "source": [
        "cv = KFold(n_splits=3, shuffle=True, random_state=123)\n",
        "forestdrl = ForestDRLearner(model_regression=model_ytb, model_propensity=model_tb, cv=3, min_samples_leaf=10, verbose=0, min_weight_fraction_leaf=.005, random_state=seed)\n",
        "forestdrl.fit(Y_train, T_train, X=X_train, cache_values=True)\n",
        "# Estimate treatment effects on test data\n",
        "forestdrl_te = forestdrl.effect(X_test)\n",
        "forestdrl_te_inference = forestdrl.effect_inference(X_test).population_summary(alpha=0.1, value=0, decimals=3, tol=0.001)\n",
        "print(forestdrl_te_inference)"
      ],
      "metadata": {
        "colab": {
          "base_uri": "https://localhost:8080/"
        },
        "id": "fV5mW08x_wEI",
        "outputId": "522a87e2-e6ec-4eb7-c58b-e1e2ed4be47b"
      },
      "execution_count": 197,
      "outputs": [
        {
          "output_type": "stream",
          "name": "stdout",
          "text": [
            "               Uncertainty of Mean Point Estimate               \n",
            "================================================================\n",
            "mean_point stderr_mean zstat  pvalue ci_mean_lower ci_mean_upper\n",
            "----------------------------------------------------------------\n",
            "     -0.01       0.085 -0.113   0.91         -0.15          0.13\n",
            "      Distribution of Point Estimate     \n",
            "=========================================\n",
            "std_point pct_point_lower pct_point_upper\n",
            "-----------------------------------------\n",
            "    0.046          -0.059           0.065\n",
            "     Total Variance of Point Estimate     \n",
            "==========================================\n",
            "stderr_point ci_point_lower ci_point_upper\n",
            "------------------------------------------\n",
            "       0.097         -0.088          0.118\n",
            "------------------------------------------\n",
            "\n",
            "Note: The stderr_mean is a conservative upper bound.\n"
          ]
        }
      ]
    },
    {
      "cell_type": "markdown",
      "source": [
        "## 3. Time: 0-12 "
      ],
      "metadata": {
        "id": "aMY-nukc8gAi"
      }
    },
    {
      "cell_type": "markdown",
      "source": [
        "### 3.1 Mean serum creatinine "
      ],
      "metadata": {
        "id": "5MisMRDc_zDG"
      }
    },
    {
      "cell_type": "code",
      "source": [
        "#Only include patients that have an observation \n",
        "XTY = pd.read_csv(\"/content/XTY.csv\")\n",
        "XTY = XTY[XTY[\"0_12_mean_outcome_crea\"].notnull()]"
      ],
      "metadata": {
        "id": "96LMev4I_3lv"
      },
      "execution_count": 198,
      "outputs": []
    },
    {
      "cell_type": "code",
      "source": [
        "XTY_train, XTY_test = train_test_split(XTY, test_size=0.2, random_state=123)"
      ],
      "metadata": {
        "id": "_9WaSvPB_8Us"
      },
      "execution_count": 199,
      "outputs": []
    },
    {
      "cell_type": "code",
      "source": [
        "print(XTY_train.shape)"
      ],
      "metadata": {
        "colab": {
          "base_uri": "https://localhost:8080/"
        },
        "id": "IEIw_sCq_92m",
        "outputId": "f54bc48b-d5cb-4488-aab7-2f472e4aed7d"
      },
      "execution_count": 200,
      "outputs": [
        {
          "output_type": "stream",
          "name": "stdout",
          "text": [
            "(2541, 151)\n"
          ]
        }
      ]
    },
    {
      "cell_type": "code",
      "source": [
        "# Build a model\n",
        "Y_train = XTY_train[\"0_12_mean_outcome_crea\"].to_numpy()\n",
        "T_train = XTY_train[\"treated\"].to_numpy()\n",
        "X_train= XTY_train[W_columns].to_numpy().reshape(-1, 50)\n",
        "X_test = XTY_test[W_columns].to_numpy().reshape(-1, 50)"
      ],
      "metadata": {
        "id": "LllkpnSwAAAz"
      },
      "execution_count": 201,
      "outputs": []
    },
    {
      "cell_type": "code",
      "source": [
        "cv = KFold(n_splits=3, shuffle=True, random_state=123)\n",
        "forestdrl = ForestDRLearner(model_regression=model_ytb, model_propensity=model_tb, cv=3, min_samples_leaf=10, verbose=0, min_weight_fraction_leaf=.005, random_state=seed)\n",
        "forestdrl.fit(Y_train, T_train, X=X_train, cache_values=True)\n",
        "# Estimate treatment effects on test data\n",
        "forestdrl_te = forestdrl.effect(X_test)\n",
        "forestdrl_te_inference = forestdrl.effect_inference(X_test).population_summary(alpha=0.1, value=0, decimals=3, tol=0.001)\n",
        "print(forestdrl_te_inference)"
      ],
      "metadata": {
        "colab": {
          "base_uri": "https://localhost:8080/"
        },
        "id": "7WiadU8XADA-",
        "outputId": "1be5286c-d451-40c9-957b-073f39ddb2ff"
      },
      "execution_count": 202,
      "outputs": [
        {
          "output_type": "stream",
          "name": "stdout",
          "text": [
            "               Uncertainty of Mean Point Estimate              \n",
            "===============================================================\n",
            "mean_point stderr_mean zstat pvalue ci_mean_lower ci_mean_upper\n",
            "---------------------------------------------------------------\n",
            "     0.007       0.064 0.107  0.915        -0.099         0.113\n",
            "      Distribution of Point Estimate     \n",
            "=========================================\n",
            "std_point pct_point_lower pct_point_upper\n",
            "-----------------------------------------\n",
            "    0.044          -0.022           0.094\n",
            "     Total Variance of Point Estimate     \n",
            "==========================================\n",
            "stderr_point ci_point_lower ci_point_upper\n",
            "------------------------------------------\n",
            "       0.078         -0.056          0.122\n",
            "------------------------------------------\n",
            "\n",
            "Note: The stderr_mean is a conservative upper bound.\n"
          ]
        }
      ]
    },
    {
      "cell_type": "markdown",
      "source": [
        "### 3.2 Max serum creatinine"
      ],
      "metadata": {
        "id": "IvtJbTXDAD_M"
      }
    },
    {
      "cell_type": "code",
      "source": [
        "# Build a model\n",
        "Y_train = XTY_train[\"0_12_max_outcome_crea\"].to_numpy()\n",
        "T_train = XTY_train[\"treated\"].to_numpy()\n",
        "X_train= XTY_train[W_columns].to_numpy().reshape(-1, 50)\n",
        "X_test = XTY_test[W_columns].to_numpy().reshape(-1, 50)"
      ],
      "metadata": {
        "id": "0udR6bfQAJq2"
      },
      "execution_count": 203,
      "outputs": []
    },
    {
      "cell_type": "code",
      "source": [
        "cv = KFold(n_splits=3, shuffle=True, random_state=123)\n",
        "forestdrl = ForestDRLearner(model_regression=model_ytb, model_propensity=model_tb, cv=3, min_samples_leaf=10, verbose=0, min_weight_fraction_leaf=.005, random_state=seed)\n",
        "forestdrl.fit(Y_train, T_train, X=X_train, cache_values=True)\n",
        "# Estimate treatment effects on test data\n",
        "forestdrl_te = forestdrl.effect(X_test)\n",
        "forestdrl_te_inference = forestdrl.effect_inference(X_test).population_summary(alpha=0.1, value=0, decimals=3, tol=0.001)\n",
        "print(forestdrl_te_inference)"
      ],
      "metadata": {
        "colab": {
          "base_uri": "https://localhost:8080/"
        },
        "id": "SAcaw1OsAOPt",
        "outputId": "37480b03-8c12-44e3-8dbe-bb95539fe19b"
      },
      "execution_count": 204,
      "outputs": [
        {
          "output_type": "stream",
          "name": "stdout",
          "text": [
            "               Uncertainty of Mean Point Estimate              \n",
            "===============================================================\n",
            "mean_point stderr_mean zstat pvalue ci_mean_lower ci_mean_upper\n",
            "---------------------------------------------------------------\n",
            "     0.017        0.07 0.242  0.808        -0.099         0.133\n",
            "      Distribution of Point Estimate     \n",
            "=========================================\n",
            "std_point pct_point_lower pct_point_upper\n",
            "-----------------------------------------\n",
            "    0.064          -0.023           0.171\n",
            "     Total Variance of Point Estimate     \n",
            "==========================================\n",
            "stderr_point ci_point_lower ci_point_upper\n",
            "------------------------------------------\n",
            "       0.095         -0.059          0.188\n",
            "------------------------------------------\n",
            "\n",
            "Note: The stderr_mean is a conservative upper bound.\n"
          ]
        }
      ]
    },
    {
      "cell_type": "markdown",
      "source": [
        "### 3.3  Min serum creatinine "
      ],
      "metadata": {
        "id": "JQCYyVWYAQeu"
      }
    },
    {
      "cell_type": "code",
      "source": [
        "# Build a model\n",
        "Y_train = XTY_train[\"0_12_min_outcome_crea\"].to_numpy()\n",
        "T_train = XTY_train[\"treated\"].to_numpy()\n",
        "X_train= XTY_train[W_columns].to_numpy().reshape(-1, 50)\n",
        "X_test = XTY_test[W_columns].to_numpy().reshape(-1, 50)"
      ],
      "metadata": {
        "id": "WEkz_Bh8APPy"
      },
      "execution_count": 205,
      "outputs": []
    },
    {
      "cell_type": "code",
      "source": [
        "cv = KFold(n_splits=3, shuffle=True, random_state=123)\n",
        "forestdrl = ForestDRLearner(model_regression=model_ytb, model_propensity=model_tb, cv=3, min_samples_leaf=10, verbose=0, min_weight_fraction_leaf=.005, random_state=seed)\n",
        "forestdrl.fit(Y_train, T_train, X=X_train, cache_values=True)\n",
        "# Estimate treatment effects on test data\n",
        "forestdrl_te = forestdrl.effect(X_test)\n",
        "forestdrl_te_inference = forestdrl.effect_inference(X_test).population_summary(alpha=0.1, value=0, decimals=3, tol=0.001)\n",
        "print(forestdrl_te_inference)"
      ],
      "metadata": {
        "colab": {
          "base_uri": "https://localhost:8080/"
        },
        "id": "3KLsrUGSAXYo",
        "outputId": "fa2b14b8-ad98-48c3-99f2-aaa142613b5d"
      },
      "execution_count": 206,
      "outputs": [
        {
          "output_type": "stream",
          "name": "stdout",
          "text": [
            "               Uncertainty of Mean Point Estimate               \n",
            "================================================================\n",
            "mean_point stderr_mean zstat  pvalue ci_mean_lower ci_mean_upper\n",
            "----------------------------------------------------------------\n",
            "    -0.001       0.071 -0.008  0.994        -0.117         0.116\n",
            "      Distribution of Point Estimate     \n",
            "=========================================\n",
            "std_point pct_point_lower pct_point_upper\n",
            "-----------------------------------------\n",
            "    0.041          -0.045           0.059\n",
            "     Total Variance of Point Estimate     \n",
            "==========================================\n",
            "stderr_point ci_point_lower ci_point_upper\n",
            "------------------------------------------\n",
            "       0.082         -0.075          0.093\n",
            "------------------------------------------\n",
            "\n",
            "Note: The stderr_mean is a conservative upper bound.\n"
          ]
        }
      ]
    },
    {
      "cell_type": "markdown",
      "source": [
        "### 3.4 Maximum increase serum creatinine "
      ],
      "metadata": {
        "id": "r34Y9p51AZDG"
      }
    },
    {
      "cell_type": "code",
      "source": [
        "# Build a model\n",
        "Y_train = XTY_train[\"0_12_max_diff_crea\"].to_numpy()\n",
        "T_train = XTY_train[\"treated\"].to_numpy()\n",
        "X_train= XTY_train[W_columns].to_numpy().reshape(-1, 50)\n",
        "X_test = XTY_test[W_columns].to_numpy().reshape(-1, 50)"
      ],
      "metadata": {
        "id": "rFd9dsX_AgJ5"
      },
      "execution_count": 207,
      "outputs": []
    },
    {
      "cell_type": "code",
      "source": [
        "cv = KFold(n_splits=3, shuffle=True, random_state=123)\n",
        "forestdrl = ForestDRLearner(model_regression=model_ytb, model_propensity=model_tb, cv=3, min_samples_leaf=10, verbose=0, min_weight_fraction_leaf=.005, random_state=seed)\n",
        "forestdrl.fit(Y_train, T_train, X=X_train, cache_values=True)\n",
        "# Estimate treatment effects on test data\n",
        "forestdrl_te = forestdrl.effect(X_test)\n",
        "forestdrl_te_inference = forestdrl.effect_inference(X_test).population_summary(alpha=0.1, value=0, decimals=3, tol=0.001)\n",
        "print(forestdrl_te_inference)"
      ],
      "metadata": {
        "colab": {
          "base_uri": "https://localhost:8080/"
        },
        "id": "ddEJZV0gAlv8",
        "outputId": "189406fc-253e-4ac4-e91a-e07e44aad751"
      },
      "execution_count": 208,
      "outputs": [
        {
          "output_type": "stream",
          "name": "stdout",
          "text": [
            "               Uncertainty of Mean Point Estimate               \n",
            "================================================================\n",
            "mean_point stderr_mean zstat  pvalue ci_mean_lower ci_mean_upper\n",
            "----------------------------------------------------------------\n",
            "      -0.0       0.091 -0.005  0.996         -0.15          0.15\n",
            "      Distribution of Point Estimate     \n",
            "=========================================\n",
            "std_point pct_point_lower pct_point_upper\n",
            "-----------------------------------------\n",
            "    0.072          -0.039           0.163\n",
            "     Total Variance of Point Estimate     \n",
            "==========================================\n",
            "stderr_point ci_point_lower ci_point_upper\n",
            "------------------------------------------\n",
            "       0.116          -0.09          0.198\n",
            "------------------------------------------\n",
            "\n",
            "Note: The stderr_mean is a conservative upper bound.\n"
          ]
        }
      ]
    },
    {
      "cell_type": "markdown",
      "source": [
        "### 3.5  Maximun decrease serum creatinine"
      ],
      "metadata": {
        "id": "YXb6Ok4MAmqb"
      }
    },
    {
      "cell_type": "code",
      "source": [
        "# Build a model\n",
        "Y_train = XTY_train[\"0_12_min_diff_crea\"].to_numpy()\n",
        "T_train = XTY_train[\"treated\"].to_numpy()\n",
        "X_train= XTY_train[W_columns].to_numpy().reshape(-1, 50)\n",
        "X_test = XTY_test[W_columns].to_numpy().reshape(-1, 50)"
      ],
      "metadata": {
        "id": "Pvw84mvbAqyQ"
      },
      "execution_count": 209,
      "outputs": []
    },
    {
      "cell_type": "code",
      "source": [
        "cv = KFold(n_splits=3, shuffle=True, random_state=123)\n",
        "forestdrl = ForestDRLearner(model_regression=model_ytb, model_propensity=model_tb, cv=3, min_samples_leaf=10, verbose=0, min_weight_fraction_leaf=.005, random_state=seed)\n",
        "forestdrl.fit(Y_train, T_train, X=X_train, cache_values=True)\n",
        "# Estimate treatment effects on test data\n",
        "forestdrl_te = forestdrl.effect(X_test)\n",
        "forestdrl_te_inference = forestdrl.effect_inference(X_test).population_summary(alpha=0.1, value=0, decimals=3, tol=0.001)\n",
        "print(forestdrl_te_inference)"
      ],
      "metadata": {
        "colab": {
          "base_uri": "https://localhost:8080/"
        },
        "id": "nVcAhtsZAuEr",
        "outputId": "1daf69db-ee01-4af3-f928-49278de5ae92"
      },
      "execution_count": 211,
      "outputs": [
        {
          "output_type": "stream",
          "name": "stdout",
          "text": [
            "               Uncertainty of Mean Point Estimate               \n",
            "================================================================\n",
            "mean_point stderr_mean zstat  pvalue ci_mean_lower ci_mean_upper\n",
            "----------------------------------------------------------------\n",
            "    -0.004       0.081 -0.053  0.957        -0.138         0.129\n",
            "      Distribution of Point Estimate     \n",
            "=========================================\n",
            "std_point pct_point_lower pct_point_upper\n",
            "-----------------------------------------\n",
            "    0.051           -0.04           0.096\n",
            "     Total Variance of Point Estimate     \n",
            "==========================================\n",
            "stderr_point ci_point_lower ci_point_upper\n",
            "------------------------------------------\n",
            "       0.096         -0.086          0.136\n",
            "------------------------------------------\n",
            "\n",
            "Note: The stderr_mean is a conservative upper bound.\n"
          ]
        }
      ]
    },
    {
      "cell_type": "markdown",
      "source": [
        "## 4. Time: 0-6"
      ],
      "metadata": {
        "id": "cPYxOzDV86K-"
      }
    },
    {
      "cell_type": "markdown",
      "source": [
        "### 4.1 Mean serum creatinine "
      ],
      "metadata": {
        "id": "zmOACo9ABSBz"
      }
    },
    {
      "cell_type": "code",
      "source": [
        "#Only include patients that have an observation \n",
        "XTY = pd.read_csv(\"/content/XTY.csv\")\n",
        "XTY = XTY[XTY[\"0_6_mean_outcome_crea\"].notnull()]"
      ],
      "metadata": {
        "id": "no0JtC3RBWar"
      },
      "execution_count": 212,
      "outputs": []
    },
    {
      "cell_type": "code",
      "source": [
        "XTY_train, XTY_test = train_test_split(XTY, test_size=0.2, random_state=123)"
      ],
      "metadata": {
        "id": "5JisHjhrBaNC"
      },
      "execution_count": 213,
      "outputs": []
    },
    {
      "cell_type": "code",
      "source": [
        "print(XTY_train.shape)"
      ],
      "metadata": {
        "colab": {
          "base_uri": "https://localhost:8080/"
        },
        "id": "743ZUakSBMMR",
        "outputId": "85a0f219-e006-4761-9344-a6733589a7a2"
      },
      "execution_count": 214,
      "outputs": [
        {
          "output_type": "stream",
          "name": "stdout",
          "text": [
            "(1476, 151)\n"
          ]
        }
      ]
    },
    {
      "cell_type": "code",
      "source": [
        "# Build a model\n",
        "Y_train = XTY_train[\"0_6_mean_outcome_crea\"].to_numpy()\n",
        "T_train = XTY_train[\"treated\"].to_numpy()\n",
        "X_train= XTY_train[W_columns].to_numpy().reshape(-1, 50)\n",
        "X_test = XTY_test[W_columns].to_numpy().reshape(-1, 50)"
      ],
      "metadata": {
        "id": "xdsUNk1DBhXn"
      },
      "execution_count": 215,
      "outputs": []
    },
    {
      "cell_type": "code",
      "source": [
        "cv = KFold(n_splits=3, shuffle=True, random_state=123)\n",
        "forestdrl = ForestDRLearner(model_regression=model_ytb, model_propensity=model_tb, cv=3, min_samples_leaf=10, verbose=0, min_weight_fraction_leaf=.005, random_state=seed)\n",
        "forestdrl.fit(Y_train, T_train, X=X_train, cache_values=True)\n",
        "# Estimate treatment effects on test data\n",
        "forestdrl_te = forestdrl.effect(X_test)\n",
        "forestdrl_te_inference = forestdrl.effect_inference(X_test).population_summary(alpha=0.1, value=0, decimals=3, tol=0.001)\n",
        "print(forestdrl_te_inference)"
      ],
      "metadata": {
        "colab": {
          "base_uri": "https://localhost:8080/"
        },
        "id": "TBTxuazxBl1s",
        "outputId": "7c2822cc-8a79-40c0-dc6b-8ae814b8b20b"
      },
      "execution_count": 216,
      "outputs": [
        {
          "output_type": "stream",
          "name": "stdout",
          "text": [
            "               Uncertainty of Mean Point Estimate              \n",
            "===============================================================\n",
            "mean_point stderr_mean zstat pvalue ci_mean_lower ci_mean_upper\n",
            "---------------------------------------------------------------\n",
            "     0.007       0.073 0.102  0.918        -0.113         0.128\n",
            "      Distribution of Point Estimate     \n",
            "=========================================\n",
            "std_point pct_point_lower pct_point_upper\n",
            "-----------------------------------------\n",
            "    0.061          -0.053           0.154\n",
            "     Total Variance of Point Estimate     \n",
            "==========================================\n",
            "stderr_point ci_point_lower ci_point_upper\n",
            "------------------------------------------\n",
            "       0.095         -0.088          0.175\n",
            "------------------------------------------\n",
            "\n",
            "Note: The stderr_mean is a conservative upper bound.\n"
          ]
        }
      ]
    },
    {
      "cell_type": "markdown",
      "source": [
        "### 4.2 Max serum creatinine "
      ],
      "metadata": {
        "id": "wwA4knsuBm6K"
      }
    },
    {
      "cell_type": "code",
      "source": [
        "# Build a model\n",
        "Y_train = XTY_train[\"0_6_max_outcome_crea\"].to_numpy()\n",
        "T_train = XTY_train[\"treated\"].to_numpy()\n",
        "X_train= XTY_train[W_columns].to_numpy().reshape(-1, 50)\n",
        "X_test = XTY_test[W_columns].to_numpy().reshape(-1, 50)"
      ],
      "metadata": {
        "id": "tlfVP5bdBs-2"
      },
      "execution_count": 217,
      "outputs": []
    },
    {
      "cell_type": "code",
      "source": [
        "cv = KFold(n_splits=3, shuffle=True, random_state=123)\n",
        "forestdrl = ForestDRLearner(model_regression=model_ytb, model_propensity=model_tb, cv=3, min_samples_leaf=10, verbose=0, min_weight_fraction_leaf=.005, random_state=seed)\n",
        "forestdrl.fit(Y_train, T_train, X=X_train, cache_values=True)\n",
        "# Estimate treatment effects on test data\n",
        "forestdrl_te = forestdrl.effect(X_test)\n",
        "forestdrl_te_inference = forestdrl.effect_inference(X_test).population_summary(alpha=0.1, value=0, decimals=3, tol=0.001)\n",
        "print(forestdrl_te_inference)"
      ],
      "metadata": {
        "colab": {
          "base_uri": "https://localhost:8080/"
        },
        "id": "OOVfVLUeBydQ",
        "outputId": "3cc04c45-08a2-4ca0-f6b0-aada1d0140c6"
      },
      "execution_count": 218,
      "outputs": [
        {
          "output_type": "stream",
          "name": "stdout",
          "text": [
            "               Uncertainty of Mean Point Estimate              \n",
            "===============================================================\n",
            "mean_point stderr_mean zstat pvalue ci_mean_lower ci_mean_upper\n",
            "---------------------------------------------------------------\n",
            "     0.008       0.075 0.108  0.914        -0.115         0.131\n",
            "      Distribution of Point Estimate     \n",
            "=========================================\n",
            "std_point pct_point_lower pct_point_upper\n",
            "-----------------------------------------\n",
            "    0.052          -0.051           0.129\n",
            "     Total Variance of Point Estimate     \n",
            "==========================================\n",
            "stderr_point ci_point_lower ci_point_upper\n",
            "------------------------------------------\n",
            "       0.091         -0.093          0.168\n",
            "------------------------------------------\n",
            "\n",
            "Note: The stderr_mean is a conservative upper bound.\n"
          ]
        }
      ]
    },
    {
      "cell_type": "markdown",
      "source": [
        "### 4.3 Min serum creatinine "
      ],
      "metadata": {
        "id": "LMl2AfE1B5ET"
      }
    },
    {
      "cell_type": "code",
      "source": [
        "# Build a model\n",
        "Y_train = XTY_train[\"0_6_min_outcome_crea\"].to_numpy()\n",
        "T_train = XTY_train[\"treated\"].to_numpy()\n",
        "X_train= XTY_train[W_columns].to_numpy().reshape(-1, 50)\n",
        "X_test = XTY_test[W_columns].to_numpy().reshape(-1, 50)"
      ],
      "metadata": {
        "id": "9gaMvh-iB-EO"
      },
      "execution_count": 219,
      "outputs": []
    },
    {
      "cell_type": "code",
      "source": [
        "cv = KFold(n_splits=3, shuffle=True, random_state=123)\n",
        "forestdrl = ForestDRLearner(model_regression=model_ytb, model_propensity=model_tb, cv=3, min_samples_leaf=10, verbose=0, min_weight_fraction_leaf=.005, random_state=seed)\n",
        "forestdrl.fit(Y_train, T_train, X=X_train, cache_values=True)\n",
        "# Estimate treatment effects on test data\n",
        "forestdrl_te = forestdrl.effect(X_test)\n",
        "forestdrl_te_inference = forestdrl.effect_inference(X_test).population_summary(alpha=0.1, value=0, decimals=3, tol=0.001)\n",
        "print(forestdrl_te_inference)"
      ],
      "metadata": {
        "colab": {
          "base_uri": "https://localhost:8080/"
        },
        "id": "DEI_TJwTCHrJ",
        "outputId": "75e19591-8bf9-4562-e634-af0bb22c881f"
      },
      "execution_count": 220,
      "outputs": [
        {
          "output_type": "stream",
          "name": "stdout",
          "text": [
            "               Uncertainty of Mean Point Estimate               \n",
            "================================================================\n",
            "mean_point stderr_mean zstat  pvalue ci_mean_lower ci_mean_upper\n",
            "----------------------------------------------------------------\n",
            "    -0.005        0.07 -0.072  0.942        -0.121         0.111\n",
            "      Distribution of Point Estimate     \n",
            "=========================================\n",
            "std_point pct_point_lower pct_point_upper\n",
            "-----------------------------------------\n",
            "     0.05          -0.066           0.109\n",
            "     Total Variance of Point Estimate     \n",
            "==========================================\n",
            "stderr_point ci_point_lower ci_point_upper\n",
            "------------------------------------------\n",
            "       0.086         -0.108           0.13\n",
            "------------------------------------------\n",
            "\n",
            "Note: The stderr_mean is a conservative upper bound.\n"
          ]
        }
      ]
    },
    {
      "cell_type": "markdown",
      "source": [
        "### 4.4 Maximum increase serum creatinine"
      ],
      "metadata": {
        "id": "_WETX_sGCIlW"
      }
    },
    {
      "cell_type": "code",
      "source": [
        "# Build a model\n",
        "Y_train = XTY_train[\"0_6_max_diff_crea\"].to_numpy()\n",
        "T_train = XTY_train[\"treated\"].to_numpy()\n",
        "X_train= XTY_train[W_columns].to_numpy().reshape(-1, 50)\n",
        "X_test = XTY_test[W_columns].to_numpy().reshape(-1, 50)"
      ],
      "metadata": {
        "id": "vYeSe_XfCQ88"
      },
      "execution_count": 221,
      "outputs": []
    },
    {
      "cell_type": "code",
      "source": [
        "cv = KFold(n_splits=3, shuffle=True, random_state=123)\n",
        "forestdrl = ForestDRLearner(model_regression=model_ytb, model_propensity=model_tb, cv=3, min_samples_leaf=10, verbose=0, min_weight_fraction_leaf=.005, random_state=seed)\n",
        "forestdrl.fit(Y_train, T_train, X=X_train, cache_values=True)\n",
        "# Estimate treatment effects on test data\n",
        "forestdrl_te = forestdrl.effect(X_test)\n",
        "forestdrl_te_inference = forestdrl.effect_inference(X_test).population_summary(alpha=0.1, value=0, decimals=3, tol=0.001)\n",
        "print(forestdrl_te_inference)"
      ],
      "metadata": {
        "colab": {
          "base_uri": "https://localhost:8080/"
        },
        "id": "Cr15gbPtCVo6",
        "outputId": "57e5f1c7-221a-4b8a-e8cd-514db15c60f8"
      },
      "execution_count": 222,
      "outputs": [
        {
          "output_type": "stream",
          "name": "stdout",
          "text": [
            "               Uncertainty of Mean Point Estimate              \n",
            "===============================================================\n",
            "mean_point stderr_mean zstat pvalue ci_mean_lower ci_mean_upper\n",
            "---------------------------------------------------------------\n",
            "     0.031       0.094 0.326  0.744        -0.124         0.185\n",
            "      Distribution of Point Estimate     \n",
            "=========================================\n",
            "std_point pct_point_lower pct_point_upper\n",
            "-----------------------------------------\n",
            "    0.116          -0.048           0.305\n",
            "     Total Variance of Point Estimate     \n",
            "==========================================\n",
            "stderr_point ci_point_lower ci_point_upper\n",
            "------------------------------------------\n",
            "       0.149         -0.088           0.36\n",
            "------------------------------------------\n",
            "\n",
            "Note: The stderr_mean is a conservative upper bound.\n"
          ]
        }
      ]
    },
    {
      "cell_type": "markdown",
      "source": [
        "### 4.5 Maximum decrease serum creatinine "
      ],
      "metadata": {
        "id": "TO4ZtE2wCWel"
      }
    },
    {
      "cell_type": "code",
      "source": [
        "# Build a model\n",
        "Y_train = XTY_train[\"0_6_min_diff_crea\"].to_numpy()\n",
        "T_train = XTY_train[\"treated\"].to_numpy()\n",
        "X_train= XTY_train[W_columns].to_numpy().reshape(-1, 50)\n",
        "X_test = XTY_test[W_columns].to_numpy().reshape(-1, 50)"
      ],
      "metadata": {
        "id": "tzWAjUHBCdU1"
      },
      "execution_count": 223,
      "outputs": []
    },
    {
      "cell_type": "code",
      "source": [
        "cv = KFold(n_splits=3, shuffle=True, random_state=123)\n",
        "forestdrl = ForestDRLearner(model_regression=model_ytb, model_propensity=model_tb, cv=3, min_samples_leaf=10, verbose=0, min_weight_fraction_leaf=.005, random_state=seed)\n",
        "forestdrl.fit(Y_train, T_train, X=X_train, cache_values=True)\n",
        "# Estimate treatment effects on test data\n",
        "forestdrl_te = forestdrl.effect(X_test)\n",
        "forestdrl_te_inference = forestdrl.effect_inference(X_test).population_summary(alpha=0.1, value=0, decimals=3, tol=0.001)\n",
        "print(forestdrl_te_inference)"
      ],
      "metadata": {
        "colab": {
          "base_uri": "https://localhost:8080/"
        },
        "id": "y6qUNvAZCiEu",
        "outputId": "53a611c6-9eb7-4a79-b4b1-5c4697a314f9"
      },
      "execution_count": 224,
      "outputs": [
        {
          "output_type": "stream",
          "name": "stdout",
          "text": [
            "               Uncertainty of Mean Point Estimate              \n",
            "===============================================================\n",
            "mean_point stderr_mean zstat pvalue ci_mean_lower ci_mean_upper\n",
            "---------------------------------------------------------------\n",
            "     0.022       0.095 0.235  0.814        -0.134         0.179\n",
            "      Distribution of Point Estimate     \n",
            "=========================================\n",
            "std_point pct_point_lower pct_point_upper\n",
            "-----------------------------------------\n",
            "    0.113          -0.058           0.296\n",
            "     Total Variance of Point Estimate     \n",
            "==========================================\n",
            "stderr_point ci_point_lower ci_point_upper\n",
            "------------------------------------------\n",
            "       0.147         -0.101          0.352\n",
            "------------------------------------------\n",
            "\n",
            "Note: The stderr_mean is a conservative upper bound.\n"
          ]
        }
      ]
    },
    {
      "cell_type": "markdown",
      "source": [
        "## 5. Time: 0-3"
      ],
      "metadata": {
        "id": "yhPamQql9JVS"
      }
    },
    {
      "cell_type": "markdown",
      "source": [
        "### 5.1 Mean serum creatinine "
      ],
      "metadata": {
        "id": "X8WBXKeyZH5V"
      }
    },
    {
      "cell_type": "code",
      "source": [
        "#Only include patients that have an observation \n",
        "XTY = pd.read_csv(\"/content/XTY.csv\")\n",
        "XTY = XTY[XTY[\"0_3_mean_outcome_crea\"].notnull()]"
      ],
      "metadata": {
        "id": "brvbseU1ZLnr"
      },
      "execution_count": 46,
      "outputs": []
    },
    {
      "cell_type": "code",
      "source": [
        "print(XTY.shape)"
      ],
      "metadata": {
        "colab": {
          "base_uri": "https://localhost:8080/"
        },
        "id": "XI4CChyWZOS2",
        "outputId": "03982698-a11c-4cff-bb85-ba33174d3c89"
      },
      "execution_count": 47,
      "outputs": [
        {
          "output_type": "stream",
          "name": "stdout",
          "text": [
            "(1138, 167)\n"
          ]
        }
      ]
    },
    {
      "cell_type": "code",
      "source": [
        "XTY_train, XTY_test = train_test_split(XTY, test_size=0.2, random_state=123)"
      ],
      "metadata": {
        "id": "HvfVr7XjZS5E"
      },
      "execution_count": 48,
      "outputs": []
    },
    {
      "cell_type": "code",
      "source": [
        "# Build a model\n",
        "Y_train = XTY_train[\"0_3_mean_outcome_crea\"].to_numpy()\n",
        "T_train = XTY_train[\"treated\"].to_numpy()\n",
        "X_train= XTY_train[W_columns].to_numpy().reshape(-1, 50)\n",
        "X_test = XTY_test[W_columns].to_numpy().reshape(-1, 50)"
      ],
      "metadata": {
        "id": "M2uJ-AlHZVKn"
      },
      "execution_count": 49,
      "outputs": []
    },
    {
      "cell_type": "code",
      "source": [
        "cv = KFold(n_splits=3, shuffle=True, random_state=123)\n",
        "forestdrl = ForestDRLearner(model_regression=model_ytb, model_propensity=model_tb, cv=3, min_samples_leaf=10, verbose=0, min_weight_fraction_leaf=.005, random_state=seed)\n",
        "forestdrl.fit(Y_train, T_train, X=X_train, cache_values=True)\n",
        "# Estimate treatment effects on test data\n",
        "forestdrl_te = forestdrl.effect(X_test)\n",
        "forestdrl_te_inference = forestdrl.effect_inference(X_test).population_summary(alpha=0.1, value=0, decimals=3, tol=0.001)\n",
        "print(forestdrl_te_inference)"
      ],
      "metadata": {
        "colab": {
          "base_uri": "https://localhost:8080/"
        },
        "id": "x7gY8p_zZYKu",
        "outputId": "a1b56292-c7cf-4671-cf68-3f2dcf72fb3e"
      },
      "execution_count": 50,
      "outputs": [
        {
          "output_type": "stream",
          "name": "stdout",
          "text": [
            "               Uncertainty of Mean Point Estimate               \n",
            "================================================================\n",
            "mean_point stderr_mean zstat  pvalue ci_mean_lower ci_mean_upper\n",
            "----------------------------------------------------------------\n",
            "    -0.001       0.101 -0.011  0.991        -0.167         0.165\n",
            "      Distribution of Point Estimate     \n",
            "=========================================\n",
            "std_point pct_point_lower pct_point_upper\n",
            "-----------------------------------------\n",
            "    0.052          -0.061           0.121\n",
            "     Total Variance of Point Estimate     \n",
            "==========================================\n",
            "stderr_point ci_point_lower ci_point_upper\n",
            "------------------------------------------\n",
            "       0.113         -0.131          0.191\n",
            "------------------------------------------\n",
            "\n",
            "Note: The stderr_mean is a conservative upper bound.\n"
          ]
        }
      ]
    },
    {
      "cell_type": "markdown",
      "source": [
        "### 5.2 Max serum creatinine "
      ],
      "metadata": {
        "id": "rQ7xLRUeZe7b"
      }
    },
    {
      "cell_type": "code",
      "source": [
        "# Build a model\n",
        "Y_train = XTY_train[\"0_3_max_outcome_crea\"].to_numpy()\n",
        "T_train = XTY_train[\"treated\"].to_numpy()\n",
        "X_train= XTY_train[W_columns].to_numpy().reshape(-1, 50)\n",
        "X_test = XTY_test[W_columns].to_numpy().reshape(-1, 50)"
      ],
      "metadata": {
        "id": "Okwx1fkbZjFF"
      },
      "execution_count": 51,
      "outputs": []
    },
    {
      "cell_type": "code",
      "source": [
        "cv = KFold(n_splits=3, shuffle=True, random_state=123)\n",
        "forestdrl = ForestDRLearner(model_regression=model_ytb, model_propensity=model_tb, cv=3, min_samples_leaf=10, verbose=0, min_weight_fraction_leaf=.005, random_state=seed)\n",
        "forestdrl.fit(Y_train, T_train, X=X_train, cache_values=True)\n",
        "# Estimate treatment effects on test data\n",
        "forestdrl_te = forestdrl.effect(X_test)\n",
        "forestdrl_te_inference = forestdrl.effect_inference(X_test).population_summary(alpha=0.1, value=0, decimals=3, tol=0.001)\n",
        "print(forestdrl_te_inference)"
      ],
      "metadata": {
        "colab": {
          "base_uri": "https://localhost:8080/"
        },
        "id": "00VcCNm3Zqrl",
        "outputId": "9c2b8045-0175-45ff-aa6c-9c3cfab84008"
      },
      "execution_count": 52,
      "outputs": [
        {
          "output_type": "stream",
          "name": "stdout",
          "text": [
            "               Uncertainty of Mean Point Estimate               \n",
            "================================================================\n",
            "mean_point stderr_mean zstat  pvalue ci_mean_lower ci_mean_upper\n",
            "----------------------------------------------------------------\n",
            "    -0.002         0.1 -0.018  0.985        -0.167         0.163\n",
            "      Distribution of Point Estimate     \n",
            "=========================================\n",
            "std_point pct_point_lower pct_point_upper\n",
            "-----------------------------------------\n",
            "    0.051          -0.059           0.112\n",
            "     Total Variance of Point Estimate     \n",
            "==========================================\n",
            "stderr_point ci_point_lower ci_point_upper\n",
            "------------------------------------------\n",
            "       0.112          -0.13          0.186\n",
            "------------------------------------------\n",
            "\n",
            "Note: The stderr_mean is a conservative upper bound.\n"
          ]
        }
      ]
    },
    {
      "cell_type": "markdown",
      "source": [
        "### 5.3 Min serum creatinine "
      ],
      "metadata": {
        "id": "1Xuw4CbhZwfz"
      }
    },
    {
      "cell_type": "code",
      "source": [
        "# Build a model\n",
        "Y_train = XTY_train[\"0_3_min_outcome_crea\"].to_numpy()\n",
        "T_train = XTY_train[\"treated\"].to_numpy()\n",
        "X_train= XTY_train[W_columns].to_numpy().reshape(-1, 50)\n",
        "X_test = XTY_test[W_columns].to_numpy().reshape(-1, 50)"
      ],
      "metadata": {
        "id": "6fcoY16DZ1Uj"
      },
      "execution_count": 53,
      "outputs": []
    },
    {
      "cell_type": "code",
      "source": [
        "cv = KFold(n_splits=3, shuffle=True, random_state=123)\n",
        "forestdrl = ForestDRLearner(model_regression=model_ytb, model_propensity=model_tb, cv=3, min_samples_leaf=10, verbose=0, min_weight_fraction_leaf=.005, random_state=seed)\n",
        "forestdrl.fit(Y_train, T_train, X=X_train, cache_values=True)\n",
        "# Estimate treatment effects on test data\n",
        "forestdrl_te = forestdrl.effect(X_test)\n",
        "forestdrl_te_inference = forestdrl.effect_inference(X_test).population_summary(alpha=0.1, value=0, decimals=3, tol=0.001)\n",
        "print(forestdrl_te_inference)"
      ],
      "metadata": {
        "colab": {
          "base_uri": "https://localhost:8080/"
        },
        "id": "KB55YU-kZ470",
        "outputId": "425e155f-1985-412b-ea8d-f6ab2e2fdd84"
      },
      "execution_count": 54,
      "outputs": [
        {
          "output_type": "stream",
          "name": "stdout",
          "text": [
            "               Uncertainty of Mean Point Estimate               \n",
            "================================================================\n",
            "mean_point stderr_mean zstat  pvalue ci_mean_lower ci_mean_upper\n",
            "----------------------------------------------------------------\n",
            "    -0.005         0.1 -0.047  0.963        -0.168         0.159\n",
            "      Distribution of Point Estimate     \n",
            "=========================================\n",
            "std_point pct_point_lower pct_point_upper\n",
            "-----------------------------------------\n",
            "    0.049          -0.063           0.107\n",
            "     Total Variance of Point Estimate     \n",
            "==========================================\n",
            "stderr_point ci_point_lower ci_point_upper\n",
            "------------------------------------------\n",
            "       0.111         -0.131          0.183\n",
            "------------------------------------------\n",
            "\n",
            "Note: The stderr_mean is a conservative upper bound.\n"
          ]
        }
      ]
    },
    {
      "cell_type": "markdown",
      "source": [
        "### 5.4  Max increase serum creatinine "
      ],
      "metadata": {
        "id": "7GxdSg9vZ6_W"
      }
    },
    {
      "cell_type": "code",
      "source": [
        "# Build a model\n",
        "Y_train = XTY_train[\"0_3_max_diff_crea\"].to_numpy()\n",
        "T_train = XTY_train[\"treated\"].to_numpy()\n",
        "X_train= XTY_train[W_columns].to_numpy().reshape(-1, 50)\n",
        "X_test = XTY_test[W_columns].to_numpy().reshape(-1, 50)"
      ],
      "metadata": {
        "id": "BYIwmsDvaBZY"
      },
      "execution_count": 55,
      "outputs": []
    },
    {
      "cell_type": "code",
      "source": [
        "cv = KFold(n_splits=3, shuffle=True, random_state=123)\n",
        "forestdrl = ForestDRLearner(model_regression=model_ytb, model_propensity=model_tb, cv=3, min_samples_leaf=10, verbose=0, min_weight_fraction_leaf=.005, random_state=seed)\n",
        "forestdrl.fit(Y_train, T_train, X=X_train, cache_values=True)\n",
        "# Estimate treatment effects on test data\n",
        "forestdrl_te = forestdrl.effect(X_test)\n",
        "forestdrl_te_inference = forestdrl.effect_inference(X_test).population_summary(alpha=0.1, value=0, decimals=3, tol=0.001)\n",
        "print(forestdrl_te_inference)"
      ],
      "metadata": {
        "colab": {
          "base_uri": "https://localhost:8080/"
        },
        "id": "e5Cxe7dPaGZS",
        "outputId": "5a9a490b-ee22-4051-89de-7267b61e66f2"
      },
      "execution_count": 56,
      "outputs": [
        {
          "output_type": "stream",
          "name": "stdout",
          "text": [
            "               Uncertainty of Mean Point Estimate               \n",
            "================================================================\n",
            "mean_point stderr_mean zstat  pvalue ci_mean_lower ci_mean_upper\n",
            "----------------------------------------------------------------\n",
            "    -0.053       0.128 -0.419  0.675        -0.263         0.156\n",
            "      Distribution of Point Estimate     \n",
            "=========================================\n",
            "std_point pct_point_lower pct_point_upper\n",
            "-----------------------------------------\n",
            "    0.044          -0.135           0.013\n",
            "     Total Variance of Point Estimate     \n",
            "==========================================\n",
            "stderr_point ci_point_lower ci_point_upper\n",
            "------------------------------------------\n",
            "       0.135         -0.238          0.124\n",
            "------------------------------------------\n",
            "\n",
            "Note: The stderr_mean is a conservative upper bound.\n"
          ]
        }
      ]
    },
    {
      "cell_type": "markdown",
      "source": [
        "### 5.5 Max decrease serum creatinine "
      ],
      "metadata": {
        "id": "pUeVWMcPaHk1"
      }
    },
    {
      "cell_type": "code",
      "source": [
        "# Build a model\n",
        "Y_train = XTY_train[\"0_3_min_diff_crea\"].to_numpy()\n",
        "T_train = XTY_train[\"treated\"].to_numpy()\n",
        "X_train= XTY_train[W_columns].to_numpy().reshape(-1, 50)\n",
        "X_test = XTY_test[W_columns].to_numpy().reshape(-1, 50)"
      ],
      "metadata": {
        "id": "MUxN4CcCaOoc"
      },
      "execution_count": 57,
      "outputs": []
    },
    {
      "cell_type": "code",
      "source": [
        "cv = KFold(n_splits=3, shuffle=True, random_state=123)\n",
        "forestdrl = ForestDRLearner(model_regression=model_ytb, model_propensity=model_tb, cv=3, min_samples_leaf=10, verbose=0, min_weight_fraction_leaf=.005, random_state=seed)\n",
        "forestdrl.fit(Y_train, T_train, X=X_train, cache_values=True)\n",
        "# Estimate treatment effects on test data\n",
        "forestdrl_te = forestdrl.effect(X_test)\n",
        "forestdrl_te_inference = forestdrl.effect_inference(X_test).population_summary(alpha=0.1, value=0, decimals=3, tol=0.001)\n",
        "print(forestdrl_te_inference)"
      ],
      "metadata": {
        "colab": {
          "base_uri": "https://localhost:8080/"
        },
        "id": "6ftGGj5HaR4w",
        "outputId": "a2c46502-7b8b-45b4-a87c-36bb66146519"
      },
      "execution_count": 58,
      "outputs": [
        {
          "output_type": "stream",
          "name": "stdout",
          "text": [
            "               Uncertainty of Mean Point Estimate               \n",
            "================================================================\n",
            "mean_point stderr_mean zstat  pvalue ci_mean_lower ci_mean_upper\n",
            "----------------------------------------------------------------\n",
            "    -0.058       0.131 -0.441  0.659        -0.273         0.157\n",
            "      Distribution of Point Estimate     \n",
            "=========================================\n",
            "std_point pct_point_lower pct_point_upper\n",
            "-----------------------------------------\n",
            "    0.043          -0.142           0.002\n",
            "     Total Variance of Point Estimate     \n",
            "==========================================\n",
            "stderr_point ci_point_lower ci_point_upper\n",
            "------------------------------------------\n",
            "       0.137         -0.239          0.115\n",
            "------------------------------------------\n",
            "\n",
            "Note: The stderr_mean is a conservative upper bound.\n"
          ]
        }
      ]
    }
  ]
}