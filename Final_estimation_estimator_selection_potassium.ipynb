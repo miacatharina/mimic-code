{
  "cells": [
    {
      "cell_type": "markdown",
      "metadata": {
        "id": "view-in-github",
        "colab_type": "text"
      },
      "source": [
        "<a href=\"https://colab.research.google.com/github/miacatharina/mimic-code/blob/main/Final_estimation_estimator_selection_potassium.ipynb\" target=\"_parent\"><img src=\"https://colab.research.google.com/assets/colab-badge.svg\" alt=\"Open In Colab\"/></a>"
      ]
    },
    {
      "cell_type": "code",
      "execution_count": null,
      "metadata": {
        "id": "3p5UHpjEXtIK"
      },
      "outputs": [],
      "source": [
        "pip install econml[dowhy]"
      ]
    },
    {
      "cell_type": "markdown",
      "metadata": {
        "id": "ZbWPSqYMdbQK"
      },
      "source": [
        "### Setup"
      ]
    },
    {
      "cell_type": "code",
      "execution_count": null,
      "metadata": {
        "id": "Ic5H_Y_qX1q5"
      },
      "outputs": [],
      "source": [
        "import pandas as pd\n",
        "import os, warnings, random\n",
        "import warnings\n",
        "import econml \n",
        "import matplotlib.pyplot as plt\n",
        "warnings.filterwarnings(\"ignore\")\n",
        "from econml.dml import DML, LinearDML, SparseLinearDML, CausalForestDML\n",
        "import numpy as np\n",
        "from itertools import product\n",
        "from sklearn.linear_model import (Lasso, LassoCV, LogisticRegression,\n",
        "                                  LogisticRegressionCV,LinearRegression,\n",
        "                                  MultiTaskElasticNet,MultiTaskElasticNetCV)\n",
        "from sklearn.ensemble import RandomForestRegressor,RandomForestClassifier\n",
        "from sklearn.preprocessing import PolynomialFeatures\n",
        "from xgboost import XGBRegressor\n",
        "from sklearn.ensemble import GradientBoostingRegressor, GradientBoostingClassifier\n",
        "import matplotlib.pyplot as plt\n",
        "import matplotlib\n",
        "%matplotlib inline\n",
        "from econml.score import RScorer\n",
        "from econml.metalearners import TLearner, SLearner, XLearner, DomainAdaptationLearner\n",
        "from econml.dml import CausalForestDML, LinearDML, NonParamDML\n",
        "from econml.dr import DRLearner, ForestDRLearner, LinearDRLearner\n",
        "from joblib import Parallel, delayed\n",
        "from econml.metalearners import TLearner, SLearner, XLearner\n",
        "from sklearn.model_selection import GridSearchCV\n",
        "from sklearn.pipeline import Pipeline\n",
        "from sklearn.linear_model import ElasticNet\n",
        "from sklearn.base import clone\n",
        "import logging\n",
        "import sys\n",
        "from econml.dml import DML, LinearDML,SparseLinearDML,CausalForestDML, NonParamDML, KernelDML\n",
        "from matplotlib import pyplot as plt\n",
        "import copy\n",
        "from econml.sklearn_extensions.model_selection import GridSearchCVList\n",
        "from sklearn.pipeline import Pipeline\n",
        "from sklearn.preprocessing import PolynomialFeatures\n",
        "import dowhy\n",
        "from dowhy import CausalModel\n",
        "from sklearn.linear_model import LassoCV, LogisticRegressionCV\n",
        "from sklearn.ensemble import RandomForestRegressor, GradientBoostingRegressor\n",
        "from sklearn.ensemble import RandomForestClassifier, GradientBoostingClassifier\n",
        "from econml.sklearn_extensions.linear_model import WeightedLassoCV, WeightedLasso\n",
        "from econml.cate_interpreter import SingleTreeCateInterpreter\n",
        "import shap\n",
        "from sklearn.preprocessing import MinMaxScaler\n",
        "from sklearn.model_selection import KFold\n",
        "import tensorflow as tf\n",
        "import timeit\n",
        "from sklearn.model_selection import train_test_split\n",
        "from econml.cate_interpreter import SingleTreePolicyInterpreter\n",
        "\n",
        "\n",
        "def seed_everything(seed=123):\n",
        "    random.seed(seed)\n",
        "    np.random.seed(seed)\n",
        "    os.environ['PYTHONHASHSEED'] = str(seed)\n",
        "    os.environ['TF_DETERMINISTIC_OPS'] = '1'\n",
        "    tf.random.set_seed(seed)\n",
        "\n",
        "seed = 123\n",
        "seed_everything(seed)"
      ]
    },
    {
      "cell_type": "code",
      "execution_count": null,
      "metadata": {
        "colab": {
          "base_uri": "https://localhost:8080/"
        },
        "id": "1lb9zOV0d-Kx",
        "outputId": "cdea888f-d045-4ee2-e5b4-c4f6024afb49"
      },
      "outputs": [
        {
          "output_type": "stream",
          "name": "stdout",
          "text": [
            "Time (s) to convolve 32x7x7x3 filter over random 100x100x100x3 images (batch x height x width x channel). Sum of ten runs.\n",
            "CPU (s):\n",
            "2.652518975999982\n",
            "GPU (s):\n",
            "0.09855003499998816\n",
            "GPU speedup over CPU: 26x\n",
            "Found GPU at: /device:GPU:0\n",
            "2.12.0\n",
            "[PhysicalDevice(name='/physical_device:GPU:0', device_type='GPU')]\n",
            "Your runtime has 27.3 gigabytes of available RAM\n",
            "\n",
            "You are using a high-RAM runtime!\n"
          ]
        }
      ],
      "source": [
        "device_name = tf.test.gpu_device_name()\n",
        "if device_name != '/device:GPU:0':\n",
        "  print(\n",
        "      '\\n\\nThis error most likely means that this notebook is not '\n",
        "      'configured to use a GPU.  Change this in Notebook Settings via the '\n",
        "      'command palette (cmd/ctrl-shift-P) or the Edit menu.\\n\\n')\n",
        "  raise SystemError('GPU device not found')\n",
        "\n",
        "def cpu():\n",
        "  with tf.device('/cpu:0'):\n",
        "    random_image_cpu = tf.random.normal((100, 100, 100, 3))\n",
        "    net_cpu = tf.keras.layers.Conv2D(32, 7)(random_image_cpu)\n",
        "    return tf.math.reduce_sum(net_cpu)\n",
        "\n",
        "def gpu():\n",
        "  with tf.device('/device:GPU:0'):\n",
        "    random_image_gpu = tf.random.normal((100, 100, 100, 3))\n",
        "    net_gpu = tf.keras.layers.Conv2D(32, 7)(random_image_gpu)\n",
        "    return tf.math.reduce_sum(net_gpu)\n",
        "  \n",
        "# We run each op once to warm up; see: https://stackoverflow.com/a/45067900\n",
        "cpu()\n",
        "gpu()\n",
        "\n",
        "# Run the op several times.\n",
        "print('Time (s) to convolve 32x7x7x3 filter over random 100x100x100x3 images '\n",
        "      '(batch x height x width x channel). Sum of ten runs.')\n",
        "print('CPU (s):')\n",
        "cpu_time = timeit.timeit('cpu()', number=10, setup=\"from __main__ import cpu\")\n",
        "print(cpu_time)\n",
        "print('GPU (s):')\n",
        "gpu_time = timeit.timeit('gpu()', number=10, setup=\"from __main__ import gpu\")\n",
        "print(gpu_time)\n",
        "print('GPU speedup over CPU: {}x'.format(int(cpu_time/gpu_time)))\n",
        "device_name = tf.test.gpu_device_name()\n",
        "if device_name != '/device:GPU:0':\n",
        "  raise SystemError('GPU device not found')\n",
        "print('Found GPU at: {}'.format(device_name))\n",
        "#Check the version of TensorFlow you are using\n",
        "print(tf.__version__)\n",
        "print(tf.config.list_physical_devices('GPU'))\n",
        "from psutil import virtual_memory\n",
        "ram_gb = virtual_memory().total / 1e9\n",
        "print('Your runtime has {:.1f} gigabytes of available RAM\\n'.format(ram_gb))\n",
        "\n",
        "if ram_gb < 20:\n",
        "  print('Not using a high-RAM runtime')\n",
        "else:\n",
        "  print('You are using a high-RAM runtime!')"
      ]
    },
    {
      "cell_type": "markdown",
      "metadata": {
        "id": "vLNPlKuGX7D1"
      },
      "source": [
        "### Import the data"
      ]
    },
    {
      "cell_type": "code",
      "execution_count": null,
      "metadata": {
        "id": "P-NOxeiDYC5d"
      },
      "outputs": [],
      "source": [
        "XTY = pd.read_csv(\"/content/XTY.csv\")\n",
        "X = pd.read_csv(\"/content/X.csv\")\n",
        "Y = pd.read_csv(\"/content/Y.csv\")\n",
        "T = pd.read_csv(\"/content/T.csv\")\n",
        "XTY_train = pd.read_csv(\"/content/XTY_train.csv\")\n",
        "XTY_test = pd.read_csv(\"/content/XTY_test.csv\")\n",
        "X_train = pd.read_csv(\"/content/X_train.csv\")\n",
        "X_test = pd.read_csv(\"/content/X_test.csv\")\n",
        "Y_train = pd.read_csv(\"/content/Y_train.csv\")\n",
        "Y_test = pd.read_csv(\"/content/Y_test.csv\")\n",
        "T_train = pd.read_csv(\"/content/T_train.csv\")\n",
        "T_test = pd.read_csv(\"/content/T_test.csv\")\n",
        "\n",
        "XTY.set_index(\"stay_id\", inplace=True)\n",
        "X.set_index(\"stay_id\", inplace=True)\n",
        "Y.set_index(\"stay_id\", inplace=True)\n",
        "T.set_index(\"stay_id\", inplace=True)\n",
        "XTY_train.set_index(\"stay_id\", inplace=True)\n",
        "XTY_test.set_index(\"stay_id\", inplace=True)\n",
        "X_train.set_index(\"stay_id\", inplace=True)\n",
        "X_test.set_index(\"stay_id\", inplace=True)\n",
        "Y_train.set_index(\"stay_id\", inplace=True)\n",
        "Y_test.set_index(\"stay_id\", inplace=True)\n",
        "T_train.set_index(\"stay_id\", inplace=True)\n",
        "T_test.set_index(\"stay_id\", inplace=True)\n",
        "\n",
        "T_train = T_train.iloc[:, 0].to_numpy()\n",
        "T_test = T_test.iloc[:, 0].to_numpy()\n",
        "X1_train = X_train.iloc[:, 3:4]\n",
        "X1_test = X_test.iloc[:, 3:4]\n",
        "XT = pd.concat([X, pd.DataFrame(T, columns=['treated'])], axis=1)\n",
        "XT_train = pd.concat([X_train, pd.DataFrame(T_train, columns=['treated'])], axis=1)\n",
        "XT_test = pd.concat([X_test, pd.DataFrame(T_test, columns=['treated'])], axis=1)\n",
        "\n",
        "\n",
        "#(1) Binary outcome: Hypokalemia within 48 hours \n",
        "Y1A = Y.iloc[:, 2].to_numpy()\n",
        "Y1A_train = Y_train.iloc[:, 2].to_numpy()\n",
        "Y1A_test = Y_test.iloc[:, 2].to_numpy()\n",
        "\n",
        "#(1)Continuous outcome: Minimum serum potassium within 48 hours \n",
        "Y1B = Y.iloc[:, 0]#.to_numpy()\n",
        "Y1B_train = Y_train.iloc[:, 0].to_numpy()\n",
        "Y1B_test = Y_test.iloc[:, 0].to_numpy()"
      ]
    },
    {
      "cell_type": "code",
      "execution_count": null,
      "metadata": {
        "colab": {
          "base_uri": "https://localhost:8080/"
        },
        "id": "ZSJJP7pp5Ys4",
        "outputId": "aaa11fb6-caf5-425f-d816-1d2e83f1343b"
      },
      "outputs": [
        {
          "name": "stdout",
          "output_type": "stream",
          "text": [
            "(4355, 83)\n"
          ]
        }
      ],
      "source": [
        "print(X_train.shape)"
      ]
    },
    {
      "cell_type": "markdown",
      "metadata": {
        "id": "fqdz8EXsY5Dz"
      },
      "source": [
        "# Set up Grid Search Baseline"
      ]
    },
    {
      "cell_type": "code",
      "execution_count": null,
      "metadata": {
        "id": "2iYDXISxUUst"
      },
      "outputs": [],
      "source": [
        "class GridSearchCVList:\n",
        "\n",
        "    def __init__(self, estimator_list, param_grid_list, scoring=None,\n",
        "                 n_jobs=None, iid='warn', refit=True, cv='warn', verbose=0, pre_dispatch='2*n_jobs',\n",
        "                 error_score='raise', return_train_score=False):\n",
        "        self._gcv_list = [GridSearchCV(estimator, param_grid, scoring=scoring,\n",
        "                                       n_jobs=n_jobs, refit=refit, cv=cv, verbose=verbose,\n",
        "                                       pre_dispatch=pre_dispatch, error_score=error_score,\n",
        "                                       return_train_score=return_train_score)\n",
        "                          for estimator, param_grid in zip(estimator_list, param_grid_list)]\n",
        "        return\n",
        "\n",
        "    def fit(self, X, y, sample_weight = None, **fit_params):\n",
        "        self.best_ind_ = np.argmax([gcv.fit(X, y, sample_weight = sample_weight, **fit_params).best_score_ for gcv in self._gcv_list])\n",
        "        self.best_estimator_ = self._gcv_list[self.best_ind_].best_estimator_\n",
        "        self.best_score_ = self._gcv_list[self.best_ind_].best_score_\n",
        "        self.best_params_ = self._gcv_list[self.best_ind_].best_params_\n",
        "        return self\n",
        "\n",
        "    def predict(self, X):\n",
        "        return self.best_estimator_.predict(X)\n",
        "\n",
        "    def predict_proba(self, X):\n",
        "        return self.best_estimator_.predict_proba(X)\n",
        "  \n",
        "#Cross-validated nuisance and final stage models\n",
        "def first_stage_prop():\n",
        "    return GridSearchCVList([LogisticRegression(random_state=123),\n",
        "                             RandomForestClassifier(random_state=123),\n",
        "                             GradientBoostingClassifier(random_state=123)],\n",
        "                             param_grid_list=[{'C': [0.01, .1, 1, 10, 100]},\n",
        "                                              {'max_depth': [3, 5],\n",
        "                                               'min_samples_leaf': [10, 50]},\n",
        "                                              {'n_estimators': [50, 100],\n",
        "                                               'min_samples_leaf': [10, 30]}],\n",
        "                             cv=5,\n",
        "                             scoring='neg_mean_squared_error')\n",
        "def first_stage_clf():\n",
        "    return GridSearchCVList([RandomForestClassifier(random_state=123),\n",
        "                             GradientBoostingClassifier(random_state=123)],\n",
        "                             param_grid_list=[{'max_depth': [3, 6],\n",
        "                                               'min_samples_leaf': [10, 50, 100]},\n",
        "                                              {'max_depth': [3, 6],\n",
        "                                               'min_samples_leaf': [10, 50, 100]}],\n",
        "                             cv=5,\n",
        "                             scoring='neg_mean_squared_error')\n",
        "\n",
        "def first_stage_reg():\n",
        "    return GridSearchCVList([Lasso(random_state=123),\n",
        "                             RandomForestRegressor(random_state=123),\n",
        "                             GradientBoostingRegressor(random_state=123)],\n",
        "                             param_grid_list=[{'alpha': [.001, .01, .1, 1, 10]},\n",
        "                                               {'max_depth': [3, 6],\n",
        "                                               'min_samples_leaf': [50, 100]},\n",
        "                                              {'max_depth': [3, 6],\n",
        "                                               'min_samples_leaf': [50, 100]}],\n",
        "                             cv=5,\n",
        "                             scoring='neg_mean_squared_error')\n",
        "\n",
        "def final_stage():\n",
        "    return GridSearchCVList([WeightedLasso(random_state=123),\n",
        "                             RandomForestRegressor(random_state=123)],\n",
        "                             param_grid_list=[{'alpha': [.001, .01, .1, 1, 10]},\n",
        "                                              {'max_depth': [3, 6],\n",
        "                                               'min_samples_leaf': [50, 100]}],\n",
        "                             cv=5,\n",
        "                             scoring='neg_mean_squared_error')"
      ]
    },
    {
      "cell_type": "markdown",
      "metadata": {
        "id": "oLUS523P6JWn"
      },
      "source": [
        "## Best nuisance models: Binary outcome \n"
      ]
    },
    {
      "cell_type": "code",
      "execution_count": null,
      "metadata": {
        "colab": {
          "base_uri": "https://localhost:8080/"
        },
        "id": "U8BeFnDEZCRh",
        "outputId": "bcb01aab-e074-4e4f-8c02-1d062e5b7af5"
      },
      "outputs": [
        {
          "name": "stdout",
          "output_type": "stream",
          "text": [
            "GradientBoostingClassifier(min_samples_leaf=100, random_state=123)\n"
          ]
        }
      ],
      "source": [
        "model_y = clone(first_stage_clf().fit(X, Y1A).best_estimator_)\n",
        "print(model_y)"
      ]
    },
    {
      "cell_type": "code",
      "execution_count": null,
      "metadata": {
        "colab": {
          "base_uri": "https://localhost:8080/"
        },
        "id": "zooMwMhYZGZn",
        "outputId": "b8029bfe-fc3e-40a7-e133-3f7f2c448d95"
      },
      "outputs": [
        {
          "name": "stdout",
          "output_type": "stream",
          "text": [
            "GradientBoostingClassifier(min_samples_leaf=10, random_state=123)\n"
          ]
        }
      ],
      "source": [
        "model_t = clone(first_stage_prop().fit(X, T).best_estimator_)\n",
        "print(model_t)"
      ]
    },
    {
      "cell_type": "code",
      "execution_count": null,
      "metadata": {
        "colab": {
          "base_uri": "https://localhost:8080/"
        },
        "id": "KorkmidPNDyU",
        "outputId": "0c591e3c-1596-4ef1-88fb-cf416d017f88"
      },
      "outputs": [
        {
          "name": "stdout",
          "output_type": "stream",
          "text": [
            "GradientBoostingClassifier(min_samples_leaf=100, random_state=123)\n"
          ]
        }
      ],
      "source": [
        "model_yt = clone(first_stage_clf().fit(XT, Y1A).best_estimator_)\n",
        "print(model_yt)"
      ]
    },
    {
      "cell_type": "code",
      "execution_count": null,
      "metadata": {
        "id": "X4PedRqIZJf7"
      },
      "outputs": [],
      "source": [
        "#Binary outcomes: Best estimators for propensity model and outcome model\n",
        "model_ya = GradientBoostingClassifier(min_samples_leaf=100, random_state=123)\n",
        "model_ta = GradientBoostingClassifier(min_samples_leaf=10, random_state=123)\n",
        "model_yta = GradientBoostingClassifier(min_samples_leaf=100, random_state=123)"
      ]
    },
    {
      "cell_type": "markdown",
      "metadata": {
        "id": "G1a-94q86SID"
      },
      "source": [
        "## Best nuisance models: Continuous outcome "
      ]
    },
    {
      "cell_type": "code",
      "execution_count": null,
      "metadata": {
        "colab": {
          "base_uri": "https://localhost:8080/"
        },
        "id": "oqZQ1Job6Y9F",
        "outputId": "6f1195d3-10bc-433f-c17a-653149e058ab"
      },
      "outputs": [
        {
          "name": "stdout",
          "output_type": "stream",
          "text": [
            "GradientBoostingRegressor(min_samples_leaf=100, random_state=123)\n"
          ]
        }
      ],
      "source": [
        "model_yb = clone(first_stage_reg().fit(X, Y1B).best_estimator_)\n",
        "print(model_yb)"
      ]
    },
    {
      "cell_type": "code",
      "execution_count": null,
      "metadata": {
        "colab": {
          "base_uri": "https://localhost:8080/"
        },
        "id": "CuiAZOA26pe-",
        "outputId": "e9d9ff3e-a135-4308-f9c0-652b161537c4"
      },
      "outputs": [
        {
          "name": "stdout",
          "output_type": "stream",
          "text": [
            "GradientBoostingRegressor(min_samples_leaf=100, random_state=123)\n"
          ]
        }
      ],
      "source": [
        "model_ytb = clone(first_stage_reg().fit(XT, Y1B).best_estimator_)\n",
        "print(model_ytb)"
      ]
    },
    {
      "cell_type": "code",
      "execution_count": null,
      "metadata": {
        "id": "kobk0uLGlBSQ"
      },
      "outputs": [],
      "source": [
        "#Continous outcomes: Best estimators for propensity model and outcome model\n",
        "model_yb = GradientBoostingRegressor(min_samples_leaf=100, random_state=123)\n",
        "model_tb = GradientBoostingClassifier(min_samples_leaf=10, random_state=123)\n",
        "model_ytb =GradientBoostingRegressor(min_samples_leaf=100, random_state=123)"
      ]
    },
    {
      "cell_type": "markdown",
      "metadata": {
        "id": "WACDlvY3ZQLZ"
      },
      "source": [
        "# Set up the RScorer"
      ]
    },
    {
      "cell_type": "markdown",
      "metadata": {
        "id": "kyoc3vrR63AQ"
      },
      "source": [
        "## Fit the RScorer: Binary outcome "
      ]
    },
    {
      "cell_type": "code",
      "execution_count": null,
      "metadata": {
        "id": "1FkuqlpaZNsu"
      },
      "outputs": [],
      "source": [
        "# Train the RScore on the data \n",
        "#Follow the same procedure for selecting the nuisance models for metrics as for CATE estimators \n",
        "scorer_a = RScorer(model_y=first_stage_clf(), model_t=first_stage_prop(),\n",
        "                 discrete_treatment=True, random_state=123)"
      ]
    },
    {
      "cell_type": "code",
      "execution_count": null,
      "metadata": {
        "colab": {
          "base_uri": "https://localhost:8080/"
        },
        "id": "VsuagqDpZaW0",
        "outputId": "6250c510-7778-4390-94dd-35012be9e50f"
      },
      "outputs": [
        {
          "data": {
            "text/plain": [
              "<econml.score.rscorer.RScorer at 0x7fb0c891cca0>"
            ]
          },
          "execution_count": 42,
          "metadata": {},
          "output_type": "execute_result"
        }
      ],
      "source": [
        "scorer_a.fit(Y1A_test, T_test, X=X_test)"
      ]
    },
    {
      "cell_type": "markdown",
      "metadata": {
        "id": "bL9DuI_h7ENB"
      },
      "source": [
        "## Fit the RScorer: Continuous outcome "
      ]
    },
    {
      "cell_type": "code",
      "execution_count": null,
      "metadata": {
        "id": "I1a5ejFo7JTS"
      },
      "outputs": [],
      "source": [
        "# Train the RScore on the data \n",
        "#Follow the same procedure for selecting the nuisance models for metrics as for CATE estimators \n",
        "scorer_b = RScorer(model_y=first_stage_reg(), model_t=first_stage_prop(),\n",
        "                 discrete_treatment=True, random_state=123)"
      ]
    },
    {
      "cell_type": "code",
      "execution_count": null,
      "metadata": {
        "colab": {
          "base_uri": "https://localhost:8080/"
        },
        "id": "JU30gDbl7vvJ",
        "outputId": "820cf853-df3b-4cca-88f8-3223b8145cbf"
      },
      "outputs": [
        {
          "output_type": "execute_result",
          "data": {
            "text/plain": [
              "<econml.score.rscorer.RScorer at 0x7f2a57f26520>"
            ]
          },
          "metadata": {},
          "execution_count": 9
        }
      ],
      "source": [
        "scorer_b.fit(Y1B_test, T_test, X=X_test)"
      ]
    },
    {
      "cell_type": "markdown",
      "metadata": {
        "id": "KXR84rWwYxuN"
      },
      "source": [
        "# Set up influence function "
      ]
    },
    {
      "cell_type": "code",
      "execution_count": null,
      "metadata": {
        "id": "us20Lmp-Yw7n"
      },
      "outputs": [],
      "source": [
        "X_train = pd.read_csv(\"/content/X_train.csv\") \n",
        "X_test = pd.read_csv(\"/content/X_test.csv\")\n",
        "Y_train = pd.read_csv(\"/content/Y_train.csv\")\n",
        "Y_test = pd.read_csv(\"/content/Y_test.csv\")\n",
        "T_train = pd.read_csv(\"/content/T_train.csv\")\n",
        "T_test = pd.read_csv(\"/content/T_test.csv\")\n",
        "XTY_train = pd.read_csv(\"/content/XTY_train.csv\")\n",
        "\n",
        "\n",
        "XTY_train.set_index(\"stay_id\", inplace=True)\n",
        "X_train.set_index(\"stay_id\", inplace=True)\n",
        "X_test.set_index(\"stay_id\", inplace=True)\n",
        "T_train.set_index(\"stay_id\", inplace=True)\n",
        "T_test.set_index(\"stay_id\", inplace=True)\n",
        "\n",
        "#T_train = T_train.iloc[:, 0].to_numpy()\n",
        "XT_train = pd.concat([X_train, pd.DataFrame(T_train, columns=['treated'])], axis=1)\n",
        "XT_test = pd.concat([X_test, pd.DataFrame(T_test, columns=['treated'])], axis=1)"
      ]
    },
    {
      "cell_type": "code",
      "execution_count": null,
      "metadata": {
        "id": "fy3Rt1iyZIcc"
      },
      "outputs": [],
      "source": [
        "xgb_plugin1 = LogisticRegression(C=10, random_state=123)\n",
        "xgb_plugin0 = LogisticRegression(C=1, random_state=123)"
      ]
    },
    {
      "cell_type": "code",
      "execution_count": null,
      "metadata": {
        "colab": {
          "base_uri": "https://localhost:8080/",
          "height": 75
        },
        "id": "rrMpe0cDZxED",
        "outputId": "069a3350-e0c1-4a66-d748-c03bfab2f9d0"
      },
      "outputs": [
        {
          "data": {
            "text/html": [
              "<style>#sk-container-id-1 {color: black;background-color: white;}#sk-container-id-1 pre{padding: 0;}#sk-container-id-1 div.sk-toggleable {background-color: white;}#sk-container-id-1 label.sk-toggleable__label {cursor: pointer;display: block;width: 100%;margin-bottom: 0;padding: 0.3em;box-sizing: border-box;text-align: center;}#sk-container-id-1 label.sk-toggleable__label-arrow:before {content: \"▸\";float: left;margin-right: 0.25em;color: #696969;}#sk-container-id-1 label.sk-toggleable__label-arrow:hover:before {color: black;}#sk-container-id-1 div.sk-estimator:hover label.sk-toggleable__label-arrow:before {color: black;}#sk-container-id-1 div.sk-toggleable__content {max-height: 0;max-width: 0;overflow: hidden;text-align: left;background-color: #f0f8ff;}#sk-container-id-1 div.sk-toggleable__content pre {margin: 0.2em;color: black;border-radius: 0.25em;background-color: #f0f8ff;}#sk-container-id-1 input.sk-toggleable__control:checked~div.sk-toggleable__content {max-height: 200px;max-width: 100%;overflow: auto;}#sk-container-id-1 input.sk-toggleable__control:checked~label.sk-toggleable__label-arrow:before {content: \"▾\";}#sk-container-id-1 div.sk-estimator input.sk-toggleable__control:checked~label.sk-toggleable__label {background-color: #d4ebff;}#sk-container-id-1 div.sk-label input.sk-toggleable__control:checked~label.sk-toggleable__label {background-color: #d4ebff;}#sk-container-id-1 input.sk-hidden--visually {border: 0;clip: rect(1px 1px 1px 1px);clip: rect(1px, 1px, 1px, 1px);height: 1px;margin: -1px;overflow: hidden;padding: 0;position: absolute;width: 1px;}#sk-container-id-1 div.sk-estimator {font-family: monospace;background-color: #f0f8ff;border: 1px dotted black;border-radius: 0.25em;box-sizing: border-box;margin-bottom: 0.5em;}#sk-container-id-1 div.sk-estimator:hover {background-color: #d4ebff;}#sk-container-id-1 div.sk-parallel-item::after {content: \"\";width: 100%;border-bottom: 1px solid gray;flex-grow: 1;}#sk-container-id-1 div.sk-label:hover label.sk-toggleable__label {background-color: #d4ebff;}#sk-container-id-1 div.sk-serial::before {content: \"\";position: absolute;border-left: 1px solid gray;box-sizing: border-box;top: 0;bottom: 0;left: 50%;z-index: 0;}#sk-container-id-1 div.sk-serial {display: flex;flex-direction: column;align-items: center;background-color: white;padding-right: 0.2em;padding-left: 0.2em;position: relative;}#sk-container-id-1 div.sk-item {position: relative;z-index: 1;}#sk-container-id-1 div.sk-parallel {display: flex;align-items: stretch;justify-content: center;background-color: white;position: relative;}#sk-container-id-1 div.sk-item::before, #sk-container-id-1 div.sk-parallel-item::before {content: \"\";position: absolute;border-left: 1px solid gray;box-sizing: border-box;top: 0;bottom: 0;left: 50%;z-index: -1;}#sk-container-id-1 div.sk-parallel-item {display: flex;flex-direction: column;z-index: 1;position: relative;background-color: white;}#sk-container-id-1 div.sk-parallel-item:first-child::after {align-self: flex-end;width: 50%;}#sk-container-id-1 div.sk-parallel-item:last-child::after {align-self: flex-start;width: 50%;}#sk-container-id-1 div.sk-parallel-item:only-child::after {width: 0;}#sk-container-id-1 div.sk-dashed-wrapped {border: 1px dashed gray;margin: 0 0.4em 0.5em 0.4em;box-sizing: border-box;padding-bottom: 0.4em;background-color: white;}#sk-container-id-1 div.sk-label label {font-family: monospace;font-weight: bold;display: inline-block;line-height: 1.2em;}#sk-container-id-1 div.sk-label-container {text-align: center;}#sk-container-id-1 div.sk-container {/* jupyter's `normalize.less` sets `[hidden] { display: none; }` but bootstrap.min.css set `[hidden] { display: none !important; }` so we also need the `!important` here to be able to override the default hidden behavior on the sphinx rendered scikit-learn.org. See: https://github.com/scikit-learn/scikit-learn/issues/21755 */display: inline-block !important;position: relative;}#sk-container-id-1 div.sk-text-repr-fallback {display: none;}</style><div id=\"sk-container-id-1\" class=\"sk-top-container\"><div class=\"sk-text-repr-fallback\"><pre>LogisticRegression(C=1, random_state=123)</pre><b>In a Jupyter environment, please rerun this cell to show the HTML representation or trust the notebook. <br />On GitHub, the HTML representation is unable to render, please try loading this page with nbviewer.org.</b></div><div class=\"sk-container\" hidden><div class=\"sk-item\"><div class=\"sk-estimator sk-toggleable\"><input class=\"sk-toggleable__control sk-hidden--visually\" id=\"sk-estimator-id-1\" type=\"checkbox\" checked><label for=\"sk-estimator-id-1\" class=\"sk-toggleable__label sk-toggleable__label-arrow\">LogisticRegression</label><div class=\"sk-toggleable__content\"><pre>LogisticRegression(C=1, random_state=123)</pre></div></div></div></div></div>"
            ],
            "text/plain": [
              "LogisticRegression(C=1, random_state=123)"
            ]
          },
          "execution_count": 15,
          "metadata": {},
          "output_type": "execute_result"
        }
      ],
      "source": [
        "x0 = XT_train.loc[XT_train['treated'] == 0]\n",
        "y0 = XTY_train.loc[XTY_train['treated'] == 0, '0_48_hypokalemia']\n",
        "xgb_plugin0.fit(x0, y0)"
      ]
    },
    {
      "cell_type": "code",
      "execution_count": null,
      "metadata": {
        "colab": {
          "base_uri": "https://localhost:8080/",
          "height": 75
        },
        "id": "hkHUd89zaB_J",
        "outputId": "c61900f1-9a83-4958-c2ce-32290eb4f1c3"
      },
      "outputs": [
        {
          "data": {
            "text/html": [
              "<style>#sk-container-id-2 {color: black;background-color: white;}#sk-container-id-2 pre{padding: 0;}#sk-container-id-2 div.sk-toggleable {background-color: white;}#sk-container-id-2 label.sk-toggleable__label {cursor: pointer;display: block;width: 100%;margin-bottom: 0;padding: 0.3em;box-sizing: border-box;text-align: center;}#sk-container-id-2 label.sk-toggleable__label-arrow:before {content: \"▸\";float: left;margin-right: 0.25em;color: #696969;}#sk-container-id-2 label.sk-toggleable__label-arrow:hover:before {color: black;}#sk-container-id-2 div.sk-estimator:hover label.sk-toggleable__label-arrow:before {color: black;}#sk-container-id-2 div.sk-toggleable__content {max-height: 0;max-width: 0;overflow: hidden;text-align: left;background-color: #f0f8ff;}#sk-container-id-2 div.sk-toggleable__content pre {margin: 0.2em;color: black;border-radius: 0.25em;background-color: #f0f8ff;}#sk-container-id-2 input.sk-toggleable__control:checked~div.sk-toggleable__content {max-height: 200px;max-width: 100%;overflow: auto;}#sk-container-id-2 input.sk-toggleable__control:checked~label.sk-toggleable__label-arrow:before {content: \"▾\";}#sk-container-id-2 div.sk-estimator input.sk-toggleable__control:checked~label.sk-toggleable__label {background-color: #d4ebff;}#sk-container-id-2 div.sk-label input.sk-toggleable__control:checked~label.sk-toggleable__label {background-color: #d4ebff;}#sk-container-id-2 input.sk-hidden--visually {border: 0;clip: rect(1px 1px 1px 1px);clip: rect(1px, 1px, 1px, 1px);height: 1px;margin: -1px;overflow: hidden;padding: 0;position: absolute;width: 1px;}#sk-container-id-2 div.sk-estimator {font-family: monospace;background-color: #f0f8ff;border: 1px dotted black;border-radius: 0.25em;box-sizing: border-box;margin-bottom: 0.5em;}#sk-container-id-2 div.sk-estimator:hover {background-color: #d4ebff;}#sk-container-id-2 div.sk-parallel-item::after {content: \"\";width: 100%;border-bottom: 1px solid gray;flex-grow: 1;}#sk-container-id-2 div.sk-label:hover label.sk-toggleable__label {background-color: #d4ebff;}#sk-container-id-2 div.sk-serial::before {content: \"\";position: absolute;border-left: 1px solid gray;box-sizing: border-box;top: 0;bottom: 0;left: 50%;z-index: 0;}#sk-container-id-2 div.sk-serial {display: flex;flex-direction: column;align-items: center;background-color: white;padding-right: 0.2em;padding-left: 0.2em;position: relative;}#sk-container-id-2 div.sk-item {position: relative;z-index: 1;}#sk-container-id-2 div.sk-parallel {display: flex;align-items: stretch;justify-content: center;background-color: white;position: relative;}#sk-container-id-2 div.sk-item::before, #sk-container-id-2 div.sk-parallel-item::before {content: \"\";position: absolute;border-left: 1px solid gray;box-sizing: border-box;top: 0;bottom: 0;left: 50%;z-index: -1;}#sk-container-id-2 div.sk-parallel-item {display: flex;flex-direction: column;z-index: 1;position: relative;background-color: white;}#sk-container-id-2 div.sk-parallel-item:first-child::after {align-self: flex-end;width: 50%;}#sk-container-id-2 div.sk-parallel-item:last-child::after {align-self: flex-start;width: 50%;}#sk-container-id-2 div.sk-parallel-item:only-child::after {width: 0;}#sk-container-id-2 div.sk-dashed-wrapped {border: 1px dashed gray;margin: 0 0.4em 0.5em 0.4em;box-sizing: border-box;padding-bottom: 0.4em;background-color: white;}#sk-container-id-2 div.sk-label label {font-family: monospace;font-weight: bold;display: inline-block;line-height: 1.2em;}#sk-container-id-2 div.sk-label-container {text-align: center;}#sk-container-id-2 div.sk-container {/* jupyter's `normalize.less` sets `[hidden] { display: none; }` but bootstrap.min.css set `[hidden] { display: none !important; }` so we also need the `!important` here to be able to override the default hidden behavior on the sphinx rendered scikit-learn.org. See: https://github.com/scikit-learn/scikit-learn/issues/21755 */display: inline-block !important;position: relative;}#sk-container-id-2 div.sk-text-repr-fallback {display: none;}</style><div id=\"sk-container-id-2\" class=\"sk-top-container\"><div class=\"sk-text-repr-fallback\"><pre>LogisticRegression(C=10, random_state=123)</pre><b>In a Jupyter environment, please rerun this cell to show the HTML representation or trust the notebook. <br />On GitHub, the HTML representation is unable to render, please try loading this page with nbviewer.org.</b></div><div class=\"sk-container\" hidden><div class=\"sk-item\"><div class=\"sk-estimator sk-toggleable\"><input class=\"sk-toggleable__control sk-hidden--visually\" id=\"sk-estimator-id-2\" type=\"checkbox\" checked><label for=\"sk-estimator-id-2\" class=\"sk-toggleable__label sk-toggleable__label-arrow\">LogisticRegression</label><div class=\"sk-toggleable__content\"><pre>LogisticRegression(C=10, random_state=123)</pre></div></div></div></div></div>"
            ],
            "text/plain": [
              "LogisticRegression(C=10, random_state=123)"
            ]
          },
          "execution_count": 16,
          "metadata": {},
          "output_type": "execute_result"
        }
      ],
      "source": [
        "x1 = XT_train.loc[XT_train['treated'] != 0]\n",
        "y1 = XTY_train.loc[XTY_train['treated'] != 0, '0_48_hypokalemia']\n",
        "xgb_plugin1.fit(x1, y1)"
      ]
    },
    {
      "cell_type": "code",
      "execution_count": null,
      "metadata": {
        "id": "PQWT2--_aPcc"
      },
      "outputs": [],
      "source": [
        "y_pred0 = xgb_plugin0.predict(XT_test)\n",
        "y_pred1 = xgb_plugin1.predict(XT_test)"
      ]
    },
    {
      "cell_type": "code",
      "execution_count": null,
      "metadata": {
        "id": "ZXZXj-NWaa6H"
      },
      "outputs": [],
      "source": [
        "#Estimated treatment effect using the plug-in method (difference between the predicted outcomes of two XGBoost models trained separately on the control group and the treatment group)\n",
        "t_plugin = y_pred1 - y_pred0"
      ]
    },
    {
      "cell_type": "code",
      "execution_count": null,
      "metadata": {
        "colab": {
          "base_uri": "https://localhost:8080/"
        },
        "id": "Re6bZNILacsx",
        "outputId": "68203e7a-c5cc-4a92-a5e7-dcfa962fdf3b"
      },
      "outputs": [
        {
          "name": "stdout",
          "output_type": "stream",
          "text": [
            "[0.82123387 0.11883833 0.64019843 ... 0.97021595 0.2471682  0.21186484]\n"
          ]
        }
      ],
      "source": [
        "#Compute the propensity score using the gradient boosting classifier model and the treatment variable\n",
        "gb = GradientBoostingClassifier(min_samples_leaf=10, n_estimators=50,\n",
        "                           random_state=123)\n",
        "gb.fit(X_train, T_train)\n",
        "ps = gb.predict_proba(X_test)[:, 1]\n",
        "print(ps)"
      ]
    },
    {
      "cell_type": "code",
      "execution_count": null,
      "metadata": {
        "id": "pB6oi3GZZ7q0"
      },
      "outputs": [],
      "source": [
        "#Use the PS to compute a weight matrix for the treatment effect estimate\n",
        "T_test = T_test.iloc[:, 0].to_numpy()\n",
        "a = (T_test - ps)\n",
        "ident = np.array([1] * len(ps))\n",
        "c = (ps * (ident - ps))\n",
        "#weight vector used to adjust the treatment effect estimate based on the probability of receiving the treatment (propensity score)\n",
        "b = np.array([2] * len(T_test)) * T_test * (T_test - ps) / c"
      ]
    },
    {
      "cell_type": "markdown",
      "metadata": {
        "id": "h_ZISQLXZuwe"
      },
      "source": [
        "# (A) Estimator selection: Binary outcome\n"
      ]
    },
    {
      "cell_type": "markdown",
      "metadata": {
        "id": "bQLBMBUjZxj7"
      },
      "source": [
        "## 1. LinearDML"
      ]
    },
    {
      "cell_type": "markdown",
      "metadata": {
        "id": "gFMrxc0LcoF-"
      },
      "source": [
        "### 1.1 Select best performing nuisance model class and hyperparameters"
      ]
    },
    {
      "cell_type": "code",
      "execution_count": null,
      "metadata": {
        "id": "pHm99ZIeZzFm"
      },
      "outputs": [],
      "source": [
        "ldml = LinearDML(model_y=model_ya,\n",
        "                model_t=model_ta,\n",
        "                random_state=123)"
      ]
    },
    {
      "cell_type": "code",
      "execution_count": null,
      "metadata": {
        "colab": {
          "base_uri": "https://localhost:8080/"
        },
        "id": "VwJti0osZ5bq",
        "outputId": "e85b5258-557c-4720-d401-cf13c42701ad"
      },
      "outputs": [
        {
          "data": {
            "text/plain": [
              "<econml.dml.dml.LinearDML at 0x7fb01d4003a0>"
            ]
          },
          "execution_count": 47,
          "metadata": {},
          "output_type": "execute_result"
        }
      ],
      "source": [
        "ldml.fit(Y1A_train, T_train, X=X_train)"
      ]
    },
    {
      "cell_type": "code",
      "execution_count": null,
      "metadata": {
        "colab": {
          "base_uri": "https://localhost:8080/"
        },
        "id": "aeeLNitzZ7xw",
        "outputId": "3adab039-f74b-412f-c78f-e95a0d21e56d"
      },
      "outputs": [
        {
          "name": "stdout",
          "output_type": "stream",
          "text": [
            "               Uncertainty of Mean Point Estimate              \n",
            "===============================================================\n",
            "mean_point stderr_mean zstat pvalue ci_mean_lower ci_mean_upper\n",
            "---------------------------------------------------------------\n",
            "     0.066       0.015 4.452    0.0         0.042          0.09\n",
            "      Distribution of Point Estimate     \n",
            "=========================================\n",
            "std_point pct_point_lower pct_point_upper\n",
            "-----------------------------------------\n",
            "    0.153          -0.142           0.299\n",
            "     Total Variance of Point Estimate     \n",
            "==========================================\n",
            "stderr_point ci_point_lower ci_point_upper\n",
            "------------------------------------------\n",
            "       0.154         -0.208          0.375\n",
            "------------------------------------------\n"
          ]
        }
      ],
      "source": [
        "ldml_cate = ldml.effect(X_test)\n",
        "ldml_cate_inference = ldml.effect_inference(X_test).population_summary(alpha=0.1, value=0, decimals=3, tol=0.001)\n",
        "print(ldml_cate_inference)"
      ]
    },
    {
      "cell_type": "markdown",
      "metadata": {
        "id": "2myJ0EEmc7JG"
      },
      "source": [
        "### 1.2 Calculate the robustness"
      ]
    },
    {
      "cell_type": "code",
      "execution_count": null,
      "metadata": {
        "colab": {
          "base_uri": "https://localhost:8080/"
        },
        "id": "QJKu-2cgc-8N",
        "outputId": "eca8cab5-91ab-43e2-cd6a-687413a7f3b0"
      },
      "outputs": [
        {
          "name": "stdout",
          "output_type": "stream",
          "text": [
            "0.33025239834659087\n"
          ]
        }
      ],
      "source": [
        "ldml.fit(Y=Y1A_test, T=T_test, X=X_test)\n",
        "ldml_cate_test = ldml.effect(X_test)\n",
        "\n",
        "ERMSE = ((ldml_cate-ldml_cate_test)**2).mean()**(1/2)\n",
        "print(ERMSE)"
      ]
    },
    {
      "cell_type": "markdown",
      "metadata": {
        "id": "Yrwow5GmctyG"
      },
      "source": [
        "### 1.3 Calculate the R-Score "
      ]
    },
    {
      "cell_type": "code",
      "execution_count": null,
      "metadata": {
        "colab": {
          "base_uri": "https://localhost:8080/"
        },
        "id": "5dRgUBn9b_XU",
        "outputId": "a6d48a6c-c4ac-4df4-e349-65eb9eea5d39"
      },
      "outputs": [
        {
          "name": "stdout",
          "output_type": "stream",
          "text": [
            "0.0036425188041228074\n"
          ]
        }
      ],
      "source": [
        "rscore = scorer_a.score(ldml)\n",
        "print(rscore)"
      ]
    },
    {
      "cell_type": "markdown",
      "metadata": {
        "id": "wP5fAdC2Lh2h"
      },
      "source": [
        "## 2. LinearDRLearner "
      ]
    },
    {
      "cell_type": "markdown",
      "metadata": {
        "id": "uQAsMvnvLldn"
      },
      "source": [
        "### 2.1 Select best performing nuisance model class and hyperparameters"
      ]
    },
    {
      "cell_type": "code",
      "execution_count": null,
      "metadata": {
        "id": "AAQHpDocLkpW"
      },
      "outputs": [],
      "source": [
        "LinearDR_learner = LinearDRLearner(model_regression=model_yta, model_propensity=model_ta, random_state=123)"
      ]
    },
    {
      "cell_type": "code",
      "execution_count": null,
      "metadata": {
        "colab": {
          "base_uri": "https://localhost:8080/"
        },
        "id": "r-juXvbtL4CR",
        "outputId": "f4c0bfbe-993b-495d-8c7e-e8a993940378"
      },
      "outputs": [
        {
          "data": {
            "text/plain": [
              "<econml.dr._drlearner.LinearDRLearner at 0x7fb01d400460>"
            ]
          },
          "execution_count": 52,
          "metadata": {},
          "output_type": "execute_result"
        }
      ],
      "source": [
        "LinearDR_learner.fit(Y1A_train, T_train, X=X_train)"
      ]
    },
    {
      "cell_type": "code",
      "execution_count": null,
      "metadata": {
        "colab": {
          "base_uri": "https://localhost:8080/"
        },
        "id": "oZNoFCgPL8ig",
        "outputId": "d7b47f6e-a447-4d4e-e512-fa453be53439"
      },
      "outputs": [
        {
          "name": "stdout",
          "output_type": "stream",
          "text": [
            "               Uncertainty of Mean Point Estimate              \n",
            "===============================================================\n",
            "mean_point stderr_mean zstat pvalue ci_mean_lower ci_mean_upper\n",
            "---------------------------------------------------------------\n",
            "     0.009       0.014 0.674  0.501        -0.013         0.032\n",
            "      Distribution of Point Estimate     \n",
            "=========================================\n",
            "std_point pct_point_lower pct_point_upper\n",
            "-----------------------------------------\n",
            "     0.12          -0.179             0.2\n",
            "     Total Variance of Point Estimate     \n",
            "==========================================\n",
            "stderr_point ci_point_lower ci_point_upper\n",
            "------------------------------------------\n",
            "       0.121         -0.246          0.277\n",
            "------------------------------------------\n"
          ]
        }
      ],
      "source": [
        "LinearDR_learner_cate = LinearDR_learner.effect(X_test)\n",
        "LinearDR_learner_cate_inference = LinearDR_learner.effect_inference(X_test).population_summary(alpha=0.1, value=0, decimals=3, tol=0.001)\n",
        "print(LinearDR_learner_cate_inference)"
      ]
    },
    {
      "cell_type": "markdown",
      "metadata": {
        "id": "FxnMpACHmAWg"
      },
      "source": [
        "### 2.2 Calculate the robustness "
      ]
    },
    {
      "cell_type": "code",
      "execution_count": null,
      "metadata": {
        "colab": {
          "base_uri": "https://localhost:8080/"
        },
        "id": "bdiKyyyhmF0l",
        "outputId": "db6f8eb8-22a5-4706-8f94-5fd60ab1494f"
      },
      "outputs": [
        {
          "name": "stdout",
          "output_type": "stream",
          "text": [
            "0.2963382710580213\n"
          ]
        }
      ],
      "source": [
        "LinearDR_learner.fit(Y=Y1A_test, T=T_test, X=X_test)\n",
        "LinearDR_learner_cate_test = LinearDR_learner.effect(X_test)\n",
        "\n",
        "ERMSE = ((LinearDR_learner_cate-LinearDR_learner_cate_test)**2).mean()**(1/2)\n",
        "print(ERMSE)"
      ]
    },
    {
      "cell_type": "markdown",
      "metadata": {
        "id": "ZlAEvMS6PYIO"
      },
      "source": [
        "### 3.3 Calculate the RScore "
      ]
    },
    {
      "cell_type": "code",
      "execution_count": null,
      "metadata": {
        "colab": {
          "base_uri": "https://localhost:8080/"
        },
        "id": "2_Cb7NIWPcPP",
        "outputId": "2e17f4ec-7c2b-4803-e02f-c292cb22848f"
      },
      "outputs": [
        {
          "name": "stdout",
          "output_type": "stream",
          "text": [
            "0.032833816869907384\n"
          ]
        }
      ],
      "source": [
        "rscore = scorer_a.score(LinearDR_learner)\n",
        "print(rscore)"
      ]
    },
    {
      "cell_type": "markdown",
      "metadata": {
        "id": "ISX8PVKBdjKN"
      },
      "source": [
        "## 3. S-Learner"
      ]
    },
    {
      "cell_type": "markdown",
      "metadata": {
        "id": "ocgwb6MXfv7d"
      },
      "source": [
        "### 3.1 Select best performing nuisance model class and hyperparameters"
      ]
    },
    {
      "cell_type": "code",
      "execution_count": null,
      "metadata": {
        "id": "NiQc_nuidiRz"
      },
      "outputs": [],
      "source": [
        "# Instantiate the SLearner\n",
        "S_learner = SLearner(overall_model= first_stage_clf())"
      ]
    },
    {
      "cell_type": "code",
      "execution_count": null,
      "metadata": {
        "colab": {
          "base_uri": "https://localhost:8080/"
        },
        "id": "HXdNQZFQeyEu",
        "outputId": "7137b0c2-d502-4bef-ae19-de0b5aac8431"
      },
      "outputs": [
        {
          "name": "stdout",
          "output_type": "stream",
          "text": [
            "GradientBoostingClassifier(min_samples_leaf=100, random_state=123)\n"
          ]
        }
      ],
      "source": [
        "# Train S_learner\n",
        "best_estimator_s_learner = S_learner.fit(Y1A_train, T_train, X=X_train).overall_model.best_estimator_\n",
        "print(best_estimator_s_learner)"
      ]
    },
    {
      "cell_type": "code",
      "execution_count": null,
      "metadata": {
        "id": "UgowUARee1vg"
      },
      "outputs": [],
      "source": [
        "# Estimate treatment effects on test data\n",
        "S_learner = SLearner(overall_model=best_estimator_s_learner)\n",
        "S_learner.fit(Y1A_train, T_train, X=X_train, inference='bootstrap')\n",
        "S_te = S_learner.effect(X_test)"
      ]
    },
    {
      "cell_type": "code",
      "execution_count": null,
      "metadata": {
        "colab": {
          "base_uri": "https://localhost:8080/"
        },
        "id": "Avn_QL66e5eH",
        "outputId": "b2e8a998-05c8-4cad-a0f3-02395593455f"
      },
      "outputs": [
        {
          "name": "stdout",
          "output_type": "stream",
          "text": [
            "               Uncertainty of Mean Point Estimate              \n",
            "===============================================================\n",
            "mean_point stderr_mean zstat pvalue ci_mean_lower ci_mean_upper\n",
            "---------------------------------------------------------------\n",
            "     0.001       0.031 0.029  0.977        -0.051         0.053\n",
            "      Distribution of Point Estimate     \n",
            "=========================================\n",
            "std_point pct_point_lower pct_point_upper\n",
            "-----------------------------------------\n",
            "     0.03             0.0             0.0\n",
            "     Total Variance of Point Estimate     \n",
            "==========================================\n",
            "stderr_point ci_point_lower ci_point_upper\n",
            "------------------------------------------\n",
            "       0.044            nan            nan\n",
            "------------------------------------------\n",
            "\n",
            "Note: The stderr_mean is a conservative upper bound.\n"
          ]
        }
      ],
      "source": [
        "S_te_inference = S_learner.effect_inference(X_test).population_summary(alpha=0.1, value=0, decimals=3, tol=0.001)\n",
        "print(S_te_inference)"
      ]
    },
    {
      "cell_type": "markdown",
      "metadata": {
        "id": "RRLsNHyUf1Q4"
      },
      "source": [
        "### 3.2 Calculate the robustness"
      ]
    },
    {
      "cell_type": "code",
      "execution_count": null,
      "metadata": {
        "colab": {
          "base_uri": "https://localhost:8080/"
        },
        "id": "wdfIlgpjf-Sc",
        "outputId": "0124e86a-06b7-48f5-9729-5d9d09a8f8c1"
      },
      "outputs": [
        {
          "name": "stdout",
          "output_type": "stream",
          "text": [
            "0.030303030303030304\n"
          ]
        }
      ],
      "source": [
        "S_learner.fit(Y=Y1A_test, T=T_test, X=X_test)\n",
        "S_te_test = S_learner.effect(X_test)\n",
        "\n",
        "ERMSE = ((S_te-S_te_test)**2).mean()**(1/2)\n",
        "print(ERMSE)"
      ]
    },
    {
      "cell_type": "markdown",
      "metadata": {
        "id": "wxRoST8Yf4y7"
      },
      "source": [
        "### 3.3 Calculate the R-Score "
      ]
    },
    {
      "cell_type": "code",
      "execution_count": null,
      "metadata": {
        "colab": {
          "base_uri": "https://localhost:8080/"
        },
        "id": "4LcLjQDsfHaJ",
        "outputId": "677a1535-e942-467c-9117-8b3d6f933ffb"
      },
      "outputs": [
        {
          "name": "stdout",
          "output_type": "stream",
          "text": [
            "-0.0010123335155265423\n"
          ]
        }
      ],
      "source": [
        "rscore = scorer_a.score(S_learner)\n",
        "print(rscore)"
      ]
    },
    {
      "cell_type": "markdown",
      "metadata": {
        "id": "Dt6zWlITgdaL"
      },
      "source": [
        "## 4. T-learner"
      ]
    },
    {
      "cell_type": "markdown",
      "metadata": {
        "id": "L3RlqpwngkUv"
      },
      "source": [
        "### 4.1 Select best performing nuisance model class and hyperparameters"
      ]
    },
    {
      "cell_type": "code",
      "execution_count": null,
      "metadata": {
        "id": "TWCFEMEtgVBL"
      },
      "outputs": [],
      "source": [
        "# Instantiate the T_Learner\n",
        "T_learner = TLearner(models=first_stage_clf())"
      ]
    },
    {
      "cell_type": "code",
      "execution_count": null,
      "metadata": {
        "colab": {
          "base_uri": "https://localhost:8080/"
        },
        "id": "1r6MWeEugzFW",
        "outputId": "92486b9a-9a78-41b9-8205-1bfc1d3ddf71"
      },
      "outputs": [
        {
          "data": {
            "text/plain": [
              "<econml.metalearners._metalearners.TLearner at 0x7fb01d24b940>"
            ]
          },
          "execution_count": 63,
          "metadata": {},
          "output_type": "execute_result"
        }
      ],
      "source": [
        "# Train T_learner\n",
        "T_learner.fit(Y1A_train, T_train, X=X_train)"
      ]
    },
    {
      "cell_type": "code",
      "execution_count": null,
      "metadata": {
        "colab": {
          "base_uri": "https://localhost:8080/"
        },
        "id": "_pLzJipviJWO",
        "outputId": "a2a451cc-f54f-4759-b100-3d37bf15036b"
      },
      "outputs": [
        {
          "name": "stdout",
          "output_type": "stream",
          "text": [
            "[RandomForestClassifier(max_depth=3, min_samples_leaf=10, random_state=123), RandomForestClassifier(max_depth=3, min_samples_leaf=10, random_state=123)]\n"
          ]
        }
      ],
      "source": [
        "# Assuming that T_learner.models is a list of the fitted GridSearchCVList objects\n",
        "best_estimators = [model.best_estimator_ for model in T_learner.models]\n",
        "print(best_estimators)"
      ]
    },
    {
      "cell_type": "code",
      "execution_count": null,
      "metadata": {
        "colab": {
          "base_uri": "https://localhost:8080/"
        },
        "id": "UVCWI5QMBwNs",
        "outputId": "39f86f44-5150-4828-d2ab-e48bad9272e6"
      },
      "outputs": [
        {
          "data": {
            "text/plain": [
              "[RandomForestClassifier(max_depth=3, min_samples_leaf=10, random_state=123),\n",
              " RandomForestClassifier(max_depth=3, min_samples_leaf=10, random_state=123)]"
            ]
          },
          "execution_count": 65,
          "metadata": {},
          "output_type": "execute_result"
        }
      ],
      "source": [
        "best_estimators = [RandomForestClassifier(max_depth=3, min_samples_leaf=10, random_state=123), RandomForestClassifier(max_depth=3, min_samples_leaf=10, random_state=123)]"
      ]
    },
    {
      "cell_type": "code",
      "execution_count": null,
      "metadata": {
        "id": "c4XrZCJzg5fm"
      },
      "outputs": [],
      "source": [
        "# Estimate treatment effects on test data\n",
        "T_learner = TLearner(models=best_estimators)\n",
        "T_learner.fit(Y1A_train, T_train, X=X_train, inference='bootstrap')\n",
        "T_te = T_learner.effect(X_test)"
      ]
    },
    {
      "cell_type": "code",
      "execution_count": null,
      "metadata": {
        "colab": {
          "base_uri": "https://localhost:8080/"
        },
        "id": "YatRyG3Gklof",
        "outputId": "6de5baf6-7a5e-415e-f791-c22e1e23c149"
      },
      "outputs": [
        {
          "name": "stdout",
          "output_type": "stream",
          "text": [
            "               Uncertainty of Mean Point Estimate              \n",
            "===============================================================\n",
            "mean_point stderr_mean zstat pvalue ci_mean_lower ci_mean_upper\n",
            "---------------------------------------------------------------\n",
            "       0.0         0.0   nan    nan           0.0           0.0\n",
            "      Distribution of Point Estimate     \n",
            "=========================================\n",
            "std_point pct_point_lower pct_point_upper\n",
            "-----------------------------------------\n",
            "      0.0             0.0             0.0\n",
            "     Total Variance of Point Estimate     \n",
            "==========================================\n",
            "stderr_point ci_point_lower ci_point_upper\n",
            "------------------------------------------\n",
            "         0.0            nan            nan\n",
            "------------------------------------------\n",
            "\n",
            "Note: The stderr_mean is a conservative upper bound.\n"
          ]
        }
      ],
      "source": [
        "T_te_inference = T_learner.effect_inference(X_test).population_summary(alpha=0.1, value=0, decimals=3, tol=0.001)\n",
        "print(T_te_inference)"
      ]
    },
    {
      "cell_type": "markdown",
      "metadata": {
        "id": "Aj-Vry2xlB-I"
      },
      "source": [
        "### 4.2 Calculate the robustness"
      ]
    },
    {
      "cell_type": "code",
      "execution_count": null,
      "metadata": {
        "colab": {
          "base_uri": "https://localhost:8080/"
        },
        "id": "rees77drk_T-",
        "outputId": "7e953afd-cf0a-466b-8f9f-974ba27983eb"
      },
      "outputs": [
        {
          "name": "stdout",
          "output_type": "stream",
          "text": [
            "0.0\n"
          ]
        }
      ],
      "source": [
        "T_learner.fit(Y=Y1A_test, T=T_test, X=X_test)\n",
        "T_te_test = T_learner.effect(X_test)\n",
        "\n",
        "ERMSE = ((T_te-T_te_test)**2).mean()**(1/2)\n",
        "print(ERMSE)"
      ]
    },
    {
      "cell_type": "markdown",
      "metadata": {
        "id": "CzJckRK0lQH5"
      },
      "source": [
        "### 4.3 Calculate the R-Score "
      ]
    },
    {
      "cell_type": "code",
      "execution_count": null,
      "metadata": {
        "colab": {
          "base_uri": "https://localhost:8080/"
        },
        "id": "G98hFAUMlTTI",
        "outputId": "cb0abb99-5208-4906-c637-60101e56eddc"
      },
      "outputs": [
        {
          "name": "stdout",
          "output_type": "stream",
          "text": [
            "-0.0010123335155265423\n"
          ]
        }
      ],
      "source": [
        "rscore = scorer_a.score(T_learner)\n",
        "print(rscore)"
      ]
    },
    {
      "cell_type": "markdown",
      "metadata": {
        "id": "xTvdIRCtlauw"
      },
      "source": [
        "## 5. X-learner"
      ]
    },
    {
      "cell_type": "markdown",
      "metadata": {
        "id": "MfaFOqxSldC4"
      },
      "source": [
        "### 5.1 Select best performing nuisance model class and hyperparameters"
      ]
    },
    {
      "cell_type": "code",
      "execution_count": null,
      "metadata": {
        "id": "aguzz5ZClgQK"
      },
      "outputs": [],
      "source": [
        "# Instantiate the X_Learner\n",
        "X_learner = XLearner(models=first_stage_clf(), propensity_model=first_stage_prop())"
      ]
    },
    {
      "cell_type": "code",
      "execution_count": null,
      "metadata": {
        "colab": {
          "base_uri": "https://localhost:8080/"
        },
        "id": "vA7YMZghl4qy",
        "outputId": "8ce5b223-a2e3-4d0f-e583-89cdc2db9c3f"
      },
      "outputs": [
        {
          "data": {
            "text/plain": [
              "<econml.metalearners._metalearners.XLearner at 0x7fb01ce059d0>"
            ]
          },
          "execution_count": 71,
          "metadata": {},
          "output_type": "execute_result"
        }
      ],
      "source": [
        "# Train X_learner\n",
        "X_learner.fit(Y1A_train, T_train, X=X_train)"
      ]
    },
    {
      "cell_type": "code",
      "execution_count": null,
      "metadata": {
        "colab": {
          "base_uri": "https://localhost:8080/"
        },
        "id": "h_vV8O0El9aM",
        "outputId": "a20e1b78-e9a8-4fae-dc36-5c31589af8e2"
      },
      "outputs": [
        {
          "name": "stdout",
          "output_type": "stream",
          "text": [
            "[RandomForestClassifier(max_depth=3, min_samples_leaf=10, random_state=123), RandomForestClassifier(max_depth=3, min_samples_leaf=10, random_state=123)]\n"
          ]
        }
      ],
      "source": [
        "# Assuming that X_learner.models is a list of the fitted GridSearchCVList objects\n",
        "best_estimators_models = [model.best_estimator_ for model in X_learner.models]\n",
        "\n",
        "# best_estimators[0] contains the best LogisticRegression estimator\n",
        "# best_estimators[1] contains the best RandomForestClassifier estimator\n",
        "# best_estimators[2] contains the best GradientBoostingClassifier estimator\n",
        "print(best_estimators_models)"
      ]
    },
    {
      "cell_type": "code",
      "execution_count": null,
      "metadata": {
        "id": "oVjzVvU3C5Lk"
      },
      "outputs": [],
      "source": [
        "best_estimators_models = [RandomForestClassifier(max_depth=3, min_samples_leaf=10, random_state=123), RandomForestClassifier(max_depth=3, min_samples_leaf=10, random_state=123)]"
      ]
    },
    {
      "cell_type": "code",
      "execution_count": null,
      "metadata": {
        "colab": {
          "base_uri": "https://localhost:8080/"
        },
        "id": "EbFlcVf2odl_",
        "outputId": "e749df55-77e0-4e28-9a1a-161f6ed1422b"
      },
      "outputs": [
        {
          "name": "stdout",
          "output_type": "stream",
          "text": [
            "GradientBoostingClassifier(min_samples_leaf=30, random_state=123)\n"
          ]
        }
      ],
      "source": [
        "best_estimator_pm = X_learner.propensity_models[0].best_estimator_\n",
        "print(best_estimator_pm)"
      ]
    },
    {
      "cell_type": "code",
      "execution_count": null,
      "metadata": {
        "id": "7TJPQAMvC7Ea"
      },
      "outputs": [],
      "source": [
        "best_estimator_pm = GradientBoostingClassifier(min_samples_leaf=30, random_state=123)"
      ]
    },
    {
      "cell_type": "code",
      "execution_count": null,
      "metadata": {
        "colab": {
          "base_uri": "https://localhost:8080/"
        },
        "id": "0BLr1uPAmwAh",
        "outputId": "b943e34d-7975-49d6-fcab-13175c7da3d4"
      },
      "outputs": [
        {
          "name": "stdout",
          "output_type": "stream",
          "text": [
            "               Uncertainty of Mean Point Estimate              \n",
            "===============================================================\n",
            "mean_point stderr_mean zstat pvalue ci_mean_lower ci_mean_upper\n",
            "---------------------------------------------------------------\n",
            "       0.0         0.0   nan    nan           0.0           0.0\n",
            "      Distribution of Point Estimate     \n",
            "=========================================\n",
            "std_point pct_point_lower pct_point_upper\n",
            "-----------------------------------------\n",
            "      0.0             0.0             0.0\n",
            "     Total Variance of Point Estimate     \n",
            "==========================================\n",
            "stderr_point ci_point_lower ci_point_upper\n",
            "------------------------------------------\n",
            "         0.0            nan            nan\n",
            "------------------------------------------\n",
            "\n",
            "Note: The stderr_mean is a conservative upper bound.\n"
          ]
        }
      ],
      "source": [
        "# Estimate treatment effects on test data\n",
        "X_learner = XLearner(models=best_estimators_models, propensity_model=best_estimator_pm)\n",
        "X_learner.fit(Y1A_train, T_train, X=X_train, inference='bootstrap')\n",
        "X_te = X_learner.effect(X_test)\n",
        "X_te_inference = X_learner.effect_inference(X_test).population_summary(alpha=0.1, value=0, decimals=3, tol=0.001)\n",
        "print(X_te_inference)"
      ]
    },
    {
      "cell_type": "markdown",
      "metadata": {
        "id": "-az0EYiVrq9N"
      },
      "source": [
        "### 5.2 Calculate the robustness"
      ]
    },
    {
      "cell_type": "code",
      "execution_count": null,
      "metadata": {
        "colab": {
          "base_uri": "https://localhost:8080/"
        },
        "id": "5oIQJ1l4rsjL",
        "outputId": "9e2728e5-fe56-4b7f-96aa-31c88c48c806"
      },
      "outputs": [
        {
          "name": "stdout",
          "output_type": "stream",
          "text": [
            "0.0\n"
          ]
        }
      ],
      "source": [
        "X_learner.fit(Y=Y1A_test, T=T_test, X=X_test)\n",
        "X_te_test = X_learner.effect(X_test)\n",
        "\n",
        "ERMSE = ((X_te-X_te_test)**2).mean()**(1/2)\n",
        "print(ERMSE)"
      ]
    },
    {
      "cell_type": "markdown",
      "metadata": {
        "id": "P8wFh5XvtHNu"
      },
      "source": [
        "### 5.3 Calculate the R-Score"
      ]
    },
    {
      "cell_type": "code",
      "execution_count": null,
      "metadata": {
        "colab": {
          "base_uri": "https://localhost:8080/"
        },
        "id": "HjOSVw3itRfh",
        "outputId": "b06cfdb9-a560-4855-f78b-6c1fb13e0d07"
      },
      "outputs": [
        {
          "name": "stdout",
          "output_type": "stream",
          "text": [
            "-0.0010123335155265423\n"
          ]
        }
      ],
      "source": [
        "rscore = scorer_a.score(X_learner)\n",
        "print(rscore)"
      ]
    },
    {
      "cell_type": "markdown",
      "metadata": {
        "id": "bJ7s-LXB-trW"
      },
      "source": [
        "## 6. Causal Forest DML "
      ]
    },
    {
      "cell_type": "markdown",
      "metadata": {
        "id": "cwvkdptF-z57"
      },
      "source": [
        "### 6.1 Select best performing nuisance model and hyperparameter"
      ]
    },
    {
      "cell_type": "code",
      "execution_count": null,
      "metadata": {
        "id": "sKB-JFd2-3eV"
      },
      "outputs": [],
      "source": [
        "forestdml = CausalForestDML(model_y=model_ya, model_t=model_ta, discrete_treatment=True,random_state=seed)"
      ]
    },
    {
      "cell_type": "code",
      "execution_count": null,
      "metadata": {
        "colab": {
          "base_uri": "https://localhost:8080/"
        },
        "id": "mM_WS-13AX3B",
        "outputId": "99a2ce54-516f-4d3c-c01b-88ee6c035fba"
      },
      "outputs": [
        {
          "data": {
            "text/plain": [
              "<econml.dml.causal_forest.CausalForestDML at 0x7fb01c3f7280>"
            ]
          },
          "execution_count": 80,
          "metadata": {},
          "output_type": "execute_result"
        }
      ],
      "source": [
        "forestdml.fit(Y1A_train, T_train, X=X_train)"
      ]
    },
    {
      "cell_type": "code",
      "execution_count": null,
      "metadata": {
        "colab": {
          "base_uri": "https://localhost:8080/"
        },
        "id": "eB1Ae1DXA1M5",
        "outputId": "f91db86d-4a83-4135-8559-8ca1defa4730"
      },
      "outputs": [
        {
          "name": "stdout",
          "output_type": "stream",
          "text": [
            "               Uncertainty of Mean Point Estimate              \n",
            "===============================================================\n",
            "mean_point stderr_mean zstat pvalue ci_mean_lower ci_mean_upper\n",
            "---------------------------------------------------------------\n",
            "     0.003        0.09 0.039  0.969        -0.145         0.152\n",
            "      Distribution of Point Estimate     \n",
            "=========================================\n",
            "std_point pct_point_lower pct_point_upper\n",
            "-----------------------------------------\n",
            "    0.042          -0.055           0.078\n",
            "     Total Variance of Point Estimate     \n",
            "==========================================\n",
            "stderr_point ci_point_lower ci_point_upper\n",
            "------------------------------------------\n",
            "       0.099         -0.147          0.169\n",
            "------------------------------------------\n",
            "\n",
            "Note: The stderr_mean is a conservative upper bound.\n"
          ]
        }
      ],
      "source": [
        "# Estimate treatment effects on test data\n",
        "forestdml_te = forestdml.effect(X_test)\n",
        "forestdml_te_inference = forestdml.effect_inference(X_test).population_summary(alpha=0.1, value=0, decimals=3, tol=0.001)\n",
        "print(forestdml_te_inference)"
      ]
    },
    {
      "cell_type": "markdown",
      "metadata": {
        "id": "EevaHOErB21m"
      },
      "source": [
        "### 6.2 Calculate the robustness"
      ]
    },
    {
      "cell_type": "code",
      "execution_count": null,
      "metadata": {
        "colab": {
          "base_uri": "https://localhost:8080/"
        },
        "id": "n88bIoqABgPy",
        "outputId": "c59752da-b55d-4cf2-b779-5080aba00cc7"
      },
      "outputs": [
        {
          "name": "stdout",
          "output_type": "stream",
          "text": [
            "0.07088373679216084\n"
          ]
        }
      ],
      "source": [
        "forestdml.fit(Y=Y1A_test, T=T_test, X=X_test)\n",
        "forestdml_te_test = forestdml.effect(X_test)\n",
        "\n",
        "ERMSE = ((forestdml_te-forestdml_te_test)**2).mean()**(1/2)\n",
        "print(ERMSE)"
      ]
    },
    {
      "cell_type": "markdown",
      "metadata": {
        "id": "xNWaDj3ECMdu"
      },
      "source": [
        "### 6.3 Calculate the RScore"
      ]
    },
    {
      "cell_type": "code",
      "execution_count": null,
      "metadata": {
        "colab": {
          "base_uri": "https://localhost:8080/"
        },
        "id": "ooLd0xH1CQT1",
        "outputId": "5f4ba5e1-720c-4d60-832f-55e557a9744d"
      },
      "outputs": [
        {
          "name": "stdout",
          "output_type": "stream",
          "text": [
            "0.030502537310160283\n"
          ]
        }
      ],
      "source": [
        "rscore = scorer_a.score(forestdml)\n",
        "print(rscore)"
      ]
    },
    {
      "cell_type": "markdown",
      "metadata": {
        "id": "XWQhYP6Yp1qk"
      },
      "source": [
        "## 7. ForestDRLearner "
      ]
    },
    {
      "cell_type": "markdown",
      "metadata": {
        "id": "4yUTF8Ytp5HW"
      },
      "source": [
        "### 7.1 Select best performing nuisance model and hyperparameter"
      ]
    },
    {
      "cell_type": "code",
      "execution_count": null,
      "metadata": {
        "colab": {
          "base_uri": "https://localhost:8080/"
        },
        "id": "ZCLrubPHp89p",
        "outputId": "2bda63f9-188a-4936-95db-1e85e887f2d4"
      },
      "outputs": [
        {
          "name": "stdout",
          "output_type": "stream",
          "text": [
            "               Uncertainty of Mean Point Estimate              \n",
            "===============================================================\n",
            "mean_point stderr_mean zstat pvalue ci_mean_lower ci_mean_upper\n",
            "---------------------------------------------------------------\n",
            "     0.007       0.049 0.138  0.891        -0.073         0.087\n",
            "      Distribution of Point Estimate     \n",
            "=========================================\n",
            "std_point pct_point_lower pct_point_upper\n",
            "-----------------------------------------\n",
            "    0.023          -0.026           0.048\n",
            "     Total Variance of Point Estimate     \n",
            "==========================================\n",
            "stderr_point ci_point_lower ci_point_upper\n",
            "------------------------------------------\n",
            "       0.054         -0.072          0.099\n",
            "------------------------------------------\n",
            "\n",
            "Note: The stderr_mean is a conservative upper bound.\n"
          ]
        }
      ],
      "source": [
        "forestdrl = ForestDRLearner(model_regression=model_yta, model_propensity=model_ta, random_state=seed)\n",
        "forestdrl.fit(Y1A_train, T_train, X=X_train, cache_values=True)\n",
        "# Estimate treatment effects on test data\n",
        "forestdrl_te = forestdrl.effect(X_test)\n",
        "forestdrl_te_inference = forestdrl.effect_inference(X_test).population_summary(alpha=0.1, value=0, decimals=3, tol=0.001)\n",
        "print(forestdrl_te_inference)"
      ]
    },
    {
      "cell_type": "markdown",
      "metadata": {
        "id": "QsjIpuFVrNLq"
      },
      "source": [
        "### 7.2 Calculate the robustness"
      ]
    },
    {
      "cell_type": "code",
      "execution_count": null,
      "metadata": {
        "colab": {
          "base_uri": "https://localhost:8080/"
        },
        "id": "9QCQltYirZYW",
        "outputId": "fe69169b-e91f-4fd7-d238-4fe1a84b6e24"
      },
      "outputs": [
        {
          "name": "stdout",
          "output_type": "stream",
          "text": [
            "0.054306500591324136\n"
          ]
        }
      ],
      "source": [
        "forestdrl.fit(Y=Y1A_test, T=T_test, X=X_test)\n",
        "forestdrl_te_test = forestdrl.effect(X_test)\n",
        "\n",
        "ERMSE = ((forestdrl_te-forestdrl_te_test)**2).mean()**(1/2)\n",
        "print(ERMSE)"
      ]
    },
    {
      "cell_type": "markdown",
      "metadata": {
        "id": "ksp7NDmnreVl"
      },
      "source": [
        "### 7.3 Calculate the RScore"
      ]
    },
    {
      "cell_type": "code",
      "execution_count": null,
      "metadata": {
        "colab": {
          "base_uri": "https://localhost:8080/"
        },
        "id": "1h2S3jYFrgnC",
        "outputId": "06beda87-a067-4fff-aade-52142e113283"
      },
      "outputs": [
        {
          "name": "stdout",
          "output_type": "stream",
          "text": [
            "0.04274664160867936\n"
          ]
        }
      ],
      "source": [
        "rscore = scorer_a.score(forestdrl)\n",
        "print(rscore)"
      ]
    },
    {
      "cell_type": "markdown",
      "metadata": {
        "id": "Q9AoNHQPCohU"
      },
      "source": [
        "## 8. NonParamDML "
      ]
    },
    {
      "cell_type": "markdown",
      "metadata": {
        "id": "1LpocynjCvwg"
      },
      "source": [
        "### 8.1 Select best performing nuisance model and hyperparameter"
      ]
    },
    {
      "cell_type": "code",
      "execution_count": null,
      "metadata": {
        "id": "ANNHOfQ_Cq3H"
      },
      "outputs": [],
      "source": [
        "nonparamdml = NonParamDML(model_y=model_ya, model_t=model_ta, model_final=final_stage(),random_state=123)"
      ]
    },
    {
      "cell_type": "code",
      "execution_count": null,
      "metadata": {
        "colab": {
          "base_uri": "https://localhost:8080/"
        },
        "id": "ZWLawbgBC4Vn",
        "outputId": "c8b55a5e-f6fd-4888-9c52-9b12523c0f48"
      },
      "outputs": [
        {
          "data": {
            "text/plain": [
              "<econml.dml.dml.NonParamDML at 0x7fb00e478e20>"
            ]
          },
          "execution_count": 88,
          "metadata": {},
          "output_type": "execute_result"
        }
      ],
      "source": [
        "nonparamdml.fit(Y1A_train, T_train, X=X_train)"
      ]
    },
    {
      "cell_type": "code",
      "execution_count": null,
      "metadata": {
        "colab": {
          "base_uri": "https://localhost:8080/"
        },
        "id": "K1iUXW7sDkWA",
        "outputId": "ab9f4c19-af58-4c20-c55f-1485a8fe0026"
      },
      "outputs": [
        {
          "name": "stdout",
          "output_type": "stream",
          "text": [
            "RandomForestRegressor(max_depth=6, min_samples_leaf=50, random_state=123)\n"
          ]
        }
      ],
      "source": [
        "# Access the best estimator for model_final after fitting the NonParamDML\n",
        "best_estimator_model_final = nonparamdml.model_final_.best_estimator_\n",
        "print(best_estimator_model_final)"
      ]
    },
    {
      "cell_type": "code",
      "execution_count": null,
      "metadata": {
        "id": "EqoD37v7GFD0"
      },
      "outputs": [],
      "source": [
        "best_estimator_model_final = RandomForestRegressor(max_depth=6, min_samples_leaf=50, random_state=123)"
      ]
    },
    {
      "cell_type": "code",
      "execution_count": null,
      "metadata": {
        "colab": {
          "base_uri": "https://localhost:8080/"
        },
        "id": "zvbWnPBOFOB1",
        "outputId": "3a0fc1cf-47f0-451c-e775-95fa4239194d"
      },
      "outputs": [
        {
          "data": {
            "text/plain": [
              "<econml.dml.dml.NonParamDML at 0x7fb01cfa1d60>"
            ]
          },
          "execution_count": 91,
          "metadata": {},
          "output_type": "execute_result"
        }
      ],
      "source": [
        "nonparamdml = NonParamDML(model_y=model_yb, model_t=model_tb, model_final=best_estimator_model_final,random_state=123)\n",
        "nonparamdml.fit(Y1B_train, T_train, X=X_train)"
      ]
    },
    {
      "cell_type": "code",
      "execution_count": null,
      "metadata": {
        "colab": {
          "base_uri": "https://localhost:8080/"
        },
        "id": "GkCup_i-IB1i",
        "outputId": "24f54291-1bdc-4347-d263-17465a039bec"
      },
      "outputs": [
        {
          "name": "stdout",
          "output_type": "stream",
          "text": [
            "Uncertainty of Mean Point Estimate\n",
            "==========\n",
            "mean_point\n",
            "----------\n",
            "    -0.019\n",
            "      Distribution of Point Estimate     \n",
            "=========================================\n",
            "std_point pct_point_lower pct_point_upper\n",
            "-----------------------------------------\n",
            "    0.043          -0.091            0.05\n",
            "-----------------------------------------\n"
          ]
        }
      ],
      "source": [
        "nonparamdml_te = nonparamdml.effect(X_test)\n",
        "nonparamdml_te_inference = nonparamdml.effect_inference(X_test).population_summary(alpha=0.1, value=0, decimals=3, tol=0.001)\n",
        "print(nonparamdml_te_inference)"
      ]
    },
    {
      "cell_type": "markdown",
      "metadata": {
        "id": "aJPwibpvGZ2z"
      },
      "source": [
        "### 8.2 Calculate the robustness"
      ]
    },
    {
      "cell_type": "code",
      "execution_count": null,
      "metadata": {
        "colab": {
          "base_uri": "https://localhost:8080/"
        },
        "id": "XQeoSv6cGaw8",
        "outputId": "7ee302d0-077e-48cc-9f12-92d22d0a57c4"
      },
      "outputs": [
        {
          "name": "stdout",
          "output_type": "stream",
          "text": [
            "0.05687935008336561\n"
          ]
        }
      ],
      "source": [
        "nonparamdml.fit(Y=Y1A_test, T=T_test, X=X_test)\n",
        "nonparamdml_te_test = nonparamdml.effect(X_test)\n",
        "\n",
        "ERMSE = ((nonparamdml_te-nonparamdml_te_test)**2).mean()**(1/2)\n",
        "print(ERMSE)"
      ]
    },
    {
      "cell_type": "markdown",
      "metadata": {
        "id": "jQ0WwjjwIKAa"
      },
      "source": [
        "### 8.3 Calculate the RScore"
      ]
    },
    {
      "cell_type": "code",
      "execution_count": null,
      "metadata": {
        "colab": {
          "base_uri": "https://localhost:8080/"
        },
        "id": "yF33x-ZzIL4k",
        "outputId": "05496a95-b43c-4eda-d3bb-a67c3196535b"
      },
      "outputs": [
        {
          "name": "stdout",
          "output_type": "stream",
          "text": [
            "0.004358019819363457\n"
          ]
        }
      ],
      "source": [
        "rscore = scorer_a.score(nonparamdml)\n",
        "print(rscore)"
      ]
    },
    {
      "cell_type": "markdown",
      "metadata": {
        "id": "2hNe6eUkEBaf"
      },
      "source": [
        "# (B) Estimator selection: Continuous outcome\n"
      ]
    },
    {
      "cell_type": "markdown",
      "metadata": {
        "id": "qog4kdo3EKTV"
      },
      "source": [
        "## 1. Linear DML "
      ]
    },
    {
      "cell_type": "markdown",
      "metadata": {
        "id": "KrVjcydYEfE7"
      },
      "source": [
        "### 1.1 Select the best performing nuisance model class and hyperparameters "
      ]
    },
    {
      "cell_type": "code",
      "execution_count": null,
      "metadata": {
        "id": "F90eDeJeGxJ2"
      },
      "outputs": [],
      "source": [
        "ldml = LinearDML(model_y=model_yb,\n",
        "                model_t=model_tb,\n",
        "                random_state=123)"
      ]
    },
    {
      "cell_type": "code",
      "execution_count": null,
      "metadata": {
        "colab": {
          "base_uri": "https://localhost:8080/"
        },
        "id": "O4OolNwdG2iw",
        "outputId": "0d8c2605-34d4-4eba-d35a-cf949b522beb"
      },
      "outputs": [
        {
          "data": {
            "text/plain": [
              "<econml.dml.dml.LinearDML at 0x7fb01c169f10>"
            ]
          },
          "execution_count": 97,
          "metadata": {},
          "output_type": "execute_result"
        }
      ],
      "source": [
        "ldml.fit(Y1B_train, T_train, X=X_train)"
      ]
    },
    {
      "cell_type": "code",
      "execution_count": null,
      "metadata": {
        "colab": {
          "base_uri": "https://localhost:8080/"
        },
        "id": "9udhof33G6lR",
        "outputId": "e65c4cbe-30b0-4089-bedc-13dcdfd0d53e"
      },
      "outputs": [
        {
          "name": "stdout",
          "output_type": "stream",
          "text": [
            "               Uncertainty of Mean Point Estimate               \n",
            "================================================================\n",
            "mean_point stderr_mean zstat  pvalue ci_mean_lower ci_mean_upper\n",
            "----------------------------------------------------------------\n",
            "    -0.016       0.019 -0.848  0.397        -0.046         0.015\n",
            "      Distribution of Point Estimate     \n",
            "=========================================\n",
            "std_point pct_point_lower pct_point_upper\n",
            "-----------------------------------------\n",
            "    0.166          -0.253           0.216\n",
            "     Total Variance of Point Estimate     \n",
            "==========================================\n",
            "stderr_point ci_point_lower ci_point_upper\n",
            "------------------------------------------\n",
            "       0.167         -0.345          0.314\n",
            "------------------------------------------\n"
          ]
        }
      ],
      "source": [
        "ldml_cate = ldml.effect(X_test)\n",
        "ldml_cate_inference = ldml.effect_inference(X_test).population_summary(alpha=0.1, value=0, decimals=3, tol=0.001)\n",
        "print(ldml_cate_inference)"
      ]
    },
    {
      "cell_type": "markdown",
      "metadata": {
        "id": "Zri1AY67Ew8m"
      },
      "source": [
        "### 1.2 Calculate the robustness"
      ]
    },
    {
      "cell_type": "code",
      "execution_count": null,
      "metadata": {
        "colab": {
          "base_uri": "https://localhost:8080/"
        },
        "id": "OHIubGtPG-Dv",
        "outputId": "57f3f385-1f09-490e-baae-de42b1f95619"
      },
      "outputs": [
        {
          "name": "stdout",
          "output_type": "stream",
          "text": [
            "0.37807011372246113\n"
          ]
        }
      ],
      "source": [
        "ldml.fit(Y=Y1B_test, T=T_test, X=X_test)\n",
        "ldml_cate_test = ldml.effect(X_test)\n",
        "\n",
        "ERMSE = ((ldml_cate-ldml_cate_test)**2).mean()**(1/2)\n",
        "print(ERMSE)"
      ]
    },
    {
      "cell_type": "markdown",
      "metadata": {
        "id": "ILF64Y65HWIa"
      },
      "source": [
        "### 1.3 Calculate the RScore "
      ]
    },
    {
      "cell_type": "code",
      "execution_count": null,
      "metadata": {
        "colab": {
          "base_uri": "https://localhost:8080/"
        },
        "id": "i7m2ASw2HFI5",
        "outputId": "dbcc7fcd-b52b-474b-9c61-4b30d133e49c"
      },
      "outputs": [
        {
          "name": "stdout",
          "output_type": "stream",
          "text": [
            "0.029003069281162586\n"
          ]
        }
      ],
      "source": [
        "rscore = scorer_b.score(ldml)\n",
        "print(rscore)"
      ]
    },
    {
      "cell_type": "markdown",
      "metadata": {
        "id": "jYU_Y9rSEN24"
      },
      "source": [
        "## 2. LinearDRLearner "
      ]
    },
    {
      "cell_type": "markdown",
      "metadata": {
        "id": "5LNKj5deEm_O"
      },
      "source": [
        "### 2.1 Select best performing nuisance model class and hyperparameters"
      ]
    },
    {
      "cell_type": "code",
      "execution_count": null,
      "metadata": {
        "id": "KOHvx1SIHhnH"
      },
      "outputs": [],
      "source": [
        "LinearDR_learner = LinearDRLearner(model_regression=model_ytb, model_propensity=model_tb, random_state=123)"
      ]
    },
    {
      "cell_type": "code",
      "execution_count": null,
      "metadata": {
        "colab": {
          "base_uri": "https://localhost:8080/"
        },
        "id": "PE9GS_9cH1sc",
        "outputId": "4422e5a2-5238-478a-c35d-ca54fc07791d"
      },
      "outputs": [
        {
          "data": {
            "text/plain": [
              "<econml.dr._drlearner.LinearDRLearner at 0x7fb01c230be0>"
            ]
          },
          "execution_count": 102,
          "metadata": {},
          "output_type": "execute_result"
        }
      ],
      "source": [
        "LinearDR_learner.fit(Y1B_train, T_train, X=X_train)"
      ]
    },
    {
      "cell_type": "code",
      "execution_count": null,
      "metadata": {
        "id": "490AWhoZITO4"
      },
      "outputs": [],
      "source": [
        "LinearDR_learner_cate = LinearDR_learner.effect(X_test)"
      ]
    },
    {
      "cell_type": "code",
      "execution_count": null,
      "metadata": {
        "colab": {
          "base_uri": "https://localhost:8080/"
        },
        "id": "TxjSbFsTH9s8",
        "outputId": "cb3d334b-c0f3-4ce6-8c1c-a34864073a04"
      },
      "outputs": [
        {
          "name": "stdout",
          "output_type": "stream",
          "text": [
            "               Uncertainty of Mean Point Estimate              \n",
            "===============================================================\n",
            "mean_point stderr_mean zstat pvalue ci_mean_lower ci_mean_upper\n",
            "---------------------------------------------------------------\n",
            "     0.026        0.02 1.336  0.182        -0.006         0.058\n",
            "      Distribution of Point Estimate     \n",
            "=========================================\n",
            "std_point pct_point_lower pct_point_upper\n",
            "-----------------------------------------\n",
            "     0.15          -0.208            0.27\n",
            "     Total Variance of Point Estimate     \n",
            "==========================================\n",
            "stderr_point ci_point_lower ci_point_upper\n",
            "------------------------------------------\n",
            "       0.151         -0.314          0.389\n",
            "------------------------------------------\n"
          ]
        }
      ],
      "source": [
        "LinearDR_learner_cate_inference = LinearDR_learner.effect_inference(X_test).population_summary(alpha=0.1, value=0, decimals=3, tol=0.001)\n",
        "print(LinearDR_learner_cate_inference)"
      ]
    },
    {
      "cell_type": "markdown",
      "metadata": {
        "id": "cMvIGj9-IErr"
      },
      "source": [
        " ### 2.2 Calculate the robustness"
      ]
    },
    {
      "cell_type": "code",
      "execution_count": null,
      "metadata": {
        "colab": {
          "base_uri": "https://localhost:8080/"
        },
        "id": "m_nJmH1jINak",
        "outputId": "0577491f-70d2-40a1-b1be-a7754bdbf07a"
      },
      "outputs": [
        {
          "name": "stdout",
          "output_type": "stream",
          "text": [
            "0.44592845584525975\n"
          ]
        }
      ],
      "source": [
        "LinearDR_learner.fit(Y=Y1B_test, T=T_test, X=X_test)\n",
        "LinearDR_learner_cate_test = LinearDR_learner.effect(X_test)\n",
        "\n",
        "ERMSE = ((LinearDR_learner_cate-LinearDR_learner_cate_test)**2).mean()**(1/2)\n",
        "print(ERMSE)"
      ]
    },
    {
      "cell_type": "markdown",
      "metadata": {
        "id": "buTD1kyXIU8P"
      },
      "source": [
        "### 2.3 Calculate the RScore\n"
      ]
    },
    {
      "cell_type": "code",
      "execution_count": null,
      "metadata": {
        "colab": {
          "base_uri": "https://localhost:8080/"
        },
        "id": "j2JTlP2ZIZ8f",
        "outputId": "836ba47a-dadf-4fa2-c68f-5712b891f785"
      },
      "outputs": [
        {
          "name": "stdout",
          "output_type": "stream",
          "text": [
            "-0.02111385630035012\n"
          ]
        }
      ],
      "source": [
        "rscore = scorer_b.score(LinearDR_learner)\n",
        "print(rscore)"
      ]
    },
    {
      "cell_type": "markdown",
      "metadata": {
        "id": "HmKhy8GbEQz4"
      },
      "source": [
        "## 3. S-Learner "
      ]
    },
    {
      "cell_type": "markdown",
      "metadata": {
        "id": "I0Ot_cbCEpSL"
      },
      "source": [
        "### 3.1 Select best performing nuisance model class and hyperparameters"
      ]
    },
    {
      "cell_type": "code",
      "execution_count": null,
      "metadata": {
        "id": "4rPB8rvjI1fO"
      },
      "outputs": [],
      "source": [
        "# Instantiate the SLearner\n",
        "S_learner = SLearner(overall_model= first_stage_reg())"
      ]
    },
    {
      "cell_type": "code",
      "execution_count": null,
      "metadata": {
        "colab": {
          "base_uri": "https://localhost:8080/"
        },
        "id": "TpBbENBUI5j-",
        "outputId": "e388cbe4-5068-420f-e806-d7d098f30426"
      },
      "outputs": [
        {
          "name": "stdout",
          "output_type": "stream",
          "text": [
            "GradientBoostingRegressor(min_samples_leaf=50, random_state=123)\n"
          ]
        }
      ],
      "source": [
        "# Train S_learner\n",
        "best_estimator_s_learner = S_learner.fit(Y1B_train, T_train, X=X_train).overall_model.best_estimator_\n",
        "print(best_estimator_s_learner)"
      ]
    },
    {
      "cell_type": "code",
      "execution_count": null,
      "metadata": {
        "id": "oqdIIdv4JDuL"
      },
      "outputs": [],
      "source": [
        "best_estimator_s_learner = GradientBoostingRegressor(min_samples_leaf=50, random_state=123)"
      ]
    },
    {
      "cell_type": "code",
      "execution_count": null,
      "metadata": {
        "id": "6mFGBQv4JBNd"
      },
      "outputs": [],
      "source": [
        "# Estimate treatment effects on test data\n",
        "S_learner = SLearner(overall_model=best_estimator_s_learner)\n",
        "S_learner.fit(Y1B_train, T_train, X=X_train, inference='bootstrap')\n",
        "S_te = S_learner.effect(X_test)"
      ]
    },
    {
      "cell_type": "code",
      "execution_count": null,
      "metadata": {
        "colab": {
          "base_uri": "https://localhost:8080/"
        },
        "id": "xvh5uJrdJU1q",
        "outputId": "21e8ecb3-f1d4-47d2-d9fe-7ac42b576704"
      },
      "outputs": [
        {
          "name": "stdout",
          "output_type": "stream",
          "text": [
            "               Uncertainty of Mean Point Estimate              \n",
            "===============================================================\n",
            "mean_point stderr_mean zstat pvalue ci_mean_lower ci_mean_upper\n",
            "---------------------------------------------------------------\n",
            "       0.0       0.012   0.0    1.0         -0.02          0.02\n",
            "      Distribution of Point Estimate     \n",
            "=========================================\n",
            "std_point pct_point_lower pct_point_upper\n",
            "-----------------------------------------\n",
            "      0.0             0.0             0.0\n",
            "     Total Variance of Point Estimate     \n",
            "==========================================\n",
            "stderr_point ci_point_lower ci_point_upper\n",
            "------------------------------------------\n",
            "       0.012         -0.018          0.018\n",
            "------------------------------------------\n",
            "\n",
            "Note: The stderr_mean is a conservative upper bound.\n"
          ]
        }
      ],
      "source": [
        "S_te_inference = S_learner.effect_inference(X_test).population_summary(alpha=0.1, value=0, decimals=3, tol=0.001)\n",
        "print(S_te_inference)"
      ]
    },
    {
      "cell_type": "markdown",
      "metadata": {
        "id": "JDNGRTMKJRQK"
      },
      "source": [
        "### 3.2 Calculate the robustness"
      ]
    },
    {
      "cell_type": "code",
      "execution_count": null,
      "metadata": {
        "colab": {
          "base_uri": "https://localhost:8080/"
        },
        "id": "y_QXiGqYJcST",
        "outputId": "3bb1ff8b-630b-4f57-ae7f-a1ed070e469a"
      },
      "outputs": [
        {
          "name": "stdout",
          "output_type": "stream",
          "text": [
            "0.0\n"
          ]
        }
      ],
      "source": [
        "S_learner.fit(Y=Y1B_test, T=T_test, X=X_test)\n",
        "S_te_test = S_learner.effect(X_test)\n",
        "\n",
        "ERMSE = ((S_te-S_te_test)**2).mean()**(1/2)\n",
        "print(ERMSE)"
      ]
    },
    {
      "cell_type": "markdown",
      "metadata": {
        "id": "b0oceiqvJeMn"
      },
      "source": [
        "### 3.3 Calculate the RScore "
      ]
    },
    {
      "cell_type": "code",
      "execution_count": null,
      "metadata": {
        "colab": {
          "base_uri": "https://localhost:8080/"
        },
        "id": "pu0yUkUYJgef",
        "outputId": "8e004c74-5097-458c-bc4a-418ad1d422f5"
      },
      "outputs": [
        {
          "name": "stdout",
          "output_type": "stream",
          "text": [
            "-0.0007788446049312725\n"
          ]
        }
      ],
      "source": [
        "rscore = scorer_b.score(S_learner)\n",
        "print(rscore)"
      ]
    },
    {
      "cell_type": "markdown",
      "metadata": {
        "id": "ryn29XOFESlq"
      },
      "source": [
        "## 4. T-Learner "
      ]
    },
    {
      "cell_type": "markdown",
      "metadata": {
        "id": "YG7M9yYfJhl9"
      },
      "source": [
        "### 4.1 Select the best performing nuisance model class and hyperparameters"
      ]
    },
    {
      "cell_type": "code",
      "execution_count": null,
      "metadata": {
        "id": "0Ttu2m_kKMN-"
      },
      "outputs": [],
      "source": [
        "# Instantiate the T_Learner\n",
        "T_learner = TLearner(models=first_stage_reg())"
      ]
    },
    {
      "cell_type": "code",
      "execution_count": null,
      "metadata": {
        "colab": {
          "base_uri": "https://localhost:8080/"
        },
        "id": "BU1ekeQBKQSj",
        "outputId": "234da35b-b2dd-46fa-9648-350404dfef10"
      },
      "outputs": [
        {
          "data": {
            "text/plain": [
              "<econml.metalearners._metalearners.TLearner at 0x7fb00e3fd250>"
            ]
          },
          "execution_count": 115,
          "metadata": {},
          "output_type": "execute_result"
        }
      ],
      "source": [
        "# Train T_learner\n",
        "T_learner.fit(Y1B_train, T_train, X=X_train)"
      ]
    },
    {
      "cell_type": "code",
      "execution_count": null,
      "metadata": {
        "colab": {
          "base_uri": "https://localhost:8080/"
        },
        "id": "G64k_-m5KWV3",
        "outputId": "399c1c14-3449-498a-ebff-b33075fd4378"
      },
      "outputs": [
        {
          "name": "stdout",
          "output_type": "stream",
          "text": [
            "[GradientBoostingRegressor(min_samples_leaf=100, random_state=123), RandomForestRegressor(max_depth=6, min_samples_leaf=50, random_state=123)]\n"
          ]
        }
      ],
      "source": [
        "# Assuming that T_learner.models is a list of the fitted GridSearchCVList objects\n",
        "best_estimators = [model.best_estimator_ for model in T_learner.models]\n",
        "print(best_estimators)"
      ]
    },
    {
      "cell_type": "code",
      "execution_count": null,
      "metadata": {
        "id": "LbjYf4a7KbFj"
      },
      "outputs": [],
      "source": [
        "best_estimators = [GradientBoostingRegressor(min_samples_leaf=100, random_state=123), RandomForestRegressor(max_depth=6, min_samples_leaf=50, random_state=123)]"
      ]
    },
    {
      "cell_type": "code",
      "execution_count": null,
      "metadata": {
        "id": "36u_OO-vKfYB"
      },
      "outputs": [],
      "source": [
        "# Estimate treatment effects on test data\n",
        "T_learner = TLearner(models=best_estimators)\n",
        "T_learner.fit(Y1B_train, T_train, X=X_train, inference='bootstrap')\n",
        "T_te = T_learner.effect(X_test)"
      ]
    },
    {
      "cell_type": "code",
      "execution_count": null,
      "metadata": {
        "colab": {
          "base_uri": "https://localhost:8080/"
        },
        "id": "euaQs2ExKjsF",
        "outputId": "b5af2af8-bef9-462b-935d-19307923dfd3"
      },
      "outputs": [
        {
          "name": "stdout",
          "output_type": "stream",
          "text": [
            "               Uncertainty of Mean Point Estimate              \n",
            "===============================================================\n",
            "mean_point stderr_mean zstat pvalue ci_mean_lower ci_mean_upper\n",
            "---------------------------------------------------------------\n",
            "      0.03       0.111 0.269  0.788        -0.152         0.212\n",
            "      Distribution of Point Estimate     \n",
            "=========================================\n",
            "std_point pct_point_lower pct_point_upper\n",
            "-----------------------------------------\n",
            "    0.126          -0.178           0.242\n",
            "     Total Variance of Point Estimate     \n",
            "==========================================\n",
            "stderr_point ci_point_lower ci_point_upper\n",
            "------------------------------------------\n",
            "       0.167         -0.238          0.312\n",
            "------------------------------------------\n",
            "\n",
            "Note: The stderr_mean is a conservative upper bound.\n"
          ]
        }
      ],
      "source": [
        "T_te_inference = T_learner.effect_inference(X_test).population_summary(alpha=0.1, value=0, decimals=3, tol=0.001)\n",
        "print(T_te_inference)"
      ]
    },
    {
      "cell_type": "markdown",
      "metadata": {
        "id": "KffwdJFaJkuO"
      },
      "source": [
        "### 4.2 Calculate the robustness "
      ]
    },
    {
      "cell_type": "code",
      "execution_count": null,
      "metadata": {
        "colab": {
          "base_uri": "https://localhost:8080/"
        },
        "id": "A0NA0rW8KnkB",
        "outputId": "50a55283-d95b-426f-9f74-15182d444af3"
      },
      "outputs": [
        {
          "name": "stdout",
          "output_type": "stream",
          "text": [
            "0.1872063610583569\n"
          ]
        }
      ],
      "source": [
        "T_learner.fit(Y=Y1B_test, T=T_test, X=X_test)\n",
        "T_te_test = T_learner.effect(X_test)\n",
        "\n",
        "ERMSE = ((T_te-T_te_test)**2).mean()**(1/2)\n",
        "print(ERMSE)"
      ]
    },
    {
      "cell_type": "markdown",
      "metadata": {
        "id": "CZ5eSAnkJnND"
      },
      "source": [
        "### 4.3 Calculate the RScore "
      ]
    },
    {
      "cell_type": "code",
      "execution_count": null,
      "metadata": {
        "colab": {
          "base_uri": "https://localhost:8080/"
        },
        "id": "l1ARIr8dKrFn",
        "outputId": "57a4b3a9-cdd2-4329-953e-5f4674d1c59d"
      },
      "outputs": [
        {
          "name": "stdout",
          "output_type": "stream",
          "text": [
            "0.13251803843958443\n"
          ]
        }
      ],
      "source": [
        "rscore = scorer_b.score(T_learner)\n",
        "print(rscore)"
      ]
    },
    {
      "cell_type": "markdown",
      "metadata": {
        "id": "FvxD9MLzEUmz"
      },
      "source": [
        "## 5. X-learner \n"
      ]
    },
    {
      "cell_type": "markdown",
      "metadata": {
        "id": "VVICCks6JpV5"
      },
      "source": [
        "### 5.1 Select the best performing nuisance model class and hyperparameters "
      ]
    },
    {
      "cell_type": "code",
      "execution_count": null,
      "metadata": {
        "id": "cP3WFxhxLAoS"
      },
      "outputs": [],
      "source": [
        "# Instantiate the X_Learner\n",
        "X_learner = XLearner(models=first_stage_reg(), propensity_model=first_stage_prop())"
      ]
    },
    {
      "cell_type": "code",
      "execution_count": null,
      "metadata": {
        "colab": {
          "base_uri": "https://localhost:8080/"
        },
        "id": "nacF_fyJLAoU",
        "outputId": "0f6db701-5bcf-4ada-9554-35a128c419d6"
      },
      "outputs": [
        {
          "output_type": "execute_result",
          "data": {
            "text/plain": [
              "<econml.metalearners._metalearners.XLearner at 0x7f2994d29190>"
            ]
          },
          "metadata": {},
          "execution_count": 11
        }
      ],
      "source": [
        "# Train X_learner\n",
        "X_learner.fit(Y1B_train, T_train, X=X_train)"
      ]
    },
    {
      "cell_type": "code",
      "execution_count": null,
      "metadata": {
        "colab": {
          "base_uri": "https://localhost:8080/"
        },
        "id": "7Autz18LLAoU",
        "outputId": "e15e52d9-901e-4909-af20-fcb056ccc369"
      },
      "outputs": [
        {
          "output_type": "stream",
          "name": "stdout",
          "text": [
            "[GradientBoostingRegressor(min_samples_leaf=100, random_state=123), RandomForestRegressor(max_depth=6, min_samples_leaf=50, random_state=123)]\n"
          ]
        }
      ],
      "source": [
        "# Assuming that X_learner.models is a list of the fitted GridSearchCVList objects\n",
        "best_estimators_models = [model.best_estimator_ for model in X_learner.models]\n",
        "\n",
        "# best_estimators[0] contains the best LogisticRegression estimator\n",
        "# best_estimators[1] contains the best RandomForestClassifier estimator\n",
        "# best_estimators[2] contains the best GradientBoostingClassifier estimator\n",
        "print(best_estimators_models)"
      ]
    },
    {
      "cell_type": "code",
      "execution_count": null,
      "metadata": {
        "id": "EDfoVdH1LAoU"
      },
      "outputs": [],
      "source": [
        "best_estimators_models = [GradientBoostingRegressor(min_samples_leaf=100, random_state=123), RandomForestRegressor(max_depth=6, min_samples_leaf=50, random_state=123)]"
      ]
    },
    {
      "cell_type": "code",
      "execution_count": null,
      "metadata": {
        "colab": {
          "base_uri": "https://localhost:8080/"
        },
        "id": "VpkiE1GcLAoU",
        "outputId": "6b48af0e-c61b-4ba0-e4e3-86302e6f66dc"
      },
      "outputs": [
        {
          "output_type": "stream",
          "name": "stdout",
          "text": [
            "GradientBoostingClassifier(min_samples_leaf=30, random_state=123)\n"
          ]
        }
      ],
      "source": [
        "best_estimator_pm = X_learner.propensity_models[0].best_estimator_\n",
        "print(best_estimator_pm)"
      ]
    },
    {
      "cell_type": "code",
      "execution_count": null,
      "metadata": {
        "id": "D8TnHC4qLAoU"
      },
      "outputs": [],
      "source": [
        "best_estimator_pm = GradientBoostingClassifier(min_samples_leaf=30, random_state=123)"
      ]
    },
    {
      "cell_type": "code",
      "execution_count": null,
      "metadata": {
        "colab": {
          "base_uri": "https://localhost:8080/"
        },
        "id": "tn3A11p-LAoU",
        "outputId": "1187e804-d9af-437d-9f26-f40ff8c40e46"
      },
      "outputs": [
        {
          "output_type": "stream",
          "name": "stdout",
          "text": [
            "               Uncertainty of Mean Point Estimate              \n",
            "===============================================================\n",
            "mean_point stderr_mean zstat pvalue ci_mean_lower ci_mean_upper\n",
            "---------------------------------------------------------------\n",
            "     0.025       0.065 0.378  0.706        -0.083         0.132\n",
            "      Distribution of Point Estimate     \n",
            "=========================================\n",
            "std_point pct_point_lower pct_point_upper\n",
            "-----------------------------------------\n",
            "    0.068          -0.069           0.145\n",
            "     Total Variance of Point Estimate     \n",
            "==========================================\n",
            "stderr_point ci_point_lower ci_point_upper\n",
            "------------------------------------------\n",
            "       0.094         -0.117          0.191\n",
            "------------------------------------------\n",
            "\n",
            "Note: The stderr_mean is a conservative upper bound.\n"
          ]
        }
      ],
      "source": [
        "# Estimate treatment effects on test data\n",
        "X_learner = XLearner(models=best_estimators_models, propensity_model=best_estimator_pm)\n",
        "X_learner.fit(Y1B_train, T_train, X=X_train, inference='bootstrap')\n",
        "X_te = X_learner.effect(X_test)\n",
        "X_te_inference = X_learner.effect_inference(X_test).population_summary(alpha=0.1, value=0, decimals=3, tol=0.001)\n",
        "print(X_te_inference)"
      ]
    },
    {
      "cell_type": "markdown",
      "metadata": {
        "id": "vZFNH_liJsmw"
      },
      "source": [
        "### 5.2 Calculate the robustness "
      ]
    },
    {
      "cell_type": "code",
      "execution_count": null,
      "metadata": {
        "colab": {
          "base_uri": "https://localhost:8080/"
        },
        "id": "f-wN1hIYLOfU",
        "outputId": "fcbb2e8e-743a-4b5d-bfdf-1ac9662427e4"
      },
      "outputs": [
        {
          "output_type": "stream",
          "name": "stdout",
          "text": [
            "0.10453046519115008\n"
          ]
        }
      ],
      "source": [
        "X_learner.fit(Y=Y1B_test, T=T_test, X=X_test)\n",
        "X_te_test = X_learner.effect(X_test)\n",
        "\n",
        "ERMSE = ((X_te-X_te_test)**2).mean()**(1/2)\n",
        "print(ERMSE)"
      ]
    },
    {
      "cell_type": "markdown",
      "metadata": {
        "id": "Q4MUUP2HJwUU"
      },
      "source": [
        "### 5.3 Calculate the RScore "
      ]
    },
    {
      "cell_type": "code",
      "execution_count": null,
      "metadata": {
        "colab": {
          "base_uri": "https://localhost:8080/"
        },
        "id": "zhdVBo9iLKsL",
        "outputId": "515cb259-e021-49bc-f0ab-206a0a02f77a"
      },
      "outputs": [
        {
          "output_type": "stream",
          "name": "stdout",
          "text": [
            "0.02177058613715277\n"
          ]
        }
      ],
      "source": [
        "rscore = scorer_b.score(X_learner)\n",
        "print(rscore)"
      ]
    },
    {
      "cell_type": "markdown",
      "metadata": {
        "id": "feDFHXuOEWwW"
      },
      "source": [
        "## 6. NonParamDML "
      ]
    },
    {
      "cell_type": "markdown",
      "metadata": {
        "id": "wVP6WrulJztF"
      },
      "source": [
        "### 6.1 Select the best performing nuisance model class and hyperparameters "
      ]
    },
    {
      "cell_type": "code",
      "execution_count": null,
      "metadata": {
        "id": "N72uWUapLUpq"
      },
      "outputs": [],
      "source": [
        "nonparamdml = NonParamDML(model_y=model_yb, model_t=model_tb, model_final=final_stage(),random_state=123)"
      ]
    },
    {
      "cell_type": "code",
      "execution_count": null,
      "metadata": {
        "colab": {
          "base_uri": "https://localhost:8080/"
        },
        "id": "z5DZKEXjLUpr",
        "outputId": "f6c879d7-7f4e-46a9-befa-396c0854f781"
      },
      "outputs": [
        {
          "output_type": "execute_result",
          "data": {
            "text/plain": [
              "<econml.dml.dml.NonParamDML at 0x7f29941c25e0>"
            ]
          },
          "metadata": {},
          "execution_count": 20
        }
      ],
      "source": [
        "nonparamdml.fit(Y1B_train, T_train, X=X_train)"
      ]
    },
    {
      "cell_type": "code",
      "execution_count": null,
      "metadata": {
        "colab": {
          "base_uri": "https://localhost:8080/"
        },
        "id": "Ficvn9zfLUpr",
        "outputId": "a348317d-3ad4-4c82-f367-ebadb54ea086"
      },
      "outputs": [
        {
          "output_type": "stream",
          "name": "stdout",
          "text": [
            "WeightedLasso(alpha=0.1, random_state=123)\n"
          ]
        }
      ],
      "source": [
        "# Access the best estimator for model_final after fitting the NonParamDML\n",
        "best_estimator_model_final = nonparamdml.model_final_.best_estimator_\n",
        "print(best_estimator_model_final)"
      ]
    },
    {
      "cell_type": "code",
      "execution_count": null,
      "metadata": {
        "id": "-z3Bv0INLUpr"
      },
      "outputs": [],
      "source": [
        "best_estimator_model_final = WeightedLasso(alpha=0.1, random_state=123)"
      ]
    },
    {
      "cell_type": "code",
      "execution_count": null,
      "metadata": {
        "colab": {
          "base_uri": "https://localhost:8080/"
        },
        "id": "ZyxdIyulLUpr",
        "outputId": "ff496b71-6bfd-46e0-a634-ac8730dfb203"
      },
      "outputs": [
        {
          "output_type": "execute_result",
          "data": {
            "text/plain": [
              "<econml.dml.dml.NonParamDML at 0x7f299426c190>"
            ]
          },
          "metadata": {},
          "execution_count": 23
        }
      ],
      "source": [
        "nonparamdml = NonParamDML(model_y=model_yb, model_t=model_tb, model_final=best_estimator_model_final,random_state=123)\n",
        "nonparamdml.fit(Y1B_train, T_train, X=X_train)"
      ]
    },
    {
      "cell_type": "code",
      "execution_count": null,
      "metadata": {
        "colab": {
          "base_uri": "https://localhost:8080/"
        },
        "id": "VRvdknFMLUpr",
        "outputId": "fcd80530-52de-4689-9619-4bc1287d61ab"
      },
      "outputs": [
        {
          "output_type": "stream",
          "name": "stdout",
          "text": [
            "Uncertainty of Mean Point Estimate\n",
            "==========\n",
            "mean_point\n",
            "----------\n",
            "    -0.015\n",
            "      Distribution of Point Estimate     \n",
            "=========================================\n",
            "std_point pct_point_lower pct_point_upper\n",
            "-----------------------------------------\n",
            "      0.0          -0.015          -0.015\n",
            "-----------------------------------------\n"
          ]
        }
      ],
      "source": [
        "nonparamdml_te = nonparamdml.effect(X_test)\n",
        "nonparamdml_te_inference = nonparamdml.effect_inference(X_test).population_summary(alpha=0.1, value=0, decimals=3, tol=0.001)\n",
        "print(nonparamdml_te_inference)"
      ]
    },
    {
      "cell_type": "markdown",
      "metadata": {
        "id": "qo8fLLYdLUpr"
      },
      "source": [
        "### 6.1 Calculate the robustness"
      ]
    },
    {
      "cell_type": "code",
      "execution_count": null,
      "metadata": {
        "colab": {
          "base_uri": "https://localhost:8080/"
        },
        "id": "_KA0jImeLUpr",
        "outputId": "e3f2df20-b012-4154-ef58-d159f30b1d2b"
      },
      "outputs": [
        {
          "output_type": "stream",
          "name": "stdout",
          "text": [
            "0.0026244356141261506\n"
          ]
        }
      ],
      "source": [
        "nonparamdml.fit(Y=Y1B_test, T=T_test, X=X_test)\n",
        "nonparamdml_te_test = nonparamdml.effect(X_test)\n",
        "\n",
        "ERMSE = ((nonparamdml_te-nonparamdml_te_test)**2).mean()**(1/2)\n",
        "print(ERMSE)"
      ]
    },
    {
      "cell_type": "markdown",
      "metadata": {
        "id": "Q5KErxQALUpr"
      },
      "source": [
        "### 6.3  Calculate the RScore"
      ]
    },
    {
      "cell_type": "code",
      "execution_count": null,
      "metadata": {
        "colab": {
          "base_uri": "https://localhost:8080/"
        },
        "id": "XbwmstFFLUps",
        "outputId": "d2d19605-a37e-4874-f4ea-f0ca2a170bd6"
      },
      "outputs": [
        {
          "output_type": "stream",
          "name": "stdout",
          "text": [
            "-0.00025747245085927517\n"
          ]
        }
      ],
      "source": [
        "rscore = scorer_b.score(nonparamdml)\n",
        "print(rscore)"
      ]
    },
    {
      "cell_type": "markdown",
      "metadata": {
        "id": "P0s_yLlFEZaX"
      },
      "source": [
        "## 7. CausalForestDML "
      ]
    },
    {
      "cell_type": "markdown",
      "metadata": {
        "id": "o1gCKwwnLxNp"
      },
      "source": [
        "### 7.1 Select best performing nuisance model and hyperparameter"
      ]
    },
    {
      "cell_type": "code",
      "execution_count": null,
      "metadata": {
        "id": "rytGiDuKLxNq"
      },
      "outputs": [],
      "source": [
        "forestdml = CausalForestDML(model_y=model_yb, model_t=model_tb, discrete_treatment=True, random_state=seed)"
      ]
    },
    {
      "cell_type": "code",
      "execution_count": null,
      "metadata": {
        "colab": {
          "base_uri": "https://localhost:8080/"
        },
        "id": "aO2twjCuLxNq",
        "outputId": "870a4732-4e8d-42a8-8029-ff6d4b0be3e6"
      },
      "outputs": [
        {
          "output_type": "execute_result",
          "data": {
            "text/plain": [
              "<econml.dml.causal_forest.CausalForestDML at 0x7f2995ba7fd0>"
            ]
          },
          "metadata": {},
          "execution_count": 28
        }
      ],
      "source": [
        "forestdml.fit(Y1B_train, T_train, X=X_train)"
      ]
    },
    {
      "cell_type": "code",
      "execution_count": null,
      "metadata": {
        "colab": {
          "base_uri": "https://localhost:8080/"
        },
        "id": "P-t09Bw_LxNq",
        "outputId": "839fdc6b-3493-4bc2-98b5-e37a282abaf0"
      },
      "outputs": [
        {
          "output_type": "stream",
          "name": "stdout",
          "text": [
            "               Uncertainty of Mean Point Estimate              \n",
            "===============================================================\n",
            "mean_point stderr_mean zstat pvalue ci_mean_lower ci_mean_upper\n",
            "---------------------------------------------------------------\n",
            "      0.02       0.114 0.176  0.861        -0.168         0.208\n",
            "      Distribution of Point Estimate     \n",
            "=========================================\n",
            "std_point pct_point_lower pct_point_upper\n",
            "-----------------------------------------\n",
            "    0.048          -0.059             0.1\n",
            "     Total Variance of Point Estimate     \n",
            "==========================================\n",
            "stderr_point ci_point_lower ci_point_upper\n",
            "------------------------------------------\n",
            "       0.124         -0.178          0.223\n",
            "------------------------------------------\n",
            "\n",
            "Note: The stderr_mean is a conservative upper bound.\n"
          ]
        }
      ],
      "source": [
        "# Estimate treatment effects on test data\n",
        "forestdml_te = forestdml.effect(X_test)\n",
        "forestdml_te_inference = forestdml.effect_inference(X_test).population_summary(alpha=0.1, value=0, decimals=3, tol=0.001)\n",
        "print(forestdml_te_inference)"
      ]
    },
    {
      "cell_type": "markdown",
      "metadata": {
        "id": "DpHZ4gEuLxNq"
      },
      "source": [
        "### 6.2 Calculate the robustness"
      ]
    },
    {
      "cell_type": "code",
      "execution_count": null,
      "metadata": {
        "colab": {
          "base_uri": "https://localhost:8080/"
        },
        "id": "4Y374OP5LxNq",
        "outputId": "af7ab038-9cf0-4382-df05-c91fd268214d"
      },
      "outputs": [
        {
          "output_type": "stream",
          "name": "stdout",
          "text": [
            "0.10081048596557782\n"
          ]
        }
      ],
      "source": [
        "forestdml.fit(Y=Y1B_test, T=T_test, X=X_test)\n",
        "forestdml_te_test = forestdml.effect(X_test)\n",
        "\n",
        "ERMSE = ((forestdml_te-forestdml_te_test)**2).mean()**(1/2)\n",
        "print(ERMSE)"
      ]
    },
    {
      "cell_type": "markdown",
      "metadata": {
        "id": "Nspie1jWLxNq"
      },
      "source": [
        "### 6.3 Calculate the RScore"
      ]
    },
    {
      "cell_type": "code",
      "execution_count": null,
      "metadata": {
        "colab": {
          "base_uri": "https://localhost:8080/"
        },
        "id": "UBzNgIfjLxNq",
        "outputId": "d9ccfeff-3138-4459-a2ea-35daef5bbc99"
      },
      "outputs": [
        {
          "output_type": "stream",
          "name": "stdout",
          "text": [
            "0.051221756437902055\n"
          ]
        }
      ],
      "source": [
        "rscore = scorer_b.score(forestdml)\n",
        "print(rscore)"
      ]
    },
    {
      "cell_type": "markdown",
      "metadata": {
        "id": "Y-vK-70REbRH"
      },
      "source": [
        "## 8. ForestDRLearner \n"
      ]
    },
    {
      "cell_type": "markdown",
      "metadata": {
        "id": "wVh-fBZ1MFjY"
      },
      "source": [
        "### 7.1 Select best performing nuisance model and hyperparameter"
      ]
    },
    {
      "cell_type": "code",
      "execution_count": null,
      "metadata": {
        "colab": {
          "base_uri": "https://localhost:8080/"
        },
        "id": "5_BFVcu6MFjZ",
        "outputId": "c0f2f6e6-8672-4441-af8b-e97cf00c4070"
      },
      "outputs": [
        {
          "output_type": "stream",
          "name": "stdout",
          "text": [
            "               Uncertainty of Mean Point Estimate              \n",
            "===============================================================\n",
            "mean_point stderr_mean zstat pvalue ci_mean_lower ci_mean_upper\n",
            "---------------------------------------------------------------\n",
            "     0.029       0.069 0.414  0.679        -0.085         0.142\n",
            "      Distribution of Point Estimate     \n",
            "=========================================\n",
            "std_point pct_point_lower pct_point_upper\n",
            "-----------------------------------------\n",
            "    0.026          -0.012           0.072\n",
            "     Total Variance of Point Estimate     \n",
            "==========================================\n",
            "stderr_point ci_point_lower ci_point_upper\n",
            "------------------------------------------\n",
            "       0.074         -0.087           0.15\n",
            "------------------------------------------\n",
            "\n",
            "Note: The stderr_mean is a conservative upper bound.\n"
          ]
        }
      ],
      "source": [
        "forestdrl = ForestDRLearner(model_regression=model_ytb, model_propensity=model_tb, random_state=seed)\n",
        "forestdrl.fit(Y1B_train, T_train, X=X_train, cache_values=True)\n",
        "# Estimate treatment effects on test data\n",
        "forestdrl_te = forestdrl.effect(X_test)\n",
        "forestdrl_te_inference = forestdrl.effect_inference(X_test).population_summary(alpha=0.1, value=0, decimals=3, tol=0.001)\n",
        "print(forestdrl_te_inference)"
      ]
    },
    {
      "cell_type": "markdown",
      "metadata": {
        "id": "cT1tfQgeMFjZ"
      },
      "source": [
        "### 7.2 Calculate the robustness"
      ]
    },
    {
      "cell_type": "code",
      "execution_count": null,
      "metadata": {
        "colab": {
          "base_uri": "https://localhost:8080/"
        },
        "id": "IqQ9eaFlMFjZ",
        "outputId": "dc0791d0-eaa4-47bb-d03c-4e2161066f0c"
      },
      "outputs": [
        {
          "output_type": "stream",
          "name": "stdout",
          "text": [
            "0.1014686823449028\n"
          ]
        }
      ],
      "source": [
        "forestdrl.fit(Y=Y1B_test, T=T_test, X=X_test)\n",
        "forestdrl_te_test = forestdrl.effect(X_test)\n",
        "\n",
        "ERMSE = ((forestdrl_te-forestdrl_te_test)**2).mean()**(1/2)\n",
        "print(ERMSE)"
      ]
    },
    {
      "cell_type": "markdown",
      "metadata": {
        "id": "_cqrjj0fMFjZ"
      },
      "source": [
        "### 7.3 Calculate the RScore"
      ]
    },
    {
      "cell_type": "code",
      "execution_count": null,
      "metadata": {
        "colab": {
          "base_uri": "https://localhost:8080/"
        },
        "id": "ypEwIaImMFjZ",
        "outputId": "ac21f1c3-303a-4746-9605-559fa74dcc48"
      },
      "outputs": [
        {
          "output_type": "stream",
          "name": "stdout",
          "text": [
            "0.05808081567921053\n"
          ]
        }
      ],
      "source": [
        "rscore = scorer_b.score(forestdrl)\n",
        "print(rscore)"
      ]
    },
    {
      "cell_type": "code",
      "execution_count": null,
      "metadata": {
        "id": "mB4V4tN-Ki9n"
      },
      "outputs": [],
      "source": []
    }
  ],
  "metadata": {
    "accelerator": "GPU",
    "colab": {
      "machine_shape": "hm",
      "toc_visible": true,
      "provenance": [],
      "authorship_tag": "ABX9TyMLAsU//2Vvb7X2nw6nFn7c",
      "include_colab_link": true
    },
    "gpuClass": "standard",
    "kernelspec": {
      "display_name": "Python 3",
      "name": "python3"
    },
    "language_info": {
      "name": "python"
    }
  },
  "nbformat": 4,
  "nbformat_minor": 0
}