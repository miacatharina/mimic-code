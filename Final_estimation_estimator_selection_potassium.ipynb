{
  "nbformat": 4,
  "nbformat_minor": 0,
  "metadata": {
    "colab": {
      "provenance": [],
      "machine_shape": "hm",
      "toc_visible": true,
      "authorship_tag": "ABX9TyPdPoeTYIx4G8+0luGKatdX",
      "include_colab_link": true
    },
    "kernelspec": {
      "name": "python3",
      "display_name": "Python 3"
    },
    "language_info": {
      "name": "python"
    },
    "accelerator": "GPU",
    "gpuClass": "standard"
  },
  "cells": [
    {
      "cell_type": "markdown",
      "metadata": {
        "id": "view-in-github",
        "colab_type": "text"
      },
      "source": [
        "<a href=\"https://colab.research.google.com/github/miacatharina/mimic-code/blob/main/Final_estimation_estimator_selection_potassium.ipynb\" target=\"_parent\"><img src=\"https://colab.research.google.com/assets/colab-badge.svg\" alt=\"Open In Colab\"/></a>"
      ]
    },
    {
      "cell_type": "code",
      "execution_count": 1,
      "metadata": {
        "id": "3p5UHpjEXtIK",
        "colab": {
          "base_uri": "https://localhost:8080/"
        },
        "outputId": "37445117-6ad7-4dcb-849e-3759a36ee7fa"
      },
      "outputs": [
        {
          "output_type": "stream",
          "name": "stdout",
          "text": [
            "Looking in indexes: https://pypi.org/simple, https://us-python.pkg.dev/colab-wheels/public/simple/\n",
            "Collecting econml[dowhy]\n",
            "  Downloading econml-0.14.0-cp39-cp39-manylinux_2_17_x86_64.manylinux2014_x86_64.whl (3.5 MB)\n",
            "\u001b[2K     \u001b[90m━━━━━━━━━━━━━━━━━━━━━━━━━━━━━━━━━━━━━━━━\u001b[0m \u001b[32m3.5/3.5 MB\u001b[0m \u001b[31m43.2 MB/s\u001b[0m eta \u001b[36m0:00:00\u001b[0m\n",
            "\u001b[?25hCollecting sparse\n",
            "  Downloading sparse-0.14.0-py2.py3-none-any.whl (80 kB)\n",
            "\u001b[2K     \u001b[90m━━━━━━━━━━━━━━━━━━━━━━━━━━━━━━━━━━━━━━━━\u001b[0m \u001b[32m81.0/81.0 KB\u001b[0m \u001b[31m7.2 MB/s\u001b[0m eta \u001b[36m0:00:00\u001b[0m\n",
            "\u001b[?25hRequirement already satisfied: joblib>=0.13.0 in /usr/local/lib/python3.9/dist-packages (from econml[dowhy]) (1.1.1)\n",
            "Requirement already satisfied: pandas in /usr/local/lib/python3.9/dist-packages (from econml[dowhy]) (1.4.4)\n",
            "Collecting scikit-learn<1.2,>0.22.0\n",
            "  Downloading scikit_learn-1.1.3-cp39-cp39-manylinux_2_17_x86_64.manylinux2014_x86_64.whl (30.8 MB)\n",
            "\u001b[2K     \u001b[90m━━━━━━━━━━━━━━━━━━━━━━━━━━━━━━━━━━━━━━━━\u001b[0m \u001b[32m30.8/30.8 MB\u001b[0m \u001b[31m40.4 MB/s\u001b[0m eta \u001b[36m0:00:00\u001b[0m\n",
            "\u001b[?25hRequirement already satisfied: scipy>1.4.0 in /usr/local/lib/python3.9/dist-packages (from econml[dowhy]) (1.10.1)\n",
            "Collecting shap<0.41.0,>=0.38.1\n",
            "  Downloading shap-0.40.0-cp39-cp39-manylinux2010_x86_64.whl (567 kB)\n",
            "\u001b[2K     \u001b[90m━━━━━━━━━━━━━━━━━━━━━━━━━━━━━━━━━━━━━━\u001b[0m \u001b[32m567.6/567.6 KB\u001b[0m \u001b[31m35.4 MB/s\u001b[0m eta \u001b[36m0:00:00\u001b[0m\n",
            "\u001b[?25hRequirement already satisfied: numpy in /usr/local/lib/python3.9/dist-packages (from econml[dowhy]) (1.22.4)\n",
            "Requirement already satisfied: lightgbm in /usr/local/lib/python3.9/dist-packages (from econml[dowhy]) (3.3.5)\n",
            "Requirement already satisfied: statsmodels>=0.10 in /usr/local/lib/python3.9/dist-packages (from econml[dowhy]) (0.13.5)\n",
            "Collecting dowhy<0.9\n",
            "  Downloading dowhy-0.8-py3-none-any.whl (287 kB)\n",
            "\u001b[2K     \u001b[90m━━━━━━━━━━━━━━━━━━━━━━━━━━━━━━━━━━━━━━\u001b[0m \u001b[32m287.3/287.3 KB\u001b[0m \u001b[31m18.4 MB/s\u001b[0m eta \u001b[36m0:00:00\u001b[0m\n",
            "\u001b[?25hRequirement already satisfied: networkx>=2.0 in /usr/local/lib/python3.9/dist-packages (from dowhy<0.9->econml[dowhy]) (3.0)\n",
            "Requirement already satisfied: sympy>=1.4 in /usr/local/lib/python3.9/dist-packages (from dowhy<0.9->econml[dowhy]) (1.11.1)\n",
            "Requirement already satisfied: pydot>=1.4 in /usr/local/lib/python3.9/dist-packages (from dowhy<0.9->econml[dowhy]) (1.4.2)\n",
            "Requirement already satisfied: python-dateutil>=2.8.1 in /usr/local/lib/python3.9/dist-packages (from pandas->econml[dowhy]) (2.8.2)\n",
            "Requirement already satisfied: pytz>=2020.1 in /usr/local/lib/python3.9/dist-packages (from pandas->econml[dowhy]) (2022.7.1)\n",
            "Requirement already satisfied: threadpoolctl>=2.0.0 in /usr/local/lib/python3.9/dist-packages (from scikit-learn<1.2,>0.22.0->econml[dowhy]) (3.1.0)\n",
            "Requirement already satisfied: tqdm>4.25.0 in /usr/local/lib/python3.9/dist-packages (from shap<0.41.0,>=0.38.1->econml[dowhy]) (4.65.0)\n",
            "Requirement already satisfied: packaging>20.9 in /usr/local/lib/python3.9/dist-packages (from shap<0.41.0,>=0.38.1->econml[dowhy]) (23.0)\n",
            "Collecting slicer==0.0.7\n",
            "  Downloading slicer-0.0.7-py3-none-any.whl (14 kB)\n",
            "Requirement already satisfied: cloudpickle in /usr/local/lib/python3.9/dist-packages (from shap<0.41.0,>=0.38.1->econml[dowhy]) (2.2.1)\n",
            "Requirement already satisfied: numba in /usr/local/lib/python3.9/dist-packages (from shap<0.41.0,>=0.38.1->econml[dowhy]) (0.56.4)\n",
            "Requirement already satisfied: patsy>=0.5.2 in /usr/local/lib/python3.9/dist-packages (from statsmodels>=0.10->econml[dowhy]) (0.5.3)\n",
            "Requirement already satisfied: wheel in /usr/local/lib/python3.9/dist-packages (from lightgbm->econml[dowhy]) (0.40.0)\n",
            "Requirement already satisfied: llvmlite<0.40,>=0.39.0dev0 in /usr/local/lib/python3.9/dist-packages (from numba->shap<0.41.0,>=0.38.1->econml[dowhy]) (0.39.1)\n",
            "Requirement already satisfied: setuptools in /usr/local/lib/python3.9/dist-packages (from numba->shap<0.41.0,>=0.38.1->econml[dowhy]) (67.6.1)\n",
            "Requirement already satisfied: six in /usr/local/lib/python3.9/dist-packages (from patsy>=0.5.2->statsmodels>=0.10->econml[dowhy]) (1.16.0)\n",
            "Requirement already satisfied: pyparsing>=2.1.4 in /usr/local/lib/python3.9/dist-packages (from pydot>=1.4->dowhy<0.9->econml[dowhy]) (3.0.9)\n",
            "Requirement already satisfied: mpmath>=0.19 in /usr/local/lib/python3.9/dist-packages (from sympy>=1.4->dowhy<0.9->econml[dowhy]) (1.3.0)\n",
            "Installing collected packages: slicer, sparse, scikit-learn, shap, econml, dowhy\n",
            "  Attempting uninstall: scikit-learn\n",
            "    Found existing installation: scikit-learn 1.2.2\n",
            "    Uninstalling scikit-learn-1.2.2:\n",
            "      Successfully uninstalled scikit-learn-1.2.2\n",
            "Successfully installed dowhy-0.8 econml-0.14.0 scikit-learn-1.1.3 shap-0.40.0 slicer-0.0.7 sparse-0.14.0\n"
          ]
        }
      ],
      "source": [
        "pip install econml[dowhy]"
      ]
    },
    {
      "cell_type": "markdown",
      "source": [
        "### Setup"
      ],
      "metadata": {
        "id": "ZbWPSqYMdbQK"
      }
    },
    {
      "cell_type": "code",
      "source": [
        "import pandas as pd\n",
        "import os, warnings, random\n",
        "import warnings\n",
        "import econml \n",
        "import matplotlib.pyplot as plt\n",
        "warnings.filterwarnings(\"ignore\")\n",
        "from econml.dml import DML, LinearDML, SparseLinearDML, CausalForestDML\n",
        "import numpy as np\n",
        "from itertools import product\n",
        "from sklearn.linear_model import (Lasso, LassoCV, LogisticRegression,\n",
        "                                  LogisticRegressionCV,LinearRegression,\n",
        "                                  MultiTaskElasticNet,MultiTaskElasticNetCV)\n",
        "from sklearn.ensemble import RandomForestRegressor,RandomForestClassifier\n",
        "from sklearn.preprocessing import PolynomialFeatures\n",
        "from xgboost import XGBRegressor\n",
        "from sklearn.ensemble import GradientBoostingRegressor, GradientBoostingClassifier\n",
        "import matplotlib.pyplot as plt\n",
        "import matplotlib\n",
        "%matplotlib inline\n",
        "from econml.score import RScorer\n",
        "from econml.metalearners import TLearner, SLearner, XLearner, DomainAdaptationLearner\n",
        "from econml.dml import CausalForestDML, LinearDML, NonParamDML\n",
        "from econml.dr import DRLearner, ForestDRLearner, LinearDRLearner\n",
        "from joblib import Parallel, delayed\n",
        "from econml.metalearners import TLearner, SLearner, XLearner\n",
        "from sklearn.model_selection import GridSearchCV\n",
        "from sklearn.pipeline import Pipeline\n",
        "from sklearn.linear_model import ElasticNet\n",
        "from sklearn.base import clone\n",
        "import logging\n",
        "import sys\n",
        "from econml.dml import DML, LinearDML,SparseLinearDML,CausalForestDML, NonParamDML, KernelDML\n",
        "from matplotlib import pyplot as plt\n",
        "import copy\n",
        "from econml.sklearn_extensions.model_selection import GridSearchCVList\n",
        "from sklearn.pipeline import Pipeline\n",
        "from sklearn.preprocessing import PolynomialFeatures\n",
        "import dowhy\n",
        "from dowhy import CausalModel\n",
        "from sklearn.linear_model import LassoCV, LogisticRegressionCV\n",
        "from sklearn.ensemble import RandomForestRegressor, GradientBoostingRegressor\n",
        "from sklearn.ensemble import RandomForestClassifier, GradientBoostingClassifier\n",
        "from econml.sklearn_extensions.linear_model import WeightedLassoCV, WeightedLasso\n",
        "from econml.cate_interpreter import SingleTreeCateInterpreter\n",
        "import shap\n",
        "from sklearn.preprocessing import MinMaxScaler\n",
        "from sklearn.model_selection import KFold\n",
        "import tensorflow as tf\n",
        "import timeit\n",
        "from sklearn.model_selection import train_test_split\n",
        "from econml.cate_interpreter import SingleTreePolicyInterpreter\n",
        "\n",
        "\n",
        "def seed_everything(seed=123):\n",
        "    random.seed(seed)\n",
        "    np.random.seed(seed)\n",
        "    os.environ['PYTHONHASHSEED'] = str(seed)\n",
        "    os.environ['TF_DETERMINISTIC_OPS'] = '1'\n",
        "    tf.random.set_seed(seed)\n",
        "\n",
        "seed = 123\n",
        "seed_everything(seed)"
      ],
      "metadata": {
        "id": "Ic5H_Y_qX1q5"
      },
      "execution_count": 2,
      "outputs": []
    },
    {
      "cell_type": "code",
      "source": [
        "device_name = tf.test.gpu_device_name()\n",
        "if device_name != '/device:GPU:0':\n",
        "  print(\n",
        "      '\\n\\nThis error most likely means that this notebook is not '\n",
        "      'configured to use a GPU.  Change this in Notebook Settings via the '\n",
        "      'command palette (cmd/ctrl-shift-P) or the Edit menu.\\n\\n')\n",
        "  raise SystemError('GPU device not found')\n",
        "\n",
        "def cpu():\n",
        "  with tf.device('/cpu:0'):\n",
        "    random_image_cpu = tf.random.normal((100, 100, 100, 3))\n",
        "    net_cpu = tf.keras.layers.Conv2D(32, 7)(random_image_cpu)\n",
        "    return tf.math.reduce_sum(net_cpu)\n",
        "\n",
        "def gpu():\n",
        "  with tf.device('/device:GPU:0'):\n",
        "    random_image_gpu = tf.random.normal((100, 100, 100, 3))\n",
        "    net_gpu = tf.keras.layers.Conv2D(32, 7)(random_image_gpu)\n",
        "    return tf.math.reduce_sum(net_gpu)\n",
        "  \n",
        "# We run each op once to warm up; see: https://stackoverflow.com/a/45067900\n",
        "cpu()\n",
        "gpu()\n",
        "\n",
        "# Run the op several times.\n",
        "print('Time (s) to convolve 32x7x7x3 filter over random 100x100x100x3 images '\n",
        "      '(batch x height x width x channel). Sum of ten runs.')\n",
        "print('CPU (s):')\n",
        "cpu_time = timeit.timeit('cpu()', number=10, setup=\"from __main__ import cpu\")\n",
        "print(cpu_time)\n",
        "print('GPU (s):')\n",
        "gpu_time = timeit.timeit('gpu()', number=10, setup=\"from __main__ import gpu\")\n",
        "print(gpu_time)\n",
        "print('GPU speedup over CPU: {}x'.format(int(cpu_time/gpu_time)))\n",
        "device_name = tf.test.gpu_device_name()\n",
        "if device_name != '/device:GPU:0':\n",
        "  raise SystemError('GPU device not found')\n",
        "print('Found GPU at: {}'.format(device_name))\n",
        "#Check the version of TensorFlow you are using\n",
        "print(tf.__version__)\n",
        "print(tf.config.list_physical_devices('GPU'))\n",
        "from psutil import virtual_memory\n",
        "ram_gb = virtual_memory().total / 1e9\n",
        "print('Your runtime has {:.1f} gigabytes of available RAM\\n'.format(ram_gb))\n",
        "\n",
        "if ram_gb < 20:\n",
        "  print('Not using a high-RAM runtime')\n",
        "else:\n",
        "  print('You are using a high-RAM runtime!')"
      ],
      "metadata": {
        "colab": {
          "base_uri": "https://localhost:8080/"
        },
        "id": "1lb9zOV0d-Kx",
        "outputId": "12e28681-82e4-4f92-b1be-be248eee848b"
      },
      "execution_count": 3,
      "outputs": [
        {
          "output_type": "stream",
          "name": "stdout",
          "text": [
            "Time (s) to convolve 32x7x7x3 filter over random 100x100x100x3 images (batch x height x width x channel). Sum of ten runs.\n",
            "CPU (s):\n",
            "2.9678450930000224\n",
            "GPU (s):\n",
            "0.0914727950000156\n",
            "GPU speedup over CPU: 32x\n",
            "Found GPU at: /device:GPU:0\n",
            "2.12.0\n",
            "[PhysicalDevice(name='/physical_device:GPU:0', device_type='GPU')]\n",
            "Your runtime has 27.3 gigabytes of available RAM\n",
            "\n",
            "You are using a high-RAM runtime!\n"
          ]
        }
      ]
    },
    {
      "cell_type": "markdown",
      "source": [
        "### Import the data"
      ],
      "metadata": {
        "id": "vLNPlKuGX7D1"
      }
    },
    {
      "cell_type": "code",
      "source": [
        "XTY = pd.read_csv(\"/content/XTY.csv\")\n",
        "X = pd.read_csv(\"/content/X.csv\")\n",
        "Y = pd.read_csv(\"/content/Y.csv\")\n",
        "T = pd.read_csv(\"/content/T.csv\")\n",
        "XTY_train = pd.read_csv(\"/content/XTY_train.csv\")\n",
        "XTY_test = pd.read_csv(\"/content/XTY_test.csv\")\n",
        "X_train = pd.read_csv(\"/content/X_train.csv\")\n",
        "X_test = pd.read_csv(\"/content/X_test.csv\")\n",
        "Y_train = pd.read_csv(\"/content/Y_train.csv\")\n",
        "Y_test = pd.read_csv(\"/content/Y_test.csv\")\n",
        "T_train = pd.read_csv(\"/content/T_train.csv\")\n",
        "T_test = pd.read_csv(\"/content/T_test.csv\")\n",
        "\n",
        "XTY.set_index(\"stay_id\", inplace=True)\n",
        "X.set_index(\"stay_id\", inplace=True)\n",
        "Y.set_index(\"stay_id\", inplace=True)\n",
        "T.set_index(\"stay_id\", inplace=True)\n",
        "XTY_train.set_index(\"stay_id\", inplace=True)\n",
        "XTY_test.set_index(\"stay_id\", inplace=True)\n",
        "X_train.set_index(\"stay_id\", inplace=True)\n",
        "X_test.set_index(\"stay_id\", inplace=True)\n",
        "Y_train.set_index(\"stay_id\", inplace=True)\n",
        "Y_test.set_index(\"stay_id\", inplace=True)\n",
        "T_train.set_index(\"stay_id\", inplace=True)\n",
        "T_test.set_index(\"stay_id\", inplace=True)\n",
        "\n",
        "T_train = T_train.iloc[:, 0].to_numpy()\n",
        "T_test = T_test.iloc[:, 0].to_numpy()\n",
        "X1_train = X_train.iloc[:, 3:4]\n",
        "X1_test = X_test.iloc[:, 3:4]\n",
        "XT = pd.concat([X, pd.DataFrame(T, columns=['treated'])], axis=1)\n",
        "XT_train = pd.concat([X_train, pd.DataFrame(T_train, columns=['treated'])], axis=1)\n",
        "XT_test = pd.concat([X_test, pd.DataFrame(T_test, columns=['treated'])], axis=1)\n",
        "\n",
        "\n",
        "#(1) Binary outcome: Hypokalemia within 48 hours \n",
        "Y1A = Y.iloc[:, 2].to_numpy()\n",
        "Y1A_train = Y_train.iloc[:, 2].to_numpy()\n",
        "Y1A_test = Y_test.iloc[:, 2].to_numpy()\n",
        "\n",
        "#(1)Continuous outcome: Minimum serum potassium within 48 hours \n",
        "Y1B = Y.iloc[:, 0]#.to_numpy()\n",
        "Y1B_train = Y_train.iloc[:, 0].to_numpy()\n",
        "Y1B_test = Y_test.iloc[:, 0].to_numpy()"
      ],
      "metadata": {
        "id": "P-NOxeiDYC5d"
      },
      "execution_count": 7,
      "outputs": []
    },
    {
      "cell_type": "code",
      "source": [
        "print(X.head())"
      ],
      "metadata": {
        "colab": {
          "base_uri": "https://localhost:8080/"
        },
        "id": "ZSJJP7pp5Ys4",
        "outputId": "5d69e00a-1e5d-467a-e88b-cd62345e6701"
      },
      "execution_count": 11,
      "outputs": [
        {
          "output_type": "stream",
          "name": "stdout",
          "text": [
            "          sequence_icu  sequence_hadm  diff_intime_admittime_day       age  \\\n",
            "stay_id                                                                      \n",
            "33267162           0.0       0.000000                   0.049180  0.575342   \n",
            "30655167           0.0       0.000000                   0.008197  1.000000   \n",
            "30002548           0.0       0.029412                   0.016393  0.712329   \n",
            "30029209           0.0       0.000000                   0.008197  1.000000   \n",
            "30031157           0.0       0.000000                   0.008197  0.698630   \n",
            "\n",
            "          male    weight  admission_type_emergency  adm_med  adm_surg  \\\n",
            "stay_id                                                                 \n",
            "33267162   1.0  0.152147                       0.0      0.0       1.0   \n",
            "30655167   0.0  0.146421                       1.0      1.0       0.0   \n",
            "30002548   1.0  0.244990                       1.0      0.0       1.0   \n",
            "30029209   1.0  0.266258                       1.0      1.0       0.0   \n",
            "30031157   0.0  0.224540                       1.0      1.0       0.0   \n",
            "\n",
            "          careunit_MICU/SICU  ...  para  htn  perivasc  arth  tumor  valve  \\\n",
            "stay_id                       ...                                            \n",
            "33267162                 0.0  ...   0.0  1.0       0.0   0.0    0.0    0.0   \n",
            "30655167                 0.0  ...   0.0  1.0       0.0   0.0    0.0    1.0   \n",
            "30002548                 0.0  ...   0.0  0.0       0.0   0.0    0.0    0.0   \n",
            "30029209                 1.0  ...   0.0  1.0       0.0   0.0    0.0    0.0   \n",
            "30031157                 0.0  ...   0.0  1.0       0.0   0.0    0.0    0.0   \n",
            "\n",
            "          mech_vent_invasive  mech_vent_noninvasive  rrt  supp_o2  \n",
            "stay_id                                                            \n",
            "33267162                 1.0                    0.0  0.0      1.0  \n",
            "30655167                 0.0                    0.0  0.0      0.0  \n",
            "30002548                 1.0                    0.0  0.0      1.0  \n",
            "30029209                 0.0                    0.0  0.0      0.0  \n",
            "30031157                 1.0                    0.0  0.0      1.0  \n",
            "\n",
            "[5 rows x 83 columns]\n"
          ]
        }
      ]
    },
    {
      "cell_type": "markdown",
      "source": [
        "# Set up Grid Search Baseline"
      ],
      "metadata": {
        "id": "fqdz8EXsY5Dz"
      }
    },
    {
      "cell_type": "code",
      "source": [
        "class GridSearchCVList:\n",
        "\n",
        "    def __init__(self, estimator_list, param_grid_list, scoring=None,\n",
        "                 n_jobs=None, iid='warn', refit=True, cv='warn', verbose=0, pre_dispatch='2*n_jobs',\n",
        "                 error_score='raise', return_train_score=False):\n",
        "        self._gcv_list = [GridSearchCV(estimator, param_grid, scoring=scoring,\n",
        "                                       n_jobs=n_jobs, refit=refit, cv=cv, verbose=verbose,\n",
        "                                       pre_dispatch=pre_dispatch, error_score=error_score,\n",
        "                                       return_train_score=return_train_score)\n",
        "                          for estimator, param_grid in zip(estimator_list, param_grid_list)]\n",
        "        return\n",
        "\n",
        "    def fit(self, X, y, sample_weight = None, **fit_params):\n",
        "        self.best_ind_ = np.argmax([gcv.fit(X, y, sample_weight = sample_weight, **fit_params).best_score_ for gcv in self._gcv_list])\n",
        "        self.best_estimator_ = self._gcv_list[self.best_ind_].best_estimator_\n",
        "        self.best_score_ = self._gcv_list[self.best_ind_].best_score_\n",
        "        self.best_params_ = self._gcv_list[self.best_ind_].best_params_\n",
        "        return self\n",
        "\n",
        "    def predict(self, X):\n",
        "        return self.best_estimator_.predict(X)\n",
        "\n",
        "    def predict_proba(self, X):\n",
        "        return self.best_estimator_.predict_proba(X)\n",
        "  \n",
        "#Cross-validated nuisance and final stage models\n",
        "def first_stage_reg():\n",
        "    return GridSearchCVList([Lasso(random_state=123),\n",
        "                             RandomForestRegressor(n_estimators=100, random_state=123),\n",
        "                             GradientBoostingRegressor(random_state=123)],\n",
        "                             param_grid_list=[{'alpha': [.001, .01, .1, 1, 10]},\n",
        "                                               {'max_depth': [3, 6],\n",
        "                                               'min_samples_leaf': [50, 100]},\n",
        "                                              {'max_depth': [3, 6],\n",
        "                                               'min_samples_leaf': [50, 100]}],\n",
        "                             cv=5,\n",
        "                             scoring='neg_mean_squared_error')\n",
        "\n",
        "def first_stage_clf():\n",
        "    return GridSearchCVList([RandomForestClassifier(n_estimators=100, random_state=123),\n",
        "                             GradientBoostingClassifier(random_state=123)],\n",
        "                             param_grid_list=[{'max_depth': [3, 6],\n",
        "                                               'min_samples_leaf': [10, 50, 100]},\n",
        "                                              {'max_depth': [3, 6],\n",
        "                                               'min_samples_leaf': [10, 50, 100]}],\n",
        "                             cv=5,\n",
        "                             scoring='neg_mean_squared_error')\n",
        "\n",
        "def final_stage():\n",
        "    return GridSearchCVList([WeightedLasso(random_state=123),\n",
        "                             RandomForestRegressor(n_estimators=100, random_state=123)],\n",
        "                             param_grid_list=[{'alpha': [.001, .01, .1, 1, 10]},\n",
        "                                              {'max_depth': [3, 5],\n",
        "                                               'min_samples_leaf': [50, 100]}],\n",
        "                             cv=5,\n",
        "                             scoring='neg_mean_squared_error')"
      ],
      "metadata": {
        "id": "2iYDXISxUUst"
      },
      "execution_count": 45,
      "outputs": []
    },
    {
      "cell_type": "markdown",
      "source": [
        "## Best nuisance models: Binary outcome \n"
      ],
      "metadata": {
        "id": "oLUS523P6JWn"
      }
    },
    {
      "cell_type": "code",
      "source": [
        "model_y = clone(first_stage_clf().fit(X, Y1A).best_estimator_)\n",
        "print(model_y)"
      ],
      "metadata": {
        "colab": {
          "base_uri": "https://localhost:8080/"
        },
        "id": "U8BeFnDEZCRh",
        "outputId": "4f74622d-4352-4b24-bac0-7aa53268abd3"
      },
      "execution_count": 43,
      "outputs": [
        {
          "output_type": "stream",
          "name": "stdout",
          "text": [
            "GradientBoostingClassifier(min_samples_leaf=100, random_state=123)\n"
          ]
        }
      ]
    },
    {
      "cell_type": "code",
      "source": [
        "model_t = clone(first_stage_clf().fit(X, T).best_estimator_)\n",
        "print(model_t)"
      ],
      "metadata": {
        "colab": {
          "base_uri": "https://localhost:8080/"
        },
        "id": "zooMwMhYZGZn",
        "outputId": "3f6761ea-2fd8-49f3-d537-b1d589b4bece"
      },
      "execution_count": 46,
      "outputs": [
        {
          "output_type": "stream",
          "name": "stdout",
          "text": [
            "GradientBoostingClassifier(min_samples_leaf=100, random_state=123)\n"
          ]
        }
      ]
    },
    {
      "cell_type": "code",
      "source": [
        "model_yt = clone(first_stage_clf().fit(XT, Y1A).best_estimator_)\n",
        "print(model_yt)"
      ],
      "metadata": {
        "colab": {
          "base_uri": "https://localhost:8080/"
        },
        "id": "KorkmidPNDyU",
        "outputId": "0c591e3c-1596-4ef1-88fb-cf416d017f88"
      },
      "execution_count": 26,
      "outputs": [
        {
          "output_type": "stream",
          "name": "stdout",
          "text": [
            "GradientBoostingClassifier(min_samples_leaf=100, random_state=123)\n"
          ]
        }
      ]
    },
    {
      "cell_type": "code",
      "source": [
        "#Binary outcomes: Best estimators for propensity model and outcome model\n",
        "model_ya = GradientBoostingClassifier(min_samples_leaf=100, random_state=123)\n",
        "model_ta = GradientBoostingClassifier(min_samples_leaf=10, random_state=123)\n",
        "model_yta = GradientBoostingClassifier(min_samples_leaf=100, random_state=123)"
      ],
      "metadata": {
        "id": "X4PedRqIZJf7"
      },
      "execution_count": 53,
      "outputs": []
    },
    {
      "cell_type": "markdown",
      "source": [
        "## Best nuisance models: Continuous outcome "
      ],
      "metadata": {
        "id": "G1a-94q86SID"
      }
    },
    {
      "cell_type": "code",
      "source": [
        "model_yb = clone(first_stage_reg().fit(X, Y1B).best_estimator_)\n",
        "print(model_yb)"
      ],
      "metadata": {
        "colab": {
          "base_uri": "https://localhost:8080/"
        },
        "id": "oqZQ1Job6Y9F",
        "outputId": "6f1195d3-10bc-433f-c17a-653149e058ab"
      },
      "execution_count": 31,
      "outputs": [
        {
          "output_type": "stream",
          "name": "stdout",
          "text": [
            "GradientBoostingRegressor(min_samples_leaf=100, random_state=123)\n"
          ]
        }
      ]
    },
    {
      "cell_type": "code",
      "source": [
        "model_ytb = clone(first_stage_reg().fit(XT, Y1B).best_estimator_)\n",
        "print(model_ytb)"
      ],
      "metadata": {
        "id": "CuiAZOA26pe-"
      },
      "execution_count": 32,
      "outputs": []
    },
    {
      "cell_type": "code",
      "source": [
        "#Continous outcomes: Best estimators for propensity model and outcome model\n",
        "model_yb = GradientBoostingRegressor(min_samples_leaf=100, random_state=123)\n",
        "model_tb = GradientBoostingClassifier(min_samples_leaf=10, random_state=123)\n",
        "model_ytb =GradientBoostingRegressor(min_samples_leaf=100, random_state=123)"
      ],
      "metadata": {
        "id": "kobk0uLGlBSQ"
      },
      "execution_count": 47,
      "outputs": []
    },
    {
      "cell_type": "markdown",
      "source": [
        "# Set up the RScorer"
      ],
      "metadata": {
        "id": "WACDlvY3ZQLZ"
      }
    },
    {
      "cell_type": "markdown",
      "source": [
        "## Fit the RScorer: Binary outcome "
      ],
      "metadata": {
        "id": "kyoc3vrR63AQ"
      }
    },
    {
      "cell_type": "code",
      "source": [
        "# Train the RScore on the data \n",
        "#Follow the same procedure for selecting the nuisance models for metrics as for CATE estimators \n",
        "scorer_a = RScorer(model_y=first_stage_clf(), model_t=first_stage_clf(),\n",
        "                 discrete_treatment=True, random_state=123)"
      ],
      "metadata": {
        "id": "1FkuqlpaZNsu"
      },
      "execution_count": 48,
      "outputs": []
    },
    {
      "cell_type": "code",
      "source": [
        "scorer_a.fit(Y1A_test, T_test, X=X_test)"
      ],
      "metadata": {
        "colab": {
          "base_uri": "https://localhost:8080/"
        },
        "id": "VsuagqDpZaW0",
        "outputId": "81e804e5-417d-4c49-f4c2-2602d9f1cba8"
      },
      "execution_count": 49,
      "outputs": [
        {
          "output_type": "execute_result",
          "data": {
            "text/plain": [
              "<econml.score.rscorer.RScorer at 0x7f465f4389d0>"
            ]
          },
          "metadata": {},
          "execution_count": 49
        }
      ]
    },
    {
      "cell_type": "markdown",
      "source": [
        "## Fit the RScorer: Continuous outcome "
      ],
      "metadata": {
        "id": "bL9DuI_h7ENB"
      }
    },
    {
      "cell_type": "code",
      "source": [
        "# Train the RScore on the data \n",
        "#Follow the same procedure for selecting the nuisance models for metrics as for CATE estimators \n",
        "scorer_b = RScorer(model_y=first_stage_reg(), model_t=first_stage_clf(),\n",
        "                 discrete_treatment=True, random_state=123)"
      ],
      "metadata": {
        "id": "I1a5ejFo7JTS"
      },
      "execution_count": 50,
      "outputs": []
    },
    {
      "cell_type": "code",
      "source": [
        "scorer_b.fit(Y1B_test, T_test, X=X_test)"
      ],
      "metadata": {
        "colab": {
          "base_uri": "https://localhost:8080/"
        },
        "id": "JU30gDbl7vvJ",
        "outputId": "f6e1af18-e073-4adf-d692-8a8409584283"
      },
      "execution_count": 51,
      "outputs": [
        {
          "output_type": "execute_result",
          "data": {
            "text/plain": [
              "<econml.score.rscorer.RScorer at 0x7f465e5395e0>"
            ]
          },
          "metadata": {},
          "execution_count": 51
        }
      ]
    },
    {
      "cell_type": "markdown",
      "source": [
        "# Set up influence function "
      ],
      "metadata": {
        "id": "KXR84rWwYxuN"
      }
    },
    {
      "cell_type": "code",
      "source": [
        "X_train = pd.read_csv(\"/content/X_train.csv\") \n",
        "X_test = pd.read_csv(\"/content/X_test.csv\")\n",
        "Y_train = pd.read_csv(\"/content/Y_train.csv\")\n",
        "Y_test = pd.read_csv(\"/content/Y_test.csv\")\n",
        "T_train = pd.read_csv(\"/content/T_train.csv\")\n",
        "T_test = pd.read_csv(\"/content/T_test.csv\")\n",
        "XTY_train = pd.read_csv(\"/content/XTY_train.csv\")\n",
        "\n",
        "\n",
        "XTY_train.set_index(\"stay_id\", inplace=True)\n",
        "X_train.set_index(\"stay_id\", inplace=True)\n",
        "X_test.set_index(\"stay_id\", inplace=True)\n",
        "T_train.set_index(\"stay_id\", inplace=True)\n",
        "T_test.set_index(\"stay_id\", inplace=True)\n",
        "\n",
        "#T_train = T_train.iloc[:, 0].to_numpy()\n",
        "XT_train = pd.concat([X_train, pd.DataFrame(T_train, columns=['treated'])], axis=1)\n",
        "XT_test = pd.concat([X_test, pd.DataFrame(T_test, columns=['treated'])], axis=1)"
      ],
      "metadata": {
        "id": "us20Lmp-Yw7n"
      },
      "execution_count": null,
      "outputs": []
    },
    {
      "cell_type": "code",
      "source": [
        "xgb_plugin1 = LogisticRegression(C=10, random_state=123)\n",
        "xgb_plugin0 = LogisticRegression(C=1, random_state=123)"
      ],
      "metadata": {
        "id": "fy3Rt1iyZIcc"
      },
      "execution_count": null,
      "outputs": []
    },
    {
      "cell_type": "code",
      "source": [
        "x0 = XT_train.loc[XT_train['treated'] == 0]\n",
        "y0 = XTY_train.loc[XTY_train['treated'] == 0, '0_48_hypokalemia']\n",
        "xgb_plugin0.fit(x0, y0)"
      ],
      "metadata": {
        "colab": {
          "base_uri": "https://localhost:8080/",
          "height": 75
        },
        "id": "rrMpe0cDZxED",
        "outputId": "069a3350-e0c1-4a66-d748-c03bfab2f9d0"
      },
      "execution_count": null,
      "outputs": [
        {
          "output_type": "execute_result",
          "data": {
            "text/plain": [
              "LogisticRegression(C=1, random_state=123)"
            ],
            "text/html": [
              "<style>#sk-container-id-1 {color: black;background-color: white;}#sk-container-id-1 pre{padding: 0;}#sk-container-id-1 div.sk-toggleable {background-color: white;}#sk-container-id-1 label.sk-toggleable__label {cursor: pointer;display: block;width: 100%;margin-bottom: 0;padding: 0.3em;box-sizing: border-box;text-align: center;}#sk-container-id-1 label.sk-toggleable__label-arrow:before {content: \"▸\";float: left;margin-right: 0.25em;color: #696969;}#sk-container-id-1 label.sk-toggleable__label-arrow:hover:before {color: black;}#sk-container-id-1 div.sk-estimator:hover label.sk-toggleable__label-arrow:before {color: black;}#sk-container-id-1 div.sk-toggleable__content {max-height: 0;max-width: 0;overflow: hidden;text-align: left;background-color: #f0f8ff;}#sk-container-id-1 div.sk-toggleable__content pre {margin: 0.2em;color: black;border-radius: 0.25em;background-color: #f0f8ff;}#sk-container-id-1 input.sk-toggleable__control:checked~div.sk-toggleable__content {max-height: 200px;max-width: 100%;overflow: auto;}#sk-container-id-1 input.sk-toggleable__control:checked~label.sk-toggleable__label-arrow:before {content: \"▾\";}#sk-container-id-1 div.sk-estimator input.sk-toggleable__control:checked~label.sk-toggleable__label {background-color: #d4ebff;}#sk-container-id-1 div.sk-label input.sk-toggleable__control:checked~label.sk-toggleable__label {background-color: #d4ebff;}#sk-container-id-1 input.sk-hidden--visually {border: 0;clip: rect(1px 1px 1px 1px);clip: rect(1px, 1px, 1px, 1px);height: 1px;margin: -1px;overflow: hidden;padding: 0;position: absolute;width: 1px;}#sk-container-id-1 div.sk-estimator {font-family: monospace;background-color: #f0f8ff;border: 1px dotted black;border-radius: 0.25em;box-sizing: border-box;margin-bottom: 0.5em;}#sk-container-id-1 div.sk-estimator:hover {background-color: #d4ebff;}#sk-container-id-1 div.sk-parallel-item::after {content: \"\";width: 100%;border-bottom: 1px solid gray;flex-grow: 1;}#sk-container-id-1 div.sk-label:hover label.sk-toggleable__label {background-color: #d4ebff;}#sk-container-id-1 div.sk-serial::before {content: \"\";position: absolute;border-left: 1px solid gray;box-sizing: border-box;top: 0;bottom: 0;left: 50%;z-index: 0;}#sk-container-id-1 div.sk-serial {display: flex;flex-direction: column;align-items: center;background-color: white;padding-right: 0.2em;padding-left: 0.2em;position: relative;}#sk-container-id-1 div.sk-item {position: relative;z-index: 1;}#sk-container-id-1 div.sk-parallel {display: flex;align-items: stretch;justify-content: center;background-color: white;position: relative;}#sk-container-id-1 div.sk-item::before, #sk-container-id-1 div.sk-parallel-item::before {content: \"\";position: absolute;border-left: 1px solid gray;box-sizing: border-box;top: 0;bottom: 0;left: 50%;z-index: -1;}#sk-container-id-1 div.sk-parallel-item {display: flex;flex-direction: column;z-index: 1;position: relative;background-color: white;}#sk-container-id-1 div.sk-parallel-item:first-child::after {align-self: flex-end;width: 50%;}#sk-container-id-1 div.sk-parallel-item:last-child::after {align-self: flex-start;width: 50%;}#sk-container-id-1 div.sk-parallel-item:only-child::after {width: 0;}#sk-container-id-1 div.sk-dashed-wrapped {border: 1px dashed gray;margin: 0 0.4em 0.5em 0.4em;box-sizing: border-box;padding-bottom: 0.4em;background-color: white;}#sk-container-id-1 div.sk-label label {font-family: monospace;font-weight: bold;display: inline-block;line-height: 1.2em;}#sk-container-id-1 div.sk-label-container {text-align: center;}#sk-container-id-1 div.sk-container {/* jupyter's `normalize.less` sets `[hidden] { display: none; }` but bootstrap.min.css set `[hidden] { display: none !important; }` so we also need the `!important` here to be able to override the default hidden behavior on the sphinx rendered scikit-learn.org. See: https://github.com/scikit-learn/scikit-learn/issues/21755 */display: inline-block !important;position: relative;}#sk-container-id-1 div.sk-text-repr-fallback {display: none;}</style><div id=\"sk-container-id-1\" class=\"sk-top-container\"><div class=\"sk-text-repr-fallback\"><pre>LogisticRegression(C=1, random_state=123)</pre><b>In a Jupyter environment, please rerun this cell to show the HTML representation or trust the notebook. <br />On GitHub, the HTML representation is unable to render, please try loading this page with nbviewer.org.</b></div><div class=\"sk-container\" hidden><div class=\"sk-item\"><div class=\"sk-estimator sk-toggleable\"><input class=\"sk-toggleable__control sk-hidden--visually\" id=\"sk-estimator-id-1\" type=\"checkbox\" checked><label for=\"sk-estimator-id-1\" class=\"sk-toggleable__label sk-toggleable__label-arrow\">LogisticRegression</label><div class=\"sk-toggleable__content\"><pre>LogisticRegression(C=1, random_state=123)</pre></div></div></div></div></div>"
            ]
          },
          "metadata": {},
          "execution_count": 15
        }
      ]
    },
    {
      "cell_type": "code",
      "source": [
        "x1 = XT_train.loc[XT_train['treated'] != 0]\n",
        "y1 = XTY_train.loc[XTY_train['treated'] != 0, '0_48_hypokalemia']\n",
        "xgb_plugin1.fit(x1, y1)"
      ],
      "metadata": {
        "colab": {
          "base_uri": "https://localhost:8080/",
          "height": 75
        },
        "id": "hkHUd89zaB_J",
        "outputId": "c61900f1-9a83-4958-c2ce-32290eb4f1c3"
      },
      "execution_count": null,
      "outputs": [
        {
          "output_type": "execute_result",
          "data": {
            "text/plain": [
              "LogisticRegression(C=10, random_state=123)"
            ],
            "text/html": [
              "<style>#sk-container-id-2 {color: black;background-color: white;}#sk-container-id-2 pre{padding: 0;}#sk-container-id-2 div.sk-toggleable {background-color: white;}#sk-container-id-2 label.sk-toggleable__label {cursor: pointer;display: block;width: 100%;margin-bottom: 0;padding: 0.3em;box-sizing: border-box;text-align: center;}#sk-container-id-2 label.sk-toggleable__label-arrow:before {content: \"▸\";float: left;margin-right: 0.25em;color: #696969;}#sk-container-id-2 label.sk-toggleable__label-arrow:hover:before {color: black;}#sk-container-id-2 div.sk-estimator:hover label.sk-toggleable__label-arrow:before {color: black;}#sk-container-id-2 div.sk-toggleable__content {max-height: 0;max-width: 0;overflow: hidden;text-align: left;background-color: #f0f8ff;}#sk-container-id-2 div.sk-toggleable__content pre {margin: 0.2em;color: black;border-radius: 0.25em;background-color: #f0f8ff;}#sk-container-id-2 input.sk-toggleable__control:checked~div.sk-toggleable__content {max-height: 200px;max-width: 100%;overflow: auto;}#sk-container-id-2 input.sk-toggleable__control:checked~label.sk-toggleable__label-arrow:before {content: \"▾\";}#sk-container-id-2 div.sk-estimator input.sk-toggleable__control:checked~label.sk-toggleable__label {background-color: #d4ebff;}#sk-container-id-2 div.sk-label input.sk-toggleable__control:checked~label.sk-toggleable__label {background-color: #d4ebff;}#sk-container-id-2 input.sk-hidden--visually {border: 0;clip: rect(1px 1px 1px 1px);clip: rect(1px, 1px, 1px, 1px);height: 1px;margin: -1px;overflow: hidden;padding: 0;position: absolute;width: 1px;}#sk-container-id-2 div.sk-estimator {font-family: monospace;background-color: #f0f8ff;border: 1px dotted black;border-radius: 0.25em;box-sizing: border-box;margin-bottom: 0.5em;}#sk-container-id-2 div.sk-estimator:hover {background-color: #d4ebff;}#sk-container-id-2 div.sk-parallel-item::after {content: \"\";width: 100%;border-bottom: 1px solid gray;flex-grow: 1;}#sk-container-id-2 div.sk-label:hover label.sk-toggleable__label {background-color: #d4ebff;}#sk-container-id-2 div.sk-serial::before {content: \"\";position: absolute;border-left: 1px solid gray;box-sizing: border-box;top: 0;bottom: 0;left: 50%;z-index: 0;}#sk-container-id-2 div.sk-serial {display: flex;flex-direction: column;align-items: center;background-color: white;padding-right: 0.2em;padding-left: 0.2em;position: relative;}#sk-container-id-2 div.sk-item {position: relative;z-index: 1;}#sk-container-id-2 div.sk-parallel {display: flex;align-items: stretch;justify-content: center;background-color: white;position: relative;}#sk-container-id-2 div.sk-item::before, #sk-container-id-2 div.sk-parallel-item::before {content: \"\";position: absolute;border-left: 1px solid gray;box-sizing: border-box;top: 0;bottom: 0;left: 50%;z-index: -1;}#sk-container-id-2 div.sk-parallel-item {display: flex;flex-direction: column;z-index: 1;position: relative;background-color: white;}#sk-container-id-2 div.sk-parallel-item:first-child::after {align-self: flex-end;width: 50%;}#sk-container-id-2 div.sk-parallel-item:last-child::after {align-self: flex-start;width: 50%;}#sk-container-id-2 div.sk-parallel-item:only-child::after {width: 0;}#sk-container-id-2 div.sk-dashed-wrapped {border: 1px dashed gray;margin: 0 0.4em 0.5em 0.4em;box-sizing: border-box;padding-bottom: 0.4em;background-color: white;}#sk-container-id-2 div.sk-label label {font-family: monospace;font-weight: bold;display: inline-block;line-height: 1.2em;}#sk-container-id-2 div.sk-label-container {text-align: center;}#sk-container-id-2 div.sk-container {/* jupyter's `normalize.less` sets `[hidden] { display: none; }` but bootstrap.min.css set `[hidden] { display: none !important; }` so we also need the `!important` here to be able to override the default hidden behavior on the sphinx rendered scikit-learn.org. See: https://github.com/scikit-learn/scikit-learn/issues/21755 */display: inline-block !important;position: relative;}#sk-container-id-2 div.sk-text-repr-fallback {display: none;}</style><div id=\"sk-container-id-2\" class=\"sk-top-container\"><div class=\"sk-text-repr-fallback\"><pre>LogisticRegression(C=10, random_state=123)</pre><b>In a Jupyter environment, please rerun this cell to show the HTML representation or trust the notebook. <br />On GitHub, the HTML representation is unable to render, please try loading this page with nbviewer.org.</b></div><div class=\"sk-container\" hidden><div class=\"sk-item\"><div class=\"sk-estimator sk-toggleable\"><input class=\"sk-toggleable__control sk-hidden--visually\" id=\"sk-estimator-id-2\" type=\"checkbox\" checked><label for=\"sk-estimator-id-2\" class=\"sk-toggleable__label sk-toggleable__label-arrow\">LogisticRegression</label><div class=\"sk-toggleable__content\"><pre>LogisticRegression(C=10, random_state=123)</pre></div></div></div></div></div>"
            ]
          },
          "metadata": {},
          "execution_count": 16
        }
      ]
    },
    {
      "cell_type": "code",
      "source": [
        "y_pred0 = xgb_plugin0.predict(XT_test)\n",
        "y_pred1 = xgb_plugin1.predict(XT_test)"
      ],
      "metadata": {
        "id": "PQWT2--_aPcc"
      },
      "execution_count": null,
      "outputs": []
    },
    {
      "cell_type": "code",
      "source": [
        "#Estimated treatment effect using the plug-in method (difference between the predicted outcomes of two XGBoost models trained separately on the control group and the treatment group)\n",
        "t_plugin = y_pred1 - y_pred0"
      ],
      "metadata": {
        "id": "ZXZXj-NWaa6H"
      },
      "execution_count": null,
      "outputs": []
    },
    {
      "cell_type": "code",
      "source": [
        "#Compute the propensity score using the gradient boosting classifier model and the treatment variable\n",
        "gb = GradientBoostingClassifier(min_samples_leaf=10, n_estimators=50,\n",
        "                           random_state=123)\n",
        "gb.fit(X_train, T_train)\n",
        "ps = gb.predict_proba(X_test)[:, 1]\n",
        "print(ps)"
      ],
      "metadata": {
        "colab": {
          "base_uri": "https://localhost:8080/"
        },
        "id": "Re6bZNILacsx",
        "outputId": "68203e7a-c5cc-4a92-a5e7-dcfa962fdf3b"
      },
      "execution_count": null,
      "outputs": [
        {
          "output_type": "stream",
          "name": "stdout",
          "text": [
            "[0.82123387 0.11883833 0.64019843 ... 0.97021595 0.2471682  0.21186484]\n"
          ]
        }
      ]
    },
    {
      "cell_type": "code",
      "source": [
        "#Use the PS to compute a weight matrix for the treatment effect estimate\n",
        "T_test = T_test.iloc[:, 0].to_numpy()\n",
        "a = (T_test - ps)\n",
        "ident = np.array([1] * len(ps))\n",
        "c = (ps * (ident - ps))\n",
        "#weight vector used to adjust the treatment effect estimate based on the probability of receiving the treatment (propensity score)\n",
        "b = np.array([2] * len(T_test)) * T_test * (T_test - ps) / c"
      ],
      "metadata": {
        "id": "pB6oi3GZZ7q0"
      },
      "execution_count": null,
      "outputs": []
    },
    {
      "cell_type": "markdown",
      "source": [
        "# (A) Estimator selection: Binary outcome\n"
      ],
      "metadata": {
        "id": "h_ZISQLXZuwe"
      }
    },
    {
      "cell_type": "markdown",
      "source": [
        "## 1. LinearDML"
      ],
      "metadata": {
        "id": "bQLBMBUjZxj7"
      }
    },
    {
      "cell_type": "markdown",
      "source": [
        "### 1.1 Select best performing nuisance model class and hyperparameters"
      ],
      "metadata": {
        "id": "gFMrxc0LcoF-"
      }
    },
    {
      "cell_type": "code",
      "source": [
        "ldml = LinearDML(model_y=model_ya,\n",
        "                model_t=model_ta,\n",
        "                random_state=123)"
      ],
      "metadata": {
        "id": "pHm99ZIeZzFm"
      },
      "execution_count": 54,
      "outputs": []
    },
    {
      "cell_type": "code",
      "source": [
        "ldml.fit(Y1A_train, T_train, X=X_train)"
      ],
      "metadata": {
        "colab": {
          "base_uri": "https://localhost:8080/"
        },
        "id": "VwJti0osZ5bq",
        "outputId": "12139050-df6e-4b66-be03-e5fe0504d1a9"
      },
      "execution_count": 55,
      "outputs": [
        {
          "output_type": "execute_result",
          "data": {
            "text/plain": [
              "<econml.dml.dml.LinearDML at 0x7f465f438370>"
            ]
          },
          "metadata": {},
          "execution_count": 55
        }
      ]
    },
    {
      "cell_type": "code",
      "source": [
        "ldml_cate = ldml.effect(X_test)\n",
        "ldml_cate_inference = ldml.effect_inference(X_test).population_summary(alpha=0.1, value=0, decimals=3, tol=0.001)\n",
        "print(ldml_cate_inference)"
      ],
      "metadata": {
        "colab": {
          "base_uri": "https://localhost:8080/"
        },
        "id": "aeeLNitzZ7xw",
        "outputId": "7740808a-df81-4c91-9525-dc9cf2214756"
      },
      "execution_count": 56,
      "outputs": [
        {
          "output_type": "stream",
          "name": "stdout",
          "text": [
            "               Uncertainty of Mean Point Estimate              \n",
            "===============================================================\n",
            "mean_point stderr_mean zstat pvalue ci_mean_lower ci_mean_upper\n",
            "---------------------------------------------------------------\n",
            "     0.066       0.015 4.452    0.0         0.042          0.09\n",
            "      Distribution of Point Estimate     \n",
            "=========================================\n",
            "std_point pct_point_lower pct_point_upper\n",
            "-----------------------------------------\n",
            "    0.153          -0.142           0.299\n",
            "     Total Variance of Point Estimate     \n",
            "==========================================\n",
            "stderr_point ci_point_lower ci_point_upper\n",
            "------------------------------------------\n",
            "       0.154         -0.208          0.375\n",
            "------------------------------------------\n"
          ]
        }
      ]
    },
    {
      "cell_type": "markdown",
      "source": [
        "### 1.2 Calculate the robustness"
      ],
      "metadata": {
        "id": "2myJ0EEmc7JG"
      }
    },
    {
      "cell_type": "code",
      "source": [
        "ldml.fit(Y=Y1A_test, T=T_test, X=X_test)\n",
        "ldml_cate_test = ldml.effect(X_test)\n",
        "\n",
        "ERMSE = ((ldml_cate-ldml_cate_test)**2).mean()**(1/2)\n",
        "print(ERMSE)"
      ],
      "metadata": {
        "colab": {
          "base_uri": "https://localhost:8080/"
        },
        "id": "QJKu-2cgc-8N",
        "outputId": "47ee87c5-6871-445d-fba1-7da2d95bfd48"
      },
      "execution_count": 57,
      "outputs": [
        {
          "output_type": "stream",
          "name": "stdout",
          "text": [
            "0.3302523983465908\n"
          ]
        }
      ]
    },
    {
      "cell_type": "markdown",
      "source": [
        "### 1.3 Calculate the R-Score "
      ],
      "metadata": {
        "id": "Yrwow5GmctyG"
      }
    },
    {
      "cell_type": "code",
      "source": [
        "rscore = scorer_a.score(ldml)\n",
        "print(rscore)"
      ],
      "metadata": {
        "colab": {
          "base_uri": "https://localhost:8080/"
        },
        "id": "5dRgUBn9b_XU",
        "outputId": "efee4a57-5c48-40c5-b544-22d9d7f4f5f1"
      },
      "execution_count": 58,
      "outputs": [
        {
          "output_type": "stream",
          "name": "stdout",
          "text": [
            "0.007557486290431514\n"
          ]
        }
      ]
    },
    {
      "cell_type": "markdown",
      "source": [
        "## 2. LinearDRLearner "
      ],
      "metadata": {
        "id": "wP5fAdC2Lh2h"
      }
    },
    {
      "cell_type": "markdown",
      "source": [
        "### 2.1 Select best performing nuisance model class and hyperparameters"
      ],
      "metadata": {
        "id": "uQAsMvnvLldn"
      }
    },
    {
      "cell_type": "code",
      "source": [
        "LinearDR_learner = LinearDRLearner(model_regression=model_yta, model_propensity=model_ta, random_state=123)"
      ],
      "metadata": {
        "id": "AAQHpDocLkpW"
      },
      "execution_count": 59,
      "outputs": []
    },
    {
      "cell_type": "code",
      "source": [
        "LinearDR_learner.fit(Y1A_train, T_train, X=X_train)"
      ],
      "metadata": {
        "colab": {
          "base_uri": "https://localhost:8080/"
        },
        "id": "r-juXvbtL4CR",
        "outputId": "c47a4bf2-4b96-46b2-94dd-ac0b129465f8"
      },
      "execution_count": 60,
      "outputs": [
        {
          "output_type": "execute_result",
          "data": {
            "text/plain": [
              "<econml.dr._drlearner.LinearDRLearner at 0x7f465e446bb0>"
            ]
          },
          "metadata": {},
          "execution_count": 60
        }
      ]
    },
    {
      "cell_type": "code",
      "source": [
        "LinearDR_learner_cate = LinearDR_learner.effect(X_test)\n",
        "LinearDR_learner_cate_inference = LinearDR_learner.effect_inference(X_test).population_summary(alpha=0.1, value=0, decimals=3, tol=0.001)\n",
        "print(LinearDR_learner_cate_inference)"
      ],
      "metadata": {
        "id": "oZNoFCgPL8ig",
        "colab": {
          "base_uri": "https://localhost:8080/"
        },
        "outputId": "a6bfab6c-2079-4f8e-c004-f31a3f87559e"
      },
      "execution_count": 61,
      "outputs": [
        {
          "output_type": "stream",
          "name": "stdout",
          "text": [
            "               Uncertainty of Mean Point Estimate              \n",
            "===============================================================\n",
            "mean_point stderr_mean zstat pvalue ci_mean_lower ci_mean_upper\n",
            "---------------------------------------------------------------\n",
            "     0.009       0.014 0.674  0.501        -0.013         0.032\n",
            "      Distribution of Point Estimate     \n",
            "=========================================\n",
            "std_point pct_point_lower pct_point_upper\n",
            "-----------------------------------------\n",
            "     0.12          -0.179             0.2\n",
            "     Total Variance of Point Estimate     \n",
            "==========================================\n",
            "stderr_point ci_point_lower ci_point_upper\n",
            "------------------------------------------\n",
            "       0.121         -0.246          0.277\n",
            "------------------------------------------\n"
          ]
        }
      ]
    },
    {
      "cell_type": "markdown",
      "source": [
        "### 2.2 Calculate the robustness "
      ],
      "metadata": {
        "id": "FxnMpACHmAWg"
      }
    },
    {
      "cell_type": "code",
      "source": [
        "LinearDR_learner.fit(Y=Y1A_test, T=T_test, X=X_test)\n",
        "LinearDR_learner_cate_test = LinearDR_learner.effect(X_test)\n",
        "\n",
        "ERMSE = ((LinearDR_learner_cate-LinearDR_learner_cate_test)**2).mean()**(1/2)\n",
        "print(ERMSE)"
      ],
      "metadata": {
        "colab": {
          "base_uri": "https://localhost:8080/"
        },
        "id": "bdiKyyyhmF0l",
        "outputId": "e3696414-4abd-4b03-a5d0-25dda37d3026"
      },
      "execution_count": 62,
      "outputs": [
        {
          "output_type": "stream",
          "name": "stdout",
          "text": [
            "0.2963382710580213\n"
          ]
        }
      ]
    },
    {
      "cell_type": "markdown",
      "source": [
        "### 3.3 Calculate the RScore "
      ],
      "metadata": {
        "id": "ZlAEvMS6PYIO"
      }
    },
    {
      "cell_type": "code",
      "source": [
        "rscore = scorer_a.score(LinearDR_learner)\n",
        "print(rscore)"
      ],
      "metadata": {
        "colab": {
          "base_uri": "https://localhost:8080/"
        },
        "id": "2_Cb7NIWPcPP",
        "outputId": "050eae6c-f1a7-468a-f76f-4fd423de26a8"
      },
      "execution_count": 63,
      "outputs": [
        {
          "output_type": "stream",
          "name": "stdout",
          "text": [
            "0.024669576154095374\n"
          ]
        }
      ]
    },
    {
      "cell_type": "markdown",
      "source": [
        "## 3. S-Learner"
      ],
      "metadata": {
        "id": "ISX8PVKBdjKN"
      }
    },
    {
      "cell_type": "markdown",
      "source": [
        "### 3.1 Select best performing nuisance model class and hyperparameters"
      ],
      "metadata": {
        "id": "ocgwb6MXfv7d"
      }
    },
    {
      "cell_type": "code",
      "source": [
        "# Instantiate the SLearner\n",
        "S_learner = SLearner(overall_model= first_stage_clf())"
      ],
      "metadata": {
        "id": "NiQc_nuidiRz"
      },
      "execution_count": 64,
      "outputs": []
    },
    {
      "cell_type": "code",
      "source": [
        "# Train S_learner\n",
        "best_estimator_s_learner = S_learner.fit(Y1A_train, T_train, X=X_train).overall_model.best_estimator_\n",
        "print(best_estimator_s_learner)"
      ],
      "metadata": {
        "colab": {
          "base_uri": "https://localhost:8080/"
        },
        "id": "HXdNQZFQeyEu",
        "outputId": "754b2b59-b834-43f8-e4fa-7297b4b176e6"
      },
      "execution_count": 65,
      "outputs": [
        {
          "output_type": "stream",
          "name": "stdout",
          "text": [
            "GradientBoostingClassifier(min_samples_leaf=100, random_state=123)\n"
          ]
        }
      ]
    },
    {
      "cell_type": "code",
      "source": [
        "# Estimate treatment effects on test data\n",
        "S_learner = SLearner(overall_model=best_estimator_s_learner)\n",
        "S_learner.fit(Y1A_train, T_train, X=X_train, inference='bootstrap')\n",
        "S_te = S_learner.effect(X_test)"
      ],
      "metadata": {
        "id": "UgowUARee1vg"
      },
      "execution_count": 66,
      "outputs": []
    },
    {
      "cell_type": "code",
      "source": [
        "S_te_inference = S_learner.effect_inference(X_test).population_summary(alpha=0.1, value=0, decimals=3, tol=0.001)\n",
        "print(S_te_inference)"
      ],
      "metadata": {
        "colab": {
          "base_uri": "https://localhost:8080/"
        },
        "id": "Avn_QL66e5eH",
        "outputId": "9f3ad9d5-6ef2-4416-bfc8-2c6f3e3f7bef"
      },
      "execution_count": 67,
      "outputs": [
        {
          "output_type": "stream",
          "name": "stdout",
          "text": [
            "               Uncertainty of Mean Point Estimate              \n",
            "===============================================================\n",
            "mean_point stderr_mean zstat pvalue ci_mean_lower ci_mean_upper\n",
            "---------------------------------------------------------------\n",
            "     0.001       0.031 0.029  0.977        -0.051         0.053\n",
            "      Distribution of Point Estimate     \n",
            "=========================================\n",
            "std_point pct_point_lower pct_point_upper\n",
            "-----------------------------------------\n",
            "     0.03             0.0             0.0\n",
            "     Total Variance of Point Estimate     \n",
            "==========================================\n",
            "stderr_point ci_point_lower ci_point_upper\n",
            "------------------------------------------\n",
            "       0.044            nan            nan\n",
            "------------------------------------------\n",
            "\n",
            "Note: The stderr_mean is a conservative upper bound.\n"
          ]
        }
      ]
    },
    {
      "cell_type": "markdown",
      "source": [
        "### 3.2 Calculate the robustness"
      ],
      "metadata": {
        "id": "RRLsNHyUf1Q4"
      }
    },
    {
      "cell_type": "code",
      "source": [
        "S_learner.fit(Y=Y1A_test, T=T_test, X=X_test)\n",
        "S_te_test = S_learner.effect(X_test)\n",
        "\n",
        "ERMSE = ((S_te-S_te_test)**2).mean()**(1/2)\n",
        "print(ERMSE)"
      ],
      "metadata": {
        "colab": {
          "base_uri": "https://localhost:8080/"
        },
        "id": "wdfIlgpjf-Sc",
        "outputId": "6908c6be-7d59-4aaa-b810-cd68117535e4"
      },
      "execution_count": 68,
      "outputs": [
        {
          "output_type": "stream",
          "name": "stdout",
          "text": [
            "0.030303030303030304\n"
          ]
        }
      ]
    },
    {
      "cell_type": "markdown",
      "source": [
        "### 3.3 Calculate the R-Score "
      ],
      "metadata": {
        "id": "wxRoST8Yf4y7"
      }
    },
    {
      "cell_type": "code",
      "source": [
        "rscore = scorer_a.score(S_learner)\n",
        "print(rscore)"
      ],
      "metadata": {
        "colab": {
          "base_uri": "https://localhost:8080/"
        },
        "id": "4LcLjQDsfHaJ",
        "outputId": "7e944f6d-aa6c-4b39-faad-bd9f8d58e58d"
      },
      "execution_count": 69,
      "outputs": [
        {
          "output_type": "stream",
          "name": "stdout",
          "text": [
            "-0.0002718925128943894\n"
          ]
        }
      ]
    },
    {
      "cell_type": "markdown",
      "source": [
        "## 4. T-learner"
      ],
      "metadata": {
        "id": "Dt6zWlITgdaL"
      }
    },
    {
      "cell_type": "markdown",
      "source": [
        "### 4.1 Select best performing nuisance model class and hyperparameters"
      ],
      "metadata": {
        "id": "L3RlqpwngkUv"
      }
    },
    {
      "cell_type": "code",
      "source": [
        "# Instantiate the T_Learner\n",
        "T_learner = TLearner(models=first_stage_clf())"
      ],
      "metadata": {
        "id": "TWCFEMEtgVBL"
      },
      "execution_count": 70,
      "outputs": []
    },
    {
      "cell_type": "code",
      "source": [
        "# Train T_learner\n",
        "T_learner.fit(Y1A_train, T_train, X=X_train)"
      ],
      "metadata": {
        "colab": {
          "base_uri": "https://localhost:8080/"
        },
        "id": "1r6MWeEugzFW",
        "outputId": "348953f0-0f70-49f2-ed6d-2d556302fe47"
      },
      "execution_count": 71,
      "outputs": [
        {
          "output_type": "execute_result",
          "data": {
            "text/plain": [
              "<econml.metalearners._metalearners.TLearner at 0x7f465e3b4eb0>"
            ]
          },
          "metadata": {},
          "execution_count": 71
        }
      ]
    },
    {
      "cell_type": "code",
      "source": [
        "# Assuming that T_learner.models is a list of the fitted GridSearchCVList objects\n",
        "best_estimators = [model.best_estimator_ for model in T_learner.models]\n",
        "print(best_estimators)"
      ],
      "metadata": {
        "colab": {
          "base_uri": "https://localhost:8080/"
        },
        "id": "_pLzJipviJWO",
        "outputId": "72a5a835-7ccf-4c32-b2ad-ed0da045a8f1"
      },
      "execution_count": 72,
      "outputs": [
        {
          "output_type": "stream",
          "name": "stdout",
          "text": [
            "[RandomForestClassifier(max_depth=3, min_samples_leaf=10, random_state=123), GradientBoostingClassifier(max_depth=6, min_samples_leaf=10, random_state=123)]\n"
          ]
        }
      ]
    },
    {
      "cell_type": "code",
      "source": [
        "best_estimators = [RandomForestClassifier(max_depth=3, min_samples_leaf=10, random_state=123), GradientBoostingClassifier(max_depth=6, min_samples_leaf=10, random_state=123)]"
      ],
      "metadata": {
        "id": "UVCWI5QMBwNs"
      },
      "execution_count": 73,
      "outputs": []
    },
    {
      "cell_type": "code",
      "source": [
        "# Estimate treatment effects on test data\n",
        "T_learner = TLearner(models=best_estimators)\n",
        "T_learner.fit(Y1A_train, T_train, X=X_train, inference='bootstrap')\n",
        "T_te = T_learner.effect(X_test)"
      ],
      "metadata": {
        "id": "c4XrZCJzg5fm"
      },
      "execution_count": 74,
      "outputs": []
    },
    {
      "cell_type": "code",
      "source": [
        "T_te_inference = T_learner.effect_inference(X_test).population_summary(alpha=0.1, value=0, decimals=3, tol=0.001)\n",
        "print(T_te_inference)"
      ],
      "metadata": {
        "colab": {
          "base_uri": "https://localhost:8080/"
        },
        "id": "YatRyG3Gklof",
        "outputId": "c77fae2c-65b5-4b0d-b437-7ba36c764b71"
      },
      "execution_count": 75,
      "outputs": [
        {
          "output_type": "stream",
          "name": "stdout",
          "text": [
            "               Uncertainty of Mean Point Estimate              \n",
            "===============================================================\n",
            "mean_point stderr_mean zstat pvalue ci_mean_lower ci_mean_upper\n",
            "---------------------------------------------------------------\n",
            "     0.058       0.169 0.342  0.732         -0.22         0.336\n",
            "      Distribution of Point Estimate     \n",
            "=========================================\n",
            "std_point pct_point_lower pct_point_upper\n",
            "-----------------------------------------\n",
            "    0.233             0.0             1.0\n",
            "     Total Variance of Point Estimate     \n",
            "==========================================\n",
            "stderr_point ci_point_lower ci_point_upper\n",
            "------------------------------------------\n",
            "       0.288            nan            nan\n",
            "------------------------------------------\n",
            "\n",
            "Note: The stderr_mean is a conservative upper bound.\n"
          ]
        }
      ]
    },
    {
      "cell_type": "markdown",
      "source": [
        "### 4.2 Calculate the robustness"
      ],
      "metadata": {
        "id": "Aj-Vry2xlB-I"
      }
    },
    {
      "cell_type": "code",
      "source": [
        "T_learner.fit(Y=Y1A_test, T=T_test, X=X_test)\n",
        "T_te_test = T_learner.effect(X_test)\n",
        "\n",
        "ERMSE = ((T_te-T_te_test)**2).mean()**(1/2)\n",
        "print(ERMSE)"
      ],
      "metadata": {
        "colab": {
          "base_uri": "https://localhost:8080/"
        },
        "id": "rees77drk_T-",
        "outputId": "4d1390f5-01f2-452e-a2f3-fffb3cdd0c1b"
      },
      "execution_count": 76,
      "outputs": [
        {
          "output_type": "stream",
          "name": "stdout",
          "text": [
            "0.29379877923735326\n"
          ]
        }
      ]
    },
    {
      "cell_type": "markdown",
      "source": [
        "### 4.3 Calculate the R-Score "
      ],
      "metadata": {
        "id": "CzJckRK0lQH5"
      }
    },
    {
      "cell_type": "code",
      "source": [
        "rscore = scorer_a.score(T_learner)\n",
        "print(rscore)"
      ],
      "metadata": {
        "colab": {
          "base_uri": "https://localhost:8080/"
        },
        "id": "G98hFAUMlTTI",
        "outputId": "e5b36e78-f9e1-408d-ecd0-203da7f29089"
      },
      "execution_count": 77,
      "outputs": [
        {
          "output_type": "stream",
          "name": "stdout",
          "text": [
            "0.09598899357278246\n"
          ]
        }
      ]
    },
    {
      "cell_type": "markdown",
      "source": [
        "## 5. X-learner"
      ],
      "metadata": {
        "id": "xTvdIRCtlauw"
      }
    },
    {
      "cell_type": "markdown",
      "source": [
        "### 5.1 Select best performing nuisance model class and hyperparameters"
      ],
      "metadata": {
        "id": "MfaFOqxSldC4"
      }
    },
    {
      "cell_type": "code",
      "source": [
        "# Instantiate the X_Learner\n",
        "X_learner = XLearner(models=first_stage_clf(), propensity_model=first_stage_clf())"
      ],
      "metadata": {
        "id": "aguzz5ZClgQK"
      },
      "execution_count": 86,
      "outputs": []
    },
    {
      "cell_type": "code",
      "source": [
        "# Train X_learner\n",
        "X_learner.fit(Y1A_train, T_train, X=X_train)"
      ],
      "metadata": {
        "colab": {
          "base_uri": "https://localhost:8080/"
        },
        "id": "vA7YMZghl4qy",
        "outputId": "e3b26a1c-c209-4905-a7ff-678ffd1ec1b3"
      },
      "execution_count": 87,
      "outputs": [
        {
          "output_type": "execute_result",
          "data": {
            "text/plain": [
              "<econml.metalearners._metalearners.XLearner at 0x7f465e33ccd0>"
            ]
          },
          "metadata": {},
          "execution_count": 87
        }
      ]
    },
    {
      "cell_type": "code",
      "source": [
        "# Assuming that X_learner.models is a list of the fitted GridSearchCVList objects\n",
        "best_estimators_models = [model.best_estimator_ for model in X_learner.models]\n",
        "\n",
        "# best_estimators[0] contains the best LogisticRegression estimator\n",
        "# best_estimators[1] contains the best RandomForestClassifier estimator\n",
        "# best_estimators[2] contains the best GradientBoostingClassifier estimator\n",
        "print(best_estimators_models)"
      ],
      "metadata": {
        "colab": {
          "base_uri": "https://localhost:8080/"
        },
        "id": "h_vV8O0El9aM",
        "outputId": "47a5fdce-57f8-4e3c-f317-265408a2ca8c"
      },
      "execution_count": 88,
      "outputs": [
        {
          "output_type": "stream",
          "name": "stdout",
          "text": [
            "[RandomForestClassifier(max_depth=3, min_samples_leaf=10, random_state=123), GradientBoostingClassifier(max_depth=6, min_samples_leaf=10, random_state=123)]\n"
          ]
        }
      ]
    },
    {
      "cell_type": "code",
      "source": [
        "best_estimators_models = [RandomForestClassifier(max_depth=3, min_samples_leaf=10, random_state=123), GradientBoostingClassifier(max_depth=6, min_samples_leaf=10, random_state=123)]"
      ],
      "metadata": {
        "id": "oVjzVvU3C5Lk"
      },
      "execution_count": 89,
      "outputs": []
    },
    {
      "cell_type": "code",
      "source": [
        "best_estimator_pm = X_learner.propensity_models[0].best_estimator_\n",
        "print(best_estimator_pm)"
      ],
      "metadata": {
        "colab": {
          "base_uri": "https://localhost:8080/"
        },
        "id": "EbFlcVf2odl_",
        "outputId": "dbdec1e0-3b1c-45b2-a039-51d81e0aa54c"
      },
      "execution_count": 90,
      "outputs": [
        {
          "output_type": "stream",
          "name": "stdout",
          "text": [
            "GradientBoostingClassifier(max_depth=6, min_samples_leaf=10, random_state=123)\n"
          ]
        }
      ]
    },
    {
      "cell_type": "code",
      "source": [
        "best_estimator_pm = GradientBoostingClassifier(max_depth=6, min_samples_leaf=10, random_state=123)"
      ],
      "metadata": {
        "id": "7TJPQAMvC7Ea"
      },
      "execution_count": 91,
      "outputs": []
    },
    {
      "cell_type": "code",
      "source": [
        "# Estimate treatment effects on test data\n",
        "X_learner = XLearner(models=best_estimators_models, propensity_model=best_estimator_pm)\n",
        "X_learner.fit(Y1A_train, T_train, X=X_train, inference='bootstrap')\n",
        "X_te = X_learner.effect(X_test)\n",
        "X_te_inference = X_learner.effect_inference(X_test).population_summary(alpha=0.1, value=0, decimals=3, tol=0.001)\n",
        "print(X_te_inference)"
      ],
      "metadata": {
        "colab": {
          "base_uri": "https://localhost:8080/"
        },
        "id": "0BLr1uPAmwAh",
        "outputId": "91281034-ca51-4831-e485-d47996391fbb"
      },
      "execution_count": 92,
      "outputs": [
        {
          "output_type": "stream",
          "name": "stdout",
          "text": [
            "               Uncertainty of Mean Point Estimate              \n",
            "===============================================================\n",
            "mean_point stderr_mean zstat pvalue ci_mean_lower ci_mean_upper\n",
            "---------------------------------------------------------------\n",
            "     0.033       0.125 0.266   0.79        -0.172         0.239\n",
            "      Distribution of Point Estimate     \n",
            "=========================================\n",
            "std_point pct_point_lower pct_point_upper\n",
            "-----------------------------------------\n",
            "    0.159             0.0           0.013\n",
            "     Total Variance of Point Estimate     \n",
            "==========================================\n",
            "stderr_point ci_point_lower ci_point_upper\n",
            "------------------------------------------\n",
            "       0.202            nan            nan\n",
            "------------------------------------------\n",
            "\n",
            "Note: The stderr_mean is a conservative upper bound.\n"
          ]
        }
      ]
    },
    {
      "cell_type": "markdown",
      "source": [
        "### 5.2 Calculate the robustness"
      ],
      "metadata": {
        "id": "-az0EYiVrq9N"
      }
    },
    {
      "cell_type": "code",
      "source": [
        "X_learner.fit(Y=Y1A_test, T=T_test, X=X_test)\n",
        "X_te_test = X_learner.effect(X_test)\n",
        "\n",
        "ERMSE = ((X_te-X_te_test)**2).mean()**(1/2)\n",
        "print(ERMSE)"
      ],
      "metadata": {
        "colab": {
          "base_uri": "https://localhost:8080/"
        },
        "id": "5oIQJ1l4rsjL",
        "outputId": "9c311324-1e05-4bb7-d4d4-b9dc213da416"
      },
      "execution_count": 93,
      "outputs": [
        {
          "output_type": "stream",
          "name": "stdout",
          "text": [
            "0.17811399919527712\n"
          ]
        }
      ]
    },
    {
      "cell_type": "markdown",
      "source": [
        "### 5.3 Calculate the R-Score"
      ],
      "metadata": {
        "id": "P8wFh5XvtHNu"
      }
    },
    {
      "cell_type": "code",
      "source": [
        "rscore = scorer_a.score(X_learner)\n",
        "print(rscore)"
      ],
      "metadata": {
        "colab": {
          "base_uri": "https://localhost:8080/"
        },
        "id": "HjOSVw3itRfh",
        "outputId": "c5328a44-f89f-4a0b-8c12-d5be1900b21a"
      },
      "execution_count": 94,
      "outputs": [
        {
          "output_type": "stream",
          "name": "stdout",
          "text": [
            "-0.03918975741489583\n"
          ]
        }
      ]
    },
    {
      "cell_type": "markdown",
      "source": [
        "## 6. Causal Forest DML "
      ],
      "metadata": {
        "id": "bJ7s-LXB-trW"
      }
    },
    {
      "cell_type": "markdown",
      "source": [
        "### 6.1 Select best performing nuisance model and hyperparameter"
      ],
      "metadata": {
        "id": "cwvkdptF-z57"
      }
    },
    {
      "cell_type": "code",
      "source": [
        "forestdml = CausalForestDML(model_y=model_ya, model_t=model_ta, discrete_treatment=True,random_state=seed)"
      ],
      "metadata": {
        "id": "sKB-JFd2-3eV"
      },
      "execution_count": 81,
      "outputs": []
    },
    {
      "cell_type": "code",
      "source": [
        "forestdml.fit(Y1A_train, T_train, X=X_train)"
      ],
      "metadata": {
        "colab": {
          "base_uri": "https://localhost:8080/"
        },
        "id": "mM_WS-13AX3B",
        "outputId": "ac325fb6-f402-4ecd-bf11-d6d5cfd64084"
      },
      "execution_count": 82,
      "outputs": [
        {
          "output_type": "execute_result",
          "data": {
            "text/plain": [
              "<econml.dml.causal_forest.CausalForestDML at 0x7f465e122b80>"
            ]
          },
          "metadata": {},
          "execution_count": 82
        }
      ]
    },
    {
      "cell_type": "code",
      "source": [
        "# Estimate treatment effects on test data\n",
        "forestdml_te = forestdml.effect(X_test)\n",
        "forestdml_te_inference = forestdml.effect_inference(X_test).population_summary(alpha=0.1, value=0, decimals=3, tol=0.001)\n",
        "print(forestdml_te_inference)"
      ],
      "metadata": {
        "colab": {
          "base_uri": "https://localhost:8080/"
        },
        "id": "eB1Ae1DXA1M5",
        "outputId": "bc6ea277-efde-455f-abc2-bedd5b022057"
      },
      "execution_count": 83,
      "outputs": [
        {
          "output_type": "stream",
          "name": "stdout",
          "text": [
            "               Uncertainty of Mean Point Estimate              \n",
            "===============================================================\n",
            "mean_point stderr_mean zstat pvalue ci_mean_lower ci_mean_upper\n",
            "---------------------------------------------------------------\n",
            "     0.003        0.09 0.037   0.97        -0.145         0.151\n",
            "      Distribution of Point Estimate     \n",
            "=========================================\n",
            "std_point pct_point_lower pct_point_upper\n",
            "-----------------------------------------\n",
            "    0.042          -0.054           0.078\n",
            "     Total Variance of Point Estimate     \n",
            "==========================================\n",
            "stderr_point ci_point_lower ci_point_upper\n",
            "------------------------------------------\n",
            "       0.099         -0.147           0.17\n",
            "------------------------------------------\n",
            "\n",
            "Note: The stderr_mean is a conservative upper bound.\n"
          ]
        }
      ]
    },
    {
      "cell_type": "markdown",
      "source": [
        "### 6.2 Calculate the robustness"
      ],
      "metadata": {
        "id": "EevaHOErB21m"
      }
    },
    {
      "cell_type": "code",
      "source": [
        "forestdml.fit(Y=Y1A_test, T=T_test, X=X_test)\n",
        "forestdml_te_test = forestdml.effect(X_test)\n",
        "\n",
        "ERMSE = ((forestdml_te-forestdml_te_test)**2).mean()**(1/2)\n",
        "print(ERMSE)"
      ],
      "metadata": {
        "colab": {
          "base_uri": "https://localhost:8080/"
        },
        "id": "n88bIoqABgPy",
        "outputId": "9ace4ae1-3a2a-4c16-e16a-a4c37673df82"
      },
      "execution_count": 84,
      "outputs": [
        {
          "output_type": "stream",
          "name": "stdout",
          "text": [
            "0.07084171227879817\n"
          ]
        }
      ]
    },
    {
      "cell_type": "markdown",
      "source": [
        "### 6.3 Calculate the RScore"
      ],
      "metadata": {
        "id": "xNWaDj3ECMdu"
      }
    },
    {
      "cell_type": "code",
      "source": [
        "rscore = scorer_a.score(forestdml)\n",
        "print(rscore)"
      ],
      "metadata": {
        "colab": {
          "base_uri": "https://localhost:8080/"
        },
        "id": "ooLd0xH1CQT1",
        "outputId": "5a12a3d8-5c92-43e2-92bb-9ec6ab725847"
      },
      "execution_count": 85,
      "outputs": [
        {
          "output_type": "stream",
          "name": "stdout",
          "text": [
            "0.03050748846602569\n"
          ]
        }
      ]
    },
    {
      "cell_type": "markdown",
      "source": [
        "## 7. ForestDRLearner "
      ],
      "metadata": {
        "id": "XWQhYP6Yp1qk"
      }
    },
    {
      "cell_type": "markdown",
      "source": [
        "### 7.1 Select best performing nuisance model and hyperparameter"
      ],
      "metadata": {
        "id": "4yUTF8Ytp5HW"
      }
    },
    {
      "cell_type": "code",
      "source": [
        "forestdrl = ForestDRLearner(model_regression=model_yta, model_propensity=model_ta, random_state=seed)\n",
        "forestdrl.fit(Y1A_train, T_train, X=X_train, cache_values=True)\n",
        "# Estimate treatment effects on test data\n",
        "forestdrl_te = forestdrl.effect(X_test)\n",
        "forestdrl_te_inference = forestdrl.effect_inference(X_test).population_summary(alpha=0.1, value=0, decimals=3, tol=0.001)\n",
        "print(forestdrl_te_inference)"
      ],
      "metadata": {
        "id": "ZCLrubPHp89p",
        "colab": {
          "base_uri": "https://localhost:8080/"
        },
        "outputId": "27e6e460-2bcc-4d60-f174-680da0be9ad8"
      },
      "execution_count": 78,
      "outputs": [
        {
          "output_type": "stream",
          "name": "stdout",
          "text": [
            "               Uncertainty of Mean Point Estimate              \n",
            "===============================================================\n",
            "mean_point stderr_mean zstat pvalue ci_mean_lower ci_mean_upper\n",
            "---------------------------------------------------------------\n",
            "     0.007       0.049 0.137  0.891        -0.073         0.087\n",
            "      Distribution of Point Estimate     \n",
            "=========================================\n",
            "std_point pct_point_lower pct_point_upper\n",
            "-----------------------------------------\n",
            "    0.023          -0.027           0.048\n",
            "     Total Variance of Point Estimate     \n",
            "==========================================\n",
            "stderr_point ci_point_lower ci_point_upper\n",
            "------------------------------------------\n",
            "       0.054         -0.073          0.099\n",
            "------------------------------------------\n",
            "\n",
            "Note: The stderr_mean is a conservative upper bound.\n"
          ]
        }
      ]
    },
    {
      "cell_type": "markdown",
      "source": [
        "### 7.2 Calculate the robustness"
      ],
      "metadata": {
        "id": "QsjIpuFVrNLq"
      }
    },
    {
      "cell_type": "code",
      "source": [
        "forestdrl.fit(Y=Y1A_test, T=T_test, X=X_test)\n",
        "forestdrl_te_test = forestdrl.effect(X_test)\n",
        "\n",
        "ERMSE = ((forestdrl_te-forestdrl_te_test)**2).mean()**(1/2)\n",
        "print(ERMSE)"
      ],
      "metadata": {
        "id": "9QCQltYirZYW",
        "colab": {
          "base_uri": "https://localhost:8080/"
        },
        "outputId": "b534807e-cc28-4367-8ee9-e4c0e28597b2"
      },
      "execution_count": 79,
      "outputs": [
        {
          "output_type": "stream",
          "name": "stdout",
          "text": [
            "0.0542717754648541\n"
          ]
        }
      ]
    },
    {
      "cell_type": "markdown",
      "source": [
        "### 7.3 Calculate the RScore"
      ],
      "metadata": {
        "id": "ksp7NDmnreVl"
      }
    },
    {
      "cell_type": "code",
      "source": [
        "rscore = scorer_a.score(forestdrl)\n",
        "print(rscore)"
      ],
      "metadata": {
        "id": "1h2S3jYFrgnC",
        "colab": {
          "base_uri": "https://localhost:8080/"
        },
        "outputId": "31060432-5d0e-4dda-e9ba-e65d4edc8a11"
      },
      "execution_count": 80,
      "outputs": [
        {
          "output_type": "stream",
          "name": "stdout",
          "text": [
            "0.04116725462511539\n"
          ]
        }
      ]
    },
    {
      "cell_type": "markdown",
      "source": [
        "## 8. NonParamDML "
      ],
      "metadata": {
        "id": "Q9AoNHQPCohU"
      }
    },
    {
      "cell_type": "markdown",
      "source": [
        "### 8.1 Select best performing nuisance model and hyperparameter"
      ],
      "metadata": {
        "id": "1LpocynjCvwg"
      }
    },
    {
      "cell_type": "code",
      "source": [
        "nonparamdml = NonParamDML(model_y=model_ya, model_t=model_ta, model_final=final_stage(),random_state=123)"
      ],
      "metadata": {
        "id": "ANNHOfQ_Cq3H"
      },
      "execution_count": null,
      "outputs": []
    },
    {
      "cell_type": "code",
      "source": [
        "nonparamdml.fit(Y1A_train, T_train, X=X_train)"
      ],
      "metadata": {
        "colab": {
          "base_uri": "https://localhost:8080/"
        },
        "id": "ZWLawbgBC4Vn",
        "outputId": "bbbd8e99-d9c9-4d05-9bb0-b6187f7f37b6"
      },
      "execution_count": null,
      "outputs": [
        {
          "output_type": "execute_result",
          "data": {
            "text/plain": [
              "<econml.dml.dml.NonParamDML at 0x7f1478a94f40>"
            ]
          },
          "metadata": {},
          "execution_count": 90
        }
      ]
    },
    {
      "cell_type": "code",
      "source": [
        "# Access the best estimator for model_final after fitting the NonParamDML\n",
        "best_estimator_model_final = nonparamdml.model_final_.best_estimator_\n",
        "print(best_estimator_model_final)"
      ],
      "metadata": {
        "colab": {
          "base_uri": "https://localhost:8080/"
        },
        "id": "K1iUXW7sDkWA",
        "outputId": "10a70e6b-3622-4eae-95c7-a824bf039b02"
      },
      "execution_count": null,
      "outputs": [
        {
          "output_type": "stream",
          "name": "stdout",
          "text": [
            "RandomForestRegressor(max_depth=5, min_samples_leaf=10, random_state=123)\n"
          ]
        }
      ]
    },
    {
      "cell_type": "code",
      "source": [
        "best_estimator_model_final = RandomForestRegressor(max_depth=5, min_samples_leaf=10, random_state=123, n_jobs=1)"
      ],
      "metadata": {
        "id": "EqoD37v7GFD0"
      },
      "execution_count": null,
      "outputs": []
    },
    {
      "cell_type": "code",
      "source": [
        "nonparamdml = NonParamDML(model_y=model_yb, model_t=model_tb, model_final=best_estimator_model_final,random_state=123)\n",
        "nonparamdml.fit(Y1B_train, T_train, X=X_train)"
      ],
      "metadata": {
        "id": "zvbWnPBOFOB1",
        "colab": {
          "base_uri": "https://localhost:8080/"
        },
        "outputId": "3200c85a-1484-4fc2-b836-b5f0dfa46af5"
      },
      "execution_count": null,
      "outputs": [
        {
          "output_type": "execute_result",
          "data": {
            "text/plain": [
              "<econml.dml.dml.NonParamDML at 0x7f95d05847c0>"
            ]
          },
          "metadata": {},
          "execution_count": 96
        }
      ]
    },
    {
      "cell_type": "code",
      "source": [
        "nonparamdml_te = nonparamdml.effect(X_test)\n",
        "nonparamdml_te_inference = nonparamdml.effect_inference(X_test).population_summary(alpha=0.1, value=0, decimals=3, tol=0.001)\n",
        "print(nonparamdml_te_inference)"
      ],
      "metadata": {
        "id": "GkCup_i-IB1i",
        "colab": {
          "base_uri": "https://localhost:8080/"
        },
        "outputId": "e7cf5f56-4dbd-484c-c9ea-78fc49bba5fc"
      },
      "execution_count": null,
      "outputs": [
        {
          "output_type": "stream",
          "name": "stdout",
          "text": [
            "Uncertainty of Mean Point Estimate\n",
            "==========\n",
            "mean_point\n",
            "----------\n",
            "     0.053\n",
            "      Distribution of Point Estimate     \n",
            "=========================================\n",
            "std_point pct_point_lower pct_point_upper\n",
            "-----------------------------------------\n",
            "    0.058           -0.02           0.158\n",
            "-----------------------------------------\n"
          ]
        }
      ]
    },
    {
      "cell_type": "markdown",
      "source": [
        "### 8.2 Calculate the robustness"
      ],
      "metadata": {
        "id": "aJPwibpvGZ2z"
      }
    },
    {
      "cell_type": "code",
      "source": [
        "nonparamdml.fit(Y=Y1A_test, T=T_test, X=X_test)\n",
        "nonparamdml_te_test = nonparamdml.effect(X_test)\n",
        "\n",
        "ERMSE = ((nonparamdml_te-nonparamdml_te_test)**2).mean()**(1/2)\n",
        "print(ERMSE)"
      ],
      "metadata": {
        "colab": {
          "base_uri": "https://localhost:8080/"
        },
        "id": "XQeoSv6cGaw8",
        "outputId": "5a92f894-bbb3-4250-a6e7-580d06cdcab4"
      },
      "execution_count": null,
      "outputs": [
        {
          "output_type": "stream",
          "name": "stdout",
          "text": [
            "0.13718927198281988\n"
          ]
        }
      ]
    },
    {
      "cell_type": "markdown",
      "source": [
        "### 8.3 Calculate the RScore"
      ],
      "metadata": {
        "id": "jQ0WwjjwIKAa"
      }
    },
    {
      "cell_type": "code",
      "source": [
        "rscore = scorer_a.score(nonparamdml)\n",
        "print(rscore)"
      ],
      "metadata": {
        "colab": {
          "base_uri": "https://localhost:8080/"
        },
        "id": "yF33x-ZzIL4k",
        "outputId": "276157d5-fb3e-4f02-ee82-5150be8bea40"
      },
      "execution_count": null,
      "outputs": [
        {
          "output_type": "stream",
          "name": "stdout",
          "text": [
            "0.008302116152131611\n"
          ]
        }
      ]
    },
    {
      "cell_type": "markdown",
      "source": [
        "# (B) Estimator selection: Continuous outcome\n"
      ],
      "metadata": {
        "id": "2hNe6eUkEBaf"
      }
    },
    {
      "cell_type": "markdown",
      "source": [
        "## 1. Linear DML "
      ],
      "metadata": {
        "id": "qog4kdo3EKTV"
      }
    },
    {
      "cell_type": "markdown",
      "source": [
        "### 1.1 Select the best performing nuisance model class and hyperparameters "
      ],
      "metadata": {
        "id": "KrVjcydYEfE7"
      }
    },
    {
      "cell_type": "code",
      "source": [
        "ldml = LinearDML(model_y=model_yb,\n",
        "                model_t=model_tb,\n",
        "                random_state=123)"
      ],
      "metadata": {
        "id": "F90eDeJeGxJ2"
      },
      "execution_count": null,
      "outputs": []
    },
    {
      "cell_type": "code",
      "source": [
        "ldml.fit(Y1B_train, T_train, X=X_train)"
      ],
      "metadata": {
        "colab": {
          "base_uri": "https://localhost:8080/"
        },
        "outputId": "de358b0c-c3e3-4bf1-dfa3-94c04277b42e",
        "id": "O4OolNwdG2iw"
      },
      "execution_count": null,
      "outputs": [
        {
          "output_type": "execute_result",
          "data": {
            "text/plain": [
              "<econml.dml.dml.LinearDML at 0x7f13b31c5640>"
            ]
          },
          "metadata": {},
          "execution_count": 97
        }
      ]
    },
    {
      "cell_type": "code",
      "source": [
        "ldml_cate = ldml.effect(X_test)\n",
        "ldml_cate_inference = ldml.effect_inference(X_test).population_summary(alpha=0.1, value=0, decimals=3, tol=0.001)\n",
        "print(ldml_cate_inference)"
      ],
      "metadata": {
        "colab": {
          "base_uri": "https://localhost:8080/"
        },
        "outputId": "b68ea797-0747-4e39-c8b2-2a419e10f37f",
        "id": "9udhof33G6lR"
      },
      "execution_count": null,
      "outputs": [
        {
          "output_type": "stream",
          "name": "stdout",
          "text": [
            "               Uncertainty of Mean Point Estimate               \n",
            "================================================================\n",
            "mean_point stderr_mean zstat  pvalue ci_mean_lower ci_mean_upper\n",
            "----------------------------------------------------------------\n",
            "    -0.026       0.018 -1.428  0.153        -0.057         0.004\n",
            "      Distribution of Point Estimate     \n",
            "=========================================\n",
            "std_point pct_point_lower pct_point_upper\n",
            "-----------------------------------------\n",
            "     0.16          -0.251           0.196\n",
            "     Total Variance of Point Estimate     \n",
            "==========================================\n",
            "stderr_point ci_point_lower ci_point_upper\n",
            "------------------------------------------\n",
            "       0.161         -0.356          0.299\n",
            "------------------------------------------\n"
          ]
        }
      ]
    },
    {
      "cell_type": "markdown",
      "source": [
        "### 1.2 Calculate the robustness"
      ],
      "metadata": {
        "id": "Zri1AY67Ew8m"
      }
    },
    {
      "cell_type": "code",
      "source": [
        "ldml.fit(Y=Y1B_test, T=T_test, X=X_test)\n",
        "ldml_cate_test = ldml.effect(X_test)\n",
        "\n",
        "ERMSE = ((ldml_cate-ldml_cate_test)**2).mean()**(1/2)\n",
        "print(ERMSE)"
      ],
      "metadata": {
        "colab": {
          "base_uri": "https://localhost:8080/"
        },
        "outputId": "4ce062cf-d2fd-46b5-a72e-e1a2e9a53ae7",
        "id": "OHIubGtPG-Dv"
      },
      "execution_count": null,
      "outputs": [
        {
          "output_type": "stream",
          "name": "stdout",
          "text": [
            "0.3771937007164605\n"
          ]
        }
      ]
    },
    {
      "cell_type": "markdown",
      "source": [
        "### 1.3 Calculate the RScore "
      ],
      "metadata": {
        "id": "ILF64Y65HWIa"
      }
    },
    {
      "cell_type": "code",
      "source": [
        "rscore = scorer_b.score(ldml)\n",
        "print(rscore)"
      ],
      "metadata": {
        "colab": {
          "base_uri": "https://localhost:8080/"
        },
        "outputId": "1f86efed-a8cf-45fe-fbe1-33e41ef72daa",
        "id": "i7m2ASw2HFI5"
      },
      "execution_count": null,
      "outputs": [
        {
          "output_type": "stream",
          "name": "stdout",
          "text": [
            "0.029743847273251744\n"
          ]
        }
      ]
    },
    {
      "cell_type": "markdown",
      "source": [
        "## 2. LinearDRLearner "
      ],
      "metadata": {
        "id": "jYU_Y9rSEN24"
      }
    },
    {
      "cell_type": "markdown",
      "source": [
        "### 2.1 Select best performing nuisance model class and hyperparameters"
      ],
      "metadata": {
        "id": "5LNKj5deEm_O"
      }
    },
    {
      "cell_type": "code",
      "source": [
        "LinearDR_learner = LinearDRLearner(model_regression=model_ytb, model_propensity=model_tb, random_state=123)"
      ],
      "metadata": {
        "id": "KOHvx1SIHhnH"
      },
      "execution_count": null,
      "outputs": []
    },
    {
      "cell_type": "code",
      "source": [
        "LinearDR_learner.fit(Y1B_train, T_train, X=X_train)"
      ],
      "metadata": {
        "colab": {
          "base_uri": "https://localhost:8080/"
        },
        "outputId": "6d7a77d0-cf75-425c-c95f-d49c14b952ab",
        "id": "PE9GS_9cH1sc"
      },
      "execution_count": null,
      "outputs": [
        {
          "output_type": "execute_result",
          "data": {
            "text/plain": [
              "<econml.dr._drlearner.LinearDRLearner at 0x7f13b36d9850>"
            ]
          },
          "metadata": {},
          "execution_count": 108
        }
      ]
    },
    {
      "cell_type": "code",
      "source": [
        "LinearDR_learner_cate = LinearDR_learner.effect(X_test)"
      ],
      "metadata": {
        "id": "490AWhoZITO4"
      },
      "execution_count": null,
      "outputs": []
    },
    {
      "cell_type": "code",
      "source": [
        "LinearDR_learner_cate_inference = LinearDR_learner.effect_inference(X_test).population_summary(alpha=0.1, value=0, decimals=3, tol=0.001)\n",
        "print(LinearDR_learner_cate_inference)"
      ],
      "metadata": {
        "colab": {
          "base_uri": "https://localhost:8080/"
        },
        "id": "TxjSbFsTH9s8",
        "outputId": "485e2fa7-83c1-473e-adeb-3ef40e5e1318"
      },
      "execution_count": null,
      "outputs": [
        {
          "output_type": "stream",
          "name": "stdout",
          "text": [
            "               Uncertainty of Mean Point Estimate              \n",
            "===============================================================\n",
            "mean_point stderr_mean zstat pvalue ci_mean_lower ci_mean_upper\n",
            "---------------------------------------------------------------\n",
            "     0.023       0.019 1.214  0.225        -0.008         0.054\n",
            "      Distribution of Point Estimate     \n",
            "=========================================\n",
            "std_point pct_point_lower pct_point_upper\n",
            "-----------------------------------------\n",
            "    0.146          -0.202           0.267\n",
            "     Total Variance of Point Estimate     \n",
            "==========================================\n",
            "stderr_point ci_point_lower ci_point_upper\n",
            "------------------------------------------\n",
            "       0.147         -0.307          0.379\n",
            "------------------------------------------\n"
          ]
        }
      ]
    },
    {
      "cell_type": "markdown",
      "source": [
        " ### 2.2 Calculate the robustness"
      ],
      "metadata": {
        "id": "cMvIGj9-IErr"
      }
    },
    {
      "cell_type": "code",
      "source": [
        "LinearDR_learner.fit(Y=Y1B_test, T=T_test, X=X_test)\n",
        "LinearDR_learner_cate_test = LinearDR_learner.effect(X_test)\n",
        "\n",
        "ERMSE = ((LinearDR_learner_cate-LinearDR_learner_cate_test)**2).mean()**(1/2)\n",
        "print(ERMSE)"
      ],
      "metadata": {
        "colab": {
          "base_uri": "https://localhost:8080/"
        },
        "outputId": "7f436c1d-724d-4250-b2b8-f6f9771346bf",
        "id": "m_nJmH1jINak"
      },
      "execution_count": null,
      "outputs": [
        {
          "output_type": "stream",
          "name": "stdout",
          "text": [
            "0.44331252765324997\n"
          ]
        }
      ]
    },
    {
      "cell_type": "markdown",
      "source": [
        "### 2.3 Calculate the RScore\n"
      ],
      "metadata": {
        "id": "buTD1kyXIU8P"
      }
    },
    {
      "cell_type": "code",
      "source": [
        "rscore = scorer_b.score(LinearDR_learner)\n",
        "print(rscore)"
      ],
      "metadata": {
        "colab": {
          "base_uri": "https://localhost:8080/"
        },
        "outputId": "b0827efd-86ea-418a-9ad2-b0628b496f20",
        "id": "j2JTlP2ZIZ8f"
      },
      "execution_count": null,
      "outputs": [
        {
          "output_type": "stream",
          "name": "stdout",
          "text": [
            "-0.00507321797271687\n"
          ]
        }
      ]
    },
    {
      "cell_type": "markdown",
      "source": [
        "## 3. S-Learner "
      ],
      "metadata": {
        "id": "HmKhy8GbEQz4"
      }
    },
    {
      "cell_type": "markdown",
      "source": [
        "### 3.1 Select best performing nuisance model class and hyperparameters"
      ],
      "metadata": {
        "id": "I0Ot_cbCEpSL"
      }
    },
    {
      "cell_type": "code",
      "source": [
        "# Instantiate the SLearner\n",
        "S_learner = SLearner(overall_model= first_stage_reg())"
      ],
      "metadata": {
        "id": "4rPB8rvjI1fO"
      },
      "execution_count": null,
      "outputs": []
    },
    {
      "cell_type": "code",
      "source": [
        "# Train S_learner\n",
        "best_estimator_s_learner = S_learner.fit(Y1B_train, T_train, X=X_train).overall_model.best_estimator_\n",
        "print(best_estimator_s_learner)"
      ],
      "metadata": {
        "colab": {
          "base_uri": "https://localhost:8080/"
        },
        "outputId": "309e62f6-7e53-49a1-fa1c-60388346ac2c",
        "id": "TpBbENBUI5j-"
      },
      "execution_count": null,
      "outputs": [
        {
          "output_type": "stream",
          "name": "stdout",
          "text": [
            "RandomForestRegressor(min_samples_leaf=10, random_state=123)\n"
          ]
        }
      ]
    },
    {
      "cell_type": "code",
      "source": [
        "best_estimator_s_learner = RandomForestRegressor(min_samples_leaf=10, random_state=123, n_jobs=1)"
      ],
      "metadata": {
        "id": "oqdIIdv4JDuL"
      },
      "execution_count": null,
      "outputs": []
    },
    {
      "cell_type": "code",
      "source": [
        "# Estimate treatment effects on test data\n",
        "S_learner = SLearner(overall_model=best_estimator_s_learner)\n",
        "S_learner.fit(Y1B_train, T_train, X=X_train, inference='bootstrap')\n",
        "S_te = S_learner.effect(X_test)"
      ],
      "metadata": {
        "id": "6mFGBQv4JBNd"
      },
      "execution_count": null,
      "outputs": []
    },
    {
      "cell_type": "code",
      "source": [
        "S_te_inference = S_learner.effect_inference(X_test).population_summary(alpha=0.1, value=0, decimals=3, tol=0.001)\n",
        "print(S_te_inference)"
      ],
      "metadata": {
        "colab": {
          "base_uri": "https://localhost:8080/"
        },
        "id": "xvh5uJrdJU1q",
        "outputId": "2ea8c62a-e411-47a1-a8d3-5a771f2941d1"
      },
      "execution_count": null,
      "outputs": [
        {
          "output_type": "stream",
          "name": "stdout",
          "text": [
            "               Uncertainty of Mean Point Estimate              \n",
            "===============================================================\n",
            "mean_point stderr_mean zstat pvalue ci_mean_lower ci_mean_upper\n",
            "---------------------------------------------------------------\n",
            "     0.001        0.01 0.123  0.902        -0.015         0.017\n",
            "      Distribution of Point Estimate     \n",
            "=========================================\n",
            "std_point pct_point_lower pct_point_upper\n",
            "-----------------------------------------\n",
            "    0.007           -0.01           0.013\n",
            "     Total Variance of Point Estimate     \n",
            "==========================================\n",
            "stderr_point ci_point_lower ci_point_upper\n",
            "------------------------------------------\n",
            "       0.012         -0.017          0.021\n",
            "------------------------------------------\n",
            "\n",
            "Note: The stderr_mean is a conservative upper bound.\n"
          ]
        }
      ]
    },
    {
      "cell_type": "markdown",
      "source": [
        "### 3.2 Calculate the robustness"
      ],
      "metadata": {
        "id": "JDNGRTMKJRQK"
      }
    },
    {
      "cell_type": "code",
      "source": [
        "S_learner.fit(Y=Y1B_test, T=T_test, X=X_test)\n",
        "S_te_test = S_learner.effect(X_test)\n",
        "\n",
        "ERMSE = ((S_te-S_te_test)**2).mean()**(1/2)\n",
        "print(ERMSE)"
      ],
      "metadata": {
        "colab": {
          "base_uri": "https://localhost:8080/"
        },
        "id": "y_QXiGqYJcST",
        "outputId": "f49a1157-45b8-4585-be48-dd3ba2510e32"
      },
      "execution_count": null,
      "outputs": [
        {
          "output_type": "stream",
          "name": "stdout",
          "text": [
            "0.010073471562534431\n"
          ]
        }
      ]
    },
    {
      "cell_type": "markdown",
      "source": [
        "### 3.3 Calculate the RScore "
      ],
      "metadata": {
        "id": "b0oceiqvJeMn"
      }
    },
    {
      "cell_type": "code",
      "source": [
        "rscore = scorer_b.score(S_learner)\n",
        "print(rscore)"
      ],
      "metadata": {
        "colab": {
          "base_uri": "https://localhost:8080/"
        },
        "id": "pu0yUkUYJgef",
        "outputId": "c1017959-770f-4878-f4db-b5bd69db2790"
      },
      "execution_count": null,
      "outputs": [
        {
          "output_type": "stream",
          "name": "stdout",
          "text": [
            "-0.00507321797271687\n"
          ]
        }
      ]
    },
    {
      "cell_type": "markdown",
      "source": [
        "## 4. T-Learner "
      ],
      "metadata": {
        "id": "ryn29XOFESlq"
      }
    },
    {
      "cell_type": "markdown",
      "source": [
        "### 4.1 Select the best performing nuisance model class and hyperparameters"
      ],
      "metadata": {
        "id": "YG7M9yYfJhl9"
      }
    },
    {
      "cell_type": "code",
      "source": [
        "# Instantiate the T_Learner\n",
        "T_learner = TLearner(models=first_stage_reg())"
      ],
      "metadata": {
        "id": "0Ttu2m_kKMN-"
      },
      "execution_count": null,
      "outputs": []
    },
    {
      "cell_type": "code",
      "source": [
        "# Train T_learner\n",
        "T_learner.fit(Y1B_train, T_train, X=X_train)"
      ],
      "metadata": {
        "colab": {
          "base_uri": "https://localhost:8080/"
        },
        "outputId": "45f23e5f-246b-4a34-abea-1ddd2cb851da",
        "id": "BU1ekeQBKQSj"
      },
      "execution_count": null,
      "outputs": [
        {
          "output_type": "execute_result",
          "data": {
            "text/plain": [
              "<econml.metalearners._metalearners.TLearner at 0x7f13b30950d0>"
            ]
          },
          "metadata": {},
          "execution_count": 121
        }
      ]
    },
    {
      "cell_type": "code",
      "source": [
        "# Assuming that T_learner.models is a list of the fitted GridSearchCVList objects\n",
        "best_estimators = [model.best_estimator_ for model in T_learner.models]\n",
        "print(best_estimators)"
      ],
      "metadata": {
        "colab": {
          "base_uri": "https://localhost:8080/"
        },
        "outputId": "4d0a78d1-74f5-426b-bd63-08be86c0e035",
        "id": "G64k_-m5KWV3"
      },
      "execution_count": null,
      "outputs": [
        {
          "output_type": "stream",
          "name": "stdout",
          "text": [
            "[RandomForestRegressor(min_samples_leaf=10, random_state=123), RandomForestRegressor(min_samples_leaf=10, random_state=123)]\n"
          ]
        }
      ]
    },
    {
      "cell_type": "code",
      "source": [
        "best_estimators = [RandomForestRegressor(min_samples_leaf=10, random_state=123, n_jobs=1), RandomForestRegressor(min_samples_leaf=10, random_state=123, n_jobs=1)]"
      ],
      "metadata": {
        "id": "LbjYf4a7KbFj"
      },
      "execution_count": null,
      "outputs": []
    },
    {
      "cell_type": "code",
      "source": [
        "# Estimate treatment effects on test data\n",
        "T_learner = TLearner(models=best_estimators)\n",
        "T_learner.fit(Y1B_train, T_train, X=X_train, inference='bootstrap')\n",
        "T_te = T_learner.effect(X_test)"
      ],
      "metadata": {
        "id": "36u_OO-vKfYB"
      },
      "execution_count": null,
      "outputs": []
    },
    {
      "cell_type": "code",
      "source": [
        "T_te_inference = T_learner.effect_inference(X_test).population_summary(alpha=0.1, value=0, decimals=3, tol=0.001)\n",
        "print(T_te_inference)"
      ],
      "metadata": {
        "colab": {
          "base_uri": "https://localhost:8080/"
        },
        "outputId": "0cda8e04-61a1-42e9-f454-03b3543e0d0f",
        "id": "euaQs2ExKjsF"
      },
      "execution_count": null,
      "outputs": [
        {
          "output_type": "stream",
          "name": "stdout",
          "text": [
            "               Uncertainty of Mean Point Estimate              \n",
            "===============================================================\n",
            "mean_point stderr_mean zstat pvalue ci_mean_lower ci_mean_upper\n",
            "---------------------------------------------------------------\n",
            "     0.029       0.126 0.231  0.817        -0.178         0.236\n",
            "      Distribution of Point Estimate     \n",
            "=========================================\n",
            "std_point pct_point_lower pct_point_upper\n",
            "-----------------------------------------\n",
            "     0.13          -0.192           0.243\n",
            "     Total Variance of Point Estimate     \n",
            "==========================================\n",
            "stderr_point ci_point_lower ci_point_upper\n",
            "------------------------------------------\n",
            "       0.181         -0.261          0.324\n",
            "------------------------------------------\n",
            "\n",
            "Note: The stderr_mean is a conservative upper bound.\n"
          ]
        }
      ]
    },
    {
      "cell_type": "markdown",
      "source": [
        "### 4.2 Calculate the robustness "
      ],
      "metadata": {
        "id": "KffwdJFaJkuO"
      }
    },
    {
      "cell_type": "code",
      "source": [
        "T_learner.fit(Y=Y1B_test, T=T_test, X=X_test)\n",
        "T_te_test = T_learner.effect(X_test)\n",
        "\n",
        "ERMSE = ((T_te-T_te_test)**2).mean()**(1/2)\n",
        "print(ERMSE)"
      ],
      "metadata": {
        "colab": {
          "base_uri": "https://localhost:8080/"
        },
        "outputId": "62f662e3-d526-411a-b769-41a2b93b7395",
        "id": "A0NA0rW8KnkB"
      },
      "execution_count": null,
      "outputs": [
        {
          "output_type": "stream",
          "name": "stdout",
          "text": [
            "0.21301635522606827\n"
          ]
        }
      ]
    },
    {
      "cell_type": "markdown",
      "source": [
        "### 4.3 Calculate the RScore "
      ],
      "metadata": {
        "id": "CZ5eSAnkJnND"
      }
    },
    {
      "cell_type": "code",
      "source": [
        "rscore = scorer_b.score(T_learner)\n",
        "print(rscore)"
      ],
      "metadata": {
        "colab": {
          "base_uri": "https://localhost:8080/"
        },
        "outputId": "57a4b3a9-cdd2-4329-953e-5f4674d1c59d",
        "id": "l1ARIr8dKrFn"
      },
      "execution_count": null,
      "outputs": [
        {
          "output_type": "stream",
          "name": "stdout",
          "text": [
            "0.13251803843958443\n"
          ]
        }
      ]
    },
    {
      "cell_type": "markdown",
      "source": [
        "## 5. X-learner \n"
      ],
      "metadata": {
        "id": "FvxD9MLzEUmz"
      }
    },
    {
      "cell_type": "markdown",
      "source": [
        "### 5.1 Select the best performing nuisance model class and hyperparameters "
      ],
      "metadata": {
        "id": "VVICCks6JpV5"
      }
    },
    {
      "cell_type": "code",
      "source": [
        "# Instantiate the X_Learner\n",
        "X_learner = XLearner(models=first_stage_reg(), propensity_model=first_stage_clf())"
      ],
      "metadata": {
        "id": "cP3WFxhxLAoS"
      },
      "execution_count": null,
      "outputs": []
    },
    {
      "cell_type": "code",
      "source": [
        "# Train X_learner\n",
        "X_learner.fit(Y1B_train, T_train, X=X_train)"
      ],
      "metadata": {
        "colab": {
          "base_uri": "https://localhost:8080/"
        },
        "outputId": "a634a59e-4bd1-43d9-882c-55bd68ade057",
        "id": "nacF_fyJLAoU"
      },
      "execution_count": null,
      "outputs": [
        {
          "output_type": "execute_result",
          "data": {
            "text/plain": [
              "<econml.metalearners._metalearners.XLearner at 0x7f13b3397340>"
            ]
          },
          "metadata": {},
          "execution_count": 129
        }
      ]
    },
    {
      "cell_type": "code",
      "source": [
        "# Assuming that X_learner.models is a list of the fitted GridSearchCVList objects\n",
        "best_estimators_models = [model.best_estimator_ for model in X_learner.models]\n",
        "\n",
        "# best_estimators[0] contains the best LogisticRegression estimator\n",
        "# best_estimators[1] contains the best RandomForestClassifier estimator\n",
        "# best_estimators[2] contains the best GradientBoostingClassifier estimator\n",
        "print(best_estimators_models)"
      ],
      "metadata": {
        "colab": {
          "base_uri": "https://localhost:8080/"
        },
        "outputId": "79630db7-4390-417b-ccac-860ac81eecaf",
        "id": "7Autz18LLAoU"
      },
      "execution_count": null,
      "outputs": [
        {
          "output_type": "stream",
          "name": "stdout",
          "text": [
            "[RandomForestRegressor(min_samples_leaf=10, random_state=123), RandomForestRegressor(min_samples_leaf=10, random_state=123)]\n"
          ]
        }
      ]
    },
    {
      "cell_type": "code",
      "source": [
        "best_estimators_models = [RandomForestRegressor(min_samples_leaf=10, random_state=123, n_jobs=1), RandomForestRegressor(min_samples_leaf=10, random_state=123, n_jobs=1)]\n"
      ],
      "metadata": {
        "id": "EDfoVdH1LAoU"
      },
      "execution_count": null,
      "outputs": []
    },
    {
      "cell_type": "code",
      "source": [
        "best_estimator_pm = X_learner.propensity_models[0].best_estimator_\n",
        "print(best_estimator_pm)"
      ],
      "metadata": {
        "colab": {
          "base_uri": "https://localhost:8080/"
        },
        "outputId": "cdc8982b-43cc-4e66-db3c-6b5906553751",
        "id": "VpkiE1GcLAoU"
      },
      "execution_count": null,
      "outputs": [
        {
          "output_type": "stream",
          "name": "stdout",
          "text": [
            "GradientBoostingClassifier(min_samples_leaf=30, random_state=123)\n"
          ]
        }
      ]
    },
    {
      "cell_type": "code",
      "source": [
        "best_estimator_pm = GradientBoostingClassifier(min_samples_leaf=30, random_state=123)\n"
      ],
      "metadata": {
        "id": "D8TnHC4qLAoU"
      },
      "execution_count": null,
      "outputs": []
    },
    {
      "cell_type": "code",
      "source": [
        "# Estimate treatment effects on test data\n",
        "X_learner = XLearner(models=best_estimators_models, propensity_model=best_estimator_pm)\n",
        "X_learner.fit(Y1B_train, T_train, X=X_train, inference='bootstrap')\n",
        "X_te = X_learner.effect(X_test)\n",
        "X_te_inference = X_learner.effect_inference(X_test).population_summary(alpha=0.1, value=0, decimals=3, tol=0.001)\n",
        "print(X_te_inference)"
      ],
      "metadata": {
        "colab": {
          "base_uri": "https://localhost:8080/"
        },
        "outputId": "a3643cd5-3f5c-4a2f-fe45-d893da38e401",
        "id": "tn3A11p-LAoU"
      },
      "execution_count": null,
      "outputs": [
        {
          "output_type": "stream",
          "name": "stdout",
          "text": [
            "               Uncertainty of Mean Point Estimate              \n",
            "===============================================================\n",
            "mean_point stderr_mean zstat pvalue ci_mean_lower ci_mean_upper\n",
            "---------------------------------------------------------------\n",
            "     0.026       0.079 0.333  0.739        -0.104         0.157\n",
            "      Distribution of Point Estimate     \n",
            "=========================================\n",
            "std_point pct_point_lower pct_point_upper\n",
            "-----------------------------------------\n",
            "    0.079          -0.084           0.156\n",
            "     Total Variance of Point Estimate     \n",
            "==========================================\n",
            "stderr_point ci_point_lower ci_point_upper\n",
            "------------------------------------------\n",
            "       0.112         -0.134          0.203\n",
            "------------------------------------------\n",
            "\n",
            "Note: The stderr_mean is a conservative upper bound.\n"
          ]
        }
      ]
    },
    {
      "cell_type": "markdown",
      "source": [
        "### 5.2 Calculate the robustness "
      ],
      "metadata": {
        "id": "vZFNH_liJsmw"
      }
    },
    {
      "cell_type": "code",
      "source": [
        "X_learner.fit(Y=Y1B_test, T=T_test, X=X_test)\n",
        "X_te_test = X_learner.effect(X_test)\n",
        "\n",
        "ERMSE = ((X_te-X_te_test)**2).mean()**(1/2)\n",
        "print(ERMSE)"
      ],
      "metadata": {
        "colab": {
          "base_uri": "https://localhost:8080/"
        },
        "outputId": "17c819d6-6406-4b07-cd07-4384c254ec3d",
        "id": "f-wN1hIYLOfU"
      },
      "execution_count": null,
      "outputs": [
        {
          "output_type": "stream",
          "name": "stdout",
          "text": [
            "0.1158891462801172\n"
          ]
        }
      ]
    },
    {
      "cell_type": "markdown",
      "source": [
        "### 5.3 Calculate the RScore "
      ],
      "metadata": {
        "id": "Q4MUUP2HJwUU"
      }
    },
    {
      "cell_type": "code",
      "source": [
        "rscore = scorer_b.score(X_learner)\n",
        "print(rscore)"
      ],
      "metadata": {
        "colab": {
          "base_uri": "https://localhost:8080/"
        },
        "outputId": "08be6431-a0fb-4117-9695-029f41a62682",
        "id": "zhdVBo9iLKsL"
      },
      "execution_count": null,
      "outputs": [
        {
          "output_type": "stream",
          "name": "stdout",
          "text": [
            "0.05586523221334394\n"
          ]
        }
      ]
    },
    {
      "cell_type": "markdown",
      "source": [
        "## 6. NonParamDML "
      ],
      "metadata": {
        "id": "feDFHXuOEWwW"
      }
    },
    {
      "cell_type": "markdown",
      "source": [
        "### 6.1 Select the best performing nuisance model class and hyperparameters "
      ],
      "metadata": {
        "id": "wVP6WrulJztF"
      }
    },
    {
      "cell_type": "code",
      "source": [
        "nonparamdml = NonParamDML(model_y=model_yb, model_t=model_tb, model_final=final_stage(),random_state=123)"
      ],
      "metadata": {
        "id": "N72uWUapLUpq"
      },
      "execution_count": null,
      "outputs": []
    },
    {
      "cell_type": "code",
      "source": [
        "nonparamdml.fit(Y1B_train, T_train, X=X_train)"
      ],
      "metadata": {
        "colab": {
          "base_uri": "https://localhost:8080/"
        },
        "outputId": "2255e9fa-48a7-4517-9716-b781a99fbe90",
        "id": "z5DZKEXjLUpr"
      },
      "execution_count": null,
      "outputs": [
        {
          "output_type": "execute_result",
          "data": {
            "text/plain": [
              "<econml.dml.dml.NonParamDML at 0x7f147429c6d0>"
            ]
          },
          "metadata": {},
          "execution_count": 136
        }
      ]
    },
    {
      "cell_type": "code",
      "source": [
        "# Access the best estimator for model_final after fitting the NonParamDML\n",
        "best_estimator_model_final = nonparamdml.model_final_.best_estimator_\n",
        "print(best_estimator_model_final)"
      ],
      "metadata": {
        "colab": {
          "base_uri": "https://localhost:8080/"
        },
        "outputId": "cf376599-b28c-491c-a45e-d9b4af0c4171",
        "id": "Ficvn9zfLUpr"
      },
      "execution_count": null,
      "outputs": [
        {
          "output_type": "stream",
          "name": "stdout",
          "text": [
            "WeightedLasso(alpha=0.1, random_state=123)\n"
          ]
        }
      ]
    },
    {
      "cell_type": "code",
      "source": [
        "best_estimator_model_final = WeightedLasso(alpha=0.1, random_state=123)"
      ],
      "metadata": {
        "id": "-z3Bv0INLUpr"
      },
      "execution_count": null,
      "outputs": []
    },
    {
      "cell_type": "code",
      "source": [
        "nonparamdml = NonParamDML(model_y=model_yb, model_t=model_tb, model_final=best_estimator_model_final,random_state=123)\n",
        "nonparamdml.fit(Y1B_train, T_train, X=X_train)"
      ],
      "metadata": {
        "colab": {
          "base_uri": "https://localhost:8080/"
        },
        "outputId": "6f650187-b5e2-4193-d5e9-79eb0b5d87f6",
        "id": "ZyxdIyulLUpr"
      },
      "execution_count": null,
      "outputs": [
        {
          "output_type": "execute_result",
          "data": {
            "text/plain": [
              "<econml.dml.dml.NonParamDML at 0x7f13b85470a0>"
            ]
          },
          "metadata": {},
          "execution_count": 140
        }
      ]
    },
    {
      "cell_type": "code",
      "source": [
        "nonparamdml_te = nonparamdml.effect(X_test)\n",
        "nonparamdml_te_inference = nonparamdml.effect_inference(X_test).population_summary(alpha=0.1, value=0, decimals=3, tol=0.001)\n",
        "print(nonparamdml_te_inference)"
      ],
      "metadata": {
        "colab": {
          "base_uri": "https://localhost:8080/"
        },
        "outputId": "8cedc679-1b81-479b-a492-0523d8b55b32",
        "id": "VRvdknFMLUpr"
      },
      "execution_count": null,
      "outputs": [
        {
          "output_type": "stream",
          "name": "stdout",
          "text": [
            "Uncertainty of Mean Point Estimate\n",
            "==========\n",
            "mean_point\n",
            "----------\n",
            "    -0.017\n",
            "      Distribution of Point Estimate     \n",
            "=========================================\n",
            "std_point pct_point_lower pct_point_upper\n",
            "-----------------------------------------\n",
            "      0.0          -0.017          -0.017\n",
            "-----------------------------------------\n"
          ]
        }
      ]
    },
    {
      "cell_type": "markdown",
      "source": [
        "### 6.1 Calculate the robustness"
      ],
      "metadata": {
        "id": "qo8fLLYdLUpr"
      }
    },
    {
      "cell_type": "code",
      "source": [
        "nonparamdml.fit(Y=Y1B_test, T=T_test, X=X_test)\n",
        "nonparamdml_te_test = nonparamdml.effect(X_test)\n",
        "\n",
        "ERMSE = ((nonparamdml_te-nonparamdml_te_test)**2).mean()**(1/2)\n",
        "print(ERMSE)"
      ],
      "metadata": {
        "colab": {
          "base_uri": "https://localhost:8080/"
        },
        "outputId": "7032fb55-d323-4b10-ae49-9855284dafd5",
        "id": "_KA0jImeLUpr"
      },
      "execution_count": null,
      "outputs": [
        {
          "output_type": "stream",
          "name": "stdout",
          "text": [
            "0.004225700500897298\n"
          ]
        }
      ]
    },
    {
      "cell_type": "markdown",
      "source": [
        "### 6.3  Calculate the RScore"
      ],
      "metadata": {
        "id": "Q5KErxQALUpr"
      }
    },
    {
      "cell_type": "code",
      "source": [
        "rscore = scorer_b.score(nonparamdml)\n",
        "print(rscore)"
      ],
      "metadata": {
        "colab": {
          "base_uri": "https://localhost:8080/"
        },
        "outputId": "53d83a9e-eac5-4978-9045-818b5aa702f1",
        "id": "XbwmstFFLUps"
      },
      "execution_count": null,
      "outputs": [
        {
          "output_type": "stream",
          "name": "stdout",
          "text": [
            "-0.0001055289898637124\n"
          ]
        }
      ]
    },
    {
      "cell_type": "markdown",
      "source": [
        "## 7. CausalForestDML "
      ],
      "metadata": {
        "id": "P0s_yLlFEZaX"
      }
    },
    {
      "cell_type": "markdown",
      "source": [
        "### 7.1 Select best performing nuisance model and hyperparameter"
      ],
      "metadata": {
        "id": "o1gCKwwnLxNp"
      }
    },
    {
      "cell_type": "code",
      "source": [
        "forestdml = CausalForestDML(model_y=model_yb, model_t=model_tb, discrete_treatment=True, random_state=seed)"
      ],
      "metadata": {
        "id": "rytGiDuKLxNq"
      },
      "execution_count": null,
      "outputs": []
    },
    {
      "cell_type": "code",
      "source": [
        "forestdml.fit(Y1B_train, T_train, X=X_train)"
      ],
      "metadata": {
        "colab": {
          "base_uri": "https://localhost:8080/"
        },
        "outputId": "b2d0f50b-3cc1-4a0b-a681-a3342cbad59f",
        "id": "aO2twjCuLxNq"
      },
      "execution_count": null,
      "outputs": [
        {
          "output_type": "execute_result",
          "data": {
            "text/plain": [
              "<econml.dml.causal_forest.CausalForestDML at 0x7f13b8547460>"
            ]
          },
          "metadata": {},
          "execution_count": 145
        }
      ]
    },
    {
      "cell_type": "code",
      "source": [
        "# Estimate treatment effects on test data\n",
        "forestdml_te = forestdml.effect(X_test)\n",
        "forestdml_te_inference = forestdml.effect_inference(X_test).population_summary(alpha=0.1, value=0, decimals=3, tol=0.001)\n",
        "print(forestdml_te_inference)"
      ],
      "metadata": {
        "colab": {
          "base_uri": "https://localhost:8080/"
        },
        "outputId": "30b68248-1ab5-4acf-9c81-b45b36a5e523",
        "id": "P-t09Bw_LxNq"
      },
      "execution_count": null,
      "outputs": [
        {
          "output_type": "stream",
          "name": "stdout",
          "text": [
            "               Uncertainty of Mean Point Estimate              \n",
            "===============================================================\n",
            "mean_point stderr_mean zstat pvalue ci_mean_lower ci_mean_upper\n",
            "---------------------------------------------------------------\n",
            "     0.024       0.118 0.203  0.839         -0.17         0.217\n",
            "      Distribution of Point Estimate     \n",
            "=========================================\n",
            "std_point pct_point_lower pct_point_upper\n",
            "-----------------------------------------\n",
            "    0.047          -0.051           0.107\n",
            "     Total Variance of Point Estimate     \n",
            "==========================================\n",
            "stderr_point ci_point_lower ci_point_upper\n",
            "------------------------------------------\n",
            "       0.127         -0.179           0.23\n",
            "------------------------------------------\n",
            "\n",
            "Note: The stderr_mean is a conservative upper bound.\n"
          ]
        }
      ]
    },
    {
      "cell_type": "markdown",
      "source": [
        "### 6.2 Calculate the robustness"
      ],
      "metadata": {
        "id": "DpHZ4gEuLxNq"
      }
    },
    {
      "cell_type": "code",
      "source": [
        "forestdml.fit(Y=Y1B_test, T=T_test, X=X_test)\n",
        "forestdml_te_test = forestdml.effect(X_test)\n",
        "\n",
        "ERMSE = ((forestdml_te-forestdml_te_test)**2).mean()**(1/2)\n",
        "print(ERMSE)"
      ],
      "metadata": {
        "colab": {
          "base_uri": "https://localhost:8080/"
        },
        "outputId": "0622d952-df74-4c8c-db05-ea56914ce951",
        "id": "4Y374OP5LxNq"
      },
      "execution_count": null,
      "outputs": [
        {
          "output_type": "stream",
          "name": "stdout",
          "text": [
            "0.0967172077704181\n"
          ]
        }
      ]
    },
    {
      "cell_type": "markdown",
      "source": [
        "### 6.3 Calculate the RScore"
      ],
      "metadata": {
        "id": "Nspie1jWLxNq"
      }
    },
    {
      "cell_type": "code",
      "source": [
        "rscore = scorer_b.score(forestdml)\n",
        "print(rscore)"
      ],
      "metadata": {
        "colab": {
          "base_uri": "https://localhost:8080/"
        },
        "outputId": "e0e039d3-a529-404b-b54d-7dd06cea389f",
        "id": "UBzNgIfjLxNq"
      },
      "execution_count": null,
      "outputs": [
        {
          "output_type": "stream",
          "name": "stdout",
          "text": [
            "0.05062296222877427\n"
          ]
        }
      ]
    },
    {
      "cell_type": "markdown",
      "source": [
        "## 8. ForestDRLearner \n"
      ],
      "metadata": {
        "id": "Y-vK-70REbRH"
      }
    },
    {
      "cell_type": "markdown",
      "source": [
        "### 7.1 Select best performing nuisance model and hyperparameter"
      ],
      "metadata": {
        "id": "wVh-fBZ1MFjY"
      }
    },
    {
      "cell_type": "code",
      "source": [
        "forestdrl = ForestDRLearner(model_regression=model_ytb, model_propensity=model_tb, random_state=seed)\n",
        "forestdrl.fit(Y1B_train, T_train, X=X_train, cache_values=True)\n",
        "# Estimate treatment effects on test data\n",
        "forestdrl_te = forestdrl.effect(X_test)\n",
        "forestdrl_te_inference = forestdrl.effect_inference(X_test).population_summary(alpha=0.1, value=0, decimals=3, tol=0.001)\n",
        "print(forestdrl_te_inference)"
      ],
      "metadata": {
        "colab": {
          "base_uri": "https://localhost:8080/"
        },
        "outputId": "8dffa744-3d97-4a92-abaf-b4c4d907e40f",
        "id": "5_BFVcu6MFjZ"
      },
      "execution_count": null,
      "outputs": [
        {
          "output_type": "stream",
          "name": "stdout",
          "text": [
            "               Uncertainty of Mean Point Estimate              \n",
            "===============================================================\n",
            "mean_point stderr_mean zstat pvalue ci_mean_lower ci_mean_upper\n",
            "---------------------------------------------------------------\n",
            "     0.025       0.068 0.371   0.71        -0.086         0.137\n",
            "      Distribution of Point Estimate     \n",
            "=========================================\n",
            "std_point pct_point_lower pct_point_upper\n",
            "-----------------------------------------\n",
            "    0.024          -0.013           0.066\n",
            "     Total Variance of Point Estimate     \n",
            "==========================================\n",
            "stderr_point ci_point_lower ci_point_upper\n",
            "------------------------------------------\n",
            "       0.072         -0.088          0.144\n",
            "------------------------------------------\n",
            "\n",
            "Note: The stderr_mean is a conservative upper bound.\n"
          ]
        }
      ]
    },
    {
      "cell_type": "markdown",
      "source": [
        "### 7.2 Calculate the robustness"
      ],
      "metadata": {
        "id": "cT1tfQgeMFjZ"
      }
    },
    {
      "cell_type": "code",
      "source": [
        "forestdrl.fit(Y=Y1B_test, T=T_test, X=X_test)\n",
        "forestdrl_te_test = forestdrl.effect(X_test)\n",
        "\n",
        "ERMSE = ((forestdrl_te-forestdrl_te_test)**2).mean()**(1/2)\n",
        "print(ERMSE)"
      ],
      "metadata": {
        "colab": {
          "base_uri": "https://localhost:8080/"
        },
        "outputId": "82b464e5-8dbc-4b6a-f6ae-ff402f042409",
        "id": "IqQ9eaFlMFjZ"
      },
      "execution_count": null,
      "outputs": [
        {
          "output_type": "stream",
          "name": "stdout",
          "text": [
            "0.093820138601304\n"
          ]
        }
      ]
    },
    {
      "cell_type": "markdown",
      "source": [
        "### 7.3 Calculate the RScore"
      ],
      "metadata": {
        "id": "_cqrjj0fMFjZ"
      }
    },
    {
      "cell_type": "code",
      "source": [
        "rscore = scorer_b.score(forestdrl)\n",
        "print(rscore)"
      ],
      "metadata": {
        "colab": {
          "base_uri": "https://localhost:8080/"
        },
        "outputId": "b71e7133-db36-4f88-dc16-56a9e53f7bbd",
        "id": "ypEwIaImMFjZ"
      },
      "execution_count": null,
      "outputs": [
        {
          "output_type": "stream",
          "name": "stdout",
          "text": [
            "0.0610468198302937\n"
          ]
        }
      ]
    },
    {
      "cell_type": "code",
      "source": [],
      "metadata": {
        "id": "mB4V4tN-Ki9n"
      },
      "execution_count": null,
      "outputs": []
    }
  ]
}