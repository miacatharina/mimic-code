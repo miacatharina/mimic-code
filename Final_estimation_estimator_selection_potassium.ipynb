{
  "nbformat": 4,
  "nbformat_minor": 0,
  "metadata": {
    "colab": {
      "provenance": [],
      "machine_shape": "hm",
      "toc_visible": true,
      "authorship_tag": "ABX9TyNHgWDYvzUHI3XnPA/JSNo3",
      "include_colab_link": true
    },
    "kernelspec": {
      "name": "python3",
      "display_name": "Python 3"
    },
    "language_info": {
      "name": "python"
    },
    "accelerator": "GPU",
    "gpuClass": "standard"
  },
  "cells": [
    {
      "cell_type": "markdown",
      "metadata": {
        "id": "view-in-github",
        "colab_type": "text"
      },
      "source": [
        "<a href=\"https://colab.research.google.com/github/miacatharina/mimic-code/blob/main/Final_estimation_estimator_selection_potassium.ipynb\" target=\"_parent\"><img src=\"https://colab.research.google.com/assets/colab-badge.svg\" alt=\"Open In Colab\"/></a>"
      ]
    },
    {
      "cell_type": "code",
      "execution_count": null,
      "metadata": {
        "id": "3p5UHpjEXtIK"
      },
      "outputs": [],
      "source": [
        "pip install econml[dowhy]"
      ]
    },
    {
      "cell_type": "markdown",
      "source": [
        "### Setup"
      ],
      "metadata": {
        "id": "ZbWPSqYMdbQK"
      }
    },
    {
      "cell_type": "code",
      "source": [
        "import pandas as pd\n",
        "import os, warnings, random\n",
        "import warnings\n",
        "import econml \n",
        "import matplotlib.pyplot as plt\n",
        "warnings.filterwarnings(\"ignore\")\n",
        "from econml.dml import DML, LinearDML, SparseLinearDML, CausalForestDML\n",
        "import numpy as np\n",
        "from itertools import product\n",
        "from sklearn.linear_model import (Lasso, LassoCV, LogisticRegression,\n",
        "                                  LogisticRegressionCV,LinearRegression,\n",
        "                                  MultiTaskElasticNet,MultiTaskElasticNetCV)\n",
        "from sklearn.ensemble import RandomForestRegressor,RandomForestClassifier\n",
        "from sklearn.preprocessing import PolynomialFeatures\n",
        "from xgboost import XGBRegressor\n",
        "from sklearn.ensemble import GradientBoostingRegressor, GradientBoostingClassifier\n",
        "import matplotlib.pyplot as plt\n",
        "import matplotlib\n",
        "%matplotlib inline\n",
        "from econml.score import RScorer\n",
        "from econml.metalearners import TLearner, SLearner, XLearner, DomainAdaptationLearner\n",
        "from econml.dml import CausalForestDML, LinearDML, NonParamDML\n",
        "from econml.dr import DRLearner, ForestDRLearner, LinearDRLearner\n",
        "from joblib import Parallel, delayed\n",
        "from econml.metalearners import TLearner, SLearner, XLearner\n",
        "from sklearn.model_selection import GridSearchCV\n",
        "from sklearn.pipeline import Pipeline\n",
        "from sklearn.linear_model import ElasticNet\n",
        "from sklearn.base import clone\n",
        "import logging\n",
        "import sys\n",
        "from econml.dml import DML, LinearDML,SparseLinearDML,CausalForestDML, NonParamDML, KernelDML\n",
        "from matplotlib import pyplot as plt\n",
        "import copy\n",
        "from econml.sklearn_extensions.model_selection import GridSearchCVList\n",
        "from sklearn.pipeline import Pipeline\n",
        "from sklearn.preprocessing import PolynomialFeatures\n",
        "import dowhy\n",
        "from dowhy import CausalModel\n",
        "from sklearn.linear_model import LassoCV, LogisticRegressionCV\n",
        "from sklearn.ensemble import RandomForestRegressor, GradientBoostingRegressor\n",
        "from sklearn.ensemble import RandomForestClassifier, GradientBoostingClassifier\n",
        "from econml.sklearn_extensions.linear_model import WeightedLassoCV, WeightedLasso\n",
        "from econml.cate_interpreter import SingleTreeCateInterpreter\n",
        "import shap\n",
        "from sklearn.preprocessing import MinMaxScaler\n",
        "from sklearn.model_selection import KFold\n",
        "import tensorflow as tf\n",
        "import timeit\n",
        "from sklearn.model_selection import train_test_split\n",
        "from econml.cate_interpreter import SingleTreePolicyInterpreter\n",
        "\n",
        "\n",
        "def seed_everything(seed=123):\n",
        "    random.seed(seed)\n",
        "    np.random.seed(seed)\n",
        "    os.environ['PYTHONHASHSEED'] = str(seed)\n",
        "    os.environ['TF_DETERMINISTIC_OPS'] = '1'\n",
        "    tf.random.set_seed(seed)\n",
        "\n",
        "seed = 123\n",
        "seed_everything(seed)"
      ],
      "metadata": {
        "id": "Ic5H_Y_qX1q5"
      },
      "execution_count": null,
      "outputs": []
    },
    {
      "cell_type": "code",
      "source": [
        "device_name = tf.test.gpu_device_name()\n",
        "if device_name != '/device:GPU:0':\n",
        "  print(\n",
        "      '\\n\\nThis error most likely means that this notebook is not '\n",
        "      'configured to use a GPU.  Change this in Notebook Settings via the '\n",
        "      'command palette (cmd/ctrl-shift-P) or the Edit menu.\\n\\n')\n",
        "  raise SystemError('GPU device not found')\n",
        "\n",
        "def cpu():\n",
        "  with tf.device('/cpu:0'):\n",
        "    random_image_cpu = tf.random.normal((100, 100, 100, 3))\n",
        "    net_cpu = tf.keras.layers.Conv2D(32, 7)(random_image_cpu)\n",
        "    return tf.math.reduce_sum(net_cpu)\n",
        "\n",
        "def gpu():\n",
        "  with tf.device('/device:GPU:0'):\n",
        "    random_image_gpu = tf.random.normal((100, 100, 100, 3))\n",
        "    net_gpu = tf.keras.layers.Conv2D(32, 7)(random_image_gpu)\n",
        "    return tf.math.reduce_sum(net_gpu)\n",
        "  \n",
        "# We run each op once to warm up; see: https://stackoverflow.com/a/45067900\n",
        "cpu()\n",
        "gpu()\n",
        "\n",
        "# Run the op several times.\n",
        "print('Time (s) to convolve 32x7x7x3 filter over random 100x100x100x3 images '\n",
        "      '(batch x height x width x channel). Sum of ten runs.')\n",
        "print('CPU (s):')\n",
        "cpu_time = timeit.timeit('cpu()', number=10, setup=\"from __main__ import cpu\")\n",
        "print(cpu_time)\n",
        "print('GPU (s):')\n",
        "gpu_time = timeit.timeit('gpu()', number=10, setup=\"from __main__ import gpu\")\n",
        "print(gpu_time)\n",
        "print('GPU speedup over CPU: {}x'.format(int(cpu_time/gpu_time)))\n",
        "device_name = tf.test.gpu_device_name()\n",
        "if device_name != '/device:GPU:0':\n",
        "  raise SystemError('GPU device not found')\n",
        "print('Found GPU at: {}'.format(device_name))\n",
        "#Check the version of TensorFlow you are using\n",
        "print(tf.__version__)\n",
        "print(tf.config.list_physical_devices('GPU'))\n",
        "from psutil import virtual_memory\n",
        "ram_gb = virtual_memory().total / 1e9\n",
        "print('Your runtime has {:.1f} gigabytes of available RAM\\n'.format(ram_gb))\n",
        "\n",
        "if ram_gb < 20:\n",
        "  print('Not using a high-RAM runtime')\n",
        "else:\n",
        "  print('You are using a high-RAM runtime!')"
      ],
      "metadata": {
        "colab": {
          "base_uri": "https://localhost:8080/"
        },
        "id": "1lb9zOV0d-Kx",
        "outputId": "39263397-a514-4f26-ed87-9eb62288af93"
      },
      "execution_count": null,
      "outputs": [
        {
          "output_type": "stream",
          "name": "stdout",
          "text": [
            "Time (s) to convolve 32x7x7x3 filter over random 100x100x100x3 images (batch x height x width x channel). Sum of ten runs.\n",
            "CPU (s):\n",
            "2.9264132790000303\n",
            "GPU (s):\n",
            "0.10025079299998652\n",
            "GPU speedup over CPU: 29x\n",
            "Found GPU at: /device:GPU:0\n",
            "2.11.0\n",
            "[PhysicalDevice(name='/physical_device:GPU:0', device_type='GPU')]\n",
            "Your runtime has 27.3 gigabytes of available RAM\n",
            "\n",
            "You are using a high-RAM runtime!\n"
          ]
        }
      ]
    },
    {
      "cell_type": "markdown",
      "source": [
        "### Import the data"
      ],
      "metadata": {
        "id": "vLNPlKuGX7D1"
      }
    },
    {
      "cell_type": "code",
      "source": [
        "XTY = pd.read_csv(\"/content/XTY.csv\")\n",
        "X = pd.read_csv(\"/content/X.csv\")\n",
        "Y = pd.read_csv(\"/content/Y.csv\")\n",
        "T = pd.read_csv(\"/content/T.csv\")\n",
        "XTY_train = pd.read_csv(\"/content/XTY_train.csv\")\n",
        "XTY_test = pd.read_csv(\"/content/XTY_test.csv\")\n",
        "X_train = pd.read_csv(\"/content/X_train.csv\")\n",
        "X_test = pd.read_csv(\"/content/X_test.csv\")\n",
        "Y_train = pd.read_csv(\"/content/Y_train.csv\")\n",
        "Y_test = pd.read_csv(\"/content/Y_test.csv\")\n",
        "T_train = pd.read_csv(\"/content/T_train.csv\")\n",
        "T_test = pd.read_csv(\"/content/T_test.csv\")\n",
        "\n",
        "XTY.set_index(\"stay_id\", inplace=True)\n",
        "X.set_index(\"stay_id\", inplace=True)\n",
        "Y.set_index(\"stay_id\", inplace=True)\n",
        "T.set_index(\"stay_id\", inplace=True)\n",
        "XTY_train.set_index(\"stay_id\", inplace=True)\n",
        "XTY_test.set_index(\"stay_id\", inplace=True)\n",
        "X_train.set_index(\"stay_id\", inplace=True)\n",
        "X_test.set_index(\"stay_id\", inplace=True)\n",
        "Y_train.set_index(\"stay_id\", inplace=True)\n",
        "Y_test.set_index(\"stay_id\", inplace=True)\n",
        "T_train.set_index(\"stay_id\", inplace=True)\n",
        "T_test.set_index(\"stay_id\", inplace=True)\n",
        "\n",
        "T_train = T_train.iloc[:, 0].to_numpy()\n",
        "T_test = T_test.iloc[:, 0].to_numpy()\n",
        "X1_train = X_train.iloc[:, 3:4]\n",
        "X1_test = X_test.iloc[:, 3:4]\n",
        "XT = pd.concat([X, pd.DataFrame(T, columns=['treated'])], axis=1)\n",
        "XT_train = pd.concat([X_train, pd.DataFrame(T_train, columns=['treated'])], axis=1)\n",
        "XT_test = pd.concat([X_test, pd.DataFrame(T_test, columns=['treated'])], axis=1)\n",
        "\n",
        "\n",
        "#(1) Binary outcome: Hypokalemia within 48 hours \n",
        "Y1A = Y.iloc[:, 2].to_numpy()\n",
        "Y1A_train = Y_train.iloc[:, 2].to_numpy()\n",
        "Y1A_test = Y_test.iloc[:, 2].to_numpy()\n",
        "\n",
        "#(1)Continuous outcome: Minimum serum potassium within 48 hours \n",
        "Y1B = Y.iloc[:, 0]#.to_numpy()\n",
        "Y1B_train = Y_train.iloc[:, 0].to_numpy()\n",
        "Y1B_test = Y_test.iloc[:, 0].to_numpy()"
      ],
      "metadata": {
        "id": "P-NOxeiDYC5d"
      },
      "execution_count": null,
      "outputs": []
    },
    {
      "cell_type": "code",
      "source": [
        "print(Y1B)"
      ],
      "metadata": {
        "colab": {
          "base_uri": "https://localhost:8080/"
        },
        "id": "ZSJJP7pp5Ys4",
        "outputId": "40164792-ebbc-4223-b8f5-fc3bce11f711"
      },
      "execution_count": null,
      "outputs": [
        {
          "output_type": "stream",
          "name": "stdout",
          "text": [
            "stay_id\n",
            "33267162    3.8\n",
            "30655167    4.5\n",
            "30002548    3.9\n",
            "30029209    4.3\n",
            "30031157    3.8\n",
            "           ... \n",
            "39917784    3.3\n",
            "39926643    3.0\n",
            "39933856    3.9\n",
            "39966638    3.8\n",
            "39989105    6.9\n",
            "Name: 0_48_min_k, Length: 5444, dtype: float64\n"
          ]
        }
      ]
    },
    {
      "cell_type": "markdown",
      "source": [
        "# Set up Grid Search Baseline"
      ],
      "metadata": {
        "id": "fqdz8EXsY5Dz"
      }
    },
    {
      "cell_type": "code",
      "source": [
        "class GridSearchCVList:\n",
        "\n",
        "    def __init__(self, estimator_list, param_grid_list, scoring=None,\n",
        "                 n_jobs=None, iid='warn', refit=True, cv='warn', verbose=0, pre_dispatch='2*n_jobs',\n",
        "                 error_score='raise', return_train_score=False):\n",
        "        self._gcv_list = [GridSearchCV(estimator, param_grid, scoring=scoring,\n",
        "                                       n_jobs=n_jobs, refit=refit, cv=cv, verbose=verbose,\n",
        "                                       pre_dispatch=pre_dispatch, error_score=error_score,\n",
        "                                       return_train_score=return_train_score)\n",
        "                          for estimator, param_grid in zip(estimator_list, param_grid_list)]\n",
        "        return\n",
        "\n",
        "    def fit(self, X, y, sample_weight = None, **fit_params):\n",
        "        self.best_ind_ = np.argmax([gcv.fit(X, y, sample_weight = sample_weight, **fit_params).best_score_ for gcv in self._gcv_list])\n",
        "        self.best_estimator_ = self._gcv_list[self.best_ind_].best_estimator_\n",
        "        self.best_score_ = self._gcv_list[self.best_ind_].best_score_\n",
        "        self.best_params_ = self._gcv_list[self.best_ind_].best_params_\n",
        "        return self\n",
        "\n",
        "    def predict(self, X):\n",
        "        return self.best_estimator_.predict(X)\n",
        "\n",
        "    def predict_proba(self, X):\n",
        "        return self.best_estimator_.predict_proba(X)\n",
        "  \n",
        "#Cross-validated nuisance and final stage models\n",
        "def first_stage_reg():\n",
        "    return GridSearchCVList([Lasso(random_state=123),\n",
        "                             RandomForestRegressor(n_estimators=100, random_state=123),\n",
        "                             GradientBoostingRegressor(random_state=123)],\n",
        "                             param_grid_list=[{'alpha': [.001, .01, .1, 1, 10]},\n",
        "                                               {'max_depth': [3, None],\n",
        "                                               'min_samples_leaf': [10, 50]},\n",
        "                                              {'n_estimators': [50, 100],\n",
        "                                               'max_depth': [3],\n",
        "                                               'min_samples_leaf': [10, 30]}],\n",
        "                             cv=5,\n",
        "                             scoring='neg_mean_squared_error')\n",
        "\n",
        "def first_stage_clf():\n",
        "    return GridSearchCVList([LogisticRegression(random_state=123),\n",
        "                             RandomForestClassifier(n_estimators=100, random_state=123),\n",
        "                             GradientBoostingClassifier(random_state=123)],\n",
        "                             param_grid_list=[{'C': [0.01, .1, 1, 10, 100]},\n",
        "                                              {'max_depth': [3, 5],\n",
        "                                               'min_samples_leaf': [10, 50]},\n",
        "                                              {'n_estimators': [50, 100],\n",
        "                                               'max_depth': [3],\n",
        "                                               'min_samples_leaf': [10, 30]}],\n",
        "                             cv=5,\n",
        "                             scoring='neg_mean_squared_error')\n",
        "\n",
        "def final_stage():\n",
        "    return GridSearchCVList([WeightedLasso(random_state=123),\n",
        "                             RandomForestRegressor(n_estimators=100, random_state=123)],\n",
        "                             param_grid_list=[{'alpha': [.001, .01, .1, 1, 10]},\n",
        "                                              {'max_depth': [3, 5],\n",
        "                                               'min_samples_leaf': [10, 50]}],\n",
        "                             cv=5,\n",
        "                             scoring='neg_mean_squared_error')"
      ],
      "metadata": {
        "id": "2iYDXISxUUst"
      },
      "execution_count": null,
      "outputs": []
    },
    {
      "cell_type": "markdown",
      "source": [
        "## Best nuisance models: Binary outcome \n"
      ],
      "metadata": {
        "id": "oLUS523P6JWn"
      }
    },
    {
      "cell_type": "code",
      "source": [
        "model_y = clone(first_stage_clf().fit(X, Y1A).best_estimator_)\n",
        "print(model_y)"
      ],
      "metadata": {
        "colab": {
          "base_uri": "https://localhost:8080/"
        },
        "id": "U8BeFnDEZCRh",
        "outputId": "7222aac6-ca6f-4dfc-b0bd-8c0ace71d359"
      },
      "execution_count": null,
      "outputs": [
        {
          "output_type": "stream",
          "name": "stdout",
          "text": [
            "LogisticRegression(C=100, random_state=123)\n"
          ]
        }
      ]
    },
    {
      "cell_type": "code",
      "source": [
        "model_t = clone(first_stage_clf().fit(X, T).best_estimator_)\n",
        "print(model_t)"
      ],
      "metadata": {
        "colab": {
          "base_uri": "https://localhost:8080/"
        },
        "id": "zooMwMhYZGZn",
        "outputId": "7b4759e4-7807-414a-e0cf-e4c1459745c1"
      },
      "execution_count": null,
      "outputs": [
        {
          "output_type": "stream",
          "name": "stdout",
          "text": [
            "GradientBoostingClassifier(min_samples_leaf=10, random_state=123)\n"
          ]
        }
      ]
    },
    {
      "cell_type": "code",
      "source": [
        "model_yt = clone(first_stage_clf().fit(XT, Y1A).best_estimator_)\n",
        "print(model_yt)"
      ],
      "metadata": {
        "colab": {
          "base_uri": "https://localhost:8080/"
        },
        "id": "KorkmidPNDyU",
        "outputId": "040914be-5377-4e70-b137-3bdf9863b855"
      },
      "execution_count": null,
      "outputs": [
        {
          "output_type": "stream",
          "name": "stdout",
          "text": [
            "LogisticRegression(C=100, random_state=123)\n"
          ]
        }
      ]
    },
    {
      "cell_type": "code",
      "source": [
        "#Binary outcomes: Best estimators for propensity model and outcome model\n",
        "model_ya = LogisticRegression(C=100, random_state=123, n_jobs=1)\n",
        "model_ta = GradientBoostingClassifier(min_samples_leaf=10, random_state=123)\n",
        "model_yta = LogisticRegression(C=100, random_state=123, n_jobs=1)"
      ],
      "metadata": {
        "id": "X4PedRqIZJf7"
      },
      "execution_count": null,
      "outputs": []
    },
    {
      "cell_type": "markdown",
      "source": [
        "## Best nuisance models: Continuous outcome "
      ],
      "metadata": {
        "id": "G1a-94q86SID"
      }
    },
    {
      "cell_type": "code",
      "source": [
        "model_yb = clone(first_stage_reg().fit(X, Y1B).best_estimator_)\n",
        "print(model_yb)"
      ],
      "metadata": {
        "colab": {
          "base_uri": "https://localhost:8080/"
        },
        "id": "oqZQ1Job6Y9F",
        "outputId": "81ecd449-6b3b-4e9a-e822-540c0b3f290b"
      },
      "execution_count": null,
      "outputs": [
        {
          "output_type": "stream",
          "name": "stdout",
          "text": [
            "GradientBoostingRegressor(min_samples_leaf=30, n_estimators=50,\n",
            "                          random_state=123)\n"
          ]
        }
      ]
    },
    {
      "cell_type": "code",
      "source": [
        "model_ytb = clone(first_stage_reg().fit(XT, Y1B).best_estimator_)"
      ],
      "metadata": {
        "id": "CuiAZOA26pe-"
      },
      "execution_count": null,
      "outputs": []
    },
    {
      "cell_type": "code",
      "source": [
        "print(model_ytb)"
      ],
      "metadata": {
        "colab": {
          "base_uri": "https://localhost:8080/"
        },
        "id": "kOvZRW-W9h8q",
        "outputId": "5c0e80e0-89f2-4bea-9a2c-b69c54841ce4"
      },
      "execution_count": null,
      "outputs": [
        {
          "output_type": "stream",
          "name": "stdout",
          "text": [
            "GradientBoostingRegressor(min_samples_leaf=30, n_estimators=50,\n",
            "                          random_state=123)\n"
          ]
        }
      ]
    },
    {
      "cell_type": "code",
      "source": [
        "#Continous outcomes: Best estimators for propensity model and outcome model\n",
        "model_yb = GradientBoostingRegressor(min_samples_leaf=30, n_estimators=50,\n",
        "                          random_state=123)\n",
        "model_tb = GradientBoostingClassifier(min_samples_leaf=10, random_state=123)\n",
        "model_ytb =GradientBoostingRegressor(min_samples_leaf=30, n_estimators=50,\n",
        "                          random_state=123)"
      ],
      "metadata": {
        "id": "kobk0uLGlBSQ"
      },
      "execution_count": null,
      "outputs": []
    },
    {
      "cell_type": "markdown",
      "source": [
        "# Set up the RScorer"
      ],
      "metadata": {
        "id": "WACDlvY3ZQLZ"
      }
    },
    {
      "cell_type": "markdown",
      "source": [
        "## Fit the RScorer: Binary outcome "
      ],
      "metadata": {
        "id": "kyoc3vrR63AQ"
      }
    },
    {
      "cell_type": "code",
      "source": [
        "# Train the RScore on the data \n",
        "#Follow the same procedure for selecting the nuisance models for metrics as for CATE estimators \n",
        "scorer_a = RScorer(model_y=first_stage_clf(), model_t=first_stage_clf(),\n",
        "                 discrete_treatment=True, random_state=123)"
      ],
      "metadata": {
        "id": "1FkuqlpaZNsu"
      },
      "execution_count": null,
      "outputs": []
    },
    {
      "cell_type": "code",
      "source": [
        "scorer_a.fit(Y1A_test, T_test, X=X_test)"
      ],
      "metadata": {
        "colab": {
          "base_uri": "https://localhost:8080/"
        },
        "id": "VsuagqDpZaW0",
        "outputId": "d80424ee-2e7e-4862-b93f-4ad4e5315ef5"
      },
      "execution_count": null,
      "outputs": [
        {
          "output_type": "execute_result",
          "data": {
            "text/plain": [
              "<econml.score.rscorer.RScorer at 0x7f147a32be20>"
            ]
          },
          "metadata": {},
          "execution_count": 42
        }
      ]
    },
    {
      "cell_type": "markdown",
      "source": [
        "## Fit the RScorer: Continuous outcome "
      ],
      "metadata": {
        "id": "bL9DuI_h7ENB"
      }
    },
    {
      "cell_type": "code",
      "source": [
        "# Train the RScore on the data \n",
        "#Follow the same procedure for selecting the nuisance models for metrics as for CATE estimators \n",
        "scorer_b = RScorer(model_y=first_stage_reg(), model_t=first_stage_clf(),\n",
        "                 discrete_treatment=True, random_state=123)"
      ],
      "metadata": {
        "id": "I1a5ejFo7JTS"
      },
      "execution_count": null,
      "outputs": []
    },
    {
      "cell_type": "code",
      "source": [
        "scorer_b.fit(Y1B_test, T_test, X=X_test)"
      ],
      "metadata": {
        "colab": {
          "base_uri": "https://localhost:8080/"
        },
        "id": "JU30gDbl7vvJ",
        "outputId": "c5661d3e-2a09-4399-c80f-89bee105802f"
      },
      "execution_count": null,
      "outputs": [
        {
          "output_type": "execute_result",
          "data": {
            "text/plain": [
              "<econml.score.rscorer.RScorer at 0x7f147a462b20>"
            ]
          },
          "metadata": {},
          "execution_count": 44
        }
      ]
    },
    {
      "cell_type": "markdown",
      "source": [
        "# Set up influence function "
      ],
      "metadata": {
        "id": "KXR84rWwYxuN"
      }
    },
    {
      "cell_type": "code",
      "source": [
        "X_train = pd.read_csv(\"/content/X_train.csv\") \n",
        "X_test = pd.read_csv(\"/content/X_test.csv\")\n",
        "Y_train = pd.read_csv(\"/content/Y_train.csv\")\n",
        "Y_test = pd.read_csv(\"/content/Y_test.csv\")\n",
        "T_train = pd.read_csv(\"/content/T_train.csv\")\n",
        "T_test = pd.read_csv(\"/content/T_test.csv\")\n",
        "XTY_train = pd.read_csv(\"/content/XTY_train.csv\")\n",
        "\n",
        "\n",
        "XTY_train.set_index(\"stay_id\", inplace=True)\n",
        "X_train.set_index(\"stay_id\", inplace=True)\n",
        "X_test.set_index(\"stay_id\", inplace=True)\n",
        "T_train.set_index(\"stay_id\", inplace=True)\n",
        "T_test.set_index(\"stay_id\", inplace=True)\n",
        "\n",
        "#T_train = T_train.iloc[:, 0].to_numpy()\n",
        "XT_train = pd.concat([X_train, pd.DataFrame(T_train, columns=['treated'])], axis=1)\n",
        "XT_test = pd.concat([X_test, pd.DataFrame(T_test, columns=['treated'])], axis=1)"
      ],
      "metadata": {
        "id": "us20Lmp-Yw7n"
      },
      "execution_count": null,
      "outputs": []
    },
    {
      "cell_type": "code",
      "source": [
        "xgb_plugin1 = LogisticRegression(C=10, random_state=123)\n",
        "xgb_plugin0 = LogisticRegression(C=1, random_state=123)"
      ],
      "metadata": {
        "id": "fy3Rt1iyZIcc"
      },
      "execution_count": null,
      "outputs": []
    },
    {
      "cell_type": "code",
      "source": [
        "x0 = XT_train.loc[XT_train['treated'] == 0]\n",
        "y0 = XTY_train.loc[XTY_train['treated'] == 0, '0_48_hypokalemia']\n",
        "xgb_plugin0.fit(x0, y0)"
      ],
      "metadata": {
        "colab": {
          "base_uri": "https://localhost:8080/",
          "height": 75
        },
        "id": "rrMpe0cDZxED",
        "outputId": "069a3350-e0c1-4a66-d748-c03bfab2f9d0"
      },
      "execution_count": null,
      "outputs": [
        {
          "output_type": "execute_result",
          "data": {
            "text/plain": [
              "LogisticRegression(C=1, random_state=123)"
            ],
            "text/html": [
              "<style>#sk-container-id-1 {color: black;background-color: white;}#sk-container-id-1 pre{padding: 0;}#sk-container-id-1 div.sk-toggleable {background-color: white;}#sk-container-id-1 label.sk-toggleable__label {cursor: pointer;display: block;width: 100%;margin-bottom: 0;padding: 0.3em;box-sizing: border-box;text-align: center;}#sk-container-id-1 label.sk-toggleable__label-arrow:before {content: \"▸\";float: left;margin-right: 0.25em;color: #696969;}#sk-container-id-1 label.sk-toggleable__label-arrow:hover:before {color: black;}#sk-container-id-1 div.sk-estimator:hover label.sk-toggleable__label-arrow:before {color: black;}#sk-container-id-1 div.sk-toggleable__content {max-height: 0;max-width: 0;overflow: hidden;text-align: left;background-color: #f0f8ff;}#sk-container-id-1 div.sk-toggleable__content pre {margin: 0.2em;color: black;border-radius: 0.25em;background-color: #f0f8ff;}#sk-container-id-1 input.sk-toggleable__control:checked~div.sk-toggleable__content {max-height: 200px;max-width: 100%;overflow: auto;}#sk-container-id-1 input.sk-toggleable__control:checked~label.sk-toggleable__label-arrow:before {content: \"▾\";}#sk-container-id-1 div.sk-estimator input.sk-toggleable__control:checked~label.sk-toggleable__label {background-color: #d4ebff;}#sk-container-id-1 div.sk-label input.sk-toggleable__control:checked~label.sk-toggleable__label {background-color: #d4ebff;}#sk-container-id-1 input.sk-hidden--visually {border: 0;clip: rect(1px 1px 1px 1px);clip: rect(1px, 1px, 1px, 1px);height: 1px;margin: -1px;overflow: hidden;padding: 0;position: absolute;width: 1px;}#sk-container-id-1 div.sk-estimator {font-family: monospace;background-color: #f0f8ff;border: 1px dotted black;border-radius: 0.25em;box-sizing: border-box;margin-bottom: 0.5em;}#sk-container-id-1 div.sk-estimator:hover {background-color: #d4ebff;}#sk-container-id-1 div.sk-parallel-item::after {content: \"\";width: 100%;border-bottom: 1px solid gray;flex-grow: 1;}#sk-container-id-1 div.sk-label:hover label.sk-toggleable__label {background-color: #d4ebff;}#sk-container-id-1 div.sk-serial::before {content: \"\";position: absolute;border-left: 1px solid gray;box-sizing: border-box;top: 0;bottom: 0;left: 50%;z-index: 0;}#sk-container-id-1 div.sk-serial {display: flex;flex-direction: column;align-items: center;background-color: white;padding-right: 0.2em;padding-left: 0.2em;position: relative;}#sk-container-id-1 div.sk-item {position: relative;z-index: 1;}#sk-container-id-1 div.sk-parallel {display: flex;align-items: stretch;justify-content: center;background-color: white;position: relative;}#sk-container-id-1 div.sk-item::before, #sk-container-id-1 div.sk-parallel-item::before {content: \"\";position: absolute;border-left: 1px solid gray;box-sizing: border-box;top: 0;bottom: 0;left: 50%;z-index: -1;}#sk-container-id-1 div.sk-parallel-item {display: flex;flex-direction: column;z-index: 1;position: relative;background-color: white;}#sk-container-id-1 div.sk-parallel-item:first-child::after {align-self: flex-end;width: 50%;}#sk-container-id-1 div.sk-parallel-item:last-child::after {align-self: flex-start;width: 50%;}#sk-container-id-1 div.sk-parallel-item:only-child::after {width: 0;}#sk-container-id-1 div.sk-dashed-wrapped {border: 1px dashed gray;margin: 0 0.4em 0.5em 0.4em;box-sizing: border-box;padding-bottom: 0.4em;background-color: white;}#sk-container-id-1 div.sk-label label {font-family: monospace;font-weight: bold;display: inline-block;line-height: 1.2em;}#sk-container-id-1 div.sk-label-container {text-align: center;}#sk-container-id-1 div.sk-container {/* jupyter's `normalize.less` sets `[hidden] { display: none; }` but bootstrap.min.css set `[hidden] { display: none !important; }` so we also need the `!important` here to be able to override the default hidden behavior on the sphinx rendered scikit-learn.org. See: https://github.com/scikit-learn/scikit-learn/issues/21755 */display: inline-block !important;position: relative;}#sk-container-id-1 div.sk-text-repr-fallback {display: none;}</style><div id=\"sk-container-id-1\" class=\"sk-top-container\"><div class=\"sk-text-repr-fallback\"><pre>LogisticRegression(C=1, random_state=123)</pre><b>In a Jupyter environment, please rerun this cell to show the HTML representation or trust the notebook. <br />On GitHub, the HTML representation is unable to render, please try loading this page with nbviewer.org.</b></div><div class=\"sk-container\" hidden><div class=\"sk-item\"><div class=\"sk-estimator sk-toggleable\"><input class=\"sk-toggleable__control sk-hidden--visually\" id=\"sk-estimator-id-1\" type=\"checkbox\" checked><label for=\"sk-estimator-id-1\" class=\"sk-toggleable__label sk-toggleable__label-arrow\">LogisticRegression</label><div class=\"sk-toggleable__content\"><pre>LogisticRegression(C=1, random_state=123)</pre></div></div></div></div></div>"
            ]
          },
          "metadata": {},
          "execution_count": 15
        }
      ]
    },
    {
      "cell_type": "code",
      "source": [
        "x1 = XT_train.loc[XT_train['treated'] != 0]\n",
        "y1 = XTY_train.loc[XTY_train['treated'] != 0, '0_48_hypokalemia']\n",
        "xgb_plugin1.fit(x1, y1)"
      ],
      "metadata": {
        "colab": {
          "base_uri": "https://localhost:8080/",
          "height": 75
        },
        "id": "hkHUd89zaB_J",
        "outputId": "c61900f1-9a83-4958-c2ce-32290eb4f1c3"
      },
      "execution_count": null,
      "outputs": [
        {
          "output_type": "execute_result",
          "data": {
            "text/plain": [
              "LogisticRegression(C=10, random_state=123)"
            ],
            "text/html": [
              "<style>#sk-container-id-2 {color: black;background-color: white;}#sk-container-id-2 pre{padding: 0;}#sk-container-id-2 div.sk-toggleable {background-color: white;}#sk-container-id-2 label.sk-toggleable__label {cursor: pointer;display: block;width: 100%;margin-bottom: 0;padding: 0.3em;box-sizing: border-box;text-align: center;}#sk-container-id-2 label.sk-toggleable__label-arrow:before {content: \"▸\";float: left;margin-right: 0.25em;color: #696969;}#sk-container-id-2 label.sk-toggleable__label-arrow:hover:before {color: black;}#sk-container-id-2 div.sk-estimator:hover label.sk-toggleable__label-arrow:before {color: black;}#sk-container-id-2 div.sk-toggleable__content {max-height: 0;max-width: 0;overflow: hidden;text-align: left;background-color: #f0f8ff;}#sk-container-id-2 div.sk-toggleable__content pre {margin: 0.2em;color: black;border-radius: 0.25em;background-color: #f0f8ff;}#sk-container-id-2 input.sk-toggleable__control:checked~div.sk-toggleable__content {max-height: 200px;max-width: 100%;overflow: auto;}#sk-container-id-2 input.sk-toggleable__control:checked~label.sk-toggleable__label-arrow:before {content: \"▾\";}#sk-container-id-2 div.sk-estimator input.sk-toggleable__control:checked~label.sk-toggleable__label {background-color: #d4ebff;}#sk-container-id-2 div.sk-label input.sk-toggleable__control:checked~label.sk-toggleable__label {background-color: #d4ebff;}#sk-container-id-2 input.sk-hidden--visually {border: 0;clip: rect(1px 1px 1px 1px);clip: rect(1px, 1px, 1px, 1px);height: 1px;margin: -1px;overflow: hidden;padding: 0;position: absolute;width: 1px;}#sk-container-id-2 div.sk-estimator {font-family: monospace;background-color: #f0f8ff;border: 1px dotted black;border-radius: 0.25em;box-sizing: border-box;margin-bottom: 0.5em;}#sk-container-id-2 div.sk-estimator:hover {background-color: #d4ebff;}#sk-container-id-2 div.sk-parallel-item::after {content: \"\";width: 100%;border-bottom: 1px solid gray;flex-grow: 1;}#sk-container-id-2 div.sk-label:hover label.sk-toggleable__label {background-color: #d4ebff;}#sk-container-id-2 div.sk-serial::before {content: \"\";position: absolute;border-left: 1px solid gray;box-sizing: border-box;top: 0;bottom: 0;left: 50%;z-index: 0;}#sk-container-id-2 div.sk-serial {display: flex;flex-direction: column;align-items: center;background-color: white;padding-right: 0.2em;padding-left: 0.2em;position: relative;}#sk-container-id-2 div.sk-item {position: relative;z-index: 1;}#sk-container-id-2 div.sk-parallel {display: flex;align-items: stretch;justify-content: center;background-color: white;position: relative;}#sk-container-id-2 div.sk-item::before, #sk-container-id-2 div.sk-parallel-item::before {content: \"\";position: absolute;border-left: 1px solid gray;box-sizing: border-box;top: 0;bottom: 0;left: 50%;z-index: -1;}#sk-container-id-2 div.sk-parallel-item {display: flex;flex-direction: column;z-index: 1;position: relative;background-color: white;}#sk-container-id-2 div.sk-parallel-item:first-child::after {align-self: flex-end;width: 50%;}#sk-container-id-2 div.sk-parallel-item:last-child::after {align-self: flex-start;width: 50%;}#sk-container-id-2 div.sk-parallel-item:only-child::after {width: 0;}#sk-container-id-2 div.sk-dashed-wrapped {border: 1px dashed gray;margin: 0 0.4em 0.5em 0.4em;box-sizing: border-box;padding-bottom: 0.4em;background-color: white;}#sk-container-id-2 div.sk-label label {font-family: monospace;font-weight: bold;display: inline-block;line-height: 1.2em;}#sk-container-id-2 div.sk-label-container {text-align: center;}#sk-container-id-2 div.sk-container {/* jupyter's `normalize.less` sets `[hidden] { display: none; }` but bootstrap.min.css set `[hidden] { display: none !important; }` so we also need the `!important` here to be able to override the default hidden behavior on the sphinx rendered scikit-learn.org. See: https://github.com/scikit-learn/scikit-learn/issues/21755 */display: inline-block !important;position: relative;}#sk-container-id-2 div.sk-text-repr-fallback {display: none;}</style><div id=\"sk-container-id-2\" class=\"sk-top-container\"><div class=\"sk-text-repr-fallback\"><pre>LogisticRegression(C=10, random_state=123)</pre><b>In a Jupyter environment, please rerun this cell to show the HTML representation or trust the notebook. <br />On GitHub, the HTML representation is unable to render, please try loading this page with nbviewer.org.</b></div><div class=\"sk-container\" hidden><div class=\"sk-item\"><div class=\"sk-estimator sk-toggleable\"><input class=\"sk-toggleable__control sk-hidden--visually\" id=\"sk-estimator-id-2\" type=\"checkbox\" checked><label for=\"sk-estimator-id-2\" class=\"sk-toggleable__label sk-toggleable__label-arrow\">LogisticRegression</label><div class=\"sk-toggleable__content\"><pre>LogisticRegression(C=10, random_state=123)</pre></div></div></div></div></div>"
            ]
          },
          "metadata": {},
          "execution_count": 16
        }
      ]
    },
    {
      "cell_type": "code",
      "source": [
        "y_pred0 = xgb_plugin0.predict(XT_test)\n",
        "y_pred1 = xgb_plugin1.predict(XT_test)"
      ],
      "metadata": {
        "id": "PQWT2--_aPcc"
      },
      "execution_count": null,
      "outputs": []
    },
    {
      "cell_type": "code",
      "source": [
        "#Estimated treatment effect using the plug-in method (difference between the predicted outcomes of two XGBoost models trained separately on the control group and the treatment group)\n",
        "t_plugin = y_pred1 - y_pred0"
      ],
      "metadata": {
        "id": "ZXZXj-NWaa6H"
      },
      "execution_count": null,
      "outputs": []
    },
    {
      "cell_type": "code",
      "source": [
        "#Compute the propensity score using the gradient boosting classifier model and the treatment variable\n",
        "gb = GradientBoostingClassifier(min_samples_leaf=10, n_estimators=50,\n",
        "                           random_state=123)\n",
        "gb.fit(X_train, T_train)\n",
        "ps = gb.predict_proba(X_test)[:, 1]\n",
        "print(ps)"
      ],
      "metadata": {
        "colab": {
          "base_uri": "https://localhost:8080/"
        },
        "id": "Re6bZNILacsx",
        "outputId": "68203e7a-c5cc-4a92-a5e7-dcfa962fdf3b"
      },
      "execution_count": null,
      "outputs": [
        {
          "output_type": "stream",
          "name": "stdout",
          "text": [
            "[0.82123387 0.11883833 0.64019843 ... 0.97021595 0.2471682  0.21186484]\n"
          ]
        }
      ]
    },
    {
      "cell_type": "code",
      "source": [
        "#Use the PS to compute a weight matrix for the treatment effect estimate\n",
        "T_test = T_test.iloc[:, 0].to_numpy()\n",
        "a = (T_test - ps)\n",
        "ident = np.array([1] * len(ps))\n",
        "c = (ps * (ident - ps))\n",
        "#weight vector used to adjust the treatment effect estimate based on the probability of receiving the treatment (propensity score)\n",
        "b = np.array([2] * len(T_test)) * T_test * (T_test - ps) / c"
      ],
      "metadata": {
        "id": "pB6oi3GZZ7q0"
      },
      "execution_count": null,
      "outputs": []
    },
    {
      "cell_type": "markdown",
      "source": [
        "# (A) Estimator selection: Binary outcome\n"
      ],
      "metadata": {
        "id": "h_ZISQLXZuwe"
      }
    },
    {
      "cell_type": "markdown",
      "source": [
        "## 1. LinearDML"
      ],
      "metadata": {
        "id": "bQLBMBUjZxj7"
      }
    },
    {
      "cell_type": "markdown",
      "source": [
        "### 1.1 Select best performing nuisance model class and hyperparameters"
      ],
      "metadata": {
        "id": "gFMrxc0LcoF-"
      }
    },
    {
      "cell_type": "code",
      "source": [
        "ldml = LinearDML(model_y=model_ya,\n",
        "                model_t=model_ta,\n",
        "                random_state=123)"
      ],
      "metadata": {
        "id": "pHm99ZIeZzFm"
      },
      "execution_count": null,
      "outputs": []
    },
    {
      "cell_type": "code",
      "source": [
        "ldml.fit(Y1A_train, T_train, X=X_train)"
      ],
      "metadata": {
        "colab": {
          "base_uri": "https://localhost:8080/"
        },
        "id": "VwJti0osZ5bq",
        "outputId": "e499f45c-d453-45cb-8e1f-0036d6132f42"
      },
      "execution_count": null,
      "outputs": [
        {
          "output_type": "execute_result",
          "data": {
            "text/plain": [
              "<econml.dml.dml.LinearDML at 0x7f147a210730>"
            ]
          },
          "metadata": {},
          "execution_count": 46
        }
      ]
    },
    {
      "cell_type": "code",
      "source": [
        "ldml_cate = ldml.effect(X_test)\n",
        "ldml_cate_inference = ldml.effect_inference(X_test).population_summary(alpha=0.1, value=0, decimals=3, tol=0.001)\n",
        "print(ldml_cate_inference)"
      ],
      "metadata": {
        "colab": {
          "base_uri": "https://localhost:8080/"
        },
        "id": "aeeLNitzZ7xw",
        "outputId": "7a338d10-536f-4937-8247-b87b54c4c2f9"
      },
      "execution_count": null,
      "outputs": [
        {
          "output_type": "stream",
          "name": "stdout",
          "text": [
            "               Uncertainty of Mean Point Estimate               \n",
            "================================================================\n",
            "mean_point stderr_mean zstat  pvalue ci_mean_lower ci_mean_upper\n",
            "----------------------------------------------------------------\n",
            "    -0.013       0.018 -0.689  0.491        -0.043         0.018\n",
            "      Distribution of Point Estimate     \n",
            "=========================================\n",
            "std_point pct_point_lower pct_point_upper\n",
            "-----------------------------------------\n",
            "    0.188          -0.285            0.25\n",
            "     Total Variance of Point Estimate     \n",
            "==========================================\n",
            "stderr_point ci_point_lower ci_point_upper\n",
            "------------------------------------------\n",
            "       0.189         -0.374          0.352\n",
            "------------------------------------------\n"
          ]
        }
      ]
    },
    {
      "cell_type": "markdown",
      "source": [
        "### 1.2 Calculate the robustness"
      ],
      "metadata": {
        "id": "2myJ0EEmc7JG"
      }
    },
    {
      "cell_type": "code",
      "source": [
        "ldml.fit(Y=Y1A_test, T=T_test, X=X_test)\n",
        "ldml_cate_test = ldml.effect(X_test)\n",
        "\n",
        "ERMSE = ((ldml_cate-ldml_cate_test)**2).mean()**(1/2)\n",
        "print(ERMSE)"
      ],
      "metadata": {
        "colab": {
          "base_uri": "https://localhost:8080/"
        },
        "id": "QJKu-2cgc-8N",
        "outputId": "010f3a8d-832d-494a-856a-0a522fb3c8a8"
      },
      "execution_count": null,
      "outputs": [
        {
          "output_type": "stream",
          "name": "stdout",
          "text": [
            "0.3595974464239379\n"
          ]
        }
      ]
    },
    {
      "cell_type": "markdown",
      "source": [
        "### 1.3 Calculate the R-Score "
      ],
      "metadata": {
        "id": "Yrwow5GmctyG"
      }
    },
    {
      "cell_type": "code",
      "source": [
        "rscore = scorer_a.score(ldml)\n",
        "print(rscore)"
      ],
      "metadata": {
        "colab": {
          "base_uri": "https://localhost:8080/"
        },
        "id": "5dRgUBn9b_XU",
        "outputId": "2468e07c-1d58-41ff-806d-d13e4f818a06"
      },
      "execution_count": null,
      "outputs": [
        {
          "output_type": "stream",
          "name": "stdout",
          "text": [
            "-0.027509915024941378\n"
          ]
        }
      ]
    },
    {
      "cell_type": "markdown",
      "source": [
        "## 2. LinearDRLearner "
      ],
      "metadata": {
        "id": "wP5fAdC2Lh2h"
      }
    },
    {
      "cell_type": "markdown",
      "source": [
        "### 2.1 Select best performing nuisance model class and hyperparameters"
      ],
      "metadata": {
        "id": "uQAsMvnvLldn"
      }
    },
    {
      "cell_type": "code",
      "source": [
        "LinearDR_learner = LinearDRLearner(model_regression=model_yta, model_propensity=model_ta, random_state=123)"
      ],
      "metadata": {
        "id": "AAQHpDocLkpW"
      },
      "execution_count": null,
      "outputs": []
    },
    {
      "cell_type": "code",
      "source": [
        "LinearDR_learner.fit(Y1A_train, T_train, X=X_train)"
      ],
      "metadata": {
        "colab": {
          "base_uri": "https://localhost:8080/"
        },
        "id": "r-juXvbtL4CR",
        "outputId": "9a4d404e-a3f3-444b-c253-e135f95b24bb"
      },
      "execution_count": null,
      "outputs": [
        {
          "output_type": "execute_result",
          "data": {
            "text/plain": [
              "<econml.dr._drlearner.LinearDRLearner at 0x7f13b9733cd0>"
            ]
          },
          "metadata": {},
          "execution_count": 153
        }
      ]
    },
    {
      "cell_type": "code",
      "source": [
        "LinearDR_learner_cate = LinearDR_learner.effect(X_test)"
      ],
      "metadata": {
        "id": "oZNoFCgPL8ig"
      },
      "execution_count": null,
      "outputs": []
    },
    {
      "cell_type": "code",
      "source": [
        "LinearDR_learner_cate_inference = LinearDR_learner.effect_inference(X_test).population_summary(alpha=0.1, value=0, decimals=3, tol=0.001)\n",
        "print(LinearDR_learner_cate_inference)"
      ],
      "metadata": {
        "colab": {
          "base_uri": "https://localhost:8080/"
        },
        "id": "PBaq3SQOMDuc",
        "outputId": "821736dd-e7c6-440d-adec-b231952a0f0c"
      },
      "execution_count": null,
      "outputs": [
        {
          "output_type": "stream",
          "name": "stdout",
          "text": [
            "               Uncertainty of Mean Point Estimate              \n",
            "===============================================================\n",
            "mean_point stderr_mean zstat pvalue ci_mean_lower ci_mean_upper\n",
            "---------------------------------------------------------------\n",
            "    -0.001       0.016 -0.08  0.936        -0.027         0.025\n",
            "      Distribution of Point Estimate     \n",
            "=========================================\n",
            "std_point pct_point_lower pct_point_upper\n",
            "-----------------------------------------\n",
            "    0.138          -0.211           0.205\n",
            "     Total Variance of Point Estimate     \n",
            "==========================================\n",
            "stderr_point ci_point_lower ci_point_upper\n",
            "------------------------------------------\n",
            "       0.139         -0.299          0.293\n",
            "------------------------------------------\n"
          ]
        }
      ]
    },
    {
      "cell_type": "markdown",
      "source": [
        "### 2.2 Calculate the robustness "
      ],
      "metadata": {
        "id": "FxnMpACHmAWg"
      }
    },
    {
      "cell_type": "code",
      "source": [
        "LinearDR_learner.fit(Y=Y1A_test, T=T_test, X=X_test)\n",
        "LinearDR_learner_cate_test = LinearDR_learner.effect(X_test)\n",
        "\n",
        "ERMSE = ((LinearDR_learner_cate-LinearDR_learner_cate_test)**2).mean()**(1/2)\n",
        "print(ERMSE)"
      ],
      "metadata": {
        "colab": {
          "base_uri": "https://localhost:8080/"
        },
        "id": "bdiKyyyhmF0l",
        "outputId": "3e7e26ca-5c4f-4197-b6e9-f407f19ffa7d"
      },
      "execution_count": null,
      "outputs": [
        {
          "output_type": "stream",
          "name": "stdout",
          "text": [
            "0.3793354485695427\n"
          ]
        }
      ]
    },
    {
      "cell_type": "markdown",
      "source": [
        "### 3.3 Calculate the RScore "
      ],
      "metadata": {
        "id": "ZlAEvMS6PYIO"
      }
    },
    {
      "cell_type": "code",
      "source": [
        "rscore = scorer_a.score(LinearDR_learner)\n",
        "print(rscore)"
      ],
      "metadata": {
        "colab": {
          "base_uri": "https://localhost:8080/"
        },
        "id": "2_Cb7NIWPcPP",
        "outputId": "67173c4e-6533-4e7d-d407-958e7ee930c1"
      },
      "execution_count": null,
      "outputs": [
        {
          "output_type": "stream",
          "name": "stdout",
          "text": [
            "-0.13707450374857366\n"
          ]
        }
      ]
    },
    {
      "cell_type": "markdown",
      "source": [
        "## 3. S-Learner"
      ],
      "metadata": {
        "id": "ISX8PVKBdjKN"
      }
    },
    {
      "cell_type": "markdown",
      "source": [
        "### 3.1 Select best performing nuisance model class and hyperparameters"
      ],
      "metadata": {
        "id": "ocgwb6MXfv7d"
      }
    },
    {
      "cell_type": "code",
      "source": [
        "# Instantiate the SLearner\n",
        "S_learner = SLearner(overall_model= first_stage_clf())"
      ],
      "metadata": {
        "id": "NiQc_nuidiRz"
      },
      "execution_count": null,
      "outputs": []
    },
    {
      "cell_type": "code",
      "source": [
        "# Train S_learner\n",
        "best_estimator_s_learner = S_learner.fit(Y1A_train, T_train, X=X_train).overall_model.best_estimator_\n",
        "print(best_estimator_s_learner)"
      ],
      "metadata": {
        "colab": {
          "base_uri": "https://localhost:8080/"
        },
        "id": "HXdNQZFQeyEu",
        "outputId": "2051c61c-f0dd-45ac-a618-fe42664bb056"
      },
      "execution_count": null,
      "outputs": [
        {
          "output_type": "stream",
          "name": "stdout",
          "text": [
            "LogisticRegression(C=10, random_state=123)\n"
          ]
        }
      ]
    },
    {
      "cell_type": "code",
      "source": [
        "# Estimate treatment effects on test data\n",
        "S_learner = SLearner(overall_model=best_estimator_s_learner)\n",
        "S_learner.fit(Y1A_train, T_train, X=X_train, inference='bootstrap')\n",
        "S_te = S_learner.effect(X_test)"
      ],
      "metadata": {
        "id": "UgowUARee1vg"
      },
      "execution_count": null,
      "outputs": []
    },
    {
      "cell_type": "code",
      "source": [
        "S_te_inference = S_learner.effect_inference(X_test).population_summary(alpha=0.1, value=0, decimals=3, tol=0.001)\n",
        "print(S_te_inference)"
      ],
      "metadata": {
        "colab": {
          "base_uri": "https://localhost:8080/"
        },
        "id": "Avn_QL66e5eH",
        "outputId": "d673e0a2-4294-43f7-dd07-c9cd9ba602de"
      },
      "execution_count": null,
      "outputs": [
        {
          "output_type": "stream",
          "name": "stdout",
          "text": [
            "               Uncertainty of Mean Point Estimate              \n",
            "===============================================================\n",
            "mean_point stderr_mean zstat pvalue ci_mean_lower ci_mean_upper\n",
            "---------------------------------------------------------------\n",
            "       0.0       0.074   0.0    1.0        -0.122         0.122\n",
            "      Distribution of Point Estimate     \n",
            "=========================================\n",
            "std_point pct_point_lower pct_point_upper\n",
            "-----------------------------------------\n",
            "      0.0             0.0             0.0\n",
            "     Total Variance of Point Estimate     \n",
            "==========================================\n",
            "stderr_point ci_point_lower ci_point_upper\n",
            "------------------------------------------\n",
            "       0.074            nan            nan\n",
            "------------------------------------------\n",
            "\n",
            "Note: The stderr_mean is a conservative upper bound.\n"
          ]
        }
      ]
    },
    {
      "cell_type": "markdown",
      "source": [
        "### 3.2 Calculate the robustness"
      ],
      "metadata": {
        "id": "RRLsNHyUf1Q4"
      }
    },
    {
      "cell_type": "code",
      "source": [
        "S_learner.fit(Y=Y1A_test, T=T_test, X=X_test)\n",
        "S_te_test = S_learner.effect(X_test)\n",
        "\n",
        "ERMSE = ((S_te-S_te_test)**2).mean()**(1/2)\n",
        "print(ERMSE)"
      ],
      "metadata": {
        "colab": {
          "base_uri": "https://localhost:8080/"
        },
        "id": "wdfIlgpjf-Sc",
        "outputId": "7f5f5c5a-f517-4b68-b684-fca1189ffe25"
      },
      "execution_count": null,
      "outputs": [
        {
          "output_type": "stream",
          "name": "stdout",
          "text": [
            "0.04285495643554833\n"
          ]
        }
      ]
    },
    {
      "cell_type": "markdown",
      "source": [
        "### 3.3 Calculate the R-Score "
      ],
      "metadata": {
        "id": "wxRoST8Yf4y7"
      }
    },
    {
      "cell_type": "code",
      "source": [
        "rscore = scorer_a.score(S_learner)\n",
        "print(rscore)"
      ],
      "metadata": {
        "colab": {
          "base_uri": "https://localhost:8080/"
        },
        "id": "4LcLjQDsfHaJ",
        "outputId": "3df8511a-eb40-4baf-c81f-c0b5d56de787"
      },
      "execution_count": null,
      "outputs": [
        {
          "output_type": "stream",
          "name": "stdout",
          "text": [
            "-0.002246796565891218\n"
          ]
        }
      ]
    },
    {
      "cell_type": "code",
      "source": [
        "#computing the mean squared error (square of the difference between two estimates of the treatment effect: the plug-in estimate and the X-learner estimate)\n",
        "plug_in = (t_plugin-S_te)**2\n",
        "#%%\n",
        "#computing the loss/ error function for the estimated treatment effect\n",
        "l_de = (ident - b) * t_plugin**2 + b*Y1_test*(t_plugin - S_te) + (- a*(t_plugin - S_te)**2 + S_te**2)\n",
        "#%%\n",
        "print((np.sum(l_de) + np.sum(plug_in)))"
      ],
      "metadata": {
        "colab": {
          "base_uri": "https://localhost:8080/"
        },
        "id": "svtPzaQbbj_T",
        "outputId": "225b543b-8c3d-4650-eb39-1b745910426b"
      },
      "execution_count": null,
      "outputs": [
        {
          "output_type": "stream",
          "name": "stdout",
          "text": [
            "-47.56298636240794\n"
          ]
        }
      ]
    },
    {
      "cell_type": "markdown",
      "source": [
        "## 4. T-learner"
      ],
      "metadata": {
        "id": "Dt6zWlITgdaL"
      }
    },
    {
      "cell_type": "markdown",
      "source": [
        "### 4.1 Select best performing nuisance model class and hyperparameters"
      ],
      "metadata": {
        "id": "L3RlqpwngkUv"
      }
    },
    {
      "cell_type": "code",
      "source": [
        "# Instantiate the T_Learner\n",
        "T_learner = TLearner(models=first_stage_clf())"
      ],
      "metadata": {
        "id": "TWCFEMEtgVBL"
      },
      "execution_count": null,
      "outputs": []
    },
    {
      "cell_type": "code",
      "source": [
        "# Train T_learner\n",
        "T_learner.fit(Y1A_train, T_train, X=X_train)"
      ],
      "metadata": {
        "colab": {
          "base_uri": "https://localhost:8080/"
        },
        "id": "1r6MWeEugzFW",
        "outputId": "37ae2c3d-97df-4319-fe5b-6f63a83c0328"
      },
      "execution_count": null,
      "outputs": [
        {
          "output_type": "execute_result",
          "data": {
            "text/plain": [
              "<econml.metalearners._metalearners.TLearner at 0x7f147a127610>"
            ]
          },
          "metadata": {},
          "execution_count": 65
        }
      ]
    },
    {
      "cell_type": "code",
      "source": [
        "# Assuming that T_learner.models is a list of the fitted GridSearchCVList objects\n",
        "best_estimators = [model.best_estimator_ for model in T_learner.models]\n",
        "print(best_estimators)"
      ],
      "metadata": {
        "colab": {
          "base_uri": "https://localhost:8080/"
        },
        "id": "_pLzJipviJWO",
        "outputId": "f63068e4-9f09-47c6-9036-ea6d222c0f16"
      },
      "execution_count": null,
      "outputs": [
        {
          "output_type": "stream",
          "name": "stdout",
          "text": [
            "[GradientBoostingClassifier(min_samples_leaf=30, n_estimators=50,\n",
            "                           random_state=123), GradientBoostingClassifier(min_samples_leaf=30, random_state=123)]\n"
          ]
        }
      ]
    },
    {
      "cell_type": "code",
      "source": [
        "best_estimators = [GradientBoostingClassifier(min_samples_leaf=30, n_estimators=50,\n",
        "                           random_state=123), GradientBoostingClassifier(min_samples_leaf=30, random_state=123)]"
      ],
      "metadata": {
        "id": "UVCWI5QMBwNs"
      },
      "execution_count": null,
      "outputs": []
    },
    {
      "cell_type": "code",
      "source": [
        "# Estimate treatment effects on test data\n",
        "T_learner = TLearner(models=best_estimators)\n",
        "T_learner.fit(Y1A_train, T_train, X=X_train, inference='bootstrap')\n",
        "T_te = T_learner.effect(X_test)"
      ],
      "metadata": {
        "id": "c4XrZCJzg5fm"
      },
      "execution_count": null,
      "outputs": []
    },
    {
      "cell_type": "code",
      "source": [
        "T_te_inference = T_learner.effect_inference(X_test).population_summary(alpha=0.1, value=0, decimals=3, tol=0.001)\n",
        "print(T_te_inference)"
      ],
      "metadata": {
        "colab": {
          "base_uri": "https://localhost:8080/"
        },
        "id": "YatRyG3Gklof",
        "outputId": "188dc188-6d19-4e93-ef1b-010aa1ef4f4a"
      },
      "execution_count": null,
      "outputs": [
        {
          "output_type": "stream",
          "name": "stdout",
          "text": [
            "               Uncertainty of Mean Point Estimate              \n",
            "===============================================================\n",
            "mean_point stderr_mean zstat pvalue ci_mean_lower ci_mean_upper\n",
            "---------------------------------------------------------------\n",
            "     0.022       0.121 0.179  0.858        -0.178         0.221\n",
            "      Distribution of Point Estimate     \n",
            "=========================================\n",
            "std_point pct_point_lower pct_point_upper\n",
            "-----------------------------------------\n",
            "    0.128          -0.176           0.235\n",
            "     Total Variance of Point Estimate     \n",
            "==========================================\n",
            "stderr_point ci_point_lower ci_point_upper\n",
            "------------------------------------------\n",
            "       0.176         -0.255          0.314\n",
            "------------------------------------------\n",
            "\n",
            "Note: The stderr_mean is a conservative upper bound.\n"
          ]
        }
      ]
    },
    {
      "cell_type": "markdown",
      "source": [
        "### 4.2 Calculate the robustness"
      ],
      "metadata": {
        "id": "Aj-Vry2xlB-I"
      }
    },
    {
      "cell_type": "code",
      "source": [
        "T_learner.fit(Y=Y1A_test, T=T_test, X=X_test)\n",
        "T_te_test = T_learner.effect(X_test)\n",
        "\n",
        "ERMSE = ((T_te-T_te_test)**2).mean()**(1/2)\n",
        "print(ERMSE)"
      ],
      "metadata": {
        "colab": {
          "base_uri": "https://localhost:8080/"
        },
        "id": "rees77drk_T-",
        "outputId": "8addcc0e-a49f-49f6-8971-79c9a8935a4c"
      },
      "execution_count": null,
      "outputs": [
        {
          "output_type": "stream",
          "name": "stdout",
          "text": [
            "0.3880681356019908\n"
          ]
        }
      ]
    },
    {
      "cell_type": "markdown",
      "source": [
        "### 4.3 Calculate the R-Score "
      ],
      "metadata": {
        "id": "CzJckRK0lQH5"
      }
    },
    {
      "cell_type": "code",
      "source": [
        "rscore = scorer_a.score(T_learner)\n",
        "print(rscore)"
      ],
      "metadata": {
        "colab": {
          "base_uri": "https://localhost:8080/"
        },
        "id": "G98hFAUMlTTI",
        "outputId": "abe27f03-f235-4092-cdc0-f9e1753370a3"
      },
      "execution_count": null,
      "outputs": [
        {
          "output_type": "stream",
          "name": "stdout",
          "text": [
            "0.1871661450246357\n"
          ]
        }
      ]
    },
    {
      "cell_type": "markdown",
      "source": [
        "## 5. X-learner"
      ],
      "metadata": {
        "id": "xTvdIRCtlauw"
      }
    },
    {
      "cell_type": "markdown",
      "source": [
        "### 5.1 Select best performing nuisance model class and hyperparameters"
      ],
      "metadata": {
        "id": "MfaFOqxSldC4"
      }
    },
    {
      "cell_type": "code",
      "source": [
        "# Instantiate the X_Learner\n",
        "X_learner = XLearner(models=first_stage_clf(), propensity_model=first_stage_clf())"
      ],
      "metadata": {
        "id": "aguzz5ZClgQK"
      },
      "execution_count": null,
      "outputs": []
    },
    {
      "cell_type": "code",
      "source": [
        "# Train X_learner\n",
        "X_learner.fit(Y1A_train, T_train, X=X_train)"
      ],
      "metadata": {
        "colab": {
          "base_uri": "https://localhost:8080/"
        },
        "id": "vA7YMZghl4qy",
        "outputId": "c6f9f318-8c57-4e7c-9a4c-610c03221d37"
      },
      "execution_count": null,
      "outputs": [
        {
          "output_type": "execute_result",
          "data": {
            "text/plain": [
              "<econml.metalearners._metalearners.XLearner at 0x7f1479b8d910>"
            ]
          },
          "metadata": {},
          "execution_count": 73
        }
      ]
    },
    {
      "cell_type": "code",
      "source": [
        "# Assuming that X_learner.models is a list of the fitted GridSearchCVList objects\n",
        "best_estimators_models = [model.best_estimator_ for model in X_learner.models]\n",
        "\n",
        "# best_estimators[0] contains the best LogisticRegression estimator\n",
        "# best_estimators[1] contains the best RandomForestClassifier estimator\n",
        "# best_estimators[2] contains the best GradientBoostingClassifier estimator\n",
        "print(best_estimators_models)"
      ],
      "metadata": {
        "colab": {
          "base_uri": "https://localhost:8080/"
        },
        "id": "h_vV8O0El9aM",
        "outputId": "8a3524c1-a83b-4ad5-e194-6934516881ff"
      },
      "execution_count": null,
      "outputs": [
        {
          "output_type": "stream",
          "name": "stdout",
          "text": [
            "[GradientBoostingClassifier(min_samples_leaf=30, n_estimators=50,\n",
            "                           random_state=123), GradientBoostingClassifier(min_samples_leaf=30, random_state=123)]\n"
          ]
        }
      ]
    },
    {
      "cell_type": "code",
      "source": [
        "best_estimators_models = [GradientBoostingClassifier(min_samples_leaf=30, n_estimators=50,\n",
        "                           random_state=123), GradientBoostingClassifier(min_samples_leaf=30, random_state=123)]"
      ],
      "metadata": {
        "id": "oVjzVvU3C5Lk"
      },
      "execution_count": null,
      "outputs": []
    },
    {
      "cell_type": "code",
      "source": [
        "best_estimator_pm = X_learner.propensity_models[0].best_estimator_\n",
        "print(best_estimator_pm)"
      ],
      "metadata": {
        "colab": {
          "base_uri": "https://localhost:8080/"
        },
        "id": "EbFlcVf2odl_",
        "outputId": "5b8da716-ec41-4d76-874e-66350f3b8609"
      },
      "execution_count": null,
      "outputs": [
        {
          "output_type": "stream",
          "name": "stdout",
          "text": [
            "GradientBoostingClassifier(min_samples_leaf=30, random_state=123)\n"
          ]
        }
      ]
    },
    {
      "cell_type": "code",
      "source": [
        "best_estimator_pm = GradientBoostingClassifier(min_samples_leaf=30, random_state=123)"
      ],
      "metadata": {
        "id": "7TJPQAMvC7Ea"
      },
      "execution_count": null,
      "outputs": []
    },
    {
      "cell_type": "code",
      "source": [
        "# Estimate treatment effects on test data\n",
        "X_learner = XLearner(models=best_estimators_models, propensity_model=best_estimator_pm)\n",
        "X_learner.fit(Y1A_train, T_train, X=X_train, inference='bootstrap')\n",
        "X_te = X_learner.effect(X_test)\n",
        "X_te_inference = X_learner.effect_inference(X_test).population_summary(alpha=0.1, value=0, decimals=3, tol=0.001)\n",
        "print(X_te_inference)"
      ],
      "metadata": {
        "colab": {
          "base_uri": "https://localhost:8080/"
        },
        "id": "0BLr1uPAmwAh",
        "outputId": "ffc6545c-c5ba-4567-8bb1-c556494198c8"
      },
      "execution_count": null,
      "outputs": [
        {
          "output_type": "stream",
          "name": "stdout",
          "text": [
            "               Uncertainty of Mean Point Estimate              \n",
            "===============================================================\n",
            "mean_point stderr_mean zstat pvalue ci_mean_lower ci_mean_upper\n",
            "---------------------------------------------------------------\n",
            "     0.015       0.154 0.097  0.922        -0.238         0.268\n",
            "      Distribution of Point Estimate     \n",
            "=========================================\n",
            "std_point pct_point_lower pct_point_upper\n",
            "-----------------------------------------\n",
            "    0.135             0.0             0.0\n",
            "     Total Variance of Point Estimate     \n",
            "==========================================\n",
            "stderr_point ci_point_lower ci_point_upper\n",
            "------------------------------------------\n",
            "       0.204            nan            nan\n",
            "------------------------------------------\n",
            "\n",
            "Note: The stderr_mean is a conservative upper bound.\n"
          ]
        }
      ]
    },
    {
      "cell_type": "markdown",
      "source": [
        "### 5.2 Calculate the robustness"
      ],
      "metadata": {
        "id": "-az0EYiVrq9N"
      }
    },
    {
      "cell_type": "code",
      "source": [
        "X_learner.fit(Y=Y1A_test, T=T_test, X=X_test)\n",
        "X_te_test = X_learner.effect(X_test)\n",
        "\n",
        "ERMSE = ((X_te-X_te_test)**2).mean()**(1/2)\n",
        "print(ERMSE)"
      ],
      "metadata": {
        "colab": {
          "base_uri": "https://localhost:8080/"
        },
        "id": "5oIQJ1l4rsjL",
        "outputId": "cede7b64-d0d5-4a06-89d3-b6073df28f5e"
      },
      "execution_count": null,
      "outputs": [
        {
          "output_type": "stream",
          "name": "stdout",
          "text": [
            "0.21483630614728785\n"
          ]
        }
      ]
    },
    {
      "cell_type": "markdown",
      "source": [
        "### 5.3 Calculate the R-Score"
      ],
      "metadata": {
        "id": "P8wFh5XvtHNu"
      }
    },
    {
      "cell_type": "code",
      "source": [
        "rscore = scorer_a.score(X_learner)\n",
        "print(rscore)"
      ],
      "metadata": {
        "colab": {
          "base_uri": "https://localhost:8080/"
        },
        "id": "HjOSVw3itRfh",
        "outputId": "0a824afa-122b-4696-8343-bbad82003b9e"
      },
      "execution_count": null,
      "outputs": [
        {
          "output_type": "stream",
          "name": "stdout",
          "text": [
            "0.09131423951435569\n"
          ]
        }
      ]
    },
    {
      "cell_type": "markdown",
      "source": [
        "## 6. Causal Forest DML "
      ],
      "metadata": {
        "id": "bJ7s-LXB-trW"
      }
    },
    {
      "cell_type": "markdown",
      "source": [
        "### 6.1 Select best performing nuisance model and hyperparameter"
      ],
      "metadata": {
        "id": "cwvkdptF-z57"
      }
    },
    {
      "cell_type": "code",
      "source": [
        "forestdml = CausalForestDML(model_y=model_ya, model_t=model_ta, discrete_treatment=True,random_state=seed)"
      ],
      "metadata": {
        "id": "sKB-JFd2-3eV"
      },
      "execution_count": null,
      "outputs": []
    },
    {
      "cell_type": "code",
      "source": [
        "forestdml.fit(Y1A_train, T_train, X=X_train)"
      ],
      "metadata": {
        "colab": {
          "base_uri": "https://localhost:8080/"
        },
        "id": "mM_WS-13AX3B",
        "outputId": "5af69812-c8a9-4be2-d87e-2a7894cedac7"
      },
      "execution_count": null,
      "outputs": [
        {
          "output_type": "execute_result",
          "data": {
            "text/plain": [
              "<econml.dml.causal_forest.CausalForestDML at 0x7f13b3732f40>"
            ]
          },
          "metadata": {},
          "execution_count": 159
        }
      ]
    },
    {
      "cell_type": "code",
      "source": [
        "# Estimate treatment effects on test data\n",
        "forestdml_te = forestdml.effect(X_test)\n",
        "forestdml_te_inference = forestdml.effect_inference(X_test).population_summary(alpha=0.1, value=0, decimals=3, tol=0.001)\n",
        "print(forestdml_te_inference)"
      ],
      "metadata": {
        "colab": {
          "base_uri": "https://localhost:8080/"
        },
        "id": "eB1Ae1DXA1M5",
        "outputId": "921e8240-2139-4f71-db10-927a0264900c"
      },
      "execution_count": null,
      "outputs": [
        {
          "output_type": "stream",
          "name": "stdout",
          "text": [
            "               Uncertainty of Mean Point Estimate               \n",
            "================================================================\n",
            "mean_point stderr_mean zstat  pvalue ci_mean_lower ci_mean_upper\n",
            "----------------------------------------------------------------\n",
            "    -0.001       0.091 -0.008  0.993        -0.151         0.149\n",
            "      Distribution of Point Estimate     \n",
            "=========================================\n",
            "std_point pct_point_lower pct_point_upper\n",
            "-----------------------------------------\n",
            "    0.041          -0.064            0.07\n",
            "     Total Variance of Point Estimate     \n",
            "==========================================\n",
            "stderr_point ci_point_lower ci_point_upper\n",
            "------------------------------------------\n",
            "         0.1         -0.155          0.164\n",
            "------------------------------------------\n",
            "\n",
            "Note: The stderr_mean is a conservative upper bound.\n"
          ]
        }
      ]
    },
    {
      "cell_type": "markdown",
      "source": [
        "### 6.2 Calculate the robustness"
      ],
      "metadata": {
        "id": "EevaHOErB21m"
      }
    },
    {
      "cell_type": "code",
      "source": [
        "forestdml.fit(Y=Y1A_test, T=T_test, X=X_test)\n",
        "forestdml_te_test = forestdml.effect(X_test)\n",
        "\n",
        "ERMSE = ((forestdml_te-forestdml_te_test)**2).mean()**(1/2)\n",
        "print(ERMSE)"
      ],
      "metadata": {
        "colab": {
          "base_uri": "https://localhost:8080/"
        },
        "id": "n88bIoqABgPy",
        "outputId": "a65eedad-d2a8-4de1-93f2-bcb7b87b04a5"
      },
      "execution_count": null,
      "outputs": [
        {
          "output_type": "stream",
          "name": "stdout",
          "text": [
            "0.09384345792279752\n"
          ]
        }
      ]
    },
    {
      "cell_type": "markdown",
      "source": [
        "### 6.3 Calculate the RScore"
      ],
      "metadata": {
        "id": "xNWaDj3ECMdu"
      }
    },
    {
      "cell_type": "code",
      "source": [
        "rscore = scorer_a.score(forestdml)\n",
        "print(rscore)"
      ],
      "metadata": {
        "colab": {
          "base_uri": "https://localhost:8080/"
        },
        "id": "ooLd0xH1CQT1",
        "outputId": "05146620-a24c-4e41-8895-302ab2eb1328"
      },
      "execution_count": null,
      "outputs": [
        {
          "output_type": "stream",
          "name": "stdout",
          "text": [
            "0.036048670577151\n"
          ]
        }
      ]
    },
    {
      "cell_type": "markdown",
      "source": [
        "## 7. ForestDRLearner "
      ],
      "metadata": {
        "id": "XWQhYP6Yp1qk"
      }
    },
    {
      "cell_type": "markdown",
      "source": [
        "### 7.1 Select best performing nuisance model and hyperparameter"
      ],
      "metadata": {
        "id": "4yUTF8Ytp5HW"
      }
    },
    {
      "cell_type": "code",
      "source": [
        "#cv = KFold(n_splits=3, shuffle=True, random_state=123)\n",
        "forestdrl = ForestDRLearner(model_regression=model_yta, model_propensity=model_ta, random_state=seed)\n",
        "forestdrl.fit(Y1A_train, T_train, X=X_train, cache_values=True)\n",
        "# Estimate treatment effects on test data\n",
        "forestdrl_te = forestdrl.effect(X_test)\n",
        "forestdrl_te_inference = forestdrl.effect_inference(X_test).population_summary(alpha=0.1, value=0, decimals=3, tol=0.001)\n",
        "print(forestdrl_te_inference)"
      ],
      "metadata": {
        "id": "ZCLrubPHp89p",
        "colab": {
          "base_uri": "https://localhost:8080/"
        },
        "outputId": "952b4716-5791-423a-fc26-c07fef505df2"
      },
      "execution_count": null,
      "outputs": [
        {
          "output_type": "stream",
          "name": "stdout",
          "text": [
            "               Uncertainty of Mean Point Estimate              \n",
            "===============================================================\n",
            "mean_point stderr_mean zstat pvalue ci_mean_lower ci_mean_upper\n",
            "---------------------------------------------------------------\n",
            "     0.019       0.046 0.405  0.686        -0.057         0.094\n",
            "      Distribution of Point Estimate     \n",
            "=========================================\n",
            "std_point pct_point_lower pct_point_upper\n",
            "-----------------------------------------\n",
            "     0.02          -0.014           0.054\n",
            "     Total Variance of Point Estimate     \n",
            "==========================================\n",
            "stderr_point ci_point_lower ci_point_upper\n",
            "------------------------------------------\n",
            "        0.05         -0.062          0.102\n",
            "------------------------------------------\n",
            "\n",
            "Note: The stderr_mean is a conservative upper bound.\n"
          ]
        }
      ]
    },
    {
      "cell_type": "markdown",
      "source": [
        "### 7.2 Calculate the robustness"
      ],
      "metadata": {
        "id": "QsjIpuFVrNLq"
      }
    },
    {
      "cell_type": "code",
      "source": [
        "forestdrl.fit(Y=Y1A_test, T=T_test, X=X_test)\n",
        "forestdrl_te_test = forestdrl.effect(X_test)\n",
        "\n",
        "ERMSE = ((forestdrl_te-forestdrl_te_test)**2).mean()**(1/2)\n",
        "print(ERMSE)"
      ],
      "metadata": {
        "id": "9QCQltYirZYW",
        "colab": {
          "base_uri": "https://localhost:8080/"
        },
        "outputId": "11ec0e46-b99d-472e-c3e1-09c4fc605021"
      },
      "execution_count": null,
      "outputs": [
        {
          "output_type": "stream",
          "name": "stdout",
          "text": [
            "0.047924235471375656\n"
          ]
        }
      ]
    },
    {
      "cell_type": "markdown",
      "source": [
        "### 7.3 Calculate the RScore"
      ],
      "metadata": {
        "id": "ksp7NDmnreVl"
      }
    },
    {
      "cell_type": "code",
      "source": [
        "rscore = scorer_a.score(forestdrl)\n",
        "print(rscore)"
      ],
      "metadata": {
        "id": "1h2S3jYFrgnC",
        "colab": {
          "base_uri": "https://localhost:8080/"
        },
        "outputId": "11d5bc92-9470-4243-fb96-8f1ba083b2ed"
      },
      "execution_count": null,
      "outputs": [
        {
          "output_type": "stream",
          "name": "stdout",
          "text": [
            "0.01542487041382945\n"
          ]
        }
      ]
    },
    {
      "cell_type": "markdown",
      "source": [
        "## 8. NonParamDML "
      ],
      "metadata": {
        "id": "Q9AoNHQPCohU"
      }
    },
    {
      "cell_type": "markdown",
      "source": [
        "### 8.1 Select best performing nuisance model and hyperparameter"
      ],
      "metadata": {
        "id": "1LpocynjCvwg"
      }
    },
    {
      "cell_type": "code",
      "source": [
        "nonparamdml = NonParamDML(model_y=model_ya, model_t=model_ta, model_final=final_stage(),random_state=123)"
      ],
      "metadata": {
        "id": "ANNHOfQ_Cq3H"
      },
      "execution_count": null,
      "outputs": []
    },
    {
      "cell_type": "code",
      "source": [
        "nonparamdml.fit(Y1A_train, T_train, X=X_train)"
      ],
      "metadata": {
        "colab": {
          "base_uri": "https://localhost:8080/"
        },
        "id": "ZWLawbgBC4Vn",
        "outputId": "bbbd8e99-d9c9-4d05-9bb0-b6187f7f37b6"
      },
      "execution_count": null,
      "outputs": [
        {
          "output_type": "execute_result",
          "data": {
            "text/plain": [
              "<econml.dml.dml.NonParamDML at 0x7f1478a94f40>"
            ]
          },
          "metadata": {},
          "execution_count": 90
        }
      ]
    },
    {
      "cell_type": "code",
      "source": [
        "# Access the best estimator for model_final after fitting the NonParamDML\n",
        "best_estimator_model_final = nonparamdml.model_final_.best_estimator_\n",
        "print(best_estimator_model_final)"
      ],
      "metadata": {
        "colab": {
          "base_uri": "https://localhost:8080/"
        },
        "id": "K1iUXW7sDkWA",
        "outputId": "10a70e6b-3622-4eae-95c7-a824bf039b02"
      },
      "execution_count": null,
      "outputs": [
        {
          "output_type": "stream",
          "name": "stdout",
          "text": [
            "RandomForestRegressor(max_depth=5, min_samples_leaf=10, random_state=123)\n"
          ]
        }
      ]
    },
    {
      "cell_type": "code",
      "source": [
        "best_estimator_model_final = RandomForestRegressor(max_depth=5, min_samples_leaf=10, random_state=123, n_jobs=1)"
      ],
      "metadata": {
        "id": "EqoD37v7GFD0"
      },
      "execution_count": null,
      "outputs": []
    },
    {
      "cell_type": "code",
      "source": [
        "nonparamdml = NonParamDML(model_y=model_yb, model_t=model_tb, model_final=best_estimator_model_final,random_state=123)\n",
        "nonparamdml.fit(Y1B_train, T_train, X=X_train)"
      ],
      "metadata": {
        "id": "zvbWnPBOFOB1",
        "colab": {
          "base_uri": "https://localhost:8080/"
        },
        "outputId": "3200c85a-1484-4fc2-b836-b5f0dfa46af5"
      },
      "execution_count": null,
      "outputs": [
        {
          "output_type": "execute_result",
          "data": {
            "text/plain": [
              "<econml.dml.dml.NonParamDML at 0x7f95d05847c0>"
            ]
          },
          "metadata": {},
          "execution_count": 96
        }
      ]
    },
    {
      "cell_type": "code",
      "source": [
        "nonparamdml_te = nonparamdml.effect(X_test)\n",
        "nonparamdml_te_inference = nonparamdml.effect_inference(X_test).population_summary(alpha=0.1, value=0, decimals=3, tol=0.001)\n",
        "print(nonparamdml_te_inference)"
      ],
      "metadata": {
        "id": "GkCup_i-IB1i",
        "colab": {
          "base_uri": "https://localhost:8080/"
        },
        "outputId": "e7cf5f56-4dbd-484c-c9ea-78fc49bba5fc"
      },
      "execution_count": null,
      "outputs": [
        {
          "output_type": "stream",
          "name": "stdout",
          "text": [
            "Uncertainty of Mean Point Estimate\n",
            "==========\n",
            "mean_point\n",
            "----------\n",
            "     0.053\n",
            "      Distribution of Point Estimate     \n",
            "=========================================\n",
            "std_point pct_point_lower pct_point_upper\n",
            "-----------------------------------------\n",
            "    0.058           -0.02           0.158\n",
            "-----------------------------------------\n"
          ]
        }
      ]
    },
    {
      "cell_type": "markdown",
      "source": [
        "### 8.2 Calculate the robustness"
      ],
      "metadata": {
        "id": "aJPwibpvGZ2z"
      }
    },
    {
      "cell_type": "code",
      "source": [
        "nonparamdml.fit(Y=Y1A_test, T=T_test, X=X_test)\n",
        "nonparamdml_te_test = nonparamdml.effect(X_test)\n",
        "\n",
        "ERMSE = ((nonparamdml_te-nonparamdml_te_test)**2).mean()**(1/2)\n",
        "print(ERMSE)"
      ],
      "metadata": {
        "colab": {
          "base_uri": "https://localhost:8080/"
        },
        "id": "XQeoSv6cGaw8",
        "outputId": "5a92f894-bbb3-4250-a6e7-580d06cdcab4"
      },
      "execution_count": null,
      "outputs": [
        {
          "output_type": "stream",
          "name": "stdout",
          "text": [
            "0.13718927198281988\n"
          ]
        }
      ]
    },
    {
      "cell_type": "markdown",
      "source": [
        "### 8.3 Calculate the RScore"
      ],
      "metadata": {
        "id": "jQ0WwjjwIKAa"
      }
    },
    {
      "cell_type": "code",
      "source": [
        "rscore = scorer_a.score(nonparamdml)\n",
        "print(rscore)"
      ],
      "metadata": {
        "colab": {
          "base_uri": "https://localhost:8080/"
        },
        "id": "yF33x-ZzIL4k",
        "outputId": "276157d5-fb3e-4f02-ee82-5150be8bea40"
      },
      "execution_count": null,
      "outputs": [
        {
          "output_type": "stream",
          "name": "stdout",
          "text": [
            "0.008302116152131611\n"
          ]
        }
      ]
    },
    {
      "cell_type": "markdown",
      "source": [
        "# (B) Estimator selection: Continuous outcome\n"
      ],
      "metadata": {
        "id": "2hNe6eUkEBaf"
      }
    },
    {
      "cell_type": "markdown",
      "source": [
        "## 1. Linear DML "
      ],
      "metadata": {
        "id": "qog4kdo3EKTV"
      }
    },
    {
      "cell_type": "markdown",
      "source": [
        "### 1.1 Select the best performing nuisance model class and hyperparameters "
      ],
      "metadata": {
        "id": "KrVjcydYEfE7"
      }
    },
    {
      "cell_type": "code",
      "source": [
        "ldml = LinearDML(model_y=model_yb,\n",
        "                model_t=model_tb,\n",
        "                random_state=123)"
      ],
      "metadata": {
        "id": "F90eDeJeGxJ2"
      },
      "execution_count": null,
      "outputs": []
    },
    {
      "cell_type": "code",
      "source": [
        "ldml.fit(Y1B_train, T_train, X=X_train)"
      ],
      "metadata": {
        "colab": {
          "base_uri": "https://localhost:8080/"
        },
        "outputId": "de358b0c-c3e3-4bf1-dfa3-94c04277b42e",
        "id": "O4OolNwdG2iw"
      },
      "execution_count": null,
      "outputs": [
        {
          "output_type": "execute_result",
          "data": {
            "text/plain": [
              "<econml.dml.dml.LinearDML at 0x7f13b31c5640>"
            ]
          },
          "metadata": {},
          "execution_count": 97
        }
      ]
    },
    {
      "cell_type": "code",
      "source": [
        "ldml_cate = ldml.effect(X_test)\n",
        "ldml_cate_inference = ldml.effect_inference(X_test).population_summary(alpha=0.1, value=0, decimals=3, tol=0.001)\n",
        "print(ldml_cate_inference)"
      ],
      "metadata": {
        "colab": {
          "base_uri": "https://localhost:8080/"
        },
        "outputId": "b68ea797-0747-4e39-c8b2-2a419e10f37f",
        "id": "9udhof33G6lR"
      },
      "execution_count": null,
      "outputs": [
        {
          "output_type": "stream",
          "name": "stdout",
          "text": [
            "               Uncertainty of Mean Point Estimate               \n",
            "================================================================\n",
            "mean_point stderr_mean zstat  pvalue ci_mean_lower ci_mean_upper\n",
            "----------------------------------------------------------------\n",
            "    -0.026       0.018 -1.428  0.153        -0.057         0.004\n",
            "      Distribution of Point Estimate     \n",
            "=========================================\n",
            "std_point pct_point_lower pct_point_upper\n",
            "-----------------------------------------\n",
            "     0.16          -0.251           0.196\n",
            "     Total Variance of Point Estimate     \n",
            "==========================================\n",
            "stderr_point ci_point_lower ci_point_upper\n",
            "------------------------------------------\n",
            "       0.161         -0.356          0.299\n",
            "------------------------------------------\n"
          ]
        }
      ]
    },
    {
      "cell_type": "markdown",
      "source": [
        "### 1.2 Calculate the robustness"
      ],
      "metadata": {
        "id": "Zri1AY67Ew8m"
      }
    },
    {
      "cell_type": "code",
      "source": [
        "ldml.fit(Y=Y1B_test, T=T_test, X=X_test)\n",
        "ldml_cate_test = ldml.effect(X_test)\n",
        "\n",
        "ERMSE = ((ldml_cate-ldml_cate_test)**2).mean()**(1/2)\n",
        "print(ERMSE)"
      ],
      "metadata": {
        "colab": {
          "base_uri": "https://localhost:8080/"
        },
        "outputId": "4ce062cf-d2fd-46b5-a72e-e1a2e9a53ae7",
        "id": "OHIubGtPG-Dv"
      },
      "execution_count": null,
      "outputs": [
        {
          "output_type": "stream",
          "name": "stdout",
          "text": [
            "0.3771937007164605\n"
          ]
        }
      ]
    },
    {
      "cell_type": "markdown",
      "source": [
        "### 1.3 Calculate the RScore "
      ],
      "metadata": {
        "id": "ILF64Y65HWIa"
      }
    },
    {
      "cell_type": "code",
      "source": [
        "rscore = scorer_b.score(ldml)\n",
        "print(rscore)"
      ],
      "metadata": {
        "colab": {
          "base_uri": "https://localhost:8080/"
        },
        "outputId": "1f86efed-a8cf-45fe-fbe1-33e41ef72daa",
        "id": "i7m2ASw2HFI5"
      },
      "execution_count": null,
      "outputs": [
        {
          "output_type": "stream",
          "name": "stdout",
          "text": [
            "0.029743847273251744\n"
          ]
        }
      ]
    },
    {
      "cell_type": "markdown",
      "source": [
        "## 2. LinearDRLearner "
      ],
      "metadata": {
        "id": "jYU_Y9rSEN24"
      }
    },
    {
      "cell_type": "markdown",
      "source": [
        "### 2.1 Select best performing nuisance model class and hyperparameters"
      ],
      "metadata": {
        "id": "5LNKj5deEm_O"
      }
    },
    {
      "cell_type": "code",
      "source": [
        "LinearDR_learner = LinearDRLearner(model_regression=model_ytb, model_propensity=model_tb, random_state=123)"
      ],
      "metadata": {
        "id": "KOHvx1SIHhnH"
      },
      "execution_count": null,
      "outputs": []
    },
    {
      "cell_type": "code",
      "source": [
        "LinearDR_learner.fit(Y1B_train, T_train, X=X_train)"
      ],
      "metadata": {
        "colab": {
          "base_uri": "https://localhost:8080/"
        },
        "outputId": "6d7a77d0-cf75-425c-c95f-d49c14b952ab",
        "id": "PE9GS_9cH1sc"
      },
      "execution_count": null,
      "outputs": [
        {
          "output_type": "execute_result",
          "data": {
            "text/plain": [
              "<econml.dr._drlearner.LinearDRLearner at 0x7f13b36d9850>"
            ]
          },
          "metadata": {},
          "execution_count": 108
        }
      ]
    },
    {
      "cell_type": "code",
      "source": [
        "LinearDR_learner_cate = LinearDR_learner.effect(X_test)"
      ],
      "metadata": {
        "id": "490AWhoZITO4"
      },
      "execution_count": null,
      "outputs": []
    },
    {
      "cell_type": "code",
      "source": [
        "LinearDR_learner_cate_inference = LinearDR_learner.effect_inference(X_test).population_summary(alpha=0.1, value=0, decimals=3, tol=0.001)\n",
        "print(LinearDR_learner_cate_inference)"
      ],
      "metadata": {
        "colab": {
          "base_uri": "https://localhost:8080/"
        },
        "id": "TxjSbFsTH9s8",
        "outputId": "485e2fa7-83c1-473e-adeb-3ef40e5e1318"
      },
      "execution_count": null,
      "outputs": [
        {
          "output_type": "stream",
          "name": "stdout",
          "text": [
            "               Uncertainty of Mean Point Estimate              \n",
            "===============================================================\n",
            "mean_point stderr_mean zstat pvalue ci_mean_lower ci_mean_upper\n",
            "---------------------------------------------------------------\n",
            "     0.023       0.019 1.214  0.225        -0.008         0.054\n",
            "      Distribution of Point Estimate     \n",
            "=========================================\n",
            "std_point pct_point_lower pct_point_upper\n",
            "-----------------------------------------\n",
            "    0.146          -0.202           0.267\n",
            "     Total Variance of Point Estimate     \n",
            "==========================================\n",
            "stderr_point ci_point_lower ci_point_upper\n",
            "------------------------------------------\n",
            "       0.147         -0.307          0.379\n",
            "------------------------------------------\n"
          ]
        }
      ]
    },
    {
      "cell_type": "markdown",
      "source": [
        " ### 2.2 Calculate the robustness"
      ],
      "metadata": {
        "id": "cMvIGj9-IErr"
      }
    },
    {
      "cell_type": "code",
      "source": [
        "LinearDR_learner.fit(Y=Y1B_test, T=T_test, X=X_test)\n",
        "LinearDR_learner_cate_test = LinearDR_learner.effect(X_test)\n",
        "\n",
        "ERMSE = ((LinearDR_learner_cate-LinearDR_learner_cate_test)**2).mean()**(1/2)\n",
        "print(ERMSE)"
      ],
      "metadata": {
        "colab": {
          "base_uri": "https://localhost:8080/"
        },
        "outputId": "7f436c1d-724d-4250-b2b8-f6f9771346bf",
        "id": "m_nJmH1jINak"
      },
      "execution_count": null,
      "outputs": [
        {
          "output_type": "stream",
          "name": "stdout",
          "text": [
            "0.44331252765324997\n"
          ]
        }
      ]
    },
    {
      "cell_type": "markdown",
      "source": [
        "### 2.3 Calculate the RScore\n"
      ],
      "metadata": {
        "id": "buTD1kyXIU8P"
      }
    },
    {
      "cell_type": "code",
      "source": [
        "rscore = scorer_b.score(LinearDR_learner)\n",
        "print(rscore)"
      ],
      "metadata": {
        "colab": {
          "base_uri": "https://localhost:8080/"
        },
        "outputId": "b0827efd-86ea-418a-9ad2-b0628b496f20",
        "id": "j2JTlP2ZIZ8f"
      },
      "execution_count": null,
      "outputs": [
        {
          "output_type": "stream",
          "name": "stdout",
          "text": [
            "-0.00507321797271687\n"
          ]
        }
      ]
    },
    {
      "cell_type": "markdown",
      "source": [
        "## 3. S-Learner "
      ],
      "metadata": {
        "id": "HmKhy8GbEQz4"
      }
    },
    {
      "cell_type": "markdown",
      "source": [
        "### 3.1 Select best performing nuisance model class and hyperparameters"
      ],
      "metadata": {
        "id": "I0Ot_cbCEpSL"
      }
    },
    {
      "cell_type": "code",
      "source": [
        "# Instantiate the SLearner\n",
        "S_learner = SLearner(overall_model= first_stage_reg())"
      ],
      "metadata": {
        "id": "4rPB8rvjI1fO"
      },
      "execution_count": null,
      "outputs": []
    },
    {
      "cell_type": "code",
      "source": [
        "# Train S_learner\n",
        "best_estimator_s_learner = S_learner.fit(Y1B_train, T_train, X=X_train).overall_model.best_estimator_\n",
        "print(best_estimator_s_learner)"
      ],
      "metadata": {
        "colab": {
          "base_uri": "https://localhost:8080/"
        },
        "outputId": "309e62f6-7e53-49a1-fa1c-60388346ac2c",
        "id": "TpBbENBUI5j-"
      },
      "execution_count": null,
      "outputs": [
        {
          "output_type": "stream",
          "name": "stdout",
          "text": [
            "RandomForestRegressor(min_samples_leaf=10, random_state=123)\n"
          ]
        }
      ]
    },
    {
      "cell_type": "code",
      "source": [
        "best_estimator_s_learner = RandomForestRegressor(min_samples_leaf=10, random_state=123, n_jobs=1)"
      ],
      "metadata": {
        "id": "oqdIIdv4JDuL"
      },
      "execution_count": null,
      "outputs": []
    },
    {
      "cell_type": "code",
      "source": [
        "# Estimate treatment effects on test data\n",
        "S_learner = SLearner(overall_model=best_estimator_s_learner)\n",
        "S_learner.fit(Y1B_train, T_train, X=X_train, inference='bootstrap')\n",
        "S_te = S_learner.effect(X_test)"
      ],
      "metadata": {
        "id": "6mFGBQv4JBNd"
      },
      "execution_count": null,
      "outputs": []
    },
    {
      "cell_type": "code",
      "source": [
        "S_te_inference = S_learner.effect_inference(X_test).population_summary(alpha=0.1, value=0, decimals=3, tol=0.001)\n",
        "print(S_te_inference)"
      ],
      "metadata": {
        "colab": {
          "base_uri": "https://localhost:8080/"
        },
        "id": "xvh5uJrdJU1q",
        "outputId": "2ea8c62a-e411-47a1-a8d3-5a771f2941d1"
      },
      "execution_count": null,
      "outputs": [
        {
          "output_type": "stream",
          "name": "stdout",
          "text": [
            "               Uncertainty of Mean Point Estimate              \n",
            "===============================================================\n",
            "mean_point stderr_mean zstat pvalue ci_mean_lower ci_mean_upper\n",
            "---------------------------------------------------------------\n",
            "     0.001        0.01 0.123  0.902        -0.015         0.017\n",
            "      Distribution of Point Estimate     \n",
            "=========================================\n",
            "std_point pct_point_lower pct_point_upper\n",
            "-----------------------------------------\n",
            "    0.007           -0.01           0.013\n",
            "     Total Variance of Point Estimate     \n",
            "==========================================\n",
            "stderr_point ci_point_lower ci_point_upper\n",
            "------------------------------------------\n",
            "       0.012         -0.017          0.021\n",
            "------------------------------------------\n",
            "\n",
            "Note: The stderr_mean is a conservative upper bound.\n"
          ]
        }
      ]
    },
    {
      "cell_type": "markdown",
      "source": [
        "### 3.2 Calculate the robustness"
      ],
      "metadata": {
        "id": "JDNGRTMKJRQK"
      }
    },
    {
      "cell_type": "code",
      "source": [
        "S_learner.fit(Y=Y1B_test, T=T_test, X=X_test)\n",
        "S_te_test = S_learner.effect(X_test)\n",
        "\n",
        "ERMSE = ((S_te-S_te_test)**2).mean()**(1/2)\n",
        "print(ERMSE)"
      ],
      "metadata": {
        "colab": {
          "base_uri": "https://localhost:8080/"
        },
        "id": "y_QXiGqYJcST",
        "outputId": "f49a1157-45b8-4585-be48-dd3ba2510e32"
      },
      "execution_count": null,
      "outputs": [
        {
          "output_type": "stream",
          "name": "stdout",
          "text": [
            "0.010073471562534431\n"
          ]
        }
      ]
    },
    {
      "cell_type": "markdown",
      "source": [
        "### 3.3 Calculate the RScore "
      ],
      "metadata": {
        "id": "b0oceiqvJeMn"
      }
    },
    {
      "cell_type": "code",
      "source": [
        "rscore = scorer_b.score(S_learner)\n",
        "print(rscore)"
      ],
      "metadata": {
        "colab": {
          "base_uri": "https://localhost:8080/"
        },
        "id": "pu0yUkUYJgef",
        "outputId": "c1017959-770f-4878-f4db-b5bd69db2790"
      },
      "execution_count": null,
      "outputs": [
        {
          "output_type": "stream",
          "name": "stdout",
          "text": [
            "-0.00507321797271687\n"
          ]
        }
      ]
    },
    {
      "cell_type": "markdown",
      "source": [
        "## 4. T-Learner "
      ],
      "metadata": {
        "id": "ryn29XOFESlq"
      }
    },
    {
      "cell_type": "markdown",
      "source": [
        "### 4.1 Select the best performing nuisance model class and hyperparameters"
      ],
      "metadata": {
        "id": "YG7M9yYfJhl9"
      }
    },
    {
      "cell_type": "code",
      "source": [
        "# Instantiate the T_Learner\n",
        "T_learner = TLearner(models=first_stage_reg())"
      ],
      "metadata": {
        "id": "0Ttu2m_kKMN-"
      },
      "execution_count": null,
      "outputs": []
    },
    {
      "cell_type": "code",
      "source": [
        "# Train T_learner\n",
        "T_learner.fit(Y1B_train, T_train, X=X_train)"
      ],
      "metadata": {
        "colab": {
          "base_uri": "https://localhost:8080/"
        },
        "outputId": "45f23e5f-246b-4a34-abea-1ddd2cb851da",
        "id": "BU1ekeQBKQSj"
      },
      "execution_count": null,
      "outputs": [
        {
          "output_type": "execute_result",
          "data": {
            "text/plain": [
              "<econml.metalearners._metalearners.TLearner at 0x7f13b30950d0>"
            ]
          },
          "metadata": {},
          "execution_count": 121
        }
      ]
    },
    {
      "cell_type": "code",
      "source": [
        "# Assuming that T_learner.models is a list of the fitted GridSearchCVList objects\n",
        "best_estimators = [model.best_estimator_ for model in T_learner.models]\n",
        "print(best_estimators)"
      ],
      "metadata": {
        "colab": {
          "base_uri": "https://localhost:8080/"
        },
        "outputId": "4d0a78d1-74f5-426b-bd63-08be86c0e035",
        "id": "G64k_-m5KWV3"
      },
      "execution_count": null,
      "outputs": [
        {
          "output_type": "stream",
          "name": "stdout",
          "text": [
            "[RandomForestRegressor(min_samples_leaf=10, random_state=123), RandomForestRegressor(min_samples_leaf=10, random_state=123)]\n"
          ]
        }
      ]
    },
    {
      "cell_type": "code",
      "source": [
        "best_estimators = [RandomForestRegressor(min_samples_leaf=10, random_state=123, n_jobs=1), RandomForestRegressor(min_samples_leaf=10, random_state=123, n_jobs=1)]"
      ],
      "metadata": {
        "id": "LbjYf4a7KbFj"
      },
      "execution_count": null,
      "outputs": []
    },
    {
      "cell_type": "code",
      "source": [
        "# Estimate treatment effects on test data\n",
        "T_learner = TLearner(models=best_estimators)\n",
        "T_learner.fit(Y1B_train, T_train, X=X_train, inference='bootstrap')\n",
        "T_te = T_learner.effect(X_test)"
      ],
      "metadata": {
        "id": "36u_OO-vKfYB"
      },
      "execution_count": null,
      "outputs": []
    },
    {
      "cell_type": "code",
      "source": [
        "T_te_inference = T_learner.effect_inference(X_test).population_summary(alpha=0.1, value=0, decimals=3, tol=0.001)\n",
        "print(T_te_inference)"
      ],
      "metadata": {
        "colab": {
          "base_uri": "https://localhost:8080/"
        },
        "outputId": "0cda8e04-61a1-42e9-f454-03b3543e0d0f",
        "id": "euaQs2ExKjsF"
      },
      "execution_count": null,
      "outputs": [
        {
          "output_type": "stream",
          "name": "stdout",
          "text": [
            "               Uncertainty of Mean Point Estimate              \n",
            "===============================================================\n",
            "mean_point stderr_mean zstat pvalue ci_mean_lower ci_mean_upper\n",
            "---------------------------------------------------------------\n",
            "     0.029       0.126 0.231  0.817        -0.178         0.236\n",
            "      Distribution of Point Estimate     \n",
            "=========================================\n",
            "std_point pct_point_lower pct_point_upper\n",
            "-----------------------------------------\n",
            "     0.13          -0.192           0.243\n",
            "     Total Variance of Point Estimate     \n",
            "==========================================\n",
            "stderr_point ci_point_lower ci_point_upper\n",
            "------------------------------------------\n",
            "       0.181         -0.261          0.324\n",
            "------------------------------------------\n",
            "\n",
            "Note: The stderr_mean is a conservative upper bound.\n"
          ]
        }
      ]
    },
    {
      "cell_type": "markdown",
      "source": [
        "### 4.2 Calculate the robustness "
      ],
      "metadata": {
        "id": "KffwdJFaJkuO"
      }
    },
    {
      "cell_type": "code",
      "source": [
        "T_learner.fit(Y=Y1B_test, T=T_test, X=X_test)\n",
        "T_te_test = T_learner.effect(X_test)\n",
        "\n",
        "ERMSE = ((T_te-T_te_test)**2).mean()**(1/2)\n",
        "print(ERMSE)"
      ],
      "metadata": {
        "colab": {
          "base_uri": "https://localhost:8080/"
        },
        "outputId": "62f662e3-d526-411a-b769-41a2b93b7395",
        "id": "A0NA0rW8KnkB"
      },
      "execution_count": null,
      "outputs": [
        {
          "output_type": "stream",
          "name": "stdout",
          "text": [
            "0.21301635522606827\n"
          ]
        }
      ]
    },
    {
      "cell_type": "markdown",
      "source": [
        "### 4.3 Calculate the RScore "
      ],
      "metadata": {
        "id": "CZ5eSAnkJnND"
      }
    },
    {
      "cell_type": "code",
      "source": [
        "rscore = scorer_b.score(T_learner)\n",
        "print(rscore)"
      ],
      "metadata": {
        "colab": {
          "base_uri": "https://localhost:8080/"
        },
        "outputId": "57a4b3a9-cdd2-4329-953e-5f4674d1c59d",
        "id": "l1ARIr8dKrFn"
      },
      "execution_count": null,
      "outputs": [
        {
          "output_type": "stream",
          "name": "stdout",
          "text": [
            "0.13251803843958443\n"
          ]
        }
      ]
    },
    {
      "cell_type": "markdown",
      "source": [
        "## 5. X-learner \n"
      ],
      "metadata": {
        "id": "FvxD9MLzEUmz"
      }
    },
    {
      "cell_type": "markdown",
      "source": [
        "### 5.1 Select the best performing nuisance model class and hyperparameters "
      ],
      "metadata": {
        "id": "VVICCks6JpV5"
      }
    },
    {
      "cell_type": "code",
      "source": [
        "# Instantiate the X_Learner\n",
        "X_learner = XLearner(models=first_stage_reg(), propensity_model=first_stage_clf())"
      ],
      "metadata": {
        "id": "cP3WFxhxLAoS"
      },
      "execution_count": null,
      "outputs": []
    },
    {
      "cell_type": "code",
      "source": [
        "# Train X_learner\n",
        "X_learner.fit(Y1B_train, T_train, X=X_train)"
      ],
      "metadata": {
        "colab": {
          "base_uri": "https://localhost:8080/"
        },
        "outputId": "a634a59e-4bd1-43d9-882c-55bd68ade057",
        "id": "nacF_fyJLAoU"
      },
      "execution_count": null,
      "outputs": [
        {
          "output_type": "execute_result",
          "data": {
            "text/plain": [
              "<econml.metalearners._metalearners.XLearner at 0x7f13b3397340>"
            ]
          },
          "metadata": {},
          "execution_count": 129
        }
      ]
    },
    {
      "cell_type": "code",
      "source": [
        "# Assuming that X_learner.models is a list of the fitted GridSearchCVList objects\n",
        "best_estimators_models = [model.best_estimator_ for model in X_learner.models]\n",
        "\n",
        "# best_estimators[0] contains the best LogisticRegression estimator\n",
        "# best_estimators[1] contains the best RandomForestClassifier estimator\n",
        "# best_estimators[2] contains the best GradientBoostingClassifier estimator\n",
        "print(best_estimators_models)"
      ],
      "metadata": {
        "colab": {
          "base_uri": "https://localhost:8080/"
        },
        "outputId": "79630db7-4390-417b-ccac-860ac81eecaf",
        "id": "7Autz18LLAoU"
      },
      "execution_count": null,
      "outputs": [
        {
          "output_type": "stream",
          "name": "stdout",
          "text": [
            "[RandomForestRegressor(min_samples_leaf=10, random_state=123), RandomForestRegressor(min_samples_leaf=10, random_state=123)]\n"
          ]
        }
      ]
    },
    {
      "cell_type": "code",
      "source": [
        "best_estimators_models = [RandomForestRegressor(min_samples_leaf=10, random_state=123, n_jobs=1), RandomForestRegressor(min_samples_leaf=10, random_state=123, n_jobs=1)]\n"
      ],
      "metadata": {
        "id": "EDfoVdH1LAoU"
      },
      "execution_count": null,
      "outputs": []
    },
    {
      "cell_type": "code",
      "source": [
        "best_estimator_pm = X_learner.propensity_models[0].best_estimator_\n",
        "print(best_estimator_pm)"
      ],
      "metadata": {
        "colab": {
          "base_uri": "https://localhost:8080/"
        },
        "outputId": "cdc8982b-43cc-4e66-db3c-6b5906553751",
        "id": "VpkiE1GcLAoU"
      },
      "execution_count": null,
      "outputs": [
        {
          "output_type": "stream",
          "name": "stdout",
          "text": [
            "GradientBoostingClassifier(min_samples_leaf=30, random_state=123)\n"
          ]
        }
      ]
    },
    {
      "cell_type": "code",
      "source": [
        "best_estimator_pm = GradientBoostingClassifier(min_samples_leaf=30, random_state=123)\n"
      ],
      "metadata": {
        "id": "D8TnHC4qLAoU"
      },
      "execution_count": null,
      "outputs": []
    },
    {
      "cell_type": "code",
      "source": [
        "# Estimate treatment effects on test data\n",
        "X_learner = XLearner(models=best_estimators_models, propensity_model=best_estimator_pm)\n",
        "X_learner.fit(Y1B_train, T_train, X=X_train, inference='bootstrap')\n",
        "X_te = X_learner.effect(X_test)\n",
        "X_te_inference = X_learner.effect_inference(X_test).population_summary(alpha=0.1, value=0, decimals=3, tol=0.001)\n",
        "print(X_te_inference)"
      ],
      "metadata": {
        "colab": {
          "base_uri": "https://localhost:8080/"
        },
        "outputId": "a3643cd5-3f5c-4a2f-fe45-d893da38e401",
        "id": "tn3A11p-LAoU"
      },
      "execution_count": null,
      "outputs": [
        {
          "output_type": "stream",
          "name": "stdout",
          "text": [
            "               Uncertainty of Mean Point Estimate              \n",
            "===============================================================\n",
            "mean_point stderr_mean zstat pvalue ci_mean_lower ci_mean_upper\n",
            "---------------------------------------------------------------\n",
            "     0.026       0.079 0.333  0.739        -0.104         0.157\n",
            "      Distribution of Point Estimate     \n",
            "=========================================\n",
            "std_point pct_point_lower pct_point_upper\n",
            "-----------------------------------------\n",
            "    0.079          -0.084           0.156\n",
            "     Total Variance of Point Estimate     \n",
            "==========================================\n",
            "stderr_point ci_point_lower ci_point_upper\n",
            "------------------------------------------\n",
            "       0.112         -0.134          0.203\n",
            "------------------------------------------\n",
            "\n",
            "Note: The stderr_mean is a conservative upper bound.\n"
          ]
        }
      ]
    },
    {
      "cell_type": "markdown",
      "source": [
        "### 5.2 Calculate the robustness "
      ],
      "metadata": {
        "id": "vZFNH_liJsmw"
      }
    },
    {
      "cell_type": "code",
      "source": [
        "X_learner.fit(Y=Y1B_test, T=T_test, X=X_test)\n",
        "X_te_test = X_learner.effect(X_test)\n",
        "\n",
        "ERMSE = ((X_te-X_te_test)**2).mean()**(1/2)\n",
        "print(ERMSE)"
      ],
      "metadata": {
        "colab": {
          "base_uri": "https://localhost:8080/"
        },
        "outputId": "17c819d6-6406-4b07-cd07-4384c254ec3d",
        "id": "f-wN1hIYLOfU"
      },
      "execution_count": null,
      "outputs": [
        {
          "output_type": "stream",
          "name": "stdout",
          "text": [
            "0.1158891462801172\n"
          ]
        }
      ]
    },
    {
      "cell_type": "markdown",
      "source": [
        "### 5.3 Calculate the RScore "
      ],
      "metadata": {
        "id": "Q4MUUP2HJwUU"
      }
    },
    {
      "cell_type": "code",
      "source": [
        "rscore = scorer_b.score(X_learner)\n",
        "print(rscore)"
      ],
      "metadata": {
        "colab": {
          "base_uri": "https://localhost:8080/"
        },
        "outputId": "08be6431-a0fb-4117-9695-029f41a62682",
        "id": "zhdVBo9iLKsL"
      },
      "execution_count": null,
      "outputs": [
        {
          "output_type": "stream",
          "name": "stdout",
          "text": [
            "0.05586523221334394\n"
          ]
        }
      ]
    },
    {
      "cell_type": "markdown",
      "source": [
        "## 6. NonParamDML "
      ],
      "metadata": {
        "id": "feDFHXuOEWwW"
      }
    },
    {
      "cell_type": "markdown",
      "source": [
        "### 6.1 Select the best performing nuisance model class and hyperparameters "
      ],
      "metadata": {
        "id": "wVP6WrulJztF"
      }
    },
    {
      "cell_type": "code",
      "source": [
        "nonparamdml = NonParamDML(model_y=model_yb, model_t=model_tb, model_final=final_stage(),random_state=123)"
      ],
      "metadata": {
        "id": "N72uWUapLUpq"
      },
      "execution_count": null,
      "outputs": []
    },
    {
      "cell_type": "code",
      "source": [
        "nonparamdml.fit(Y1B_train, T_train, X=X_train)"
      ],
      "metadata": {
        "colab": {
          "base_uri": "https://localhost:8080/"
        },
        "outputId": "2255e9fa-48a7-4517-9716-b781a99fbe90",
        "id": "z5DZKEXjLUpr"
      },
      "execution_count": null,
      "outputs": [
        {
          "output_type": "execute_result",
          "data": {
            "text/plain": [
              "<econml.dml.dml.NonParamDML at 0x7f147429c6d0>"
            ]
          },
          "metadata": {},
          "execution_count": 136
        }
      ]
    },
    {
      "cell_type": "code",
      "source": [
        "# Access the best estimator for model_final after fitting the NonParamDML\n",
        "best_estimator_model_final = nonparamdml.model_final_.best_estimator_\n",
        "print(best_estimator_model_final)"
      ],
      "metadata": {
        "colab": {
          "base_uri": "https://localhost:8080/"
        },
        "outputId": "cf376599-b28c-491c-a45e-d9b4af0c4171",
        "id": "Ficvn9zfLUpr"
      },
      "execution_count": null,
      "outputs": [
        {
          "output_type": "stream",
          "name": "stdout",
          "text": [
            "WeightedLasso(alpha=0.1, random_state=123)\n"
          ]
        }
      ]
    },
    {
      "cell_type": "code",
      "source": [
        "best_estimator_model_final = WeightedLasso(alpha=0.1, random_state=123)"
      ],
      "metadata": {
        "id": "-z3Bv0INLUpr"
      },
      "execution_count": null,
      "outputs": []
    },
    {
      "cell_type": "code",
      "source": [
        "nonparamdml = NonParamDML(model_y=model_yb, model_t=model_tb, model_final=best_estimator_model_final,random_state=123)\n",
        "nonparamdml.fit(Y1B_train, T_train, X=X_train)"
      ],
      "metadata": {
        "colab": {
          "base_uri": "https://localhost:8080/"
        },
        "outputId": "6f650187-b5e2-4193-d5e9-79eb0b5d87f6",
        "id": "ZyxdIyulLUpr"
      },
      "execution_count": null,
      "outputs": [
        {
          "output_type": "execute_result",
          "data": {
            "text/plain": [
              "<econml.dml.dml.NonParamDML at 0x7f13b85470a0>"
            ]
          },
          "metadata": {},
          "execution_count": 140
        }
      ]
    },
    {
      "cell_type": "code",
      "source": [
        "nonparamdml_te = nonparamdml.effect(X_test)\n",
        "nonparamdml_te_inference = nonparamdml.effect_inference(X_test).population_summary(alpha=0.1, value=0, decimals=3, tol=0.001)\n",
        "print(nonparamdml_te_inference)"
      ],
      "metadata": {
        "colab": {
          "base_uri": "https://localhost:8080/"
        },
        "outputId": "8cedc679-1b81-479b-a492-0523d8b55b32",
        "id": "VRvdknFMLUpr"
      },
      "execution_count": null,
      "outputs": [
        {
          "output_type": "stream",
          "name": "stdout",
          "text": [
            "Uncertainty of Mean Point Estimate\n",
            "==========\n",
            "mean_point\n",
            "----------\n",
            "    -0.017\n",
            "      Distribution of Point Estimate     \n",
            "=========================================\n",
            "std_point pct_point_lower pct_point_upper\n",
            "-----------------------------------------\n",
            "      0.0          -0.017          -0.017\n",
            "-----------------------------------------\n"
          ]
        }
      ]
    },
    {
      "cell_type": "markdown",
      "source": [
        "### 6.1 Calculate the robustness"
      ],
      "metadata": {
        "id": "qo8fLLYdLUpr"
      }
    },
    {
      "cell_type": "code",
      "source": [
        "nonparamdml.fit(Y=Y1B_test, T=T_test, X=X_test)\n",
        "nonparamdml_te_test = nonparamdml.effect(X_test)\n",
        "\n",
        "ERMSE = ((nonparamdml_te-nonparamdml_te_test)**2).mean()**(1/2)\n",
        "print(ERMSE)"
      ],
      "metadata": {
        "colab": {
          "base_uri": "https://localhost:8080/"
        },
        "outputId": "7032fb55-d323-4b10-ae49-9855284dafd5",
        "id": "_KA0jImeLUpr"
      },
      "execution_count": null,
      "outputs": [
        {
          "output_type": "stream",
          "name": "stdout",
          "text": [
            "0.004225700500897298\n"
          ]
        }
      ]
    },
    {
      "cell_type": "markdown",
      "source": [
        "### 6.3  Calculate the RScore"
      ],
      "metadata": {
        "id": "Q5KErxQALUpr"
      }
    },
    {
      "cell_type": "code",
      "source": [
        "rscore = scorer_b.score(nonparamdml)\n",
        "print(rscore)"
      ],
      "metadata": {
        "colab": {
          "base_uri": "https://localhost:8080/"
        },
        "outputId": "53d83a9e-eac5-4978-9045-818b5aa702f1",
        "id": "XbwmstFFLUps"
      },
      "execution_count": null,
      "outputs": [
        {
          "output_type": "stream",
          "name": "stdout",
          "text": [
            "-0.0001055289898637124\n"
          ]
        }
      ]
    },
    {
      "cell_type": "markdown",
      "source": [
        "## 7. CausalForestDML "
      ],
      "metadata": {
        "id": "P0s_yLlFEZaX"
      }
    },
    {
      "cell_type": "markdown",
      "source": [
        "### 7.1 Select best performing nuisance model and hyperparameter"
      ],
      "metadata": {
        "id": "o1gCKwwnLxNp"
      }
    },
    {
      "cell_type": "code",
      "source": [
        "forestdml = CausalForestDML(model_y=model_yb, model_t=model_tb, discrete_treatment=True, random_state=seed)"
      ],
      "metadata": {
        "id": "rytGiDuKLxNq"
      },
      "execution_count": null,
      "outputs": []
    },
    {
      "cell_type": "code",
      "source": [
        "forestdml.fit(Y1B_train, T_train, X=X_train)"
      ],
      "metadata": {
        "colab": {
          "base_uri": "https://localhost:8080/"
        },
        "outputId": "b2d0f50b-3cc1-4a0b-a681-a3342cbad59f",
        "id": "aO2twjCuLxNq"
      },
      "execution_count": null,
      "outputs": [
        {
          "output_type": "execute_result",
          "data": {
            "text/plain": [
              "<econml.dml.causal_forest.CausalForestDML at 0x7f13b8547460>"
            ]
          },
          "metadata": {},
          "execution_count": 145
        }
      ]
    },
    {
      "cell_type": "code",
      "source": [
        "# Estimate treatment effects on test data\n",
        "forestdml_te = forestdml.effect(X_test)\n",
        "forestdml_te_inference = forestdml.effect_inference(X_test).population_summary(alpha=0.1, value=0, decimals=3, tol=0.001)\n",
        "print(forestdml_te_inference)"
      ],
      "metadata": {
        "colab": {
          "base_uri": "https://localhost:8080/"
        },
        "outputId": "30b68248-1ab5-4acf-9c81-b45b36a5e523",
        "id": "P-t09Bw_LxNq"
      },
      "execution_count": null,
      "outputs": [
        {
          "output_type": "stream",
          "name": "stdout",
          "text": [
            "               Uncertainty of Mean Point Estimate              \n",
            "===============================================================\n",
            "mean_point stderr_mean zstat pvalue ci_mean_lower ci_mean_upper\n",
            "---------------------------------------------------------------\n",
            "     0.024       0.118 0.203  0.839         -0.17         0.217\n",
            "      Distribution of Point Estimate     \n",
            "=========================================\n",
            "std_point pct_point_lower pct_point_upper\n",
            "-----------------------------------------\n",
            "    0.047          -0.051           0.107\n",
            "     Total Variance of Point Estimate     \n",
            "==========================================\n",
            "stderr_point ci_point_lower ci_point_upper\n",
            "------------------------------------------\n",
            "       0.127         -0.179           0.23\n",
            "------------------------------------------\n",
            "\n",
            "Note: The stderr_mean is a conservative upper bound.\n"
          ]
        }
      ]
    },
    {
      "cell_type": "markdown",
      "source": [
        "### 6.2 Calculate the robustness"
      ],
      "metadata": {
        "id": "DpHZ4gEuLxNq"
      }
    },
    {
      "cell_type": "code",
      "source": [
        "forestdml.fit(Y=Y1B_test, T=T_test, X=X_test)\n",
        "forestdml_te_test = forestdml.effect(X_test)\n",
        "\n",
        "ERMSE = ((forestdml_te-forestdml_te_test)**2).mean()**(1/2)\n",
        "print(ERMSE)"
      ],
      "metadata": {
        "colab": {
          "base_uri": "https://localhost:8080/"
        },
        "outputId": "0622d952-df74-4c8c-db05-ea56914ce951",
        "id": "4Y374OP5LxNq"
      },
      "execution_count": null,
      "outputs": [
        {
          "output_type": "stream",
          "name": "stdout",
          "text": [
            "0.0967172077704181\n"
          ]
        }
      ]
    },
    {
      "cell_type": "markdown",
      "source": [
        "### 6.3 Calculate the RScore"
      ],
      "metadata": {
        "id": "Nspie1jWLxNq"
      }
    },
    {
      "cell_type": "code",
      "source": [
        "rscore = scorer_b.score(forestdml)\n",
        "print(rscore)"
      ],
      "metadata": {
        "colab": {
          "base_uri": "https://localhost:8080/"
        },
        "outputId": "e0e039d3-a529-404b-b54d-7dd06cea389f",
        "id": "UBzNgIfjLxNq"
      },
      "execution_count": null,
      "outputs": [
        {
          "output_type": "stream",
          "name": "stdout",
          "text": [
            "0.05062296222877427\n"
          ]
        }
      ]
    },
    {
      "cell_type": "markdown",
      "source": [
        "## 8. ForestDRLearner \n"
      ],
      "metadata": {
        "id": "Y-vK-70REbRH"
      }
    },
    {
      "cell_type": "markdown",
      "source": [
        "### 7.1 Select best performing nuisance model and hyperparameter"
      ],
      "metadata": {
        "id": "wVh-fBZ1MFjY"
      }
    },
    {
      "cell_type": "code",
      "source": [
        "forestdrl = ForestDRLearner(model_regression=model_ytb, model_propensity=model_tb, random_state=seed)\n",
        "forestdrl.fit(Y1B_train, T_train, X=X_train, cache_values=True)\n",
        "# Estimate treatment effects on test data\n",
        "forestdrl_te = forestdrl.effect(X_test)\n",
        "forestdrl_te_inference = forestdrl.effect_inference(X_test).population_summary(alpha=0.1, value=0, decimals=3, tol=0.001)\n",
        "print(forestdrl_te_inference)"
      ],
      "metadata": {
        "colab": {
          "base_uri": "https://localhost:8080/"
        },
        "outputId": "8dffa744-3d97-4a92-abaf-b4c4d907e40f",
        "id": "5_BFVcu6MFjZ"
      },
      "execution_count": null,
      "outputs": [
        {
          "output_type": "stream",
          "name": "stdout",
          "text": [
            "               Uncertainty of Mean Point Estimate              \n",
            "===============================================================\n",
            "mean_point stderr_mean zstat pvalue ci_mean_lower ci_mean_upper\n",
            "---------------------------------------------------------------\n",
            "     0.025       0.068 0.371   0.71        -0.086         0.137\n",
            "      Distribution of Point Estimate     \n",
            "=========================================\n",
            "std_point pct_point_lower pct_point_upper\n",
            "-----------------------------------------\n",
            "    0.024          -0.013           0.066\n",
            "     Total Variance of Point Estimate     \n",
            "==========================================\n",
            "stderr_point ci_point_lower ci_point_upper\n",
            "------------------------------------------\n",
            "       0.072         -0.088          0.144\n",
            "------------------------------------------\n",
            "\n",
            "Note: The stderr_mean is a conservative upper bound.\n"
          ]
        }
      ]
    },
    {
      "cell_type": "markdown",
      "source": [
        "### 7.2 Calculate the robustness"
      ],
      "metadata": {
        "id": "cT1tfQgeMFjZ"
      }
    },
    {
      "cell_type": "code",
      "source": [
        "forestdrl.fit(Y=Y1B_test, T=T_test, X=X_test)\n",
        "forestdrl_te_test = forestdrl.effect(X_test)\n",
        "\n",
        "ERMSE = ((forestdrl_te-forestdrl_te_test)**2).mean()**(1/2)\n",
        "print(ERMSE)"
      ],
      "metadata": {
        "colab": {
          "base_uri": "https://localhost:8080/"
        },
        "outputId": "82b464e5-8dbc-4b6a-f6ae-ff402f042409",
        "id": "IqQ9eaFlMFjZ"
      },
      "execution_count": null,
      "outputs": [
        {
          "output_type": "stream",
          "name": "stdout",
          "text": [
            "0.093820138601304\n"
          ]
        }
      ]
    },
    {
      "cell_type": "markdown",
      "source": [
        "### 7.3 Calculate the RScore"
      ],
      "metadata": {
        "id": "_cqrjj0fMFjZ"
      }
    },
    {
      "cell_type": "code",
      "source": [
        "rscore = scorer_b.score(forestdrl)\n",
        "print(rscore)"
      ],
      "metadata": {
        "colab": {
          "base_uri": "https://localhost:8080/"
        },
        "outputId": "b71e7133-db36-4f88-dc16-56a9e53f7bbd",
        "id": "ypEwIaImMFjZ"
      },
      "execution_count": null,
      "outputs": [
        {
          "output_type": "stream",
          "name": "stdout",
          "text": [
            "0.0610468198302937\n"
          ]
        }
      ]
    },
    {
      "cell_type": "code",
      "source": [],
      "metadata": {
        "id": "mB4V4tN-Ki9n"
      },
      "execution_count": null,
      "outputs": []
    }
  ]
}